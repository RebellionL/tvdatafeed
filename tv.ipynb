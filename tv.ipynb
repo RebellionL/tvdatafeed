{
 "cells": [
  {
   "cell_type": "code",
   "execution_count": 1,
   "metadata": {},
   "outputs": [
    {
     "data": {
      "text/html": [
       "        <script type=\"text/javascript\">\n",
       "        window.PlotlyConfig = {MathJaxConfig: 'local'};\n",
       "        if (window.MathJax && window.MathJax.Hub && window.MathJax.Hub.Config) {window.MathJax.Hub.Config({SVG: {font: \"STIX-Web\"}});}\n",
       "        if (typeof require !== 'undefined') {\n",
       "        require.undef(\"plotly\");\n",
       "        requirejs.config({\n",
       "            paths: {\n",
       "                'plotly': ['https://cdn.plot.ly/plotly-2.12.1.min']\n",
       "            }\n",
       "        });\n",
       "        require(['plotly'], function(Plotly) {\n",
       "            window._Plotly = Plotly;\n",
       "        });\n",
       "        }\n",
       "        </script>\n",
       "        "
      ]
     },
     "metadata": {},
     "output_type": "display_data"
    },
    {
     "data": {
      "text/html": [
       "        <script type=\"text/javascript\">\n",
       "        window.PlotlyConfig = {MathJaxConfig: 'local'};\n",
       "        if (window.MathJax && window.MathJax.Hub && window.MathJax.Hub.Config) {window.MathJax.Hub.Config({SVG: {font: \"STIX-Web\"}});}\n",
       "        if (typeof require !== 'undefined') {\n",
       "        require.undef(\"plotly\");\n",
       "        requirejs.config({\n",
       "            paths: {\n",
       "                'plotly': ['https://cdn.plot.ly/plotly-2.12.1.min']\n",
       "            }\n",
       "        });\n",
       "        require(['plotly'], function(Plotly) {\n",
       "            window._Plotly = Plotly;\n",
       "        });\n",
       "        }\n",
       "        </script>\n",
       "        "
      ]
     },
     "metadata": {},
     "output_type": "display_data"
    }
   ],
   "source": [
    "from tvDatafeed import TvDatafeed,Interval\n",
    "import mplfinance as mpf\n",
    "import pandas as pd\n",
    "import cufflinks as cf\n",
    "import numpy as np\n",
    "import chart_studio.plotly as py\n",
    "import seaborn as sns\n",
    "import plotly.express as px\n",
    "import plotly.graph_objects as go\n",
    "%matplotlib inline\n",
    "\n",
    "from plotly.offline import download_plotlyjs, init_notebook_mode, plot, iplot\n",
    "init_notebook_mode(connected=True)\n",
    "cf.go_offline()"
   ]
  },
  {
   "cell_type": "code",
   "execution_count": 2,
   "metadata": {},
   "outputs": [
    {
     "name": "stderr",
     "output_type": "stream",
     "text": [
      "you are using nologin method, data you access may be limited\n"
     ]
    }
   ],
   "source": [
    "# initialize tradingview\n",
    "\n",
    "tv = TvDatafeed()"
   ]
  },
  {
   "cell_type": "markdown",
   "metadata": {},
   "source": [
    "FX"
   ]
  },
  {
   "cell_type": "code",
   "execution_count": 3,
   "metadata": {},
   "outputs": [
    {
     "name": "stdout",
     "output_type": "stream",
     "text": [
      "1.10008905\n",
      "9.519105049999997\n"
     ]
    }
   ],
   "source": [
    "#USDSEK\n",
    "pd_usd_sek=tv.get_hist('USDSEK','OANDA',interval=Interval.in_daily,n_bars=100)\n",
    "USDSEK_Mean = pd_usd_sek[\"close\"].mean()\n",
    "\n",
    "#EURSEK\n",
    "pd_eur_usd=tv.get_hist('EURUSD','OANDA',interval=Interval.in_daily,n_bars=100)\n",
    "EURUSD_Mean = pd_eur_usd[\"close\"].mean()\n",
    "\n",
    "print(EURUSD_Mean)\n",
    "print(USDSEK_Mean)"
   ]
  },
  {
   "cell_type": "markdown",
   "metadata": {},
   "source": [
    "VALOUR\n"
   ]
  },
  {
   "cell_type": "code",
   "execution_count": 4,
   "metadata": {},
   "outputs": [
    {
     "data": {
      "text/plain": [
       "datetime\n",
       "2022-01-03 09:00:00     656925\n",
       "2022-01-04 09:00:00     476314\n",
       "2022-01-05 09:00:00     181996\n",
       "2022-01-07 09:00:00    2063024\n",
       "2022-01-10 09:00:00    2041598\n",
       "                        ...   \n",
       "2022-05-19 09:00:00     918311\n",
       "2022-05-20 09:00:00     323923\n",
       "2022-05-23 09:00:00     280174\n",
       "2022-05-24 09:00:00     176165\n",
       "2022-05-25 09:00:00      67031\n",
       "Name: turnover, Length: 100, dtype: int64"
      ]
     },
     "execution_count": 4,
     "metadata": {},
     "output_type": "execute_result"
    }
   ],
   "source": [
    "#VALOUR BTC ZERO SEK\n",
    "pd_BTC_ZERO_SEK=tv.get_hist('BTC.ZERO.SEK','NGM',interval=Interval.in_daily,n_bars=100)\n",
    "pd_BTC_ZERO_SEK[\"averageprice\"] = (pd_BTC_ZERO_SEK[\"high\"] + pd_BTC_ZERO_SEK[\"open\"] + pd_BTC_ZERO_SEK[\"close\"] + pd_BTC_ZERO_SEK[\"low\"]) /4\n",
    "pd_BTC_ZERO_SEK[\"turnover\"] = (pd_BTC_ZERO_SEK[\"averageprice\"] * pd_BTC_ZERO_SEK[\"volume\"])/USDSEK_Mean\n",
    "pd_BTC_ZERO_SEK[\"turnover\"].astype(int)"
   ]
  },
  {
   "cell_type": "code",
   "execution_count": 5,
   "metadata": {},
   "outputs": [
    {
     "data": {
      "text/plain": [
       "datetime\n",
       "2022-01-03 09:00:00     729226\n",
       "2022-01-04 09:00:00     501326\n",
       "2022-01-05 09:00:00     232717\n",
       "2022-01-07 09:00:00    2835177\n",
       "2022-01-10 09:00:00    1953588\n",
       "                        ...   \n",
       "2022-05-19 09:00:00     823544\n",
       "2022-05-20 09:00:00     489645\n",
       "2022-05-23 09:00:00     143766\n",
       "2022-05-24 09:00:00     199119\n",
       "2022-05-25 09:00:00     181500\n",
       "Name: turnover, Length: 100, dtype: int64"
      ]
     },
     "execution_count": 5,
     "metadata": {},
     "output_type": "execute_result"
    }
   ],
   "source": [
    "#VALOUR ETH ZERO SEK\n",
    "pd_ETH_ZERO_SEK=tv.get_hist('ETH.ZERO.SEK','NGM',interval=Interval.in_daily,n_bars=100)\n",
    "pd_ETH_ZERO_SEK[\"averageprice\"] = (pd_ETH_ZERO_SEK[\"high\"] + pd_ETH_ZERO_SEK[\"open\"] + pd_ETH_ZERO_SEK[\"close\"] + pd_ETH_ZERO_SEK[\"low\"]) /4\n",
    "pd_ETH_ZERO_SEK[\"turnover\"] = (pd_ETH_ZERO_SEK[\"averageprice\"] * pd_ETH_ZERO_SEK[\"volume\"])/USDSEK_Mean\n",
    "pd_ETH_ZERO_SEK[\"turnover\"].astype(int)"
   ]
  },
  {
   "cell_type": "code",
   "execution_count": 6,
   "metadata": {},
   "outputs": [
    {
     "data": {
      "text/plain": [
       "datetime\n",
       "2022-01-03 09:00:00     934795\n",
       "2022-01-04 09:00:00     456618\n",
       "2022-01-05 09:00:00     235218\n",
       "2022-01-07 09:00:00    1637484\n",
       "2022-01-10 09:00:00    1845770\n",
       "                        ...   \n",
       "2022-05-19 09:00:00     205618\n",
       "2022-05-20 09:00:00     308690\n",
       "2022-05-23 09:00:00     222423\n",
       "2022-05-24 09:00:00     208173\n",
       "2022-05-25 09:00:00      51589\n",
       "Name: turnover, Length: 100, dtype: int64"
      ]
     },
     "execution_count": 6,
     "metadata": {},
     "output_type": "execute_result"
    }
   ],
   "source": [
    "#VALOUR CARDANO SEK\n",
    "pd_VALOUR_CARDANO_SEK=tv.get_hist('VALOUR.CARDANO.SEK','NGM',interval=Interval.in_daily,n_bars=100)\n",
    "pd_VALOUR_CARDANO_SEK[\"averageprice\"] = (pd_VALOUR_CARDANO_SEK[\"high\"] + pd_VALOUR_CARDANO_SEK[\"open\"] + pd_VALOUR_CARDANO_SEK[\"close\"] + pd_VALOUR_CARDANO_SEK[\"low\"]) /4\n",
    "pd_VALOUR_CARDANO_SEK[\"turnover\"] = (pd_VALOUR_CARDANO_SEK[\"averageprice\"] * pd_VALOUR_CARDANO_SEK[\"volume\"])/USDSEK_Mean\n",
    "pd_VALOUR_CARDANO_SEK[\"turnover\"].astype(int)"
   ]
  },
  {
   "cell_type": "code",
   "execution_count": 7,
   "metadata": {},
   "outputs": [
    {
     "data": {
      "text/plain": [
       "datetime\n",
       "2022-01-03 09:00:00    1676892\n",
       "2022-01-04 09:00:00     856421\n",
       "2022-01-05 09:00:00     379031\n",
       "2022-01-07 09:00:00    3704209\n",
       "2022-01-10 09:00:00    2240677\n",
       "                        ...   \n",
       "2022-05-19 09:00:00     417608\n",
       "2022-05-20 09:00:00     451920\n",
       "2022-05-23 09:00:00     425251\n",
       "2022-05-24 09:00:00     343880\n",
       "2022-05-25 09:00:00     213375\n",
       "Name: turnover, Length: 100, dtype: int64"
      ]
     },
     "execution_count": 7,
     "metadata": {},
     "output_type": "execute_result"
    }
   ],
   "source": [
    "#VALOUR SOLANA SEK\n",
    "pd_VALOUR_SOLANA_SEK=tv.get_hist('VALOUR.SOLANA.SEK','NGM',interval=Interval.in_daily,n_bars=100)\n",
    "pd_VALOUR_SOLANA_SEK[\"averageprice\"] = (pd_VALOUR_SOLANA_SEK[\"high\"] + pd_VALOUR_SOLANA_SEK[\"open\"] + pd_VALOUR_SOLANA_SEK[\"close\"] + pd_VALOUR_SOLANA_SEK[\"low\"]) /4\n",
    "pd_VALOUR_SOLANA_SEK[\"turnover\"] = (pd_VALOUR_SOLANA_SEK[\"averageprice\"] * pd_VALOUR_SOLANA_SEK[\"volume\"])/USDSEK_Mean\n",
    "pd_VALOUR_SOLANA_SEK[\"turnover\"].astype(int)"
   ]
  },
  {
   "cell_type": "code",
   "execution_count": 8,
   "metadata": {},
   "outputs": [
    {
     "data": {
      "text/plain": [
       "datetime\n",
       "2022-01-03 09:00:00    1438059\n",
       "2022-01-04 09:00:00     655862\n",
       "2022-01-05 09:00:00     156576\n",
       "2022-01-07 09:00:00    1241476\n",
       "2022-01-10 09:00:00    1094976\n",
       "                        ...   \n",
       "2022-05-19 09:00:00     164313\n",
       "2022-05-20 09:00:00      92513\n",
       "2022-05-23 09:00:00     129013\n",
       "2022-05-24 09:00:00      66061\n",
       "2022-05-25 09:00:00      32398\n",
       "Name: turnover, Length: 100, dtype: int64"
      ]
     },
     "execution_count": 8,
     "metadata": {},
     "output_type": "execute_result"
    }
   ],
   "source": [
    "#VALOUR POLKADOT SEK\n",
    "pd_VALOUR_POLKADOT_SEK=tv.get_hist('VALOUR.POLKADOT.SEK','NGM',interval=Interval.in_daily,n_bars=100)\n",
    "pd_VALOUR_POLKADOT_SEK[\"averageprice\"] = (pd_VALOUR_POLKADOT_SEK[\"high\"] + pd_VALOUR_POLKADOT_SEK[\"open\"] + pd_VALOUR_POLKADOT_SEK[\"close\"] + pd_VALOUR_POLKADOT_SEK[\"low\"]) /4\n",
    "pd_VALOUR_POLKADOT_SEK[\"turnover\"] = (pd_VALOUR_POLKADOT_SEK[\"averageprice\"] * pd_VALOUR_POLKADOT_SEK[\"volume\"])/USDSEK_Mean\n",
    "pd_VALOUR_POLKADOT_SEK[\"turnover\"].astype(int)"
   ]
  },
  {
   "cell_type": "code",
   "execution_count": 9,
   "metadata": {},
   "outputs": [
    {
     "data": {
      "text/plain": [
       "datetime\n",
       "2022-01-03 09:00:00    176517\n",
       "2022-01-04 09:00:00     71448\n",
       "2022-01-05 09:00:00    243820\n",
       "2022-01-07 09:00:00    281999\n",
       "2022-01-10 09:00:00    319117\n",
       "                        ...  \n",
       "2022-05-19 09:00:00      7138\n",
       "2022-05-20 09:00:00     20670\n",
       "2022-05-23 09:00:00      5869\n",
       "2022-05-24 09:00:00     17052\n",
       "2022-05-25 09:00:00      6546\n",
       "Name: turnover, Length: 100, dtype: int64"
      ]
     },
     "execution_count": 9,
     "metadata": {},
     "output_type": "execute_result"
    }
   ],
   "source": [
    "#VALOUR UNISWAP SEK\n",
    "pd_VALOUR_UNISWAP_SEK=tv.get_hist('VALOUR.UNISWAP.SEK','NGM',interval=Interval.in_daily,n_bars=100)\n",
    "pd_VALOUR_UNISWAP_SEK[\"averageprice\"] = (pd_VALOUR_UNISWAP_SEK[\"high\"] + pd_VALOUR_UNISWAP_SEK[\"open\"] + pd_VALOUR_UNISWAP_SEK[\"close\"] + pd_VALOUR_UNISWAP_SEK[\"low\"]) /4\n",
    "pd_VALOUR_UNISWAP_SEK[\"turnover\"] = (pd_VALOUR_UNISWAP_SEK[\"averageprice\"] * pd_VALOUR_UNISWAP_SEK[\"volume\"])/USDSEK_Mean\n",
    "pd_VALOUR_UNISWAP_SEK[\"turnover\"].astype(int)"
   ]
  },
  {
   "cell_type": "code",
   "execution_count": null,
   "metadata": {},
   "outputs": [],
   "source": [
    "#VALOUR AVALANCHE SEK\n",
    "pd_VALOUR_AVLANCHE_SEK=tv.get_hist('VALOUR.AVALANCHE.SEK','NGM',interval=Interval.in_daily,n_bars=100)\n",
    "pd_VALOUR_AVLANCHE_SEK[\"averageprice\"] = (pd_VALOUR_AVLANCHE_SEK[\"high\"] + pd_VALOUR_AVLANCHE_SEK[\"open\"] + pd_VALOUR_AVLANCHE_SEK[\"close\"] + pd_VALOUR_AVLANCHE_SEK[\"low\"]) /4\n",
    "pd_VALOUR_AVLANCHE_SEK[\"turnover\"] = (pd_VALOUR_AVLANCHE_SEK[\"averageprice\"] * pd_VALOUR_AVLANCHE_SEK[\"volume\"])/USDSEK_Mean\n",
    "pd_VALOUR_AVLANCHE_SEK[\"turnover\"].astype(int)"
   ]
  },
  {
   "cell_type": "markdown",
   "metadata": {},
   "source": [
    "XBT"
   ]
  },
  {
   "cell_type": "code",
   "execution_count": 11,
   "metadata": {},
   "outputs": [
    {
     "data": {
      "text/plain": [
       "datetime\n",
       "2022-01-03 09:00:00     4481579\n",
       "2022-01-04 09:00:00     4407204\n",
       "2022-01-05 09:00:00     2255449\n",
       "2022-01-07 09:00:00    16158840\n",
       "2022-01-10 09:00:00    12601969\n",
       "                         ...   \n",
       "2022-05-19 09:00:00     2159373\n",
       "2022-05-20 09:00:00     1929809\n",
       "2022-05-23 09:00:00     1930890\n",
       "2022-05-24 09:00:00     1719690\n",
       "2022-05-25 09:00:00     1481251\n",
       "Name: turnover, Length: 100, dtype: int64"
      ]
     },
     "execution_count": 11,
     "metadata": {},
     "output_type": "execute_result"
    }
   ],
   "source": [
    "#XBT BTC Tracker One\n",
    "pd_BTC_XBT=tv.get_hist('BITCOIN_XBT','OMXSTO',interval=Interval.in_daily,n_bars=100)\n",
    "pd_BTC_XBT[\"averageprice\"] = (pd_BTC_XBT[\"high\"] + pd_BTC_XBT[\"open\"] + pd_BTC_XBT[\"close\"] + pd_BTC_XBT[\"low\"]) /4\n",
    "pd_BTC_XBT[\"turnover\"] = (pd_BTC_XBT[\"averageprice\"] * pd_BTC_XBT[\"volume\"])/USDSEK_Mean\n",
    "pd_BTC_XBT[\"turnover\"].astype(int)\n"
   ]
  },
  {
   "cell_type": "code",
   "execution_count": 12,
   "metadata": {},
   "outputs": [
    {
     "data": {
      "text/plain": [
       "datetime\n",
       "2022-01-03 09:00:00     2295591\n",
       "2022-01-04 09:00:00     2779749\n",
       "2022-01-05 09:00:00     1260940\n",
       "2022-01-07 09:00:00    10583856\n",
       "2022-01-10 09:00:00     7872139\n",
       "                         ...   \n",
       "2022-05-19 09:00:00      823271\n",
       "2022-05-20 09:00:00      796528\n",
       "2022-05-23 09:00:00     3040149\n",
       "2022-05-24 09:00:00     2974276\n",
       "2022-05-25 09:00:00     3208616\n",
       "Name: turnover, Length: 100, dtype: int64"
      ]
     },
     "execution_count": 12,
     "metadata": {},
     "output_type": "execute_result"
    }
   ],
   "source": [
    "#XBT BTC Euro Tracker One\n",
    "pd_BTCE_XBT=tv.get_hist('BITCOIN_XBTE','OMXSTO',interval=Interval.in_daily,n_bars=100)\n",
    "pd_BTCE_XBT[\"averageprice\"] = (pd_BTCE_XBT[\"high\"] + pd_BTCE_XBT[\"open\"] + pd_BTCE_XBT[\"close\"] + pd_BTCE_XBT[\"low\"]) /4\n",
    "pd_BTCE_XBT[\"turnover\"] = (pd_BTCE_XBT[\"averageprice\"] * pd_BTCE_XBT[\"volume\"])*EURUSD_Mean\n",
    "pd_BTCE_XBT[\"turnover\"].astype(int)"
   ]
  },
  {
   "cell_type": "code",
   "execution_count": 13,
   "metadata": {},
   "outputs": [
    {
     "data": {
      "text/plain": [
       "datetime\n",
       "2022-01-03 09:00:00     4777883\n",
       "2022-01-04 09:00:00     5688569\n",
       "2022-01-05 09:00:00     1948224\n",
       "2022-01-07 09:00:00    27672090\n",
       "2022-01-10 09:00:00    15433474\n",
       "                         ...   \n",
       "2022-05-19 09:00:00     4623938\n",
       "2022-05-20 09:00:00     2436161\n",
       "2022-05-23 09:00:00     2276843\n",
       "2022-05-24 09:00:00     2536256\n",
       "2022-05-25 09:00:00     1350583\n",
       "Name: turnover, Length: 100, dtype: int64"
      ]
     },
     "execution_count": 13,
     "metadata": {},
     "output_type": "execute_result"
    }
   ],
   "source": [
    "#XBT ETH Tracker One\n",
    "pd_ETH_XBT=tv.get_hist('ETHEREUM_XBT','OMXSTO',interval=Interval.in_daily,n_bars=100)\n",
    "pd_ETH_XBT[\"averageprice\"] = (pd_ETH_XBT[\"high\"] + pd_ETH_XBT[\"open\"] + pd_ETH_XBT[\"close\"] + pd_ETH_XBT[\"low\"]) /4\n",
    "pd_ETH_XBT[\"turnover\"] = (pd_ETH_XBT[\"averageprice\"] * pd_ETH_XBT[\"volume\"])/USDSEK_Mean\n",
    "pd_ETH_XBT[\"turnover\"].astype(int)"
   ]
  },
  {
   "cell_type": "code",
   "execution_count": 14,
   "metadata": {},
   "outputs": [
    {
     "data": {
      "text/plain": [
       "datetime\n",
       "2022-01-03 09:00:00     4754471\n",
       "2022-01-04 09:00:00     3767359\n",
       "2022-01-05 09:00:00     1655696\n",
       "2022-01-07 09:00:00    23119068\n",
       "2022-01-10 09:00:00    11949409\n",
       "                         ...   \n",
       "2022-05-19 09:00:00     3058634\n",
       "2022-05-20 09:00:00     2403346\n",
       "2022-05-23 09:00:00     4730430\n",
       "2022-05-24 09:00:00     4255607\n",
       "2022-05-25 09:00:00     1426475\n",
       "Name: turnover, Length: 100, dtype: int64"
      ]
     },
     "execution_count": 14,
     "metadata": {},
     "output_type": "execute_result"
    }
   ],
   "source": [
    "#XBT ETH Euro Tracker One\n",
    "pd_ETHE_XBT=tv.get_hist('ETHEREUM_XBTE','OMXSTO',interval=Interval.in_daily,n_bars=100)\n",
    "pd_ETHE_XBT[\"averageprice\"] = (pd_ETHE_XBT[\"high\"] + pd_ETHE_XBT[\"open\"] + pd_ETHE_XBT[\"close\"] + pd_ETHE_XBT[\"low\"]) /4\n",
    "pd_ETHE_XBT[\"turnover\"] = (pd_ETHE_XBT[\"averageprice\"] * pd_ETHE_XBT[\"volume\"])*EURUSD_Mean\n",
    "pd_ETHE_XBT[\"turnover\"].astype(int)"
   ]
  },
  {
   "cell_type": "markdown",
   "metadata": {},
   "source": [
    "21SHARES XETRA"
   ]
  },
  {
   "cell_type": "code",
   "execution_count": 15,
   "metadata": {},
   "outputs": [
    {
     "data": {
      "text/plain": [
       "datetime\n",
       "2022-01-05 09:00:00    2744803\n",
       "2022-01-06 09:00:00    3260146\n",
       "2022-01-07 09:00:00    3499524\n",
       "2022-01-10 09:00:00    3616341\n",
       "2022-01-11 09:00:00    3052895\n",
       "                        ...   \n",
       "2022-05-20 09:00:00     798889\n",
       "2022-05-23 09:00:00    2535124\n",
       "2022-05-24 09:00:00    1095276\n",
       "2022-05-25 09:00:00     454214\n",
       "2022-05-26 09:00:00      37644\n",
       "Name: turnover, Length: 100, dtype: int64"
      ]
     },
     "execution_count": 15,
     "metadata": {},
     "output_type": "execute_result"
    }
   ],
   "source": [
    "#21SHARES XETRA BITCOIN\n",
    "pd_21SHARES_XETRA_BTC=tv.get_hist('2BTC','XETR',interval=Interval.in_daily,n_bars=100)\n",
    "pd_21SHARES_XETRA_BTC[\"averageprice\"] = (pd_21SHARES_XETRA_BTC[\"high\"] + pd_21SHARES_XETRA_BTC[\"open\"] + pd_21SHARES_XETRA_BTC[\"close\"] + pd_21SHARES_XETRA_BTC[\"low\"]) /4\n",
    "pd_21SHARES_XETRA_BTC[\"turnover\"] = (pd_21SHARES_XETRA_BTC[\"averageprice\"] * pd_21SHARES_XETRA_BTC[\"volume\"])*EURUSD_Mean\n",
    "pd_21SHARES_XETRA_BTC[\"turnover\"].astype(int)"
   ]
  },
  {
   "cell_type": "code",
   "execution_count": 16,
   "metadata": {},
   "outputs": [
    {
     "data": {
      "text/plain": [
       "datetime\n",
       "2022-01-05 09:00:00     787273\n",
       "2022-01-06 09:00:00    6335005\n",
       "2022-01-07 09:00:00    6391702\n",
       "2022-01-10 09:00:00    5287909\n",
       "2022-01-11 09:00:00    1769311\n",
       "                        ...   \n",
       "2022-05-20 09:00:00    1100055\n",
       "2022-05-23 09:00:00    2159286\n",
       "2022-05-24 09:00:00    1378263\n",
       "2022-05-25 09:00:00     171112\n",
       "2022-05-26 09:00:00     687766\n",
       "Name: turnover, Length: 100, dtype: int64"
      ]
     },
     "execution_count": 16,
     "metadata": {},
     "output_type": "execute_result"
    }
   ],
   "source": [
    "#21SHARES XETRA ETHEREUM\n",
    "pd_21SHARES_XETRA_ETH=tv.get_hist('ETHA','XETR',interval=Interval.in_daily,n_bars=100)\n",
    "pd_21SHARES_XETRA_ETH[\"averageprice\"] = (pd_21SHARES_XETRA_ETH[\"high\"] + pd_21SHARES_XETRA_ETH[\"open\"] + pd_21SHARES_XETRA_ETH[\"close\"] + pd_21SHARES_XETRA_ETH[\"low\"]) /4\n",
    "pd_21SHARES_XETRA_ETH[\"turnover\"] = (pd_21SHARES_XETRA_ETH[\"averageprice\"] * pd_21SHARES_XETRA_ETH[\"volume\"])*EURUSD_Mean\n",
    "pd_21SHARES_XETRA_ETH[\"turnover\"].astype(int)"
   ]
  },
  {
   "cell_type": "code",
   "execution_count": 17,
   "metadata": {},
   "outputs": [
    {
     "data": {
      "text/plain": [
       "datetime\n",
       "2022-01-05 09:00:00     98626\n",
       "2022-01-06 09:00:00    245184\n",
       "2022-01-07 09:00:00    125129\n",
       "2022-01-10 09:00:00    221762\n",
       "2022-01-11 09:00:00    131439\n",
       "                        ...  \n",
       "2022-05-20 09:00:00     41399\n",
       "2022-05-23 09:00:00     49602\n",
       "2022-05-24 09:00:00     78755\n",
       "2022-05-25 09:00:00     55413\n",
       "2022-05-26 09:00:00       837\n",
       "Name: turnover, Length: 100, dtype: int64"
      ]
     },
     "execution_count": 17,
     "metadata": {},
     "output_type": "execute_result"
    }
   ],
   "source": [
    "#21SHARES XETRA CARDANO\n",
    "pd_21SHARES_XETRA_ADA=tv.get_hist('ADAA','XETR',interval=Interval.in_daily,n_bars=100)\n",
    "pd_21SHARES_XETRA_ADA[\"averageprice\"] = (pd_21SHARES_XETRA_ADA[\"high\"] + pd_21SHARES_XETRA_ADA[\"open\"] + pd_21SHARES_XETRA_ADA[\"close\"] + pd_21SHARES_XETRA_ADA[\"low\"]) /4\n",
    "pd_21SHARES_XETRA_ADA[\"turnover\"] = (pd_21SHARES_XETRA_ADA[\"averageprice\"] * pd_21SHARES_XETRA_ADA[\"volume\"])*EURUSD_Mean\n",
    "pd_21SHARES_XETRA_ADA[\"turnover\"].astype(int)"
   ]
  },
  {
   "cell_type": "code",
   "execution_count": 18,
   "metadata": {},
   "outputs": [
    {
     "data": {
      "text/plain": [
       "datetime\n",
       "2022-01-05 09:00:00    402694\n",
       "2022-01-06 09:00:00    661832\n",
       "2022-01-07 09:00:00    618666\n",
       "2022-01-10 09:00:00    351339\n",
       "2022-01-11 09:00:00    411401\n",
       "                        ...  \n",
       "2022-05-20 09:00:00    110371\n",
       "2022-05-23 09:00:00    333201\n",
       "2022-05-24 09:00:00    159518\n",
       "2022-05-25 09:00:00      9385\n",
       "2022-05-26 09:00:00     83366\n",
       "Name: turnover, Length: 100, dtype: int64"
      ]
     },
     "execution_count": 18,
     "metadata": {},
     "output_type": "execute_result"
    }
   ],
   "source": [
    "#21SHARES XETRA SOLANA\n",
    "pd_21SHARES_XETRA_SOL=tv.get_hist('ASOL','XETR',interval=Interval.in_daily,n_bars=100)\n",
    "pd_21SHARES_XETRA_SOL[\"averageprice\"] = (pd_21SHARES_XETRA_SOL[\"high\"] + pd_21SHARES_XETRA_SOL[\"open\"] + pd_21SHARES_XETRA_SOL[\"close\"] + pd_21SHARES_XETRA_SOL[\"low\"]) /4\n",
    "pd_21SHARES_XETRA_SOL[\"turnover\"] = (pd_21SHARES_XETRA_SOL[\"averageprice\"] * pd_21SHARES_XETRA_SOL[\"volume\"])*EURUSD_Mean\n",
    "pd_21SHARES_XETRA_SOL[\"turnover\"].astype(int)"
   ]
  },
  {
   "cell_type": "code",
   "execution_count": 19,
   "metadata": {},
   "outputs": [
    {
     "data": {
      "text/plain": [
       "datetime\n",
       "2022-01-05 09:00:00    375657\n",
       "2022-01-06 09:00:00    260654\n",
       "2022-01-07 09:00:00    148695\n",
       "2022-01-10 09:00:00    207757\n",
       "2022-01-11 09:00:00    111288\n",
       "                        ...  \n",
       "2022-05-20 09:00:00     78638\n",
       "2022-05-23 09:00:00     13538\n",
       "2022-05-24 09:00:00     40431\n",
       "2022-05-25 09:00:00      6926\n",
       "2022-05-26 09:00:00      3233\n",
       "Name: turnover, Length: 100, dtype: int64"
      ]
     },
     "execution_count": 19,
     "metadata": {},
     "output_type": "execute_result"
    }
   ],
   "source": [
    "#21SHARES XETRA POLKADOT\n",
    "pd_21SHARES_XETRA_DOT=tv.get_hist('ADOT','XETR',interval=Interval.in_daily,n_bars=100)\n",
    "pd_21SHARES_XETRA_DOT[\"averageprice\"] = (pd_21SHARES_XETRA_DOT[\"high\"] + pd_21SHARES_XETRA_DOT[\"open\"] + pd_21SHARES_XETRA_DOT[\"close\"] + pd_21SHARES_XETRA_DOT[\"low\"]) /4\n",
    "pd_21SHARES_XETRA_DOT[\"turnover\"] = (pd_21SHARES_XETRA_DOT[\"averageprice\"] * pd_21SHARES_XETRA_DOT[\"volume\"])*EURUSD_Mean\n",
    "pd_21SHARES_XETRA_DOT[\"turnover\"].astype(int)"
   ]
  },
  {
   "cell_type": "markdown",
   "metadata": {},
   "source": [
    "21SHARES SIX"
   ]
  },
  {
   "cell_type": "code",
   "execution_count": 20,
   "metadata": {},
   "outputs": [
    {
     "data": {
      "text/plain": [
       "datetime\n",
       "2022-01-04 09:00:00     405289\n",
       "2022-01-05 09:00:00    2543253\n",
       "2022-01-06 09:00:00    3316931\n",
       "2022-01-07 09:00:00    3598701\n",
       "2022-01-10 09:00:00    1530410\n",
       "                        ...   \n",
       "2022-05-19 09:00:00    3057071\n",
       "2022-05-20 09:00:00     677795\n",
       "2022-05-23 09:00:00     437731\n",
       "2022-05-24 09:00:00     220531\n",
       "2022-05-25 09:00:00     170158\n",
       "Name: turnover, Length: 100, dtype: int64"
      ]
     },
     "execution_count": 20,
     "metadata": {},
     "output_type": "execute_result"
    }
   ],
   "source": [
    "#21SHARES SIX BITCOIN\n",
    "pd_21SHARES_SIX_BTC=tv.get_hist('ABTC.USD','SIX',interval=Interval.in_daily,n_bars=100)\n",
    "pd_21SHARES_SIX_BTC[\"averageprice\"] = (pd_21SHARES_SIX_BTC[\"high\"] + pd_21SHARES_SIX_BTC[\"open\"] + pd_21SHARES_SIX_BTC[\"close\"] + pd_21SHARES_SIX_BTC[\"low\"]) /4\n",
    "pd_21SHARES_SIX_BTC[\"turnover\"] = (pd_21SHARES_SIX_BTC[\"averageprice\"] * pd_21SHARES_SIX_BTC[\"volume\"])\n",
    "pd_21SHARES_SIX_BTC[\"turnover\"].astype(int)"
   ]
  },
  {
   "cell_type": "code",
   "execution_count": 21,
   "metadata": {},
   "outputs": [
    {
     "data": {
      "text/plain": [
       "datetime\n",
       "2022-01-04 09:00:00     1714389\n",
       "2022-01-05 09:00:00      489459\n",
       "2022-01-06 09:00:00    14860217\n",
       "2022-01-07 09:00:00     8057740\n",
       "2022-01-10 09:00:00     6385955\n",
       "                         ...   \n",
       "2022-05-19 09:00:00      628250\n",
       "2022-05-20 09:00:00      742276\n",
       "2022-05-23 09:00:00     1688180\n",
       "2022-05-24 09:00:00      871473\n",
       "2022-05-25 09:00:00     1005021\n",
       "Name: turnover, Length: 100, dtype: int64"
      ]
     },
     "execution_count": 21,
     "metadata": {},
     "output_type": "execute_result"
    }
   ],
   "source": [
    "#21SHARES SIX ETHEREUM\n",
    "pd_21SHARES_SIX_ETH=tv.get_hist('AETH.USD','SIX',interval=Interval.in_daily,n_bars=100)\n",
    "pd_21SHARES_SIX_ETH[\"averageprice\"] = (pd_21SHARES_SIX_ETH[\"high\"] + pd_21SHARES_SIX_ETH[\"open\"] + pd_21SHARES_SIX_ETH[\"close\"] + pd_21SHARES_SIX_ETH[\"low\"]) /4\n",
    "pd_21SHARES_SIX_ETH[\"turnover\"] = (pd_21SHARES_SIX_ETH[\"averageprice\"] * pd_21SHARES_SIX_ETH[\"volume\"])\n",
    "pd_21SHARES_SIX_ETH[\"turnover\"].astype(int)"
   ]
  },
  {
   "cell_type": "code",
   "execution_count": 22,
   "metadata": {},
   "outputs": [
    {
     "data": {
      "text/plain": [
       "datetime\n",
       "2022-01-04 09:00:00    1688297\n",
       "2022-01-05 09:00:00    1188581\n",
       "2022-01-06 09:00:00    2375088\n",
       "2022-01-07 09:00:00    1692069\n",
       "2022-01-10 09:00:00    1621253\n",
       "                        ...   \n",
       "2022-05-19 09:00:00    3228489\n",
       "2022-05-20 09:00:00     205460\n",
       "2022-05-23 09:00:00     101976\n",
       "2022-05-24 09:00:00      64077\n",
       "2022-05-25 09:00:00      32046\n",
       "Name: turnover, Length: 100, dtype: int64"
      ]
     },
     "execution_count": 22,
     "metadata": {},
     "output_type": "execute_result"
    }
   ],
   "source": [
    "#21SHARES SIX SOLANA\n",
    "pd_21SHARES_SIX_SOL=tv.get_hist('ASOL.USD','SIX',interval=Interval.in_daily,n_bars=100)\n",
    "pd_21SHARES_SIX_SOL[\"averageprice\"] = (pd_21SHARES_SIX_SOL[\"high\"] + pd_21SHARES_SIX_SOL[\"open\"] + pd_21SHARES_SIX_SOL[\"close\"] + pd_21SHARES_SIX_SOL[\"low\"]) /4\n",
    "pd_21SHARES_SIX_SOL[\"turnover\"] = (pd_21SHARES_SIX_SOL[\"averageprice\"] * pd_21SHARES_SIX_SOL[\"volume\"])\n",
    "pd_21SHARES_SIX_SOL[\"turnover\"].astype(int)"
   ]
  },
  {
   "cell_type": "code",
   "execution_count": 23,
   "metadata": {},
   "outputs": [
    {
     "data": {
      "text/plain": [
       "datetime\n",
       "2022-01-04 09:00:00    137286\n",
       "2022-01-05 09:00:00    278016\n",
       "2022-01-06 09:00:00    444536\n",
       "2022-01-07 09:00:00    452353\n",
       "2022-01-10 09:00:00    646905\n",
       "                        ...  \n",
       "2022-05-19 09:00:00     50530\n",
       "2022-05-20 09:00:00     10937\n",
       "2022-05-23 09:00:00     49410\n",
       "2022-05-24 09:00:00     70425\n",
       "2022-05-25 09:00:00     20345\n",
       "Name: turnover, Length: 100, dtype: int64"
      ]
     },
     "execution_count": 23,
     "metadata": {},
     "output_type": "execute_result"
    }
   ],
   "source": [
    "#21SHARES SIX CARDANO\n",
    "pd_21SHARES_SIX_ADA=tv.get_hist('AADA.USD','SIX',interval=Interval.in_daily,n_bars=100)\n",
    "pd_21SHARES_SIX_ADA[\"averageprice\"] = (pd_21SHARES_SIX_ADA[\"high\"] + pd_21SHARES_SIX_ADA[\"open\"] + pd_21SHARES_SIX_ADA[\"close\"] + pd_21SHARES_SIX_ADA[\"low\"]) /4\n",
    "pd_21SHARES_SIX_ADA[\"turnover\"] = (pd_21SHARES_SIX_ADA[\"averageprice\"] * pd_21SHARES_SIX_ADA[\"volume\"])\n",
    "pd_21SHARES_SIX_ADA[\"turnover\"].astype(int)"
   ]
  },
  {
   "cell_type": "code",
   "execution_count": 24,
   "metadata": {},
   "outputs": [
    {
     "data": {
      "text/plain": [
       "datetime\n",
       "2022-01-04 09:00:00     797145\n",
       "2022-01-05 09:00:00     565921\n",
       "2022-01-06 09:00:00    1850738\n",
       "2022-01-07 09:00:00     524720\n",
       "2022-01-10 09:00:00     730438\n",
       "                        ...   \n",
       "2022-05-19 09:00:00      90559\n",
       "2022-05-20 09:00:00     107083\n",
       "2022-05-23 09:00:00      19891\n",
       "2022-05-24 09:00:00      25176\n",
       "2022-05-25 09:00:00       7763\n",
       "Name: turnover, Length: 100, dtype: int64"
      ]
     },
     "execution_count": 24,
     "metadata": {},
     "output_type": "execute_result"
    }
   ],
   "source": [
    "#21SHARES SIX POLKADOT\n",
    "pd_21SHARES_SIX_DOT=tv.get_hist('ADOT.USD','SIX',interval=Interval.in_daily,n_bars=100)\n",
    "pd_21SHARES_SIX_DOT[\"averageprice\"] = (pd_21SHARES_SIX_DOT[\"high\"] + pd_21SHARES_SIX_DOT[\"open\"] + pd_21SHARES_SIX_DOT[\"close\"] + pd_21SHARES_SIX_DOT[\"low\"]) /4\n",
    "pd_21SHARES_SIX_DOT[\"turnover\"] = (pd_21SHARES_SIX_DOT[\"averageprice\"] * pd_21SHARES_SIX_DOT[\"volume\"])\n",
    "pd_21SHARES_SIX_DOT[\"turnover\"].astype(int)"
   ]
  },
  {
   "cell_type": "markdown",
   "metadata": {},
   "source": [
    "ETC GROUP XETRA"
   ]
  },
  {
   "cell_type": "code",
   "execution_count": 25,
   "metadata": {},
   "outputs": [
    {
     "data": {
      "text/plain": [
       "datetime\n",
       "2022-01-05 09:00:00    24147424\n",
       "2022-01-06 09:00:00    43132026\n",
       "2022-01-07 09:00:00    48084259\n",
       "2022-01-10 09:00:00    38130739\n",
       "2022-01-11 09:00:00    20952807\n",
       "                         ...   \n",
       "2022-05-20 09:00:00     3536407\n",
       "2022-05-23 09:00:00     5187963\n",
       "2022-05-24 09:00:00     8883972\n",
       "2022-05-25 09:00:00     3895727\n",
       "2022-05-26 09:00:00      358019\n",
       "Name: turnover, Length: 100, dtype: int64"
      ]
     },
     "execution_count": 25,
     "metadata": {},
     "output_type": "execute_result"
    }
   ],
   "source": [
    "#ETC-GROUP BITCOIN\n",
    "pd_ETC_GROUP_XETRA_BTC=tv.get_hist('BTCE','XETR',interval=Interval.in_daily,n_bars=100)\n",
    "pd_ETC_GROUP_XETRA_BTC[\"averageprice\"] = (pd_ETC_GROUP_XETRA_BTC[\"high\"] + pd_ETC_GROUP_XETRA_BTC[\"open\"] + pd_ETC_GROUP_XETRA_BTC[\"close\"] + pd_ETC_GROUP_XETRA_BTC[\"low\"]) /4\n",
    "pd_ETC_GROUP_XETRA_BTC[\"turnover\"] = (pd_ETC_GROUP_XETRA_BTC[\"averageprice\"] * pd_ETC_GROUP_XETRA_BTC[\"volume\"])*EURUSD_Mean\n",
    "pd_ETC_GROUP_XETRA_BTC[\"turnover\"].astype(int)"
   ]
  },
  {
   "cell_type": "code",
   "execution_count": 26,
   "metadata": {},
   "outputs": [
    {
     "data": {
      "text/plain": [
       "datetime\n",
       "2022-01-05 09:00:00     5989558\n",
       "2022-01-06 09:00:00    25675184\n",
       "2022-01-07 09:00:00     9465147\n",
       "2022-01-10 09:00:00    29270038\n",
       "2022-01-11 09:00:00     3762640\n",
       "                         ...   \n",
       "2022-05-20 09:00:00      910502\n",
       "2022-05-23 09:00:00     1067704\n",
       "2022-05-24 09:00:00     1514316\n",
       "2022-05-25 09:00:00      933719\n",
       "2022-05-26 09:00:00      542067\n",
       "Name: turnover, Length: 100, dtype: int64"
      ]
     },
     "execution_count": 26,
     "metadata": {},
     "output_type": "execute_result"
    }
   ],
   "source": [
    "#ETC-GROUP ETHEREUM\n",
    "pd_ETC_GROUP_XETRA_ETH=tv.get_hist('ZETH','XETR',interval=Interval.in_daily,n_bars=100)\n",
    "pd_ETC_GROUP_XETRA_ETH[\"averageprice\"] = (pd_ETC_GROUP_XETRA_ETH[\"high\"] + pd_ETC_GROUP_XETRA_ETH[\"open\"] + pd_ETC_GROUP_XETRA_ETH[\"close\"] + pd_ETC_GROUP_XETRA_ETH[\"low\"]) /4\n",
    "pd_ETC_GROUP_XETRA_ETH[\"turnover\"] = (pd_ETC_GROUP_XETRA_ETH[\"averageprice\"] * pd_ETC_GROUP_XETRA_ETH[\"volume\"])*EURUSD_Mean\n",
    "pd_ETC_GROUP_XETRA_ETH[\"turnover\"].astype(int)"
   ]
  },
  {
   "cell_type": "code",
   "execution_count": 27,
   "metadata": {},
   "outputs": [
    {
     "data": {
      "text/plain": [
       "datetime\n",
       "2022-01-05 09:00:00        0\n",
       "2022-01-06 09:00:00     1454\n",
       "2022-01-07 09:00:00    22401\n",
       "2022-01-10 09:00:00     1136\n",
       "2022-01-11 09:00:00        0\n",
       "                       ...  \n",
       "2022-05-20 09:00:00        0\n",
       "2022-05-23 09:00:00     2484\n",
       "2022-05-24 09:00:00       30\n",
       "2022-05-25 09:00:00       39\n",
       "2022-05-26 09:00:00        0\n",
       "Name: turnover, Length: 100, dtype: int64"
      ]
     },
     "execution_count": 27,
     "metadata": {},
     "output_type": "execute_result"
    }
   ],
   "source": [
    "#ETC-GROUP SOLANA\n",
    "pd_ETC_GROUP_XETRA_SOL=tv.get_hist('ESOL','XETR',interval=Interval.in_daily,n_bars=100)\n",
    "pd_ETC_GROUP_XETRA_SOL[\"averageprice\"] = (pd_ETC_GROUP_XETRA_SOL[\"high\"] + pd_ETC_GROUP_XETRA_SOL[\"open\"] + pd_ETC_GROUP_XETRA_SOL[\"close\"] + pd_ETC_GROUP_XETRA_SOL[\"low\"]) /4\n",
    "pd_ETC_GROUP_XETRA_SOL[\"turnover\"] = (pd_ETC_GROUP_XETRA_SOL[\"averageprice\"] * pd_ETC_GROUP_XETRA_SOL[\"volume\"])*EURUSD_Mean\n",
    "pd_ETC_GROUP_XETRA_SOL[\"turnover\"].astype(int)"
   ]
  },
  {
   "cell_type": "code",
   "execution_count": 28,
   "metadata": {},
   "outputs": [
    {
     "data": {
      "text/plain": [
       "datetime\n",
       "2022-01-05 09:00:00    18445\n",
       "2022-01-06 09:00:00     2965\n",
       "2022-01-07 09:00:00     5651\n",
       "2022-01-10 09:00:00     9158\n",
       "2022-01-11 09:00:00      287\n",
       "                       ...  \n",
       "2022-05-20 09:00:00      805\n",
       "2022-05-23 09:00:00        0\n",
       "2022-05-24 09:00:00        2\n",
       "2022-05-25 09:00:00     1260\n",
       "2022-05-26 09:00:00        0\n",
       "Name: turnover, Length: 100, dtype: int64"
      ]
     },
     "execution_count": 28,
     "metadata": {},
     "output_type": "execute_result"
    }
   ],
   "source": [
    "#ETC-GROUP CARDANO\n",
    "pd_ETC_GROUP_XETRA_ADA=tv.get_hist('RDAN','XETR',interval=Interval.in_daily,n_bars=100)\n",
    "pd_ETC_GROUP_XETRA_ADA[\"averageprice\"] = (pd_ETC_GROUP_XETRA_ADA[\"high\"] + pd_ETC_GROUP_XETRA_ADA[\"open\"] + pd_ETC_GROUP_XETRA_ADA[\"close\"] + pd_ETC_GROUP_XETRA_ADA[\"low\"]) /4\n",
    "pd_ETC_GROUP_XETRA_ADA[\"turnover\"] = (pd_ETC_GROUP_XETRA_ADA[\"averageprice\"] * pd_ETC_GROUP_XETRA_ADA[\"volume\"])*EURUSD_Mean\n",
    "pd_ETC_GROUP_XETRA_ADA[\"turnover\"].astype(int)"
   ]
  },
  {
   "cell_type": "code",
   "execution_count": 29,
   "metadata": {},
   "outputs": [
    {
     "data": {
      "text/plain": [
       "datetime\n",
       "2022-01-05 09:00:00       0\n",
       "2022-01-06 09:00:00       0\n",
       "2022-01-07 09:00:00       0\n",
       "2022-01-10 09:00:00       0\n",
       "2022-01-11 09:00:00       0\n",
       "                       ... \n",
       "2022-05-20 09:00:00       0\n",
       "2022-05-23 09:00:00    5712\n",
       "2022-05-24 09:00:00     115\n",
       "2022-05-25 09:00:00      30\n",
       "2022-05-26 09:00:00       2\n",
       "Name: turnover, Length: 100, dtype: int64"
      ]
     },
     "execution_count": 29,
     "metadata": {},
     "output_type": "execute_result"
    }
   ],
   "source": [
    "#ETC-GROUP POLKADOT\n",
    "pd_ETC_GROUP_XETRA_DOT=tv.get_hist('PLKA','XETR',interval=Interval.in_daily,n_bars=100)\n",
    "pd_ETC_GROUP_XETRA_DOT[\"averageprice\"] = (pd_ETC_GROUP_XETRA_DOT[\"high\"] + pd_ETC_GROUP_XETRA_DOT[\"open\"] + pd_ETC_GROUP_XETRA_DOT[\"close\"] + pd_ETC_GROUP_XETRA_DOT[\"low\"]) /4\n",
    "pd_ETC_GROUP_XETRA_DOT[\"turnover\"] = (pd_ETC_GROUP_XETRA_DOT[\"averageprice\"] * pd_ETC_GROUP_XETRA_DOT[\"volume\"])*EURUSD_Mean\n",
    "pd_ETC_GROUP_XETRA_DOT[\"turnover\"].astype(int)"
   ]
  },
  {
   "cell_type": "markdown",
   "metadata": {},
   "source": [
    "Organizing Data"
   ]
  },
  {
   "cell_type": "code",
   "execution_count": 30,
   "metadata": {},
   "outputs": [
    {
     "data": {
      "text/html": [
       "<div>\n",
       "<style scoped>\n",
       "    .dataframe tbody tr th:only-of-type {\n",
       "        vertical-align: middle;\n",
       "    }\n",
       "\n",
       "    .dataframe tbody tr th {\n",
       "        vertical-align: top;\n",
       "    }\n",
       "\n",
       "    .dataframe thead th {\n",
       "        text-align: right;\n",
       "    }\n",
       "</style>\n",
       "<table border=\"1\" class=\"dataframe\">\n",
       "  <thead>\n",
       "    <tr style=\"text-align: right;\">\n",
       "      <th></th>\n",
       "      <th>symbol</th>\n",
       "      <th>open</th>\n",
       "      <th>high</th>\n",
       "      <th>low</th>\n",
       "      <th>close</th>\n",
       "      <th>volume</th>\n",
       "      <th>averageprice</th>\n",
       "      <th>turnover</th>\n",
       "    </tr>\n",
       "    <tr>\n",
       "      <th>datetime</th>\n",
       "      <th></th>\n",
       "      <th></th>\n",
       "      <th></th>\n",
       "      <th></th>\n",
       "      <th></th>\n",
       "      <th></th>\n",
       "      <th></th>\n",
       "      <th></th>\n",
       "    </tr>\n",
       "  </thead>\n",
       "  <tbody>\n",
       "    <tr>\n",
       "      <th>2022-01-03 09:00:00</th>\n",
       "      <td>OMXSTO:BITCOIN_XBT</td>\n",
       "      <td>2045.000000</td>\n",
       "      <td>2067.100100</td>\n",
       "      <td>2018.689900</td>\n",
       "      <td>2023.000000</td>\n",
       "      <td>20928.0</td>\n",
       "      <td>2038.447500</td>\n",
       "      <td>4.481580e+06</td>\n",
       "    </tr>\n",
       "    <tr>\n",
       "      <th>2022-01-04 09:00:00</th>\n",
       "      <td>OMXSTO:BITCOIN_XBT</td>\n",
       "      <td>2023.000000</td>\n",
       "      <td>2068.470000</td>\n",
       "      <td>2012.530000</td>\n",
       "      <td>2029.510000</td>\n",
       "      <td>20632.0</td>\n",
       "      <td>2033.377500</td>\n",
       "      <td>4.407205e+06</td>\n",
       "    </tr>\n",
       "    <tr>\n",
       "      <th>2022-01-05 09:00:00</th>\n",
       "      <td>OMXSTO:BITCOIN_XBT</td>\n",
       "      <td>2028.500000</td>\n",
       "      <td>2038.000000</td>\n",
       "      <td>1995.540000</td>\n",
       "      <td>2001.000000</td>\n",
       "      <td>10651.0</td>\n",
       "      <td>2015.760000</td>\n",
       "      <td>2.255449e+06</td>\n",
       "    </tr>\n",
       "    <tr>\n",
       "      <th>2022-01-07 09:00:00</th>\n",
       "      <td>OMXSTO:BITCOIN_XBT</td>\n",
       "      <td>1822.610000</td>\n",
       "      <td>1860.000000</td>\n",
       "      <td>1765.000000</td>\n",
       "      <td>1787.380000</td>\n",
       "      <td>85041.0</td>\n",
       "      <td>1808.747500</td>\n",
       "      <td>1.615884e+07</td>\n",
       "    </tr>\n",
       "    <tr>\n",
       "      <th>2022-01-10 09:00:00</th>\n",
       "      <td>OMXSTO:BITCOIN_XBT</td>\n",
       "      <td>1812.430100</td>\n",
       "      <td>1828.460000</td>\n",
       "      <td>1720.000000</td>\n",
       "      <td>1811.360000</td>\n",
       "      <td>66902.0</td>\n",
       "      <td>1793.062525</td>\n",
       "      <td>1.260197e+07</td>\n",
       "    </tr>\n",
       "    <tr>\n",
       "      <th>...</th>\n",
       "      <td>...</td>\n",
       "      <td>...</td>\n",
       "      <td>...</td>\n",
       "      <td>...</td>\n",
       "      <td>...</td>\n",
       "      <td>...</td>\n",
       "      <td>...</td>\n",
       "      <td>...</td>\n",
       "    </tr>\n",
       "    <tr>\n",
       "      <th>2022-05-20 09:00:00</th>\n",
       "      <td>XETR:BTCE</td>\n",
       "      <td>27.254000</td>\n",
       "      <td>27.690001</td>\n",
       "      <td>26.556000</td>\n",
       "      <td>26.662001</td>\n",
       "      <td>118883.0</td>\n",
       "      <td>27.040501</td>\n",
       "      <td>3.536408e+06</td>\n",
       "    </tr>\n",
       "    <tr>\n",
       "      <th>2022-05-23 09:00:00</th>\n",
       "      <td>XETR:BTCE</td>\n",
       "      <td>27.615999</td>\n",
       "      <td>27.778000</td>\n",
       "      <td>27.002001</td>\n",
       "      <td>27.334000</td>\n",
       "      <td>171911.0</td>\n",
       "      <td>27.432500</td>\n",
       "      <td>5.187963e+06</td>\n",
       "    </tr>\n",
       "    <tr>\n",
       "      <th>2022-05-24 09:00:00</th>\n",
       "      <td>XETR:BTCE</td>\n",
       "      <td>26.330000</td>\n",
       "      <td>26.406000</td>\n",
       "      <td>25.632000</td>\n",
       "      <td>25.997999</td>\n",
       "      <td>309514.0</td>\n",
       "      <td>26.091500</td>\n",
       "      <td>8.883972e+06</td>\n",
       "    </tr>\n",
       "    <tr>\n",
       "      <th>2022-05-25 09:00:00</th>\n",
       "      <td>XETR:BTCE</td>\n",
       "      <td>26.677999</td>\n",
       "      <td>26.910000</td>\n",
       "      <td>26.441999</td>\n",
       "      <td>26.643999</td>\n",
       "      <td>132789.0</td>\n",
       "      <td>26.668499</td>\n",
       "      <td>3.895727e+06</td>\n",
       "    </tr>\n",
       "    <tr>\n",
       "      <th>2022-05-26 09:00:00</th>\n",
       "      <td>XETR:BTCE</td>\n",
       "      <td>26.704000</td>\n",
       "      <td>26.704000</td>\n",
       "      <td>26.214000</td>\n",
       "      <td>26.214000</td>\n",
       "      <td>12300.0</td>\n",
       "      <td>26.459000</td>\n",
       "      <td>3.580193e+05</td>\n",
       "    </tr>\n",
       "  </tbody>\n",
       "</table>\n",
       "<p>600 rows × 8 columns</p>\n",
       "</div>"
      ],
      "text/plain": [
       "                                 symbol         open         high  \\\n",
       "datetime                                                            \n",
       "2022-01-03 09:00:00  OMXSTO:BITCOIN_XBT  2045.000000  2067.100100   \n",
       "2022-01-04 09:00:00  OMXSTO:BITCOIN_XBT  2023.000000  2068.470000   \n",
       "2022-01-05 09:00:00  OMXSTO:BITCOIN_XBT  2028.500000  2038.000000   \n",
       "2022-01-07 09:00:00  OMXSTO:BITCOIN_XBT  1822.610000  1860.000000   \n",
       "2022-01-10 09:00:00  OMXSTO:BITCOIN_XBT  1812.430100  1828.460000   \n",
       "...                                 ...          ...          ...   \n",
       "2022-05-20 09:00:00           XETR:BTCE    27.254000    27.690001   \n",
       "2022-05-23 09:00:00           XETR:BTCE    27.615999    27.778000   \n",
       "2022-05-24 09:00:00           XETR:BTCE    26.330000    26.406000   \n",
       "2022-05-25 09:00:00           XETR:BTCE    26.677999    26.910000   \n",
       "2022-05-26 09:00:00           XETR:BTCE    26.704000    26.704000   \n",
       "\n",
       "                             low        close    volume  averageprice  \\\n",
       "datetime                                                                \n",
       "2022-01-03 09:00:00  2018.689900  2023.000000   20928.0   2038.447500   \n",
       "2022-01-04 09:00:00  2012.530000  2029.510000   20632.0   2033.377500   \n",
       "2022-01-05 09:00:00  1995.540000  2001.000000   10651.0   2015.760000   \n",
       "2022-01-07 09:00:00  1765.000000  1787.380000   85041.0   1808.747500   \n",
       "2022-01-10 09:00:00  1720.000000  1811.360000   66902.0   1793.062525   \n",
       "...                          ...          ...       ...           ...   \n",
       "2022-05-20 09:00:00    26.556000    26.662001  118883.0     27.040501   \n",
       "2022-05-23 09:00:00    27.002001    27.334000  171911.0     27.432500   \n",
       "2022-05-24 09:00:00    25.632000    25.997999  309514.0     26.091500   \n",
       "2022-05-25 09:00:00    26.441999    26.643999  132789.0     26.668499   \n",
       "2022-05-26 09:00:00    26.214000    26.214000   12300.0     26.459000   \n",
       "\n",
       "                         turnover  \n",
       "datetime                           \n",
       "2022-01-03 09:00:00  4.481580e+06  \n",
       "2022-01-04 09:00:00  4.407205e+06  \n",
       "2022-01-05 09:00:00  2.255449e+06  \n",
       "2022-01-07 09:00:00  1.615884e+07  \n",
       "2022-01-10 09:00:00  1.260197e+07  \n",
       "...                           ...  \n",
       "2022-05-20 09:00:00  3.536408e+06  \n",
       "2022-05-23 09:00:00  5.187963e+06  \n",
       "2022-05-24 09:00:00  8.883972e+06  \n",
       "2022-05-25 09:00:00  3.895727e+06  \n",
       "2022-05-26 09:00:00  3.580193e+05  \n",
       "\n",
       "[600 rows x 8 columns]"
      ]
     },
     "execution_count": 30,
     "metadata": {},
     "output_type": "execute_result"
    }
   ],
   "source": [
    "#BTC Products\n",
    "\n",
    "BTC_products = [pd_BTC_XBT, pd_BTC_ZERO_SEK, pd_BTCE_XBT, pd_21SHARES_SIX_BTC, pd_21SHARES_XETRA_BTC, pd_ETC_GROUP_XETRA_BTC]\n",
    "BTC_products_concated = pd.concat(BTC_products)\n",
    "BTC_products_concated"
   ]
  },
  {
   "cell_type": "code",
   "execution_count": 31,
   "metadata": {},
   "outputs": [
    {
     "data": {
      "text/html": [
       "<div>\n",
       "<style scoped>\n",
       "    .dataframe tbody tr th:only-of-type {\n",
       "        vertical-align: middle;\n",
       "    }\n",
       "\n",
       "    .dataframe tbody tr th {\n",
       "        vertical-align: top;\n",
       "    }\n",
       "\n",
       "    .dataframe thead th {\n",
       "        text-align: right;\n",
       "    }\n",
       "</style>\n",
       "<table border=\"1\" class=\"dataframe\">\n",
       "  <thead>\n",
       "    <tr style=\"text-align: right;\">\n",
       "      <th></th>\n",
       "      <th>symbol</th>\n",
       "      <th>open</th>\n",
       "      <th>high</th>\n",
       "      <th>low</th>\n",
       "      <th>close</th>\n",
       "      <th>volume</th>\n",
       "      <th>averageprice</th>\n",
       "      <th>turnover</th>\n",
       "    </tr>\n",
       "    <tr>\n",
       "      <th>datetime</th>\n",
       "      <th></th>\n",
       "      <th></th>\n",
       "      <th></th>\n",
       "      <th></th>\n",
       "      <th></th>\n",
       "      <th></th>\n",
       "      <th></th>\n",
       "      <th></th>\n",
       "    </tr>\n",
       "  </thead>\n",
       "  <tbody>\n",
       "    <tr>\n",
       "      <th>2022-01-03 09:00:00</th>\n",
       "      <td>OMXSTO:ETHEREUM_XBT</td>\n",
       "      <td>335.120000</td>\n",
       "      <td>341.959990</td>\n",
       "      <td>332.049990</td>\n",
       "      <td>332.280000</td>\n",
       "      <td>135622.0</td>\n",
       "      <td>335.352495</td>\n",
       "      <td>4.777884e+06</td>\n",
       "    </tr>\n",
       "    <tr>\n",
       "      <th>2022-01-04 09:00:00</th>\n",
       "      <td>OMXSTO:ETHEREUM_XBT</td>\n",
       "      <td>332.870000</td>\n",
       "      <td>345.140010</td>\n",
       "      <td>332.870000</td>\n",
       "      <td>340.010010</td>\n",
       "      <td>160339.0</td>\n",
       "      <td>337.722505</td>\n",
       "      <td>5.688569e+06</td>\n",
       "    </tr>\n",
       "    <tr>\n",
       "      <th>2022-01-05 09:00:00</th>\n",
       "      <td>OMXSTO:ETHEREUM_XBT</td>\n",
       "      <td>340.010010</td>\n",
       "      <td>340.010010</td>\n",
       "      <td>333.030000</td>\n",
       "      <td>333.060000</td>\n",
       "      <td>55108.0</td>\n",
       "      <td>336.527505</td>\n",
       "      <td>1.948225e+06</td>\n",
       "    </tr>\n",
       "    <tr>\n",
       "      <th>2022-01-07 09:00:00</th>\n",
       "      <td>OMXSTO:ETHEREUM_XBT</td>\n",
       "      <td>284.489990</td>\n",
       "      <td>292.019990</td>\n",
       "      <td>270.420010</td>\n",
       "      <td>274.899990</td>\n",
       "      <td>939228.0</td>\n",
       "      <td>280.457495</td>\n",
       "      <td>2.767209e+07</td>\n",
       "    </tr>\n",
       "    <tr>\n",
       "      <th>2022-01-10 09:00:00</th>\n",
       "      <td>OMXSTO:ETHEREUM_XBT</td>\n",
       "      <td>276.040010</td>\n",
       "      <td>278.690000</td>\n",
       "      <td>258.000000</td>\n",
       "      <td>270.880000</td>\n",
       "      <td>542309.0</td>\n",
       "      <td>270.902502</td>\n",
       "      <td>1.543347e+07</td>\n",
       "    </tr>\n",
       "    <tr>\n",
       "      <th>...</th>\n",
       "      <td>...</td>\n",
       "      <td>...</td>\n",
       "      <td>...</td>\n",
       "      <td>...</td>\n",
       "      <td>...</td>\n",
       "      <td>...</td>\n",
       "      <td>...</td>\n",
       "      <td>...</td>\n",
       "    </tr>\n",
       "    <tr>\n",
       "      <th>2022-05-20 09:00:00</th>\n",
       "      <td>XETR:ETHA</td>\n",
       "      <td>21.132000</td>\n",
       "      <td>21.742001</td>\n",
       "      <td>20.684000</td>\n",
       "      <td>20.728001</td>\n",
       "      <td>47456.0</td>\n",
       "      <td>21.071500</td>\n",
       "      <td>1.100055e+06</td>\n",
       "    </tr>\n",
       "    <tr>\n",
       "      <th>2022-05-23 09:00:00</th>\n",
       "      <td>XETR:ETHA</td>\n",
       "      <td>21.587999</td>\n",
       "      <td>21.827999</td>\n",
       "      <td>21.290001</td>\n",
       "      <td>21.594000</td>\n",
       "      <td>90977.0</td>\n",
       "      <td>21.575000</td>\n",
       "      <td>2.159286e+06</td>\n",
       "    </tr>\n",
       "    <tr>\n",
       "      <th>2022-05-24 09:00:00</th>\n",
       "      <td>XETR:ETHA</td>\n",
       "      <td>20.610001</td>\n",
       "      <td>20.624001</td>\n",
       "      <td>19.851999</td>\n",
       "      <td>20.115999</td>\n",
       "      <td>61716.0</td>\n",
       "      <td>20.300500</td>\n",
       "      <td>1.378264e+06</td>\n",
       "    </tr>\n",
       "    <tr>\n",
       "      <th>2022-05-25 09:00:00</th>\n",
       "      <td>XETR:ETHA</td>\n",
       "      <td>20.612000</td>\n",
       "      <td>20.716000</td>\n",
       "      <td>20.247999</td>\n",
       "      <td>20.408001</td>\n",
       "      <td>7589.0</td>\n",
       "      <td>20.496000</td>\n",
       "      <td>1.711124e+05</td>\n",
       "    </tr>\n",
       "    <tr>\n",
       "      <th>2022-05-26 09:00:00</th>\n",
       "      <td>XETR:ETHA</td>\n",
       "      <td>20.038000</td>\n",
       "      <td>20.038000</td>\n",
       "      <td>19.003000</td>\n",
       "      <td>19.158000</td>\n",
       "      <td>31964.0</td>\n",
       "      <td>19.559250</td>\n",
       "      <td>6.877667e+05</td>\n",
       "    </tr>\n",
       "  </tbody>\n",
       "</table>\n",
       "<p>600 rows × 8 columns</p>\n",
       "</div>"
      ],
      "text/plain": [
       "                                  symbol        open        high         low  \\\n",
       "datetime                                                                       \n",
       "2022-01-03 09:00:00  OMXSTO:ETHEREUM_XBT  335.120000  341.959990  332.049990   \n",
       "2022-01-04 09:00:00  OMXSTO:ETHEREUM_XBT  332.870000  345.140010  332.870000   \n",
       "2022-01-05 09:00:00  OMXSTO:ETHEREUM_XBT  340.010010  340.010010  333.030000   \n",
       "2022-01-07 09:00:00  OMXSTO:ETHEREUM_XBT  284.489990  292.019990  270.420010   \n",
       "2022-01-10 09:00:00  OMXSTO:ETHEREUM_XBT  276.040010  278.690000  258.000000   \n",
       "...                                  ...         ...         ...         ...   \n",
       "2022-05-20 09:00:00            XETR:ETHA   21.132000   21.742001   20.684000   \n",
       "2022-05-23 09:00:00            XETR:ETHA   21.587999   21.827999   21.290001   \n",
       "2022-05-24 09:00:00            XETR:ETHA   20.610001   20.624001   19.851999   \n",
       "2022-05-25 09:00:00            XETR:ETHA   20.612000   20.716000   20.247999   \n",
       "2022-05-26 09:00:00            XETR:ETHA   20.038000   20.038000   19.003000   \n",
       "\n",
       "                          close    volume  averageprice      turnover  \n",
       "datetime                                                               \n",
       "2022-01-03 09:00:00  332.280000  135622.0    335.352495  4.777884e+06  \n",
       "2022-01-04 09:00:00  340.010010  160339.0    337.722505  5.688569e+06  \n",
       "2022-01-05 09:00:00  333.060000   55108.0    336.527505  1.948225e+06  \n",
       "2022-01-07 09:00:00  274.899990  939228.0    280.457495  2.767209e+07  \n",
       "2022-01-10 09:00:00  270.880000  542309.0    270.902502  1.543347e+07  \n",
       "...                         ...       ...           ...           ...  \n",
       "2022-05-20 09:00:00   20.728001   47456.0     21.071500  1.100055e+06  \n",
       "2022-05-23 09:00:00   21.594000   90977.0     21.575000  2.159286e+06  \n",
       "2022-05-24 09:00:00   20.115999   61716.0     20.300500  1.378264e+06  \n",
       "2022-05-25 09:00:00   20.408001    7589.0     20.496000  1.711124e+05  \n",
       "2022-05-26 09:00:00   19.158000   31964.0     19.559250  6.877667e+05  \n",
       "\n",
       "[600 rows x 8 columns]"
      ]
     },
     "execution_count": 31,
     "metadata": {},
     "output_type": "execute_result"
    }
   ],
   "source": [
    "#ETH Products\n",
    "\n",
    "ETH_products = [pd_ETH_XBT, pd_ETH_ZERO_SEK, pd_ETHE_XBT, pd_ETC_GROUP_XETRA_ETH, pd_21SHARES_SIX_ETH, pd_21SHARES_XETRA_ETH]\n",
    "ETH_products_concated = pd.concat(ETH_products)\n",
    "ETH_products_concated"
   ]
  },
  {
   "cell_type": "code",
   "execution_count": 32,
   "metadata": {},
   "outputs": [
    {
     "data": {
      "text/html": [
       "<div>\n",
       "<style scoped>\n",
       "    .dataframe tbody tr th:only-of-type {\n",
       "        vertical-align: middle;\n",
       "    }\n",
       "\n",
       "    .dataframe tbody tr th {\n",
       "        vertical-align: top;\n",
       "    }\n",
       "\n",
       "    .dataframe thead th {\n",
       "        text-align: right;\n",
       "    }\n",
       "</style>\n",
       "<table border=\"1\" class=\"dataframe\">\n",
       "  <thead>\n",
       "    <tr style=\"text-align: right;\">\n",
       "      <th></th>\n",
       "      <th>symbol</th>\n",
       "      <th>open</th>\n",
       "      <th>high</th>\n",
       "      <th>low</th>\n",
       "      <th>close</th>\n",
       "      <th>volume</th>\n",
       "      <th>averageprice</th>\n",
       "      <th>turnover</th>\n",
       "    </tr>\n",
       "    <tr>\n",
       "      <th>datetime</th>\n",
       "      <th></th>\n",
       "      <th></th>\n",
       "      <th></th>\n",
       "      <th></th>\n",
       "      <th></th>\n",
       "      <th></th>\n",
       "      <th></th>\n",
       "      <th></th>\n",
       "    </tr>\n",
       "  </thead>\n",
       "  <tbody>\n",
       "    <tr>\n",
       "      <th>2022-01-03 09:00:00</th>\n",
       "      <td>NGM:VALOUR.CARDANO.SEK</td>\n",
       "      <td>12.2000</td>\n",
       "      <td>13.0000</td>\n",
       "      <td>11.9100</td>\n",
       "      <td>11.9200</td>\n",
       "      <td>725957.0</td>\n",
       "      <td>12.25750</td>\n",
       "      <td>9.347956e+05</td>\n",
       "    </tr>\n",
       "    <tr>\n",
       "      <th>2022-01-04 09:00:00</th>\n",
       "      <td>NGM:VALOUR.CARDANO.SEK</td>\n",
       "      <td>11.9800</td>\n",
       "      <td>12.1700</td>\n",
       "      <td>11.8200</td>\n",
       "      <td>11.9700</td>\n",
       "      <td>362670.0</td>\n",
       "      <td>11.98500</td>\n",
       "      <td>4.566186e+05</td>\n",
       "    </tr>\n",
       "    <tr>\n",
       "      <th>2022-01-05 09:00:00</th>\n",
       "      <td>NGM:VALOUR.CARDANO.SEK</td>\n",
       "      <td>11.9700</td>\n",
       "      <td>12.1400</td>\n",
       "      <td>11.8100</td>\n",
       "      <td>11.8100</td>\n",
       "      <td>187645.0</td>\n",
       "      <td>11.93250</td>\n",
       "      <td>2.352190e+05</td>\n",
       "    </tr>\n",
       "    <tr>\n",
       "      <th>2022-01-07 09:00:00</th>\n",
       "      <td>NGM:VALOUR.CARDANO.SEK</td>\n",
       "      <td>10.9100</td>\n",
       "      <td>11.2700</td>\n",
       "      <td>10.6800</td>\n",
       "      <td>10.9200</td>\n",
       "      <td>1424156.0</td>\n",
       "      <td>10.94500</td>\n",
       "      <td>1.637485e+06</td>\n",
       "    </tr>\n",
       "    <tr>\n",
       "      <th>2022-01-10 09:00:00</th>\n",
       "      <td>NGM:VALOUR.CARDANO.SEK</td>\n",
       "      <td>10.5300</td>\n",
       "      <td>10.5500</td>\n",
       "      <td>9.6000</td>\n",
       "      <td>10.1300</td>\n",
       "      <td>1722135.0</td>\n",
       "      <td>10.20250</td>\n",
       "      <td>1.845770e+06</td>\n",
       "    </tr>\n",
       "    <tr>\n",
       "      <th>...</th>\n",
       "      <td>...</td>\n",
       "      <td>...</td>\n",
       "      <td>...</td>\n",
       "      <td>...</td>\n",
       "      <td>...</td>\n",
       "      <td>...</td>\n",
       "      <td>...</td>\n",
       "      <td>...</td>\n",
       "    </tr>\n",
       "    <tr>\n",
       "      <th>2022-05-20 09:00:00</th>\n",
       "      <td>XETR:RDAN</td>\n",
       "      <td>2.4442</td>\n",
       "      <td>2.5316</td>\n",
       "      <td>2.3938</td>\n",
       "      <td>2.3938</td>\n",
       "      <td>300.0</td>\n",
       "      <td>2.44085</td>\n",
       "      <td>8.055457e+02</td>\n",
       "    </tr>\n",
       "    <tr>\n",
       "      <th>2022-05-23 09:00:00</th>\n",
       "      <td>XETR:RDAN</td>\n",
       "      <td>2.5484</td>\n",
       "      <td>2.5612</td>\n",
       "      <td>2.5484</td>\n",
       "      <td>2.5530</td>\n",
       "      <td>0.0</td>\n",
       "      <td>2.55275</td>\n",
       "      <td>0.000000e+00</td>\n",
       "    </tr>\n",
       "    <tr>\n",
       "      <th>2022-05-24 09:00:00</th>\n",
       "      <td>XETR:RDAN</td>\n",
       "      <td>2.3876</td>\n",
       "      <td>2.4046</td>\n",
       "      <td>2.3360</td>\n",
       "      <td>2.3360</td>\n",
       "      <td>1.0</td>\n",
       "      <td>2.36605</td>\n",
       "      <td>2.602866e+00</td>\n",
       "    </tr>\n",
       "    <tr>\n",
       "      <th>2022-05-25 09:00:00</th>\n",
       "      <td>XETR:RDAN</td>\n",
       "      <td>2.4042</td>\n",
       "      <td>2.4042</td>\n",
       "      <td>2.3584</td>\n",
       "      <td>2.3584</td>\n",
       "      <td>481.0</td>\n",
       "      <td>2.38130</td>\n",
       "      <td>1.260048e+03</td>\n",
       "    </tr>\n",
       "    <tr>\n",
       "      <th>2022-05-26 09:00:00</th>\n",
       "      <td>XETR:RDAN</td>\n",
       "      <td>2.3204</td>\n",
       "      <td>2.3204</td>\n",
       "      <td>2.3204</td>\n",
       "      <td>2.3204</td>\n",
       "      <td>0.0</td>\n",
       "      <td>2.32040</td>\n",
       "      <td>0.000000e+00</td>\n",
       "    </tr>\n",
       "  </tbody>\n",
       "</table>\n",
       "<p>400 rows × 8 columns</p>\n",
       "</div>"
      ],
      "text/plain": [
       "                                     symbol     open     high      low  \\\n",
       "datetime                                                                 \n",
       "2022-01-03 09:00:00  NGM:VALOUR.CARDANO.SEK  12.2000  13.0000  11.9100   \n",
       "2022-01-04 09:00:00  NGM:VALOUR.CARDANO.SEK  11.9800  12.1700  11.8200   \n",
       "2022-01-05 09:00:00  NGM:VALOUR.CARDANO.SEK  11.9700  12.1400  11.8100   \n",
       "2022-01-07 09:00:00  NGM:VALOUR.CARDANO.SEK  10.9100  11.2700  10.6800   \n",
       "2022-01-10 09:00:00  NGM:VALOUR.CARDANO.SEK  10.5300  10.5500   9.6000   \n",
       "...                                     ...      ...      ...      ...   \n",
       "2022-05-20 09:00:00               XETR:RDAN   2.4442   2.5316   2.3938   \n",
       "2022-05-23 09:00:00               XETR:RDAN   2.5484   2.5612   2.5484   \n",
       "2022-05-24 09:00:00               XETR:RDAN   2.3876   2.4046   2.3360   \n",
       "2022-05-25 09:00:00               XETR:RDAN   2.4042   2.4042   2.3584   \n",
       "2022-05-26 09:00:00               XETR:RDAN   2.3204   2.3204   2.3204   \n",
       "\n",
       "                       close     volume  averageprice      turnover  \n",
       "datetime                                                             \n",
       "2022-01-03 09:00:00  11.9200   725957.0      12.25750  9.347956e+05  \n",
       "2022-01-04 09:00:00  11.9700   362670.0      11.98500  4.566186e+05  \n",
       "2022-01-05 09:00:00  11.8100   187645.0      11.93250  2.352190e+05  \n",
       "2022-01-07 09:00:00  10.9200  1424156.0      10.94500  1.637485e+06  \n",
       "2022-01-10 09:00:00  10.1300  1722135.0      10.20250  1.845770e+06  \n",
       "...                      ...        ...           ...           ...  \n",
       "2022-05-20 09:00:00   2.3938      300.0       2.44085  8.055457e+02  \n",
       "2022-05-23 09:00:00   2.5530        0.0       2.55275  0.000000e+00  \n",
       "2022-05-24 09:00:00   2.3360        1.0       2.36605  2.602866e+00  \n",
       "2022-05-25 09:00:00   2.3584      481.0       2.38130  1.260048e+03  \n",
       "2022-05-26 09:00:00   2.3204        0.0       2.32040  0.000000e+00  \n",
       "\n",
       "[400 rows x 8 columns]"
      ]
     },
     "execution_count": 32,
     "metadata": {},
     "output_type": "execute_result"
    }
   ],
   "source": [
    "#ADA Products\n",
    "\n",
    "ADA_products = [pd_VALOUR_CARDANO_SEK, pd_21SHARES_SIX_ADA, pd_21SHARES_XETRA_ADA, pd_ETC_GROUP_XETRA_ADA]\n",
    "ADA_products_concated = pd.concat(ADA_products)\n",
    "ADA_products_concated"
   ]
  },
  {
   "cell_type": "code",
   "execution_count": 33,
   "metadata": {},
   "outputs": [
    {
     "data": {
      "text/html": [
       "<div>\n",
       "<style scoped>\n",
       "    .dataframe tbody tr th:only-of-type {\n",
       "        vertical-align: middle;\n",
       "    }\n",
       "\n",
       "    .dataframe tbody tr th {\n",
       "        vertical-align: top;\n",
       "    }\n",
       "\n",
       "    .dataframe thead th {\n",
       "        text-align: right;\n",
       "    }\n",
       "</style>\n",
       "<table border=\"1\" class=\"dataframe\">\n",
       "  <thead>\n",
       "    <tr style=\"text-align: right;\">\n",
       "      <th></th>\n",
       "      <th>symbol</th>\n",
       "      <th>open</th>\n",
       "      <th>high</th>\n",
       "      <th>low</th>\n",
       "      <th>close</th>\n",
       "      <th>volume</th>\n",
       "      <th>averageprice</th>\n",
       "      <th>turnover</th>\n",
       "    </tr>\n",
       "    <tr>\n",
       "      <th>datetime</th>\n",
       "      <th></th>\n",
       "      <th></th>\n",
       "      <th></th>\n",
       "      <th></th>\n",
       "      <th></th>\n",
       "      <th></th>\n",
       "      <th></th>\n",
       "      <th></th>\n",
       "    </tr>\n",
       "  </thead>\n",
       "  <tbody>\n",
       "    <tr>\n",
       "      <th>2022-01-03 09:00:00</th>\n",
       "      <td>NGM:VALOUR.SOLANA.SEK</td>\n",
       "      <td>15.6900</td>\n",
       "      <td>16.0100</td>\n",
       "      <td>15.3500</td>\n",
       "      <td>15.4000</td>\n",
       "      <td>1022419.0</td>\n",
       "      <td>15.612500</td>\n",
       "      <td>1.676893e+06</td>\n",
       "    </tr>\n",
       "    <tr>\n",
       "      <th>2022-01-04 09:00:00</th>\n",
       "      <td>NGM:VALOUR.SOLANA.SEK</td>\n",
       "      <td>15.3700</td>\n",
       "      <td>15.7900</td>\n",
       "      <td>15.1000</td>\n",
       "      <td>15.5000</td>\n",
       "      <td>528003.0</td>\n",
       "      <td>15.440000</td>\n",
       "      <td>8.564215e+05</td>\n",
       "    </tr>\n",
       "    <tr>\n",
       "      <th>2022-01-05 09:00:00</th>\n",
       "      <td>NGM:VALOUR.SOLANA.SEK</td>\n",
       "      <td>15.4100</td>\n",
       "      <td>15.5000</td>\n",
       "      <td>15.1100</td>\n",
       "      <td>15.1100</td>\n",
       "      <td>236090.0</td>\n",
       "      <td>15.282500</td>\n",
       "      <td>3.790320e+05</td>\n",
       "    </tr>\n",
       "    <tr>\n",
       "      <th>2022-01-07 09:00:00</th>\n",
       "      <td>NGM:VALOUR.SOLANA.SEK</td>\n",
       "      <td>12.6400</td>\n",
       "      <td>13.0000</td>\n",
       "      <td>12.1000</td>\n",
       "      <td>12.5300</td>\n",
       "      <td>2805710.0</td>\n",
       "      <td>12.567500</td>\n",
       "      <td>3.704210e+06</td>\n",
       "    </tr>\n",
       "    <tr>\n",
       "      <th>2022-01-10 09:00:00</th>\n",
       "      <td>NGM:VALOUR.SOLANA.SEK</td>\n",
       "      <td>12.8100</td>\n",
       "      <td>12.9600</td>\n",
       "      <td>11.7100</td>\n",
       "      <td>12.2900</td>\n",
       "      <td>1714225.0</td>\n",
       "      <td>12.442500</td>\n",
       "      <td>2.240678e+06</td>\n",
       "    </tr>\n",
       "    <tr>\n",
       "      <th>...</th>\n",
       "      <td>...</td>\n",
       "      <td>...</td>\n",
       "      <td>...</td>\n",
       "      <td>...</td>\n",
       "      <td>...</td>\n",
       "      <td>...</td>\n",
       "      <td>...</td>\n",
       "      <td>...</td>\n",
       "    </tr>\n",
       "    <tr>\n",
       "      <th>2022-05-20 09:00:00</th>\n",
       "      <td>XETR:ESOL</td>\n",
       "      <td>4.7654</td>\n",
       "      <td>4.9702</td>\n",
       "      <td>4.6722</td>\n",
       "      <td>4.6722</td>\n",
       "      <td>0.0</td>\n",
       "      <td>4.770000</td>\n",
       "      <td>0.000000e+00</td>\n",
       "    </tr>\n",
       "    <tr>\n",
       "      <th>2022-05-23 09:00:00</th>\n",
       "      <td>XETR:ESOL</td>\n",
       "      <td>4.9466</td>\n",
       "      <td>5.0625</td>\n",
       "      <td>4.8980</td>\n",
       "      <td>4.9898</td>\n",
       "      <td>454.0</td>\n",
       "      <td>4.974225</td>\n",
       "      <td>2.484329e+03</td>\n",
       "    </tr>\n",
       "    <tr>\n",
       "      <th>2022-05-24 09:00:00</th>\n",
       "      <td>XETR:ESOL</td>\n",
       "      <td>4.6154</td>\n",
       "      <td>4.6154</td>\n",
       "      <td>4.5174</td>\n",
       "      <td>4.5174</td>\n",
       "      <td>6.0</td>\n",
       "      <td>4.566400</td>\n",
       "      <td>3.014068e+01</td>\n",
       "    </tr>\n",
       "    <tr>\n",
       "      <th>2022-05-25 09:00:00</th>\n",
       "      <td>XETR:ESOL</td>\n",
       "      <td>4.5356</td>\n",
       "      <td>4.5356</td>\n",
       "      <td>4.4470</td>\n",
       "      <td>4.4470</td>\n",
       "      <td>8.0</td>\n",
       "      <td>4.491300</td>\n",
       "      <td>3.952664e+01</td>\n",
       "    </tr>\n",
       "    <tr>\n",
       "      <th>2022-05-26 09:00:00</th>\n",
       "      <td>XETR:ESOL</td>\n",
       "      <td>4.2856</td>\n",
       "      <td>4.2856</td>\n",
       "      <td>4.2856</td>\n",
       "      <td>4.2856</td>\n",
       "      <td>0.0</td>\n",
       "      <td>4.285600</td>\n",
       "      <td>0.000000e+00</td>\n",
       "    </tr>\n",
       "  </tbody>\n",
       "</table>\n",
       "<p>400 rows × 8 columns</p>\n",
       "</div>"
      ],
      "text/plain": [
       "                                    symbol     open     high      low  \\\n",
       "datetime                                                                \n",
       "2022-01-03 09:00:00  NGM:VALOUR.SOLANA.SEK  15.6900  16.0100  15.3500   \n",
       "2022-01-04 09:00:00  NGM:VALOUR.SOLANA.SEK  15.3700  15.7900  15.1000   \n",
       "2022-01-05 09:00:00  NGM:VALOUR.SOLANA.SEK  15.4100  15.5000  15.1100   \n",
       "2022-01-07 09:00:00  NGM:VALOUR.SOLANA.SEK  12.6400  13.0000  12.1000   \n",
       "2022-01-10 09:00:00  NGM:VALOUR.SOLANA.SEK  12.8100  12.9600  11.7100   \n",
       "...                                    ...      ...      ...      ...   \n",
       "2022-05-20 09:00:00              XETR:ESOL   4.7654   4.9702   4.6722   \n",
       "2022-05-23 09:00:00              XETR:ESOL   4.9466   5.0625   4.8980   \n",
       "2022-05-24 09:00:00              XETR:ESOL   4.6154   4.6154   4.5174   \n",
       "2022-05-25 09:00:00              XETR:ESOL   4.5356   4.5356   4.4470   \n",
       "2022-05-26 09:00:00              XETR:ESOL   4.2856   4.2856   4.2856   \n",
       "\n",
       "                       close     volume  averageprice      turnover  \n",
       "datetime                                                             \n",
       "2022-01-03 09:00:00  15.4000  1022419.0     15.612500  1.676893e+06  \n",
       "2022-01-04 09:00:00  15.5000   528003.0     15.440000  8.564215e+05  \n",
       "2022-01-05 09:00:00  15.1100   236090.0     15.282500  3.790320e+05  \n",
       "2022-01-07 09:00:00  12.5300  2805710.0     12.567500  3.704210e+06  \n",
       "2022-01-10 09:00:00  12.2900  1714225.0     12.442500  2.240678e+06  \n",
       "...                      ...        ...           ...           ...  \n",
       "2022-05-20 09:00:00   4.6722        0.0      4.770000  0.000000e+00  \n",
       "2022-05-23 09:00:00   4.9898      454.0      4.974225  2.484329e+03  \n",
       "2022-05-24 09:00:00   4.5174        6.0      4.566400  3.014068e+01  \n",
       "2022-05-25 09:00:00   4.4470        8.0      4.491300  3.952664e+01  \n",
       "2022-05-26 09:00:00   4.2856        0.0      4.285600  0.000000e+00  \n",
       "\n",
       "[400 rows x 8 columns]"
      ]
     },
     "execution_count": 33,
     "metadata": {},
     "output_type": "execute_result"
    }
   ],
   "source": [
    "#SOL Products\n",
    "\n",
    "SOL_products = [pd_VALOUR_SOLANA_SEK, pd_21SHARES_SIX_SOL, pd_21SHARES_XETRA_SOL, pd_ETC_GROUP_XETRA_SOL]\n",
    "SOL_products_concated = pd.concat(SOL_products)\n",
    "SOL_products_concated"
   ]
  },
  {
   "cell_type": "code",
   "execution_count": 34,
   "metadata": {},
   "outputs": [
    {
     "data": {
      "text/html": [
       "<div>\n",
       "<style scoped>\n",
       "    .dataframe tbody tr th:only-of-type {\n",
       "        vertical-align: middle;\n",
       "    }\n",
       "\n",
       "    .dataframe tbody tr th {\n",
       "        vertical-align: top;\n",
       "    }\n",
       "\n",
       "    .dataframe thead th {\n",
       "        text-align: right;\n",
       "    }\n",
       "</style>\n",
       "<table border=\"1\" class=\"dataframe\">\n",
       "  <thead>\n",
       "    <tr style=\"text-align: right;\">\n",
       "      <th></th>\n",
       "      <th>symbol</th>\n",
       "      <th>open</th>\n",
       "      <th>high</th>\n",
       "      <th>low</th>\n",
       "      <th>close</th>\n",
       "      <th>volume</th>\n",
       "      <th>averageprice</th>\n",
       "      <th>turnover</th>\n",
       "    </tr>\n",
       "    <tr>\n",
       "      <th>datetime</th>\n",
       "      <th></th>\n",
       "      <th></th>\n",
       "      <th></th>\n",
       "      <th></th>\n",
       "      <th></th>\n",
       "      <th></th>\n",
       "      <th></th>\n",
       "      <th></th>\n",
       "    </tr>\n",
       "  </thead>\n",
       "  <tbody>\n",
       "    <tr>\n",
       "      <th>2022-01-03 09:00:00</th>\n",
       "      <td>NGM:VALOUR.POLKADOT.SEK</td>\n",
       "      <td>26.000000</td>\n",
       "      <td>27.740000</td>\n",
       "      <td>25.709999</td>\n",
       "      <td>26.350000</td>\n",
       "      <td>517544.0</td>\n",
       "      <td>26.450000</td>\n",
       "      <td>1.438059e+06</td>\n",
       "    </tr>\n",
       "    <tr>\n",
       "      <th>2022-01-04 09:00:00</th>\n",
       "      <td>NGM:VALOUR.POLKADOT.SEK</td>\n",
       "      <td>27.000000</td>\n",
       "      <td>27.299999</td>\n",
       "      <td>26.350000</td>\n",
       "      <td>26.900000</td>\n",
       "      <td>232198.0</td>\n",
       "      <td>26.887500</td>\n",
       "      <td>6.558625e+05</td>\n",
       "    </tr>\n",
       "    <tr>\n",
       "      <th>2022-01-05 09:00:00</th>\n",
       "      <td>NGM:VALOUR.POLKADOT.SEK</td>\n",
       "      <td>26.900000</td>\n",
       "      <td>27.250000</td>\n",
       "      <td>26.420000</td>\n",
       "      <td>26.650000</td>\n",
       "      <td>55604.0</td>\n",
       "      <td>26.805000</td>\n",
       "      <td>1.565762e+05</td>\n",
       "    </tr>\n",
       "    <tr>\n",
       "      <th>2022-01-07 09:00:00</th>\n",
       "      <td>NGM:VALOUR.POLKADOT.SEK</td>\n",
       "      <td>22.559999</td>\n",
       "      <td>23.549999</td>\n",
       "      <td>22.150000</td>\n",
       "      <td>22.850000</td>\n",
       "      <td>518834.0</td>\n",
       "      <td>22.777500</td>\n",
       "      <td>1.241476e+06</td>\n",
       "    </tr>\n",
       "    <tr>\n",
       "      <th>2022-01-10 09:00:00</th>\n",
       "      <td>NGM:VALOUR.POLKADOT.SEK</td>\n",
       "      <td>22.459999</td>\n",
       "      <td>22.780001</td>\n",
       "      <td>20.139999</td>\n",
       "      <td>21.469999</td>\n",
       "      <td>480055.0</td>\n",
       "      <td>21.712499</td>\n",
       "      <td>1.094976e+06</td>\n",
       "    </tr>\n",
       "    <tr>\n",
       "      <th>...</th>\n",
       "      <td>...</td>\n",
       "      <td>...</td>\n",
       "      <td>...</td>\n",
       "      <td>...</td>\n",
       "      <td>...</td>\n",
       "      <td>...</td>\n",
       "      <td>...</td>\n",
       "      <td>...</td>\n",
       "    </tr>\n",
       "    <tr>\n",
       "      <th>2022-05-20 09:00:00</th>\n",
       "      <td>XETR:PLKA</td>\n",
       "      <td>2.277600</td>\n",
       "      <td>2.360600</td>\n",
       "      <td>2.256400</td>\n",
       "      <td>2.256400</td>\n",
       "      <td>0.0</td>\n",
       "      <td>2.287750</td>\n",
       "      <td>0.000000e+00</td>\n",
       "    </tr>\n",
       "    <tr>\n",
       "      <th>2022-05-23 09:00:00</th>\n",
       "      <td>XETR:PLKA</td>\n",
       "      <td>2.392600</td>\n",
       "      <td>2.458000</td>\n",
       "      <td>2.392600</td>\n",
       "      <td>2.454200</td>\n",
       "      <td>2142.0</td>\n",
       "      <td>2.424350</td>\n",
       "      <td>5.712716e+03</td>\n",
       "    </tr>\n",
       "    <tr>\n",
       "      <th>2022-05-24 09:00:00</th>\n",
       "      <td>XETR:PLKA</td>\n",
       "      <td>2.289600</td>\n",
       "      <td>2.289600</td>\n",
       "      <td>2.257600</td>\n",
       "      <td>2.262800</td>\n",
       "      <td>46.0</td>\n",
       "      <td>2.274900</td>\n",
       "      <td>1.151193e+02</td>\n",
       "    </tr>\n",
       "    <tr>\n",
       "      <th>2022-05-25 09:00:00</th>\n",
       "      <td>XETR:PLKA</td>\n",
       "      <td>2.312600</td>\n",
       "      <td>2.324400</td>\n",
       "      <td>2.284400</td>\n",
       "      <td>2.284400</td>\n",
       "      <td>12.0</td>\n",
       "      <td>2.301450</td>\n",
       "      <td>3.038160e+01</td>\n",
       "    </tr>\n",
       "    <tr>\n",
       "      <th>2022-05-26 09:00:00</th>\n",
       "      <td>XETR:PLKA</td>\n",
       "      <td>2.220400</td>\n",
       "      <td>2.220400</td>\n",
       "      <td>2.220400</td>\n",
       "      <td>2.220400</td>\n",
       "      <td>1.0</td>\n",
       "      <td>2.220400</td>\n",
       "      <td>2.442638e+00</td>\n",
       "    </tr>\n",
       "  </tbody>\n",
       "</table>\n",
       "<p>400 rows × 8 columns</p>\n",
       "</div>"
      ],
      "text/plain": [
       "                                      symbol       open       high        low  \\\n",
       "datetime                                                                        \n",
       "2022-01-03 09:00:00  NGM:VALOUR.POLKADOT.SEK  26.000000  27.740000  25.709999   \n",
       "2022-01-04 09:00:00  NGM:VALOUR.POLKADOT.SEK  27.000000  27.299999  26.350000   \n",
       "2022-01-05 09:00:00  NGM:VALOUR.POLKADOT.SEK  26.900000  27.250000  26.420000   \n",
       "2022-01-07 09:00:00  NGM:VALOUR.POLKADOT.SEK  22.559999  23.549999  22.150000   \n",
       "2022-01-10 09:00:00  NGM:VALOUR.POLKADOT.SEK  22.459999  22.780001  20.139999   \n",
       "...                                      ...        ...        ...        ...   \n",
       "2022-05-20 09:00:00                XETR:PLKA   2.277600   2.360600   2.256400   \n",
       "2022-05-23 09:00:00                XETR:PLKA   2.392600   2.458000   2.392600   \n",
       "2022-05-24 09:00:00                XETR:PLKA   2.289600   2.289600   2.257600   \n",
       "2022-05-25 09:00:00                XETR:PLKA   2.312600   2.324400   2.284400   \n",
       "2022-05-26 09:00:00                XETR:PLKA   2.220400   2.220400   2.220400   \n",
       "\n",
       "                         close    volume  averageprice      turnover  \n",
       "datetime                                                              \n",
       "2022-01-03 09:00:00  26.350000  517544.0     26.450000  1.438059e+06  \n",
       "2022-01-04 09:00:00  26.900000  232198.0     26.887500  6.558625e+05  \n",
       "2022-01-05 09:00:00  26.650000   55604.0     26.805000  1.565762e+05  \n",
       "2022-01-07 09:00:00  22.850000  518834.0     22.777500  1.241476e+06  \n",
       "2022-01-10 09:00:00  21.469999  480055.0     21.712499  1.094976e+06  \n",
       "...                        ...       ...           ...           ...  \n",
       "2022-05-20 09:00:00   2.256400       0.0      2.287750  0.000000e+00  \n",
       "2022-05-23 09:00:00   2.454200    2142.0      2.424350  5.712716e+03  \n",
       "2022-05-24 09:00:00   2.262800      46.0      2.274900  1.151193e+02  \n",
       "2022-05-25 09:00:00   2.284400      12.0      2.301450  3.038160e+01  \n",
       "2022-05-26 09:00:00   2.220400       1.0      2.220400  2.442638e+00  \n",
       "\n",
       "[400 rows x 8 columns]"
      ]
     },
     "execution_count": 34,
     "metadata": {},
     "output_type": "execute_result"
    }
   ],
   "source": [
    "#DOT Products\n",
    "\n",
    "DOT_products = [pd_VALOUR_POLKADOT_SEK, pd_21SHARES_SIX_DOT, pd_21SHARES_XETRA_DOT, pd_ETC_GROUP_XETRA_DOT]\n",
    "DOT_products_concated = pd.concat(DOT_products)\n",
    "DOT_products_concated"
   ]
  },
  {
   "cell_type": "markdown",
   "metadata": {},
   "source": [
    "PIVOTS"
   ]
  },
  {
   "cell_type": "code",
   "execution_count": 41,
   "metadata": {},
   "outputs": [],
   "source": [
    "#BTC pivot table\n",
    "pivot_BTC = (\n",
    "    BTC_products_concated.pivot_table(index=['datetime'],\n",
    "                   columns='symbol',\n",
    "                   values='turnover',\n",
    "                   aggfunc='first')\n",
    "        .rename_axis(columns=None)\n",
    "        .reset_index()\n",
    ")\n",
    "pivot_BTC.fillna(0).to_csv('test.csv', sep=(','))\n"
   ]
  },
  {
   "cell_type": "code",
   "execution_count": 36,
   "metadata": {},
   "outputs": [
    {
     "data": {
      "text/html": [
       "<div>\n",
       "<style scoped>\n",
       "    .dataframe tbody tr th:only-of-type {\n",
       "        vertical-align: middle;\n",
       "    }\n",
       "\n",
       "    .dataframe tbody tr th {\n",
       "        vertical-align: top;\n",
       "    }\n",
       "\n",
       "    .dataframe thead th {\n",
       "        text-align: right;\n",
       "    }\n",
       "</style>\n",
       "<table border=\"1\" class=\"dataframe\">\n",
       "  <thead>\n",
       "    <tr style=\"text-align: right;\">\n",
       "      <th></th>\n",
       "      <th>datetime</th>\n",
       "      <th>NGM:ETH.ZERO.SEK</th>\n",
       "      <th>OMXSTO:ETHEREUM_XBT</th>\n",
       "      <th>OMXSTO:ETHEREUM_XBTE</th>\n",
       "      <th>SIX:AETH.USD</th>\n",
       "      <th>XETR:ETHA</th>\n",
       "      <th>XETR:ZETH</th>\n",
       "    </tr>\n",
       "  </thead>\n",
       "  <tbody>\n",
       "    <tr>\n",
       "      <th>0</th>\n",
       "      <td>2022-01-03 09:00:00</td>\n",
       "      <td>7.292269e+05</td>\n",
       "      <td>4.777884e+06</td>\n",
       "      <td>4.754472e+06</td>\n",
       "      <td>0.000000e+00</td>\n",
       "      <td>0.000000e+00</td>\n",
       "      <td>0.000000e+00</td>\n",
       "    </tr>\n",
       "    <tr>\n",
       "      <th>1</th>\n",
       "      <td>2022-01-04 09:00:00</td>\n",
       "      <td>5.013261e+05</td>\n",
       "      <td>5.688569e+06</td>\n",
       "      <td>3.767360e+06</td>\n",
       "      <td>1.714390e+06</td>\n",
       "      <td>0.000000e+00</td>\n",
       "      <td>0.000000e+00</td>\n",
       "    </tr>\n",
       "    <tr>\n",
       "      <th>2</th>\n",
       "      <td>2022-01-05 09:00:00</td>\n",
       "      <td>2.327173e+05</td>\n",
       "      <td>1.948225e+06</td>\n",
       "      <td>1.655696e+06</td>\n",
       "      <td>4.894594e+05</td>\n",
       "      <td>7.872738e+05</td>\n",
       "      <td>5.989558e+06</td>\n",
       "    </tr>\n",
       "    <tr>\n",
       "      <th>3</th>\n",
       "      <td>2022-01-06 09:00:00</td>\n",
       "      <td>0.000000e+00</td>\n",
       "      <td>0.000000e+00</td>\n",
       "      <td>0.000000e+00</td>\n",
       "      <td>1.486022e+07</td>\n",
       "      <td>6.335006e+06</td>\n",
       "      <td>2.567518e+07</td>\n",
       "    </tr>\n",
       "    <tr>\n",
       "      <th>4</th>\n",
       "      <td>2022-01-07 09:00:00</td>\n",
       "      <td>2.835177e+06</td>\n",
       "      <td>2.767209e+07</td>\n",
       "      <td>2.311907e+07</td>\n",
       "      <td>8.057740e+06</td>\n",
       "      <td>6.391703e+06</td>\n",
       "      <td>9.465148e+06</td>\n",
       "    </tr>\n",
       "    <tr>\n",
       "      <th>...</th>\n",
       "      <td>...</td>\n",
       "      <td>...</td>\n",
       "      <td>...</td>\n",
       "      <td>...</td>\n",
       "      <td>...</td>\n",
       "      <td>...</td>\n",
       "      <td>...</td>\n",
       "    </tr>\n",
       "    <tr>\n",
       "      <th>97</th>\n",
       "      <td>2022-05-20 09:00:00</td>\n",
       "      <td>4.896458e+05</td>\n",
       "      <td>2.436161e+06</td>\n",
       "      <td>2.403346e+06</td>\n",
       "      <td>7.422766e+05</td>\n",
       "      <td>1.100055e+06</td>\n",
       "      <td>9.105028e+05</td>\n",
       "    </tr>\n",
       "    <tr>\n",
       "      <th>98</th>\n",
       "      <td>2022-05-23 09:00:00</td>\n",
       "      <td>1.437667e+05</td>\n",
       "      <td>2.276843e+06</td>\n",
       "      <td>4.730430e+06</td>\n",
       "      <td>1.688180e+06</td>\n",
       "      <td>2.159286e+06</td>\n",
       "      <td>1.067705e+06</td>\n",
       "    </tr>\n",
       "    <tr>\n",
       "      <th>99</th>\n",
       "      <td>2022-05-24 09:00:00</td>\n",
       "      <td>1.991196e+05</td>\n",
       "      <td>2.536257e+06</td>\n",
       "      <td>4.255608e+06</td>\n",
       "      <td>8.714731e+05</td>\n",
       "      <td>1.378264e+06</td>\n",
       "      <td>1.514316e+06</td>\n",
       "    </tr>\n",
       "    <tr>\n",
       "      <th>100</th>\n",
       "      <td>2022-05-25 09:00:00</td>\n",
       "      <td>1.815002e+05</td>\n",
       "      <td>1.350584e+06</td>\n",
       "      <td>1.426476e+06</td>\n",
       "      <td>1.005021e+06</td>\n",
       "      <td>1.711124e+05</td>\n",
       "      <td>9.337191e+05</td>\n",
       "    </tr>\n",
       "    <tr>\n",
       "      <th>101</th>\n",
       "      <td>2022-05-26 09:00:00</td>\n",
       "      <td>0.000000e+00</td>\n",
       "      <td>0.000000e+00</td>\n",
       "      <td>0.000000e+00</td>\n",
       "      <td>0.000000e+00</td>\n",
       "      <td>6.877667e+05</td>\n",
       "      <td>5.420675e+05</td>\n",
       "    </tr>\n",
       "  </tbody>\n",
       "</table>\n",
       "<p>102 rows × 7 columns</p>\n",
       "</div>"
      ],
      "text/plain": [
       "               datetime  NGM:ETH.ZERO.SEK  OMXSTO:ETHEREUM_XBT  \\\n",
       "0   2022-01-03 09:00:00      7.292269e+05         4.777884e+06   \n",
       "1   2022-01-04 09:00:00      5.013261e+05         5.688569e+06   \n",
       "2   2022-01-05 09:00:00      2.327173e+05         1.948225e+06   \n",
       "3   2022-01-06 09:00:00      0.000000e+00         0.000000e+00   \n",
       "4   2022-01-07 09:00:00      2.835177e+06         2.767209e+07   \n",
       "..                  ...               ...                  ...   \n",
       "97  2022-05-20 09:00:00      4.896458e+05         2.436161e+06   \n",
       "98  2022-05-23 09:00:00      1.437667e+05         2.276843e+06   \n",
       "99  2022-05-24 09:00:00      1.991196e+05         2.536257e+06   \n",
       "100 2022-05-25 09:00:00      1.815002e+05         1.350584e+06   \n",
       "101 2022-05-26 09:00:00      0.000000e+00         0.000000e+00   \n",
       "\n",
       "     OMXSTO:ETHEREUM_XBTE  SIX:AETH.USD     XETR:ETHA     XETR:ZETH  \n",
       "0            4.754472e+06  0.000000e+00  0.000000e+00  0.000000e+00  \n",
       "1            3.767360e+06  1.714390e+06  0.000000e+00  0.000000e+00  \n",
       "2            1.655696e+06  4.894594e+05  7.872738e+05  5.989558e+06  \n",
       "3            0.000000e+00  1.486022e+07  6.335006e+06  2.567518e+07  \n",
       "4            2.311907e+07  8.057740e+06  6.391703e+06  9.465148e+06  \n",
       "..                    ...           ...           ...           ...  \n",
       "97           2.403346e+06  7.422766e+05  1.100055e+06  9.105028e+05  \n",
       "98           4.730430e+06  1.688180e+06  2.159286e+06  1.067705e+06  \n",
       "99           4.255608e+06  8.714731e+05  1.378264e+06  1.514316e+06  \n",
       "100          1.426476e+06  1.005021e+06  1.711124e+05  9.337191e+05  \n",
       "101          0.000000e+00  0.000000e+00  6.877667e+05  5.420675e+05  \n",
       "\n",
       "[102 rows x 7 columns]"
      ]
     },
     "execution_count": 36,
     "metadata": {},
     "output_type": "execute_result"
    }
   ],
   "source": [
    "#ETH pivot table\n",
    "pivot_ETH = (\n",
    "    ETH_products_concated.pivot_table(index=['datetime'],\n",
    "                   columns='symbol',\n",
    "                   values='turnover',\n",
    "                   aggfunc='first')\n",
    "        .rename_axis(columns=None)\n",
    "        .reset_index()\n",
    ")\n",
    "pivot_ETH.fillna(0)"
   ]
  },
  {
   "cell_type": "code",
   "execution_count": 37,
   "metadata": {},
   "outputs": [
    {
     "data": {
      "text/html": [
       "<div>\n",
       "<style scoped>\n",
       "    .dataframe tbody tr th:only-of-type {\n",
       "        vertical-align: middle;\n",
       "    }\n",
       "\n",
       "    .dataframe tbody tr th {\n",
       "        vertical-align: top;\n",
       "    }\n",
       "\n",
       "    .dataframe thead th {\n",
       "        text-align: right;\n",
       "    }\n",
       "</style>\n",
       "<table border=\"1\" class=\"dataframe\">\n",
       "  <thead>\n",
       "    <tr style=\"text-align: right;\">\n",
       "      <th></th>\n",
       "      <th>datetime</th>\n",
       "      <th>NGM:VALOUR.CARDANO.SEK</th>\n",
       "      <th>SIX:AADA.USD</th>\n",
       "      <th>XETR:ADAA</th>\n",
       "      <th>XETR:RDAN</th>\n",
       "    </tr>\n",
       "  </thead>\n",
       "  <tbody>\n",
       "    <tr>\n",
       "      <th>0</th>\n",
       "      <td>2022-01-03 09:00:00</td>\n",
       "      <td>9.347956e+05</td>\n",
       "      <td>0.000000</td>\n",
       "      <td>0.000000</td>\n",
       "      <td>0.000000</td>\n",
       "    </tr>\n",
       "    <tr>\n",
       "      <th>1</th>\n",
       "      <td>2022-01-04 09:00:00</td>\n",
       "      <td>4.566186e+05</td>\n",
       "      <td>137286.534945</td>\n",
       "      <td>0.000000</td>\n",
       "      <td>0.000000</td>\n",
       "    </tr>\n",
       "    <tr>\n",
       "      <th>2</th>\n",
       "      <td>2022-01-05 09:00:00</td>\n",
       "      <td>2.352190e+05</td>\n",
       "      <td>278016.752585</td>\n",
       "      <td>98626.279199</td>\n",
       "      <td>18445.833353</td>\n",
       "    </tr>\n",
       "    <tr>\n",
       "      <th>3</th>\n",
       "      <td>2022-01-06 09:00:00</td>\n",
       "      <td>0.000000e+00</td>\n",
       "      <td>444536.673264</td>\n",
       "      <td>245184.294034</td>\n",
       "      <td>2965.702568</td>\n",
       "    </tr>\n",
       "    <tr>\n",
       "      <th>4</th>\n",
       "      <td>2022-01-07 09:00:00</td>\n",
       "      <td>1.637485e+06</td>\n",
       "      <td>452353.387500</td>\n",
       "      <td>125129.119101</td>\n",
       "      <td>5651.017739</td>\n",
       "    </tr>\n",
       "    <tr>\n",
       "      <th>...</th>\n",
       "      <td>...</td>\n",
       "      <td>...</td>\n",
       "      <td>...</td>\n",
       "      <td>...</td>\n",
       "      <td>...</td>\n",
       "    </tr>\n",
       "    <tr>\n",
       "      <th>97</th>\n",
       "      <td>2022-05-20 09:00:00</td>\n",
       "      <td>3.086907e+05</td>\n",
       "      <td>10937.850000</td>\n",
       "      <td>41399.240885</td>\n",
       "      <td>805.545707</td>\n",
       "    </tr>\n",
       "    <tr>\n",
       "      <th>98</th>\n",
       "      <td>2022-05-23 09:00:00</td>\n",
       "      <td>2.224234e+05</td>\n",
       "      <td>49410.207000</td>\n",
       "      <td>49602.192398</td>\n",
       "      <td>0.000000</td>\n",
       "    </tr>\n",
       "    <tr>\n",
       "      <th>99</th>\n",
       "      <td>2022-05-24 09:00:00</td>\n",
       "      <td>2.081732e+05</td>\n",
       "      <td>70425.212500</td>\n",
       "      <td>78755.821451</td>\n",
       "      <td>2.602866</td>\n",
       "    </tr>\n",
       "    <tr>\n",
       "      <th>100</th>\n",
       "      <td>2022-05-25 09:00:00</td>\n",
       "      <td>5.158968e+04</td>\n",
       "      <td>20345.192000</td>\n",
       "      <td>55413.168860</td>\n",
       "      <td>1260.047828</td>\n",
       "    </tr>\n",
       "    <tr>\n",
       "      <th>101</th>\n",
       "      <td>2022-05-26 09:00:00</td>\n",
       "      <td>0.000000e+00</td>\n",
       "      <td>0.000000</td>\n",
       "      <td>837.334431</td>\n",
       "      <td>0.000000</td>\n",
       "    </tr>\n",
       "  </tbody>\n",
       "</table>\n",
       "<p>102 rows × 5 columns</p>\n",
       "</div>"
      ],
      "text/plain": [
       "               datetime  NGM:VALOUR.CARDANO.SEK   SIX:AADA.USD      XETR:ADAA  \\\n",
       "0   2022-01-03 09:00:00            9.347956e+05       0.000000       0.000000   \n",
       "1   2022-01-04 09:00:00            4.566186e+05  137286.534945       0.000000   \n",
       "2   2022-01-05 09:00:00            2.352190e+05  278016.752585   98626.279199   \n",
       "3   2022-01-06 09:00:00            0.000000e+00  444536.673264  245184.294034   \n",
       "4   2022-01-07 09:00:00            1.637485e+06  452353.387500  125129.119101   \n",
       "..                  ...                     ...            ...            ...   \n",
       "97  2022-05-20 09:00:00            3.086907e+05   10937.850000   41399.240885   \n",
       "98  2022-05-23 09:00:00            2.224234e+05   49410.207000   49602.192398   \n",
       "99  2022-05-24 09:00:00            2.081732e+05   70425.212500   78755.821451   \n",
       "100 2022-05-25 09:00:00            5.158968e+04   20345.192000   55413.168860   \n",
       "101 2022-05-26 09:00:00            0.000000e+00       0.000000     837.334431   \n",
       "\n",
       "        XETR:RDAN  \n",
       "0        0.000000  \n",
       "1        0.000000  \n",
       "2    18445.833353  \n",
       "3     2965.702568  \n",
       "4     5651.017739  \n",
       "..            ...  \n",
       "97     805.545707  \n",
       "98       0.000000  \n",
       "99       2.602866  \n",
       "100   1260.047828  \n",
       "101      0.000000  \n",
       "\n",
       "[102 rows x 5 columns]"
      ]
     },
     "execution_count": 37,
     "metadata": {},
     "output_type": "execute_result"
    }
   ],
   "source": [
    "#ADA pivot table\n",
    "pivot_ADA = (\n",
    "    ADA_products_concated.pivot_table(index=['datetime'],\n",
    "                   columns='symbol',\n",
    "                   values='turnover',\n",
    "                   aggfunc='first')\n",
    "        .rename_axis(columns=None)\n",
    "        .reset_index()\n",
    ")\n",
    "pivot_ADA.fillna(0)\n"
   ]
  },
  {
   "cell_type": "code",
   "execution_count": 38,
   "metadata": {},
   "outputs": [
    {
     "data": {
      "text/html": [
       "<div>\n",
       "<style scoped>\n",
       "    .dataframe tbody tr th:only-of-type {\n",
       "        vertical-align: middle;\n",
       "    }\n",
       "\n",
       "    .dataframe tbody tr th {\n",
       "        vertical-align: top;\n",
       "    }\n",
       "\n",
       "    .dataframe thead th {\n",
       "        text-align: right;\n",
       "    }\n",
       "</style>\n",
       "<table border=\"1\" class=\"dataframe\">\n",
       "  <thead>\n",
       "    <tr style=\"text-align: right;\">\n",
       "      <th></th>\n",
       "      <th>datetime</th>\n",
       "      <th>NGM:VALOUR.SOLANA.SEK</th>\n",
       "      <th>SIX:ASOL.USD</th>\n",
       "      <th>XETR:ASOL</th>\n",
       "      <th>XETR:ESOL</th>\n",
       "    </tr>\n",
       "  </thead>\n",
       "  <tbody>\n",
       "    <tr>\n",
       "      <th>0</th>\n",
       "      <td>2022-01-03 09:00:00</td>\n",
       "      <td>1.676893e+06</td>\n",
       "      <td>0.000000e+00</td>\n",
       "      <td>0.000000</td>\n",
       "      <td>0.000000</td>\n",
       "    </tr>\n",
       "    <tr>\n",
       "      <th>1</th>\n",
       "      <td>2022-01-04 09:00:00</td>\n",
       "      <td>8.564215e+05</td>\n",
       "      <td>1.688297e+06</td>\n",
       "      <td>0.000000</td>\n",
       "      <td>0.000000</td>\n",
       "    </tr>\n",
       "    <tr>\n",
       "      <th>2</th>\n",
       "      <td>2022-01-05 09:00:00</td>\n",
       "      <td>3.790320e+05</td>\n",
       "      <td>1.188582e+06</td>\n",
       "      <td>402694.661520</td>\n",
       "      <td>0.000000</td>\n",
       "    </tr>\n",
       "    <tr>\n",
       "      <th>3</th>\n",
       "      <td>2022-01-06 09:00:00</td>\n",
       "      <td>0.000000e+00</td>\n",
       "      <td>2.375089e+06</td>\n",
       "      <td>661832.449905</td>\n",
       "      <td>1454.180213</td>\n",
       "    </tr>\n",
       "    <tr>\n",
       "      <th>4</th>\n",
       "      <td>2022-01-07 09:00:00</td>\n",
       "      <td>3.704210e+06</td>\n",
       "      <td>1.692069e+06</td>\n",
       "      <td>618666.022085</td>\n",
       "      <td>22401.724975</td>\n",
       "    </tr>\n",
       "    <tr>\n",
       "      <th>...</th>\n",
       "      <td>...</td>\n",
       "      <td>...</td>\n",
       "      <td>...</td>\n",
       "      <td>...</td>\n",
       "      <td>...</td>\n",
       "    </tr>\n",
       "    <tr>\n",
       "      <th>97</th>\n",
       "      <td>2022-05-20 09:00:00</td>\n",
       "      <td>4.519205e+05</td>\n",
       "      <td>2.054606e+05</td>\n",
       "      <td>110371.129121</td>\n",
       "      <td>0.000000</td>\n",
       "    </tr>\n",
       "    <tr>\n",
       "      <th>98</th>\n",
       "      <td>2022-05-23 09:00:00</td>\n",
       "      <td>4.252518e+05</td>\n",
       "      <td>1.019764e+05</td>\n",
       "      <td>333201.955253</td>\n",
       "      <td>2484.329066</td>\n",
       "    </tr>\n",
       "    <tr>\n",
       "      <th>99</th>\n",
       "      <td>2022-05-24 09:00:00</td>\n",
       "      <td>3.438808e+05</td>\n",
       "      <td>6.407726e+04</td>\n",
       "      <td>159518.188688</td>\n",
       "      <td>30.140680</td>\n",
       "    </tr>\n",
       "    <tr>\n",
       "      <th>100</th>\n",
       "      <td>2022-05-25 09:00:00</td>\n",
       "      <td>2.133753e+05</td>\n",
       "      <td>3.204667e+04</td>\n",
       "      <td>9385.701002</td>\n",
       "      <td>39.526640</td>\n",
       "    </tr>\n",
       "    <tr>\n",
       "      <th>101</th>\n",
       "      <td>2022-05-26 09:00:00</td>\n",
       "      <td>0.000000e+00</td>\n",
       "      <td>0.000000e+00</td>\n",
       "      <td>83366.858180</td>\n",
       "      <td>0.000000</td>\n",
       "    </tr>\n",
       "  </tbody>\n",
       "</table>\n",
       "<p>102 rows × 5 columns</p>\n",
       "</div>"
      ],
      "text/plain": [
       "               datetime  NGM:VALOUR.SOLANA.SEK  SIX:ASOL.USD      XETR:ASOL  \\\n",
       "0   2022-01-03 09:00:00           1.676893e+06  0.000000e+00       0.000000   \n",
       "1   2022-01-04 09:00:00           8.564215e+05  1.688297e+06       0.000000   \n",
       "2   2022-01-05 09:00:00           3.790320e+05  1.188582e+06  402694.661520   \n",
       "3   2022-01-06 09:00:00           0.000000e+00  2.375089e+06  661832.449905   \n",
       "4   2022-01-07 09:00:00           3.704210e+06  1.692069e+06  618666.022085   \n",
       "..                  ...                    ...           ...            ...   \n",
       "97  2022-05-20 09:00:00           4.519205e+05  2.054606e+05  110371.129121   \n",
       "98  2022-05-23 09:00:00           4.252518e+05  1.019764e+05  333201.955253   \n",
       "99  2022-05-24 09:00:00           3.438808e+05  6.407726e+04  159518.188688   \n",
       "100 2022-05-25 09:00:00           2.133753e+05  3.204667e+04    9385.701002   \n",
       "101 2022-05-26 09:00:00           0.000000e+00  0.000000e+00   83366.858180   \n",
       "\n",
       "        XETR:ESOL  \n",
       "0        0.000000  \n",
       "1        0.000000  \n",
       "2        0.000000  \n",
       "3     1454.180213  \n",
       "4    22401.724975  \n",
       "..            ...  \n",
       "97       0.000000  \n",
       "98    2484.329066  \n",
       "99      30.140680  \n",
       "100     39.526640  \n",
       "101      0.000000  \n",
       "\n",
       "[102 rows x 5 columns]"
      ]
     },
     "execution_count": 38,
     "metadata": {},
     "output_type": "execute_result"
    }
   ],
   "source": [
    "#SOL pivot table\n",
    "pivot_SOL = (\n",
    "    SOL_products_concated.pivot_table(index=['datetime'],\n",
    "                   columns='symbol',\n",
    "                   values='turnover',\n",
    "                   aggfunc='first')\n",
    "        .rename_axis(columns=None)\n",
    "        .reset_index()\n",
    ")\n",
    "pivot_SOL.fillna(0)\n"
   ]
  },
  {
   "cell_type": "code",
   "execution_count": 39,
   "metadata": {},
   "outputs": [
    {
     "data": {
      "text/html": [
       "<div>\n",
       "<style scoped>\n",
       "    .dataframe tbody tr th:only-of-type {\n",
       "        vertical-align: middle;\n",
       "    }\n",
       "\n",
       "    .dataframe tbody tr th {\n",
       "        vertical-align: top;\n",
       "    }\n",
       "\n",
       "    .dataframe thead th {\n",
       "        text-align: right;\n",
       "    }\n",
       "</style>\n",
       "<table border=\"1\" class=\"dataframe\">\n",
       "  <thead>\n",
       "    <tr style=\"text-align: right;\">\n",
       "      <th></th>\n",
       "      <th>datetime</th>\n",
       "      <th>NGM:VALOUR.POLKADOT.SEK</th>\n",
       "      <th>SIX:ADOT.USD</th>\n",
       "      <th>XETR:ADOT</th>\n",
       "      <th>XETR:PLKA</th>\n",
       "    </tr>\n",
       "  </thead>\n",
       "  <tbody>\n",
       "    <tr>\n",
       "      <th>0</th>\n",
       "      <td>2022-01-03 09:00:00</td>\n",
       "      <td>1.438059e+06</td>\n",
       "      <td>0.000000e+00</td>\n",
       "      <td>0.000000</td>\n",
       "      <td>0.000000</td>\n",
       "    </tr>\n",
       "    <tr>\n",
       "      <th>1</th>\n",
       "      <td>2022-01-04 09:00:00</td>\n",
       "      <td>6.558625e+05</td>\n",
       "      <td>7.971452e+05</td>\n",
       "      <td>0.000000</td>\n",
       "      <td>0.000000</td>\n",
       "    </tr>\n",
       "    <tr>\n",
       "      <th>2</th>\n",
       "      <td>2022-01-05 09:00:00</td>\n",
       "      <td>1.565762e+05</td>\n",
       "      <td>5.659216e+05</td>\n",
       "      <td>375657.396712</td>\n",
       "      <td>0.000000</td>\n",
       "    </tr>\n",
       "    <tr>\n",
       "      <th>3</th>\n",
       "      <td>2022-01-06 09:00:00</td>\n",
       "      <td>0.000000e+00</td>\n",
       "      <td>1.850739e+06</td>\n",
       "      <td>260654.436703</td>\n",
       "      <td>0.000000</td>\n",
       "    </tr>\n",
       "    <tr>\n",
       "      <th>4</th>\n",
       "      <td>2022-01-07 09:00:00</td>\n",
       "      <td>1.241476e+06</td>\n",
       "      <td>5.247207e+05</td>\n",
       "      <td>148695.743497</td>\n",
       "      <td>0.000000</td>\n",
       "    </tr>\n",
       "    <tr>\n",
       "      <th>...</th>\n",
       "      <td>...</td>\n",
       "      <td>...</td>\n",
       "      <td>...</td>\n",
       "      <td>...</td>\n",
       "      <td>...</td>\n",
       "    </tr>\n",
       "    <tr>\n",
       "      <th>97</th>\n",
       "      <td>2022-05-20 09:00:00</td>\n",
       "      <td>9.251319e+04</td>\n",
       "      <td>1.070830e+05</td>\n",
       "      <td>78638.335240</td>\n",
       "      <td>0.000000</td>\n",
       "    </tr>\n",
       "    <tr>\n",
       "      <th>98</th>\n",
       "      <td>2022-05-23 09:00:00</td>\n",
       "      <td>1.290139e+05</td>\n",
       "      <td>1.989180e+04</td>\n",
       "      <td>13538.943350</td>\n",
       "      <td>5712.715903</td>\n",
       "    </tr>\n",
       "    <tr>\n",
       "      <th>99</th>\n",
       "      <td>2022-05-24 09:00:00</td>\n",
       "      <td>6.606148e+04</td>\n",
       "      <td>2.517697e+04</td>\n",
       "      <td>40431.590896</td>\n",
       "      <td>115.119259</td>\n",
       "    </tr>\n",
       "    <tr>\n",
       "      <th>100</th>\n",
       "      <td>2022-05-25 09:00:00</td>\n",
       "      <td>3.239839e+04</td>\n",
       "      <td>7.763936e+03</td>\n",
       "      <td>6926.737325</td>\n",
       "      <td>30.381599</td>\n",
       "    </tr>\n",
       "    <tr>\n",
       "      <th>101</th>\n",
       "      <td>2022-05-26 09:00:00</td>\n",
       "      <td>0.000000e+00</td>\n",
       "      <td>0.000000e+00</td>\n",
       "      <td>3233.525847</td>\n",
       "      <td>2.442638</td>\n",
       "    </tr>\n",
       "  </tbody>\n",
       "</table>\n",
       "<p>102 rows × 5 columns</p>\n",
       "</div>"
      ],
      "text/plain": [
       "               datetime  NGM:VALOUR.POLKADOT.SEK  SIX:ADOT.USD      XETR:ADOT  \\\n",
       "0   2022-01-03 09:00:00             1.438059e+06  0.000000e+00       0.000000   \n",
       "1   2022-01-04 09:00:00             6.558625e+05  7.971452e+05       0.000000   \n",
       "2   2022-01-05 09:00:00             1.565762e+05  5.659216e+05  375657.396712   \n",
       "3   2022-01-06 09:00:00             0.000000e+00  1.850739e+06  260654.436703   \n",
       "4   2022-01-07 09:00:00             1.241476e+06  5.247207e+05  148695.743497   \n",
       "..                  ...                      ...           ...            ...   \n",
       "97  2022-05-20 09:00:00             9.251319e+04  1.070830e+05   78638.335240   \n",
       "98  2022-05-23 09:00:00             1.290139e+05  1.989180e+04   13538.943350   \n",
       "99  2022-05-24 09:00:00             6.606148e+04  2.517697e+04   40431.590896   \n",
       "100 2022-05-25 09:00:00             3.239839e+04  7.763936e+03    6926.737325   \n",
       "101 2022-05-26 09:00:00             0.000000e+00  0.000000e+00    3233.525847   \n",
       "\n",
       "       XETR:PLKA  \n",
       "0       0.000000  \n",
       "1       0.000000  \n",
       "2       0.000000  \n",
       "3       0.000000  \n",
       "4       0.000000  \n",
       "..           ...  \n",
       "97      0.000000  \n",
       "98   5712.715903  \n",
       "99    115.119259  \n",
       "100    30.381599  \n",
       "101     2.442638  \n",
       "\n",
       "[102 rows x 5 columns]"
      ]
     },
     "execution_count": 39,
     "metadata": {},
     "output_type": "execute_result"
    }
   ],
   "source": [
    "#DOT pivot table\n",
    "pivot_DOT = (\n",
    "    DOT_products_concated.pivot_table(index=['datetime'],\n",
    "                   columns='symbol',\n",
    "                   values='turnover',\n",
    "                   aggfunc='first')\n",
    "        .rename_axis(columns=None)\n",
    "        .reset_index()\n",
    ")\n",
    "pivot_DOT.fillna(0)\n"
   ]
  },
  {
   "cell_type": "code",
   "execution_count": 44,
   "metadata": {},
   "outputs": [
    {
     "data": {
      "text/html": [
       "<div>\n",
       "<style scoped>\n",
       "    .dataframe tbody tr th:only-of-type {\n",
       "        vertical-align: middle;\n",
       "    }\n",
       "\n",
       "    .dataframe tbody tr th {\n",
       "        vertical-align: top;\n",
       "    }\n",
       "\n",
       "    .dataframe thead th {\n",
       "        text-align: right;\n",
       "    }\n",
       "</style>\n",
       "<table border=\"1\" class=\"dataframe\">\n",
       "  <thead>\n",
       "    <tr style=\"text-align: right;\">\n",
       "      <th></th>\n",
       "      <th>datetime</th>\n",
       "      <th>NGM:ETH.ZERO.SEK</th>\n",
       "      <th>OMXSTO:ETHEREUM_XBT</th>\n",
       "      <th>OMXSTO:ETHEREUM_XBTE</th>\n",
       "      <th>SIX:AETH.USD</th>\n",
       "      <th>XETR:ETHA</th>\n",
       "      <th>XETR:ZETH</th>\n",
       "    </tr>\n",
       "  </thead>\n",
       "  <tbody>\n",
       "    <tr>\n",
       "      <th>0</th>\n",
       "      <td>2022-01-03 09:00:00</td>\n",
       "      <td>7.292269e+05</td>\n",
       "      <td>4.777884e+06</td>\n",
       "      <td>4.754472e+06</td>\n",
       "      <td>0.000000e+00</td>\n",
       "      <td>0.000000e+00</td>\n",
       "      <td>0.000000e+00</td>\n",
       "    </tr>\n",
       "    <tr>\n",
       "      <th>1</th>\n",
       "      <td>2022-01-04 09:00:00</td>\n",
       "      <td>5.013261e+05</td>\n",
       "      <td>5.688569e+06</td>\n",
       "      <td>3.767360e+06</td>\n",
       "      <td>1.714390e+06</td>\n",
       "      <td>0.000000e+00</td>\n",
       "      <td>0.000000e+00</td>\n",
       "    </tr>\n",
       "    <tr>\n",
       "      <th>2</th>\n",
       "      <td>2022-01-05 09:00:00</td>\n",
       "      <td>2.327173e+05</td>\n",
       "      <td>1.948225e+06</td>\n",
       "      <td>1.655696e+06</td>\n",
       "      <td>4.894594e+05</td>\n",
       "      <td>7.872738e+05</td>\n",
       "      <td>5.989558e+06</td>\n",
       "    </tr>\n",
       "    <tr>\n",
       "      <th>3</th>\n",
       "      <td>2022-01-06 09:00:00</td>\n",
       "      <td>0.000000e+00</td>\n",
       "      <td>0.000000e+00</td>\n",
       "      <td>0.000000e+00</td>\n",
       "      <td>1.486022e+07</td>\n",
       "      <td>6.335006e+06</td>\n",
       "      <td>2.567518e+07</td>\n",
       "    </tr>\n",
       "    <tr>\n",
       "      <th>4</th>\n",
       "      <td>2022-01-07 09:00:00</td>\n",
       "      <td>2.835177e+06</td>\n",
       "      <td>2.767209e+07</td>\n",
       "      <td>2.311907e+07</td>\n",
       "      <td>8.057740e+06</td>\n",
       "      <td>6.391703e+06</td>\n",
       "      <td>9.465148e+06</td>\n",
       "    </tr>\n",
       "    <tr>\n",
       "      <th>...</th>\n",
       "      <td>...</td>\n",
       "      <td>...</td>\n",
       "      <td>...</td>\n",
       "      <td>...</td>\n",
       "      <td>...</td>\n",
       "      <td>...</td>\n",
       "      <td>...</td>\n",
       "    </tr>\n",
       "    <tr>\n",
       "      <th>97</th>\n",
       "      <td>2022-05-20 09:00:00</td>\n",
       "      <td>4.896458e+05</td>\n",
       "      <td>2.436161e+06</td>\n",
       "      <td>2.403346e+06</td>\n",
       "      <td>7.422766e+05</td>\n",
       "      <td>1.100055e+06</td>\n",
       "      <td>9.105028e+05</td>\n",
       "    </tr>\n",
       "    <tr>\n",
       "      <th>98</th>\n",
       "      <td>2022-05-23 09:00:00</td>\n",
       "      <td>1.437667e+05</td>\n",
       "      <td>2.276843e+06</td>\n",
       "      <td>4.730430e+06</td>\n",
       "      <td>1.688180e+06</td>\n",
       "      <td>2.159286e+06</td>\n",
       "      <td>1.067705e+06</td>\n",
       "    </tr>\n",
       "    <tr>\n",
       "      <th>99</th>\n",
       "      <td>2022-05-24 09:00:00</td>\n",
       "      <td>1.991196e+05</td>\n",
       "      <td>2.536257e+06</td>\n",
       "      <td>4.255608e+06</td>\n",
       "      <td>8.714731e+05</td>\n",
       "      <td>1.378264e+06</td>\n",
       "      <td>1.514316e+06</td>\n",
       "    </tr>\n",
       "    <tr>\n",
       "      <th>100</th>\n",
       "      <td>2022-05-25 09:00:00</td>\n",
       "      <td>1.815002e+05</td>\n",
       "      <td>1.350584e+06</td>\n",
       "      <td>1.426476e+06</td>\n",
       "      <td>1.005021e+06</td>\n",
       "      <td>1.711124e+05</td>\n",
       "      <td>9.337191e+05</td>\n",
       "    </tr>\n",
       "    <tr>\n",
       "      <th>101</th>\n",
       "      <td>2022-05-26 09:00:00</td>\n",
       "      <td>0.000000e+00</td>\n",
       "      <td>0.000000e+00</td>\n",
       "      <td>0.000000e+00</td>\n",
       "      <td>0.000000e+00</td>\n",
       "      <td>6.877667e+05</td>\n",
       "      <td>5.420675e+05</td>\n",
       "    </tr>\n",
       "  </tbody>\n",
       "</table>\n",
       "<p>102 rows × 7 columns</p>\n",
       "</div>"
      ],
      "text/plain": [
       "               datetime  NGM:ETH.ZERO.SEK  OMXSTO:ETHEREUM_XBT  \\\n",
       "0   2022-01-03 09:00:00      7.292269e+05         4.777884e+06   \n",
       "1   2022-01-04 09:00:00      5.013261e+05         5.688569e+06   \n",
       "2   2022-01-05 09:00:00      2.327173e+05         1.948225e+06   \n",
       "3   2022-01-06 09:00:00      0.000000e+00         0.000000e+00   \n",
       "4   2022-01-07 09:00:00      2.835177e+06         2.767209e+07   \n",
       "..                  ...               ...                  ...   \n",
       "97  2022-05-20 09:00:00      4.896458e+05         2.436161e+06   \n",
       "98  2022-05-23 09:00:00      1.437667e+05         2.276843e+06   \n",
       "99  2022-05-24 09:00:00      1.991196e+05         2.536257e+06   \n",
       "100 2022-05-25 09:00:00      1.815002e+05         1.350584e+06   \n",
       "101 2022-05-26 09:00:00      0.000000e+00         0.000000e+00   \n",
       "\n",
       "     OMXSTO:ETHEREUM_XBTE  SIX:AETH.USD     XETR:ETHA     XETR:ZETH  \n",
       "0            4.754472e+06  0.000000e+00  0.000000e+00  0.000000e+00  \n",
       "1            3.767360e+06  1.714390e+06  0.000000e+00  0.000000e+00  \n",
       "2            1.655696e+06  4.894594e+05  7.872738e+05  5.989558e+06  \n",
       "3            0.000000e+00  1.486022e+07  6.335006e+06  2.567518e+07  \n",
       "4            2.311907e+07  8.057740e+06  6.391703e+06  9.465148e+06  \n",
       "..                    ...           ...           ...           ...  \n",
       "97           2.403346e+06  7.422766e+05  1.100055e+06  9.105028e+05  \n",
       "98           4.730430e+06  1.688180e+06  2.159286e+06  1.067705e+06  \n",
       "99           4.255608e+06  8.714731e+05  1.378264e+06  1.514316e+06  \n",
       "100          1.426476e+06  1.005021e+06  1.711124e+05  9.337191e+05  \n",
       "101          0.000000e+00  0.000000e+00  6.877667e+05  5.420675e+05  \n",
       "\n",
       "[102 rows x 7 columns]"
      ]
     },
     "execution_count": 44,
     "metadata": {},
     "output_type": "execute_result"
    }
   ],
   "source": [
    "pivot_ETH.fillna(0)"
   ]
  },
  {
   "cell_type": "code",
   "execution_count": 46,
   "metadata": {},
   "outputs": [
    {
     "data": {
      "application/vnd.plotly.v1+json": {
       "config": {
        "plotlyServerURL": "https://plot.ly"
       },
       "data": [
        {
         "alignmentgroup": "True",
         "hovertemplate": "variable=NGM:ETH.ZERO.SEK<br>datetime=%{x}<br>value=%{y}<extra></extra>",
         "legendgroup": "NGM:ETH.ZERO.SEK",
         "marker": {
          "color": "#636efa",
          "pattern": {
           "shape": ""
          }
         },
         "name": "NGM:ETH.ZERO.SEK",
         "offsetgroup": "NGM:ETH.ZERO.SEK",
         "orientation": "v",
         "showlegend": true,
         "textposition": "auto",
         "type": "bar",
         "x": [
          "2022-01-03T09:00:00",
          "2022-01-04T09:00:00",
          "2022-01-05T09:00:00",
          "2022-01-06T09:00:00",
          "2022-01-07T09:00:00",
          "2022-01-10T09:00:00",
          "2022-01-11T09:00:00",
          "2022-01-12T09:00:00",
          "2022-01-13T09:00:00",
          "2022-01-14T09:00:00",
          "2022-01-17T09:00:00",
          "2022-01-18T09:00:00",
          "2022-01-19T09:00:00",
          "2022-01-20T09:00:00",
          "2022-01-21T09:00:00",
          "2022-01-24T09:00:00",
          "2022-01-25T09:00:00",
          "2022-01-26T09:00:00",
          "2022-01-27T09:00:00",
          "2022-01-28T09:00:00",
          "2022-01-31T09:00:00",
          "2022-02-01T09:00:00",
          "2022-02-02T09:00:00",
          "2022-02-03T09:00:00",
          "2022-02-04T09:00:00",
          "2022-02-07T09:00:00",
          "2022-02-08T09:00:00",
          "2022-02-09T09:00:00",
          "2022-02-10T09:00:00",
          "2022-02-11T09:00:00",
          "2022-02-14T09:00:00",
          "2022-02-15T09:00:00",
          "2022-02-16T09:00:00",
          "2022-02-17T09:00:00",
          "2022-02-18T09:00:00",
          "2022-02-21T09:00:00",
          "2022-02-22T09:00:00",
          "2022-02-23T09:00:00",
          "2022-02-24T09:00:00",
          "2022-02-25T09:00:00",
          "2022-02-28T09:00:00",
          "2022-03-01T09:00:00",
          "2022-03-02T09:00:00",
          "2022-03-03T09:00:00",
          "2022-03-04T09:00:00",
          "2022-03-07T09:00:00",
          "2022-03-08T09:00:00",
          "2022-03-09T09:00:00",
          "2022-03-10T09:00:00",
          "2022-03-11T09:00:00",
          "2022-03-14T09:00:00",
          "2022-03-15T09:00:00",
          "2022-03-16T09:00:00",
          "2022-03-17T09:00:00",
          "2022-03-18T09:00:00",
          "2022-03-21T09:00:00",
          "2022-03-22T09:00:00",
          "2022-03-23T09:00:00",
          "2022-03-24T09:00:00",
          "2022-03-25T09:00:00",
          "2022-03-28T09:00:00",
          "2022-03-29T09:00:00",
          "2022-03-30T09:00:00",
          "2022-03-31T09:00:00",
          "2022-04-01T09:00:00",
          "2022-04-04T09:00:00",
          "2022-04-05T09:00:00",
          "2022-04-06T09:00:00",
          "2022-04-07T09:00:00",
          "2022-04-08T09:00:00",
          "2022-04-11T09:00:00",
          "2022-04-12T09:00:00",
          "2022-04-13T09:00:00",
          "2022-04-14T09:00:00",
          "2022-04-19T09:00:00",
          "2022-04-20T09:00:00",
          "2022-04-21T09:00:00",
          "2022-04-22T09:00:00",
          "2022-04-25T09:00:00",
          "2022-04-26T09:00:00",
          "2022-04-27T09:00:00",
          "2022-04-28T09:00:00",
          "2022-04-29T09:00:00",
          "2022-05-02T09:00:00",
          "2022-05-03T09:00:00",
          "2022-05-04T09:00:00",
          "2022-05-05T09:00:00",
          "2022-05-06T09:00:00",
          "2022-05-09T09:00:00",
          "2022-05-10T09:00:00",
          "2022-05-11T09:00:00",
          "2022-05-12T09:00:00",
          "2022-05-13T09:00:00",
          "2022-05-16T09:00:00",
          "2022-05-17T09:00:00",
          "2022-05-18T09:00:00",
          "2022-05-19T09:00:00",
          "2022-05-20T09:00:00",
          "2022-05-23T09:00:00",
          "2022-05-24T09:00:00",
          "2022-05-25T09:00:00",
          "2022-05-26T09:00:00"
         ],
         "xaxis": "x",
         "y": [
          729226.9285925154,
          501326.1272234307,
          232717.32866344939,
          null,
          2835177.044134602,
          1953588.0070983674,
          830380.9605504881,
          1703197.257396719,
          1335655.7931870657,
          2078108.9226449926,
          342620.8992724585,
          461815.99164829066,
          579242.3458967922,
          268631.59289328364,
          1666257.0416743122,
          2448325.8665162027,
          848009.5022168079,
          1172891.8714925312,
          543991.9515837785,
          888108.0286008613,
          438017.17683533725,
          1208850.9188999864,
          1277954.5385584335,
          649614.1424320401,
          511429.8645896867,
          2411516.456897438,
          778887.3818662715,
          682925.8426987317,
          2008089.940680953,
          681551.809852125,
          2195305.6671127407,
          913754.2728823024,
          737929.6281639419,
          573612.1535395811,
          476173.57386286027,
          1240716.103198326,
          1281232.6864820137,
          371345.89768830227,
          1281766.131603018,
          763050.9090860125,
          395867.4133649782,
          1810969.3758269066,
          920562.0990462232,
          502801.11703920126,
          812167.4581528021,
          2489552.8345581456,
          1389891.6483698227,
          1112717.1180341165,
          352057.32350222365,
          421008.08260853804,
          362846.55588499905,
          236078.1135448758,
          745084.184148173,
          1028218.7528775621,
          981648.8339067131,
          277261.7159004881,
          489621.5009712496,
          233775.47338313077,
          399575.9806222541,
          709413.5328286457,
          1083338.8970103606,
          996915.2364075711,
          365581.0269684965,
          484093.8304298629,
          923220.6865667485,
          629302.9470227879,
          674774.3969901879,
          957394.4298610827,
          929896.8055956587,
          1017185.0786660352,
          1211790.497867103,
          404565.18195773056,
          291225.6783005038,
          473568.0902199154,
          449044.0151567611,
          385323.74558677676,
          270780.6874611339,
          212993.27749130162,
          594078.4810109856,
          447916.4015528962,
          246201.62533031407,
          491009.61637312756,
          239358.01716990198,
          471058.08515751717,
          126001.77254042389,
          226367.7276283447,
          201256.7344298822,
          852960.9577290306,
          1267928.496409072,
          580554.4012147973,
          1045299.8286866006,
          1179574.0819143502,
          530748.9489256138,
          262719.348285793,
          474464.1792770215,
          285220.1189858705,
          823544.3898236004,
          489645.7871435615,
          143766.7294834876,
          199119.61025159614,
          181500.1884026903,
          null
         ],
         "yaxis": "y"
        },
        {
         "alignmentgroup": "True",
         "hovertemplate": "variable=OMXSTO:ETHEREUM_XBT<br>datetime=%{x}<br>value=%{y}<extra></extra>",
         "legendgroup": "OMXSTO:ETHEREUM_XBT",
         "marker": {
          "color": "#EF553B",
          "pattern": {
           "shape": ""
          }
         },
         "name": "OMXSTO:ETHEREUM_XBT",
         "offsetgroup": "OMXSTO:ETHEREUM_XBT",
         "orientation": "v",
         "showlegend": true,
         "textposition": "auto",
         "type": "bar",
         "x": [
          "2022-01-03T09:00:00",
          "2022-01-04T09:00:00",
          "2022-01-05T09:00:00",
          "2022-01-06T09:00:00",
          "2022-01-07T09:00:00",
          "2022-01-10T09:00:00",
          "2022-01-11T09:00:00",
          "2022-01-12T09:00:00",
          "2022-01-13T09:00:00",
          "2022-01-14T09:00:00",
          "2022-01-17T09:00:00",
          "2022-01-18T09:00:00",
          "2022-01-19T09:00:00",
          "2022-01-20T09:00:00",
          "2022-01-21T09:00:00",
          "2022-01-24T09:00:00",
          "2022-01-25T09:00:00",
          "2022-01-26T09:00:00",
          "2022-01-27T09:00:00",
          "2022-01-28T09:00:00",
          "2022-01-31T09:00:00",
          "2022-02-01T09:00:00",
          "2022-02-02T09:00:00",
          "2022-02-03T09:00:00",
          "2022-02-04T09:00:00",
          "2022-02-07T09:00:00",
          "2022-02-08T09:00:00",
          "2022-02-09T09:00:00",
          "2022-02-10T09:00:00",
          "2022-02-11T09:00:00",
          "2022-02-14T09:00:00",
          "2022-02-15T09:00:00",
          "2022-02-16T09:00:00",
          "2022-02-17T09:00:00",
          "2022-02-18T09:00:00",
          "2022-02-21T09:00:00",
          "2022-02-22T09:00:00",
          "2022-02-23T09:00:00",
          "2022-02-24T09:00:00",
          "2022-02-25T09:00:00",
          "2022-02-28T09:00:00",
          "2022-03-01T09:00:00",
          "2022-03-02T09:00:00",
          "2022-03-03T09:00:00",
          "2022-03-04T09:00:00",
          "2022-03-07T09:00:00",
          "2022-03-08T09:00:00",
          "2022-03-09T09:00:00",
          "2022-03-10T09:00:00",
          "2022-03-11T09:00:00",
          "2022-03-14T09:00:00",
          "2022-03-15T09:00:00",
          "2022-03-16T09:00:00",
          "2022-03-17T09:00:00",
          "2022-03-18T09:00:00",
          "2022-03-21T09:00:00",
          "2022-03-22T09:00:00",
          "2022-03-23T09:00:00",
          "2022-03-24T09:00:00",
          "2022-03-25T09:00:00",
          "2022-03-28T09:00:00",
          "2022-03-29T09:00:00",
          "2022-03-30T09:00:00",
          "2022-03-31T09:00:00",
          "2022-04-01T09:00:00",
          "2022-04-04T09:00:00",
          "2022-04-05T09:00:00",
          "2022-04-06T09:00:00",
          "2022-04-07T09:00:00",
          "2022-04-08T09:00:00",
          "2022-04-11T09:00:00",
          "2022-04-12T09:00:00",
          "2022-04-13T09:00:00",
          "2022-04-14T09:00:00",
          "2022-04-19T09:00:00",
          "2022-04-20T09:00:00",
          "2022-04-21T09:00:00",
          "2022-04-22T09:00:00",
          "2022-04-25T09:00:00",
          "2022-04-26T09:00:00",
          "2022-04-27T09:00:00",
          "2022-04-28T09:00:00",
          "2022-04-29T09:00:00",
          "2022-05-02T09:00:00",
          "2022-05-03T09:00:00",
          "2022-05-04T09:00:00",
          "2022-05-05T09:00:00",
          "2022-05-06T09:00:00",
          "2022-05-09T09:00:00",
          "2022-05-10T09:00:00",
          "2022-05-11T09:00:00",
          "2022-05-12T09:00:00",
          "2022-05-13T09:00:00",
          "2022-05-16T09:00:00",
          "2022-05-17T09:00:00",
          "2022-05-18T09:00:00",
          "2022-05-19T09:00:00",
          "2022-05-20T09:00:00",
          "2022-05-23T09:00:00",
          "2022-05-24T09:00:00",
          "2022-05-25T09:00:00",
          "2022-05-26T09:00:00"
         ],
         "xaxis": "x",
         "y": [
          4777883.618049788,
          5688569.297719328,
          1948224.927462063,
          null,
          27672090.04735798,
          15433474.518518161,
          7181589.05284904,
          9233181.890885849,
          5206323.139007171,
          4097956.411354029,
          3859089.2304085363,
          7054968.367629268,
          9997358.384021617,
          4293680.45881556,
          19973096.381051082,
          29014430.258897617,
          12899897.804065632,
          10223969.741053024,
          5372188.864760718,
          5272066.648441391,
          4130572.6516275825,
          10198191.538492376,
          5842959.404791947,
          3711383.8961056024,
          8119223.504205107,
          11041644.455866154,
          7825232.3334426815,
          6070012.086640437,
          11151478.661013678,
          7573618.420399724,
          13165658.065676305,
          9352488.865274161,
          5363205.148986933,
          9108818.681214945,
          9769905.979239091,
          9775881.175090617,
          7475024.113480082,
          4091209.763464057,
          18287495.30537748,
          8294702.780372985,
          4088121.017216846,
          9108785.171278263,
          6374186.879545995,
          5258475.244750296,
          5592133.014697114,
          32852605.477702457,
          7009899.230466526,
          6617681.79036957,
          4220652.366369254,
          4171139.1188468407,
          8201566.997469213,
          3743528.574354531,
          2124049.0493904157,
          2802912.6803259733,
          5726874.960530036,
          3680676.876236387,
          3625822.406426223,
          3097226.0747534777,
          3901655.447988255,
          4503036.129311864,
          9788048.994423853,
          8668601.081357436,
          7450334.141846405,
          5162721.782090221,
          3584119.6738605187,
          5743009.129322775,
          4882398.00883619,
          7458068.308466144,
          5968867.464443259,
          7620245.982591086,
          7379931.995098114,
          4821003.892640622,
          2512427.9934278075,
          1573733.877430001,
          6738741.292652824,
          2580389.449006029,
          2165077.210708743,
          6127105.4301777575,
          6866881.941294998,
          6575309.668660504,
          5954621.485573901,
          3839341.482861093,
          3664918.6043757875,
          4714495.15934694,
          4421887.7331123175,
          3256666.3562742188,
          7304587.5231726775,
          7433405.4005462965,
          8485841.217206657,
          5676871.044720745,
          11592547.222440835,
          18066949.370413773,
          5546562.980666972,
          3672790.596566903,
          2563522.2159590004,
          5025748.560185289,
          4623938.603871171,
          2436161.344802315,
          2276843.2014283747,
          2536256.7093426506,
          1350583.866454442,
          null
         ],
         "yaxis": "y"
        },
        {
         "alignmentgroup": "True",
         "hovertemplate": "variable=XETR:ETHA<br>datetime=%{x}<br>value=%{y}<extra></extra>",
         "legendgroup": "XETR:ETHA",
         "marker": {
          "color": "#00cc96",
          "pattern": {
           "shape": ""
          }
         },
         "name": "XETR:ETHA",
         "offsetgroup": "XETR:ETHA",
         "orientation": "v",
         "showlegend": true,
         "textposition": "auto",
         "type": "bar",
         "x": [
          "2022-01-03T09:00:00",
          "2022-01-04T09:00:00",
          "2022-01-05T09:00:00",
          "2022-01-06T09:00:00",
          "2022-01-07T09:00:00",
          "2022-01-10T09:00:00",
          "2022-01-11T09:00:00",
          "2022-01-12T09:00:00",
          "2022-01-13T09:00:00",
          "2022-01-14T09:00:00",
          "2022-01-17T09:00:00",
          "2022-01-18T09:00:00",
          "2022-01-19T09:00:00",
          "2022-01-20T09:00:00",
          "2022-01-21T09:00:00",
          "2022-01-24T09:00:00",
          "2022-01-25T09:00:00",
          "2022-01-26T09:00:00",
          "2022-01-27T09:00:00",
          "2022-01-28T09:00:00",
          "2022-01-31T09:00:00",
          "2022-02-01T09:00:00",
          "2022-02-02T09:00:00",
          "2022-02-03T09:00:00",
          "2022-02-04T09:00:00",
          "2022-02-07T09:00:00",
          "2022-02-08T09:00:00",
          "2022-02-09T09:00:00",
          "2022-02-10T09:00:00",
          "2022-02-11T09:00:00",
          "2022-02-14T09:00:00",
          "2022-02-15T09:00:00",
          "2022-02-16T09:00:00",
          "2022-02-17T09:00:00",
          "2022-02-18T09:00:00",
          "2022-02-21T09:00:00",
          "2022-02-22T09:00:00",
          "2022-02-23T09:00:00",
          "2022-02-24T09:00:00",
          "2022-02-25T09:00:00",
          "2022-02-28T09:00:00",
          "2022-03-01T09:00:00",
          "2022-03-02T09:00:00",
          "2022-03-03T09:00:00",
          "2022-03-04T09:00:00",
          "2022-03-07T09:00:00",
          "2022-03-08T09:00:00",
          "2022-03-09T09:00:00",
          "2022-03-10T09:00:00",
          "2022-03-11T09:00:00",
          "2022-03-14T09:00:00",
          "2022-03-15T09:00:00",
          "2022-03-16T09:00:00",
          "2022-03-17T09:00:00",
          "2022-03-18T09:00:00",
          "2022-03-21T09:00:00",
          "2022-03-22T09:00:00",
          "2022-03-23T09:00:00",
          "2022-03-24T09:00:00",
          "2022-03-25T09:00:00",
          "2022-03-28T09:00:00",
          "2022-03-29T09:00:00",
          "2022-03-30T09:00:00",
          "2022-03-31T09:00:00",
          "2022-04-01T09:00:00",
          "2022-04-04T09:00:00",
          "2022-04-05T09:00:00",
          "2022-04-06T09:00:00",
          "2022-04-07T09:00:00",
          "2022-04-08T09:00:00",
          "2022-04-11T09:00:00",
          "2022-04-12T09:00:00",
          "2022-04-13T09:00:00",
          "2022-04-14T09:00:00",
          "2022-04-19T09:00:00",
          "2022-04-20T09:00:00",
          "2022-04-21T09:00:00",
          "2022-04-22T09:00:00",
          "2022-04-25T09:00:00",
          "2022-04-26T09:00:00",
          "2022-04-27T09:00:00",
          "2022-04-28T09:00:00",
          "2022-04-29T09:00:00",
          "2022-05-02T09:00:00",
          "2022-05-03T09:00:00",
          "2022-05-04T09:00:00",
          "2022-05-05T09:00:00",
          "2022-05-06T09:00:00",
          "2022-05-09T09:00:00",
          "2022-05-10T09:00:00",
          "2022-05-11T09:00:00",
          "2022-05-12T09:00:00",
          "2022-05-13T09:00:00",
          "2022-05-16T09:00:00",
          "2022-05-17T09:00:00",
          "2022-05-18T09:00:00",
          "2022-05-19T09:00:00",
          "2022-05-20T09:00:00",
          "2022-05-23T09:00:00",
          "2022-05-24T09:00:00",
          "2022-05-25T09:00:00",
          "2022-05-26T09:00:00"
         ],
         "xaxis": "x",
         "y": [
          null,
          null,
          787273.8400771313,
          6335005.623583359,
          6391702.680864793,
          5287909.092102292,
          1769311.081979923,
          3892111.611220917,
          2806931.7464176267,
          1782120.0938919962,
          483091.3987492987,
          2333523.7198602157,
          4945046.263024554,
          1488702.5216924825,
          6598252.396284476,
          10075502.765548404,
          6824194.509453098,
          3942752.81718017,
          5459044.568626611,
          4832561.801975761,
          6699374.111046243,
          6628462.111993787,
          2179937.204278278,
          1349440.5334442486,
          5439395.431681274,
          3853613.4709775806,
          4399985.929073812,
          2165830.5290458393,
          1963661.9674032587,
          908225.4276631175,
          4134649.169799353,
          2105662.7109193583,
          683598.4197696516,
          902333.0098371743,
          2496342.404105822,
          4209847.922266993,
          2536049.05778347,
          1285632.6083938698,
          3226047.8340003514,
          1849286.7352484916,
          3813135.7237917855,
          3798957.3502445123,
          3743691.5439074947,
          1449355.261448611,
          1486452.972912175,
          1258321.3597676503,
          1256693.8548445443,
          1655631.532440417,
          1484648.8843465275,
          1885966.523703727,
          2469010.7752653398,
          608925.7153026669,
          845247.6659015905,
          3327232.9598055407,
          2871931.5036285752,
          1381548.3082741348,
          994720.1422037582,
          2086731.4974284333,
          2230007.736511813,
          1918584.4603111097,
          2345156.1112030665,
          1877252.426265034,
          732085.1858976751,
          526688.7537911109,
          1636188.7410903412,
          740216.2026770841,
          1683290.483668439,
          1043364.2287467533,
          1882240.167362437,
          8064091.02792111,
          3137339.623386298,
          3525578.8833324653,
          1942282.7967328902,
          1674461.8199401852,
          2020002.9667222905,
          380767.07399189135,
          334686.3627391295,
          2220724.7539689885,
          1783884.1900895666,
          564869.5146183461,
          694764.8934732795,
          1346043.0104793105,
          2133997.499738951,
          809802.6624997263,
          636214.6396488061,
          302544.10773811775,
          740447.726006858,
          1503096.4143175425,
          1425550.015297103,
          2353990.3367114854,
          3618325.789649228,
          4891574.954772001,
          2589751.4554309943,
          1019256.1207344856,
          2409953.7883208124,
          1373600.3063381598,
          691031.0856554329,
          1100055.0877516242,
          2159286.417381713,
          1378263.791486845,
          171112.40960602323,
          687766.7270357563
         ],
         "yaxis": "y"
        },
        {
         "alignmentgroup": "True",
         "hovertemplate": "variable=OMXSTO:ETHEREUM_XBTE<br>datetime=%{x}<br>value=%{y}<extra></extra>",
         "legendgroup": "OMXSTO:ETHEREUM_XBTE",
         "marker": {
          "color": "#ab63fa",
          "pattern": {
           "shape": ""
          }
         },
         "name": "OMXSTO:ETHEREUM_XBTE",
         "offsetgroup": "OMXSTO:ETHEREUM_XBTE",
         "orientation": "v",
         "showlegend": true,
         "textposition": "auto",
         "type": "bar",
         "x": [
          "2022-01-03T09:00:00",
          "2022-01-04T09:00:00",
          "2022-01-05T09:00:00",
          "2022-01-06T09:00:00",
          "2022-01-07T09:00:00",
          "2022-01-10T09:00:00",
          "2022-01-11T09:00:00",
          "2022-01-12T09:00:00",
          "2022-01-13T09:00:00",
          "2022-01-14T09:00:00",
          "2022-01-17T09:00:00",
          "2022-01-18T09:00:00",
          "2022-01-19T09:00:00",
          "2022-01-20T09:00:00",
          "2022-01-21T09:00:00",
          "2022-01-24T09:00:00",
          "2022-01-25T09:00:00",
          "2022-01-26T09:00:00",
          "2022-01-27T09:00:00",
          "2022-01-28T09:00:00",
          "2022-01-31T09:00:00",
          "2022-02-01T09:00:00",
          "2022-02-02T09:00:00",
          "2022-02-03T09:00:00",
          "2022-02-04T09:00:00",
          "2022-02-07T09:00:00",
          "2022-02-08T09:00:00",
          "2022-02-09T09:00:00",
          "2022-02-10T09:00:00",
          "2022-02-11T09:00:00",
          "2022-02-14T09:00:00",
          "2022-02-15T09:00:00",
          "2022-02-16T09:00:00",
          "2022-02-17T09:00:00",
          "2022-02-18T09:00:00",
          "2022-02-21T09:00:00",
          "2022-02-22T09:00:00",
          "2022-02-23T09:00:00",
          "2022-02-24T09:00:00",
          "2022-02-25T09:00:00",
          "2022-02-28T09:00:00",
          "2022-03-01T09:00:00",
          "2022-03-02T09:00:00",
          "2022-03-03T09:00:00",
          "2022-03-04T09:00:00",
          "2022-03-07T09:00:00",
          "2022-03-08T09:00:00",
          "2022-03-09T09:00:00",
          "2022-03-10T09:00:00",
          "2022-03-11T09:00:00",
          "2022-03-14T09:00:00",
          "2022-03-15T09:00:00",
          "2022-03-16T09:00:00",
          "2022-03-17T09:00:00",
          "2022-03-18T09:00:00",
          "2022-03-21T09:00:00",
          "2022-03-22T09:00:00",
          "2022-03-23T09:00:00",
          "2022-03-24T09:00:00",
          "2022-03-25T09:00:00",
          "2022-03-28T09:00:00",
          "2022-03-29T09:00:00",
          "2022-03-30T09:00:00",
          "2022-03-31T09:00:00",
          "2022-04-01T09:00:00",
          "2022-04-04T09:00:00",
          "2022-04-05T09:00:00",
          "2022-04-06T09:00:00",
          "2022-04-07T09:00:00",
          "2022-04-08T09:00:00",
          "2022-04-11T09:00:00",
          "2022-04-12T09:00:00",
          "2022-04-13T09:00:00",
          "2022-04-14T09:00:00",
          "2022-04-19T09:00:00",
          "2022-04-20T09:00:00",
          "2022-04-21T09:00:00",
          "2022-04-22T09:00:00",
          "2022-04-25T09:00:00",
          "2022-04-26T09:00:00",
          "2022-04-27T09:00:00",
          "2022-04-28T09:00:00",
          "2022-04-29T09:00:00",
          "2022-05-02T09:00:00",
          "2022-05-03T09:00:00",
          "2022-05-04T09:00:00",
          "2022-05-05T09:00:00",
          "2022-05-06T09:00:00",
          "2022-05-09T09:00:00",
          "2022-05-10T09:00:00",
          "2022-05-11T09:00:00",
          "2022-05-12T09:00:00",
          "2022-05-13T09:00:00",
          "2022-05-16T09:00:00",
          "2022-05-17T09:00:00",
          "2022-05-18T09:00:00",
          "2022-05-19T09:00:00",
          "2022-05-20T09:00:00",
          "2022-05-23T09:00:00",
          "2022-05-24T09:00:00",
          "2022-05-25T09:00:00",
          "2022-05-26T09:00:00"
         ],
         "xaxis": "x",
         "y": [
          4754471.812379131,
          3767359.8586040013,
          1655696.3540677975,
          null,
          23119068.7353588,
          11949409.221514462,
          6805807.82696764,
          8651415.780988427,
          4110916.020369555,
          3344517.9485928053,
          2793521.414950117,
          4442942.016736368,
          5246517.129028408,
          1753750.1544060765,
          15099585.60425443,
          30315707.966201436,
          10910465.56728324,
          6578413.592855667,
          3801463.6068469533,
          3482009.548540036,
          6665104.653840509,
          5543353.146930613,
          3215818.611649364,
          5076400.3281501625,
          7064986.187447831,
          8939473.644944195,
          2528172.6122472677,
          2451549.9715483347,
          4258167.395694258,
          1821844.9346898303,
          6121570.638675959,
          3739601.9991610073,
          4218934.24975736,
          3161616.082092916,
          12532713.265980788,
          19865422.969538998,
          4604569.644781865,
          3086255.851754317,
          8600669.456925375,
          4790776.786262629,
          2718277.8623856003,
          7134678.2478802055,
          4755630.524671314,
          2817731.9452454387,
          3431542.391206721,
          5369105.025435757,
          3040700.444677824,
          3380649.562803686,
          3120232.313041396,
          2266111.28012031,
          1308940.6445917806,
          1544911.6148735771,
          3322020.8088795124,
          2387598.181279305,
          2602151.311478196,
          2995469.43723708,
          2445100.20869898,
          1440400.87431445,
          3305244.957028985,
          5567108.334306838,
          4518610.77572049,
          4053208.5468616807,
          6125250.644168016,
          3138972.7535424302,
          2504712.2003050204,
          2644370.4454515805,
          5447489.624688447,
          4945836.44615054,
          3455961.741164575,
          4665974.465126293,
          6908508.495910103,
          3689086.145536076,
          5380119.9464907525,
          2207256.760503356,
          3350070.134606117,
          1445756.7827529854,
          1170261.4199439653,
          1540667.695956861,
          6026956.319666787,
          2915262.7972476,
          3005874.2873283057,
          2395287.4400658663,
          5263687.892628247,
          2890274.4619870284,
          940913.5350616348,
          1592349.3933965098,
          3247622.926109268,
          5399066.969881757,
          8426673.170571567,
          12177957.665223882,
          17300258.69168217,
          12122734.981430998,
          7179485.690467974,
          4666533.460514847,
          2751719.736188145,
          1661656.6915231482,
          3058634.2953055273,
          2403346.1091321986,
          4730430.197825698,
          4255607.734152294,
          1426475.7903513603,
          null
         ],
         "yaxis": "y"
        },
        {
         "alignmentgroup": "True",
         "hovertemplate": "variable=SIX:AETH.USD<br>datetime=%{x}<br>value=%{y}<extra></extra>",
         "legendgroup": "SIX:AETH.USD",
         "marker": {
          "color": "#FFA15A",
          "pattern": {
           "shape": ""
          }
         },
         "name": "SIX:AETH.USD",
         "offsetgroup": "SIX:AETH.USD",
         "orientation": "v",
         "showlegend": true,
         "textposition": "auto",
         "type": "bar",
         "x": [
          "2022-01-03T09:00:00",
          "2022-01-04T09:00:00",
          "2022-01-05T09:00:00",
          "2022-01-06T09:00:00",
          "2022-01-07T09:00:00",
          "2022-01-10T09:00:00",
          "2022-01-11T09:00:00",
          "2022-01-12T09:00:00",
          "2022-01-13T09:00:00",
          "2022-01-14T09:00:00",
          "2022-01-17T09:00:00",
          "2022-01-18T09:00:00",
          "2022-01-19T09:00:00",
          "2022-01-20T09:00:00",
          "2022-01-21T09:00:00",
          "2022-01-24T09:00:00",
          "2022-01-25T09:00:00",
          "2022-01-26T09:00:00",
          "2022-01-27T09:00:00",
          "2022-01-28T09:00:00",
          "2022-01-31T09:00:00",
          "2022-02-01T09:00:00",
          "2022-02-02T09:00:00",
          "2022-02-03T09:00:00",
          "2022-02-04T09:00:00",
          "2022-02-07T09:00:00",
          "2022-02-08T09:00:00",
          "2022-02-09T09:00:00",
          "2022-02-10T09:00:00",
          "2022-02-11T09:00:00",
          "2022-02-14T09:00:00",
          "2022-02-15T09:00:00",
          "2022-02-16T09:00:00",
          "2022-02-17T09:00:00",
          "2022-02-18T09:00:00",
          "2022-02-21T09:00:00",
          "2022-02-22T09:00:00",
          "2022-02-23T09:00:00",
          "2022-02-24T09:00:00",
          "2022-02-25T09:00:00",
          "2022-02-28T09:00:00",
          "2022-03-01T09:00:00",
          "2022-03-02T09:00:00",
          "2022-03-03T09:00:00",
          "2022-03-04T09:00:00",
          "2022-03-07T09:00:00",
          "2022-03-08T09:00:00",
          "2022-03-09T09:00:00",
          "2022-03-10T09:00:00",
          "2022-03-11T09:00:00",
          "2022-03-14T09:00:00",
          "2022-03-15T09:00:00",
          "2022-03-16T09:00:00",
          "2022-03-17T09:00:00",
          "2022-03-18T09:00:00",
          "2022-03-21T09:00:00",
          "2022-03-22T09:00:00",
          "2022-03-23T09:00:00",
          "2022-03-24T09:00:00",
          "2022-03-25T09:00:00",
          "2022-03-28T09:00:00",
          "2022-03-29T09:00:00",
          "2022-03-30T09:00:00",
          "2022-03-31T09:00:00",
          "2022-04-01T09:00:00",
          "2022-04-04T09:00:00",
          "2022-04-05T09:00:00",
          "2022-04-06T09:00:00",
          "2022-04-07T09:00:00",
          "2022-04-08T09:00:00",
          "2022-04-11T09:00:00",
          "2022-04-12T09:00:00",
          "2022-04-13T09:00:00",
          "2022-04-14T09:00:00",
          "2022-04-19T09:00:00",
          "2022-04-20T09:00:00",
          "2022-04-21T09:00:00",
          "2022-04-22T09:00:00",
          "2022-04-25T09:00:00",
          "2022-04-26T09:00:00",
          "2022-04-27T09:00:00",
          "2022-04-28T09:00:00",
          "2022-04-29T09:00:00",
          "2022-05-02T09:00:00",
          "2022-05-03T09:00:00",
          "2022-05-04T09:00:00",
          "2022-05-05T09:00:00",
          "2022-05-06T09:00:00",
          "2022-05-09T09:00:00",
          "2022-05-10T09:00:00",
          "2022-05-11T09:00:00",
          "2022-05-12T09:00:00",
          "2022-05-13T09:00:00",
          "2022-05-16T09:00:00",
          "2022-05-17T09:00:00",
          "2022-05-18T09:00:00",
          "2022-05-19T09:00:00",
          "2022-05-20T09:00:00",
          "2022-05-23T09:00:00",
          "2022-05-24T09:00:00",
          "2022-05-25T09:00:00",
          "2022-05-26T09:00:00"
         ],
         "xaxis": "x",
         "y": [
          null,
          1714389.99,
          489459.42269700003,
          14860217.5683255,
          8057740.240113,
          6385955.481466,
          975770.3006422499,
          6495853.2209415,
          2667560.7196627497,
          881301.4951950001,
          795029.8179547498,
          3051001.17875,
          4470317.569088,
          462161.8625,
          9064350.487499999,
          7594462.833516,
          7372200.9825,
          2704711.40625,
          518566.06901575,
          495713.34087,
          7966244.0910640005,
          5021765.917876749,
          1331702.14529625,
          3059485.8525,
          1985013.6360614998,
          5242045.912301,
          5808983.08551075,
          1841265.0506992498,
          1077293.6774865,
          479655.81119000004,
          4737181.35570625,
          3092799.84,
          1103248.8662265,
          1573473.721926,
          1266470.5327625,
          4425776.7,
          4806180.49875,
          569567.1243345,
          4636662.9311235,
          1410451.89,
          5803717.96875,
          1947144.0624999998,
          4454194.158258,
          948320.0585415001,
          742589.9249999999,
          1023997.086706,
          424611.491283,
          841684.07936025,
          499066.535,
          5424033.4539645,
          1408384.34,
          512582.124492,
          1016452.92,
          910521.99375,
          621932.8597650001,
          982004.1525000001,
          828986.16269,
          1306986.9531855,
          1615634.9975,
          1616500.908484,
          2583979.0934782503,
          2349390.645,
          1014420.07420425,
          666062.284902,
          980623.1412500002,
          1834411.6681360002,
          1099854.755916,
          909241.08902825,
          4422741.23843475,
          3811394.158252001,
          1033534.392362,
          3400343.56014675,
          3189593.13992,
          498100.69812,
          562950.945675,
          1088223.1316302503,
          583785.63,
          4357721.527353,
          1539282.6754125,
          2930888.8950000005,
          1168288.55288975,
          608973.9249999999,
          469422.97146449995,
          934376.5364895,
          695811.58824625,
          185132.75292700002,
          1928463.2295730002,
          1099436.2681725,
          2210944.21,
          1443100.7626467498,
          2750475.7831110004,
          4423442.21325,
          1590853.2094845,
          960575.4736230001,
          2769414.975,
          1359714.4246810002,
          628250.3969805,
          742276.6258215,
          1688180.08962075,
          871473.08499625,
          1005021.3485585,
          null
         ],
         "yaxis": "y"
        },
        {
         "alignmentgroup": "True",
         "hovertemplate": "variable=XETR:ZETH<br>datetime=%{x}<br>value=%{y}<extra></extra>",
         "legendgroup": "XETR:ZETH",
         "marker": {
          "color": "#19d3f3",
          "pattern": {
           "shape": ""
          }
         },
         "name": "XETR:ZETH",
         "offsetgroup": "XETR:ZETH",
         "orientation": "v",
         "showlegend": true,
         "textposition": "auto",
         "type": "bar",
         "x": [
          "2022-01-03T09:00:00",
          "2022-01-04T09:00:00",
          "2022-01-05T09:00:00",
          "2022-01-06T09:00:00",
          "2022-01-07T09:00:00",
          "2022-01-10T09:00:00",
          "2022-01-11T09:00:00",
          "2022-01-12T09:00:00",
          "2022-01-13T09:00:00",
          "2022-01-14T09:00:00",
          "2022-01-17T09:00:00",
          "2022-01-18T09:00:00",
          "2022-01-19T09:00:00",
          "2022-01-20T09:00:00",
          "2022-01-21T09:00:00",
          "2022-01-24T09:00:00",
          "2022-01-25T09:00:00",
          "2022-01-26T09:00:00",
          "2022-01-27T09:00:00",
          "2022-01-28T09:00:00",
          "2022-01-31T09:00:00",
          "2022-02-01T09:00:00",
          "2022-02-02T09:00:00",
          "2022-02-03T09:00:00",
          "2022-02-04T09:00:00",
          "2022-02-07T09:00:00",
          "2022-02-08T09:00:00",
          "2022-02-09T09:00:00",
          "2022-02-10T09:00:00",
          "2022-02-11T09:00:00",
          "2022-02-14T09:00:00",
          "2022-02-15T09:00:00",
          "2022-02-16T09:00:00",
          "2022-02-17T09:00:00",
          "2022-02-18T09:00:00",
          "2022-02-21T09:00:00",
          "2022-02-22T09:00:00",
          "2022-02-23T09:00:00",
          "2022-02-24T09:00:00",
          "2022-02-25T09:00:00",
          "2022-02-28T09:00:00",
          "2022-03-01T09:00:00",
          "2022-03-02T09:00:00",
          "2022-03-03T09:00:00",
          "2022-03-04T09:00:00",
          "2022-03-07T09:00:00",
          "2022-03-08T09:00:00",
          "2022-03-09T09:00:00",
          "2022-03-10T09:00:00",
          "2022-03-11T09:00:00",
          "2022-03-14T09:00:00",
          "2022-03-15T09:00:00",
          "2022-03-16T09:00:00",
          "2022-03-17T09:00:00",
          "2022-03-18T09:00:00",
          "2022-03-21T09:00:00",
          "2022-03-22T09:00:00",
          "2022-03-23T09:00:00",
          "2022-03-24T09:00:00",
          "2022-03-25T09:00:00",
          "2022-03-28T09:00:00",
          "2022-03-29T09:00:00",
          "2022-03-30T09:00:00",
          "2022-03-31T09:00:00",
          "2022-04-01T09:00:00",
          "2022-04-04T09:00:00",
          "2022-04-05T09:00:00",
          "2022-04-06T09:00:00",
          "2022-04-07T09:00:00",
          "2022-04-08T09:00:00",
          "2022-04-11T09:00:00",
          "2022-04-12T09:00:00",
          "2022-04-13T09:00:00",
          "2022-04-14T09:00:00",
          "2022-04-19T09:00:00",
          "2022-04-20T09:00:00",
          "2022-04-21T09:00:00",
          "2022-04-22T09:00:00",
          "2022-04-25T09:00:00",
          "2022-04-26T09:00:00",
          "2022-04-27T09:00:00",
          "2022-04-28T09:00:00",
          "2022-04-29T09:00:00",
          "2022-05-02T09:00:00",
          "2022-05-03T09:00:00",
          "2022-05-04T09:00:00",
          "2022-05-05T09:00:00",
          "2022-05-06T09:00:00",
          "2022-05-09T09:00:00",
          "2022-05-10T09:00:00",
          "2022-05-11T09:00:00",
          "2022-05-12T09:00:00",
          "2022-05-13T09:00:00",
          "2022-05-16T09:00:00",
          "2022-05-17T09:00:00",
          "2022-05-18T09:00:00",
          "2022-05-19T09:00:00",
          "2022-05-20T09:00:00",
          "2022-05-23T09:00:00",
          "2022-05-24T09:00:00",
          "2022-05-25T09:00:00",
          "2022-05-26T09:00:00"
         ],
         "xaxis": "x",
         "y": [
          null,
          null,
          5989558.478328913,
          25675184.33289738,
          9465147.531210566,
          29270038.10312036,
          3762640.5626221416,
          7430129.787850801,
          2415090.1767011397,
          5387852.493751729,
          928850.5421098988,
          4696929.849587267,
          3839329.016774716,
          1831739.081161298,
          7028639.2503993735,
          21775650.946802635,
          5973231.3405848425,
          4472261.872362216,
          12391476.760708792,
          6622380.836433265,
          5518591.658915371,
          5532910.540984526,
          3698854.6174975685,
          3453235.9350160393,
          8051559.779899442,
          3370667.880647806,
          4038124.101847041,
          2904526.088335194,
          4127571.034460908,
          2142971.6696543144,
          1585084.2377818734,
          2866318.780104275,
          4513866.877661467,
          3123793.141971999,
          5085712.604843289,
          1898193.7113189911,
          1981897.3812789514,
          3340510.2201427342,
          9882231.175673576,
          2074608.243769564,
          2302615.5064292164,
          3280328.0403691065,
          2767937.556779712,
          2976278.368924029,
          2888074.0611170707,
          4368242.266241536,
          2650899.6537811356,
          2629986.8140506954,
          3122120.7347053383,
          904995.4966685381,
          1696977.5580746836,
          819401.7579272296,
          2560756.664110848,
          2285854.165091811,
          1323710.160177465,
          528818.5492054988,
          7522364.005451142,
          8821791.06902344,
          20415281.533580355,
          8725827.25504921,
          8599762.980797952,
          10003955.920060078,
          5908565.68327971,
          1977224.0588476832,
          2115168.485324662,
          2896590.077884431,
          3015103.416818309,
          14577903.545774654,
          12333959.417529233,
          10148875.003146408,
          17721317.828124497,
          12045763.26409401,
          7605268.70331259,
          2260234.080231028,
          10302023.951455977,
          2917511.7316226726,
          2087300.286517618,
          4086836.8096347884,
          7539274.716530752,
          3615591.4072697144,
          3755844.870451829,
          5552468.829154287,
          12157538.584540294,
          3944835.409706554,
          1011148.8689709067,
          1316756.268922729,
          1849852.332282436,
          3037814.017983028,
          4937469.388976711,
          13367823.220801767,
          16125900.80016578,
          3775362.9897698015,
          3069293.8965333966,
          2257302.4417007747,
          1873798.5864086316,
          837446.449858814,
          1847536.3582028842,
          910502.823449134,
          1067704.9712499662,
          1514316.3658195909,
          933719.0731343859,
          542067.5158271225
         ],
         "yaxis": "y"
        }
       ],
       "layout": {
        "barmode": "relative",
        "legend": {
         "title": {
          "text": "variable"
         },
         "tracegroupgap": 0
        },
        "margin": {
         "t": 60
        },
        "template": {
         "data": {
          "bar": [
           {
            "error_x": {
             "color": "#2a3f5f"
            },
            "error_y": {
             "color": "#2a3f5f"
            },
            "marker": {
             "line": {
              "color": "#E5ECF6",
              "width": 0.5
             },
             "pattern": {
              "fillmode": "overlay",
              "size": 10,
              "solidity": 0.2
             }
            },
            "type": "bar"
           }
          ],
          "barpolar": [
           {
            "marker": {
             "line": {
              "color": "#E5ECF6",
              "width": 0.5
             },
             "pattern": {
              "fillmode": "overlay",
              "size": 10,
              "solidity": 0.2
             }
            },
            "type": "barpolar"
           }
          ],
          "carpet": [
           {
            "aaxis": {
             "endlinecolor": "#2a3f5f",
             "gridcolor": "white",
             "linecolor": "white",
             "minorgridcolor": "white",
             "startlinecolor": "#2a3f5f"
            },
            "baxis": {
             "endlinecolor": "#2a3f5f",
             "gridcolor": "white",
             "linecolor": "white",
             "minorgridcolor": "white",
             "startlinecolor": "#2a3f5f"
            },
            "type": "carpet"
           }
          ],
          "choropleth": [
           {
            "colorbar": {
             "outlinewidth": 0,
             "ticks": ""
            },
            "type": "choropleth"
           }
          ],
          "contour": [
           {
            "colorbar": {
             "outlinewidth": 0,
             "ticks": ""
            },
            "colorscale": [
             [
              0,
              "#0d0887"
             ],
             [
              0.1111111111111111,
              "#46039f"
             ],
             [
              0.2222222222222222,
              "#7201a8"
             ],
             [
              0.3333333333333333,
              "#9c179e"
             ],
             [
              0.4444444444444444,
              "#bd3786"
             ],
             [
              0.5555555555555556,
              "#d8576b"
             ],
             [
              0.6666666666666666,
              "#ed7953"
             ],
             [
              0.7777777777777778,
              "#fb9f3a"
             ],
             [
              0.8888888888888888,
              "#fdca26"
             ],
             [
              1,
              "#f0f921"
             ]
            ],
            "type": "contour"
           }
          ],
          "contourcarpet": [
           {
            "colorbar": {
             "outlinewidth": 0,
             "ticks": ""
            },
            "type": "contourcarpet"
           }
          ],
          "heatmap": [
           {
            "colorbar": {
             "outlinewidth": 0,
             "ticks": ""
            },
            "colorscale": [
             [
              0,
              "#0d0887"
             ],
             [
              0.1111111111111111,
              "#46039f"
             ],
             [
              0.2222222222222222,
              "#7201a8"
             ],
             [
              0.3333333333333333,
              "#9c179e"
             ],
             [
              0.4444444444444444,
              "#bd3786"
             ],
             [
              0.5555555555555556,
              "#d8576b"
             ],
             [
              0.6666666666666666,
              "#ed7953"
             ],
             [
              0.7777777777777778,
              "#fb9f3a"
             ],
             [
              0.8888888888888888,
              "#fdca26"
             ],
             [
              1,
              "#f0f921"
             ]
            ],
            "type": "heatmap"
           }
          ],
          "heatmapgl": [
           {
            "colorbar": {
             "outlinewidth": 0,
             "ticks": ""
            },
            "colorscale": [
             [
              0,
              "#0d0887"
             ],
             [
              0.1111111111111111,
              "#46039f"
             ],
             [
              0.2222222222222222,
              "#7201a8"
             ],
             [
              0.3333333333333333,
              "#9c179e"
             ],
             [
              0.4444444444444444,
              "#bd3786"
             ],
             [
              0.5555555555555556,
              "#d8576b"
             ],
             [
              0.6666666666666666,
              "#ed7953"
             ],
             [
              0.7777777777777778,
              "#fb9f3a"
             ],
             [
              0.8888888888888888,
              "#fdca26"
             ],
             [
              1,
              "#f0f921"
             ]
            ],
            "type": "heatmapgl"
           }
          ],
          "histogram": [
           {
            "marker": {
             "pattern": {
              "fillmode": "overlay",
              "size": 10,
              "solidity": 0.2
             }
            },
            "type": "histogram"
           }
          ],
          "histogram2d": [
           {
            "colorbar": {
             "outlinewidth": 0,
             "ticks": ""
            },
            "colorscale": [
             [
              0,
              "#0d0887"
             ],
             [
              0.1111111111111111,
              "#46039f"
             ],
             [
              0.2222222222222222,
              "#7201a8"
             ],
             [
              0.3333333333333333,
              "#9c179e"
             ],
             [
              0.4444444444444444,
              "#bd3786"
             ],
             [
              0.5555555555555556,
              "#d8576b"
             ],
             [
              0.6666666666666666,
              "#ed7953"
             ],
             [
              0.7777777777777778,
              "#fb9f3a"
             ],
             [
              0.8888888888888888,
              "#fdca26"
             ],
             [
              1,
              "#f0f921"
             ]
            ],
            "type": "histogram2d"
           }
          ],
          "histogram2dcontour": [
           {
            "colorbar": {
             "outlinewidth": 0,
             "ticks": ""
            },
            "colorscale": [
             [
              0,
              "#0d0887"
             ],
             [
              0.1111111111111111,
              "#46039f"
             ],
             [
              0.2222222222222222,
              "#7201a8"
             ],
             [
              0.3333333333333333,
              "#9c179e"
             ],
             [
              0.4444444444444444,
              "#bd3786"
             ],
             [
              0.5555555555555556,
              "#d8576b"
             ],
             [
              0.6666666666666666,
              "#ed7953"
             ],
             [
              0.7777777777777778,
              "#fb9f3a"
             ],
             [
              0.8888888888888888,
              "#fdca26"
             ],
             [
              1,
              "#f0f921"
             ]
            ],
            "type": "histogram2dcontour"
           }
          ],
          "mesh3d": [
           {
            "colorbar": {
             "outlinewidth": 0,
             "ticks": ""
            },
            "type": "mesh3d"
           }
          ],
          "parcoords": [
           {
            "line": {
             "colorbar": {
              "outlinewidth": 0,
              "ticks": ""
             }
            },
            "type": "parcoords"
           }
          ],
          "pie": [
           {
            "automargin": true,
            "type": "pie"
           }
          ],
          "scatter": [
           {
            "fillpattern": {
             "fillmode": "overlay",
             "size": 10,
             "solidity": 0.2
            },
            "type": "scatter"
           }
          ],
          "scatter3d": [
           {
            "line": {
             "colorbar": {
              "outlinewidth": 0,
              "ticks": ""
             }
            },
            "marker": {
             "colorbar": {
              "outlinewidth": 0,
              "ticks": ""
             }
            },
            "type": "scatter3d"
           }
          ],
          "scattercarpet": [
           {
            "marker": {
             "colorbar": {
              "outlinewidth": 0,
              "ticks": ""
             }
            },
            "type": "scattercarpet"
           }
          ],
          "scattergeo": [
           {
            "marker": {
             "colorbar": {
              "outlinewidth": 0,
              "ticks": ""
             }
            },
            "type": "scattergeo"
           }
          ],
          "scattergl": [
           {
            "marker": {
             "colorbar": {
              "outlinewidth": 0,
              "ticks": ""
             }
            },
            "type": "scattergl"
           }
          ],
          "scattermapbox": [
           {
            "marker": {
             "colorbar": {
              "outlinewidth": 0,
              "ticks": ""
             }
            },
            "type": "scattermapbox"
           }
          ],
          "scatterpolar": [
           {
            "marker": {
             "colorbar": {
              "outlinewidth": 0,
              "ticks": ""
             }
            },
            "type": "scatterpolar"
           }
          ],
          "scatterpolargl": [
           {
            "marker": {
             "colorbar": {
              "outlinewidth": 0,
              "ticks": ""
             }
            },
            "type": "scatterpolargl"
           }
          ],
          "scatterternary": [
           {
            "marker": {
             "colorbar": {
              "outlinewidth": 0,
              "ticks": ""
             }
            },
            "type": "scatterternary"
           }
          ],
          "surface": [
           {
            "colorbar": {
             "outlinewidth": 0,
             "ticks": ""
            },
            "colorscale": [
             [
              0,
              "#0d0887"
             ],
             [
              0.1111111111111111,
              "#46039f"
             ],
             [
              0.2222222222222222,
              "#7201a8"
             ],
             [
              0.3333333333333333,
              "#9c179e"
             ],
             [
              0.4444444444444444,
              "#bd3786"
             ],
             [
              0.5555555555555556,
              "#d8576b"
             ],
             [
              0.6666666666666666,
              "#ed7953"
             ],
             [
              0.7777777777777778,
              "#fb9f3a"
             ],
             [
              0.8888888888888888,
              "#fdca26"
             ],
             [
              1,
              "#f0f921"
             ]
            ],
            "type": "surface"
           }
          ],
          "table": [
           {
            "cells": {
             "fill": {
              "color": "#EBF0F8"
             },
             "line": {
              "color": "white"
             }
            },
            "header": {
             "fill": {
              "color": "#C8D4E3"
             },
             "line": {
              "color": "white"
             }
            },
            "type": "table"
           }
          ]
         },
         "layout": {
          "annotationdefaults": {
           "arrowcolor": "#2a3f5f",
           "arrowhead": 0,
           "arrowwidth": 1
          },
          "autotypenumbers": "strict",
          "coloraxis": {
           "colorbar": {
            "outlinewidth": 0,
            "ticks": ""
           }
          },
          "colorscale": {
           "diverging": [
            [
             0,
             "#8e0152"
            ],
            [
             0.1,
             "#c51b7d"
            ],
            [
             0.2,
             "#de77ae"
            ],
            [
             0.3,
             "#f1b6da"
            ],
            [
             0.4,
             "#fde0ef"
            ],
            [
             0.5,
             "#f7f7f7"
            ],
            [
             0.6,
             "#e6f5d0"
            ],
            [
             0.7,
             "#b8e186"
            ],
            [
             0.8,
             "#7fbc41"
            ],
            [
             0.9,
             "#4d9221"
            ],
            [
             1,
             "#276419"
            ]
           ],
           "sequential": [
            [
             0,
             "#0d0887"
            ],
            [
             0.1111111111111111,
             "#46039f"
            ],
            [
             0.2222222222222222,
             "#7201a8"
            ],
            [
             0.3333333333333333,
             "#9c179e"
            ],
            [
             0.4444444444444444,
             "#bd3786"
            ],
            [
             0.5555555555555556,
             "#d8576b"
            ],
            [
             0.6666666666666666,
             "#ed7953"
            ],
            [
             0.7777777777777778,
             "#fb9f3a"
            ],
            [
             0.8888888888888888,
             "#fdca26"
            ],
            [
             1,
             "#f0f921"
            ]
           ],
           "sequentialminus": [
            [
             0,
             "#0d0887"
            ],
            [
             0.1111111111111111,
             "#46039f"
            ],
            [
             0.2222222222222222,
             "#7201a8"
            ],
            [
             0.3333333333333333,
             "#9c179e"
            ],
            [
             0.4444444444444444,
             "#bd3786"
            ],
            [
             0.5555555555555556,
             "#d8576b"
            ],
            [
             0.6666666666666666,
             "#ed7953"
            ],
            [
             0.7777777777777778,
             "#fb9f3a"
            ],
            [
             0.8888888888888888,
             "#fdca26"
            ],
            [
             1,
             "#f0f921"
            ]
           ]
          },
          "colorway": [
           "#636efa",
           "#EF553B",
           "#00cc96",
           "#ab63fa",
           "#FFA15A",
           "#19d3f3",
           "#FF6692",
           "#B6E880",
           "#FF97FF",
           "#FECB52"
          ],
          "font": {
           "color": "#2a3f5f"
          },
          "geo": {
           "bgcolor": "white",
           "lakecolor": "white",
           "landcolor": "#E5ECF6",
           "showlakes": true,
           "showland": true,
           "subunitcolor": "white"
          },
          "hoverlabel": {
           "align": "left"
          },
          "hovermode": "closest",
          "mapbox": {
           "style": "light"
          },
          "paper_bgcolor": "white",
          "plot_bgcolor": "#E5ECF6",
          "polar": {
           "angularaxis": {
            "gridcolor": "white",
            "linecolor": "white",
            "ticks": ""
           },
           "bgcolor": "#E5ECF6",
           "radialaxis": {
            "gridcolor": "white",
            "linecolor": "white",
            "ticks": ""
           }
          },
          "scene": {
           "xaxis": {
            "backgroundcolor": "#E5ECF6",
            "gridcolor": "white",
            "gridwidth": 2,
            "linecolor": "white",
            "showbackground": true,
            "ticks": "",
            "zerolinecolor": "white"
           },
           "yaxis": {
            "backgroundcolor": "#E5ECF6",
            "gridcolor": "white",
            "gridwidth": 2,
            "linecolor": "white",
            "showbackground": true,
            "ticks": "",
            "zerolinecolor": "white"
           },
           "zaxis": {
            "backgroundcolor": "#E5ECF6",
            "gridcolor": "white",
            "gridwidth": 2,
            "linecolor": "white",
            "showbackground": true,
            "ticks": "",
            "zerolinecolor": "white"
           }
          },
          "shapedefaults": {
           "line": {
            "color": "#2a3f5f"
           }
          },
          "ternary": {
           "aaxis": {
            "gridcolor": "white",
            "linecolor": "white",
            "ticks": ""
           },
           "baxis": {
            "gridcolor": "white",
            "linecolor": "white",
            "ticks": ""
           },
           "bgcolor": "#E5ECF6",
           "caxis": {
            "gridcolor": "white",
            "linecolor": "white",
            "ticks": ""
           }
          },
          "title": {
           "x": 0.05
          },
          "xaxis": {
           "automargin": true,
           "gridcolor": "white",
           "linecolor": "white",
           "ticks": "",
           "title": {
            "standoff": 15
           },
           "zerolinecolor": "white",
           "zerolinewidth": 2
          },
          "yaxis": {
           "automargin": true,
           "gridcolor": "white",
           "linecolor": "white",
           "ticks": "",
           "title": {
            "standoff": 15
           },
           "zerolinecolor": "white",
           "zerolinewidth": 2
          }
         }
        },
        "xaxis": {
         "anchor": "y",
         "domain": [
          0,
          1
         ],
         "title": {
          "text": "datetime"
         }
        },
        "yaxis": {
         "anchor": "x",
         "domain": [
          0,
          1
         ],
         "title": {
          "text": "value"
         }
        }
       }
      },
      "text/html": [
       "<div>                            <div id=\"3e999ca1-2c4b-4f01-8ba1-6e53b61d7a52\" class=\"plotly-graph-div\" style=\"height:525px; width:100%;\"></div>            <script type=\"text/javascript\">                require([\"plotly\"], function(Plotly) {                    window.PLOTLYENV=window.PLOTLYENV || {};                                    if (document.getElementById(\"3e999ca1-2c4b-4f01-8ba1-6e53b61d7a52\")) {                    Plotly.newPlot(                        \"3e999ca1-2c4b-4f01-8ba1-6e53b61d7a52\",                        [{\"alignmentgroup\":\"True\",\"hovertemplate\":\"variable=NGM:ETH.ZERO.SEK<br>datetime=%{x}<br>value=%{y}<extra></extra>\",\"legendgroup\":\"NGM:ETH.ZERO.SEK\",\"marker\":{\"color\":\"#636efa\",\"pattern\":{\"shape\":\"\"}},\"name\":\"NGM:ETH.ZERO.SEK\",\"offsetgroup\":\"NGM:ETH.ZERO.SEK\",\"orientation\":\"v\",\"showlegend\":true,\"textposition\":\"auto\",\"x\":[\"2022-01-03T09:00:00\",\"2022-01-04T09:00:00\",\"2022-01-05T09:00:00\",\"2022-01-06T09:00:00\",\"2022-01-07T09:00:00\",\"2022-01-10T09:00:00\",\"2022-01-11T09:00:00\",\"2022-01-12T09:00:00\",\"2022-01-13T09:00:00\",\"2022-01-14T09:00:00\",\"2022-01-17T09:00:00\",\"2022-01-18T09:00:00\",\"2022-01-19T09:00:00\",\"2022-01-20T09:00:00\",\"2022-01-21T09:00:00\",\"2022-01-24T09:00:00\",\"2022-01-25T09:00:00\",\"2022-01-26T09:00:00\",\"2022-01-27T09:00:00\",\"2022-01-28T09:00:00\",\"2022-01-31T09:00:00\",\"2022-02-01T09:00:00\",\"2022-02-02T09:00:00\",\"2022-02-03T09:00:00\",\"2022-02-04T09:00:00\",\"2022-02-07T09:00:00\",\"2022-02-08T09:00:00\",\"2022-02-09T09:00:00\",\"2022-02-10T09:00:00\",\"2022-02-11T09:00:00\",\"2022-02-14T09:00:00\",\"2022-02-15T09:00:00\",\"2022-02-16T09:00:00\",\"2022-02-17T09:00:00\",\"2022-02-18T09:00:00\",\"2022-02-21T09:00:00\",\"2022-02-22T09:00:00\",\"2022-02-23T09:00:00\",\"2022-02-24T09:00:00\",\"2022-02-25T09:00:00\",\"2022-02-28T09:00:00\",\"2022-03-01T09:00:00\",\"2022-03-02T09:00:00\",\"2022-03-03T09:00:00\",\"2022-03-04T09:00:00\",\"2022-03-07T09:00:00\",\"2022-03-08T09:00:00\",\"2022-03-09T09:00:00\",\"2022-03-10T09:00:00\",\"2022-03-11T09:00:00\",\"2022-03-14T09:00:00\",\"2022-03-15T09:00:00\",\"2022-03-16T09:00:00\",\"2022-03-17T09:00:00\",\"2022-03-18T09:00:00\",\"2022-03-21T09:00:00\",\"2022-03-22T09:00:00\",\"2022-03-23T09:00:00\",\"2022-03-24T09:00:00\",\"2022-03-25T09:00:00\",\"2022-03-28T09:00:00\",\"2022-03-29T09:00:00\",\"2022-03-30T09:00:00\",\"2022-03-31T09:00:00\",\"2022-04-01T09:00:00\",\"2022-04-04T09:00:00\",\"2022-04-05T09:00:00\",\"2022-04-06T09:00:00\",\"2022-04-07T09:00:00\",\"2022-04-08T09:00:00\",\"2022-04-11T09:00:00\",\"2022-04-12T09:00:00\",\"2022-04-13T09:00:00\",\"2022-04-14T09:00:00\",\"2022-04-19T09:00:00\",\"2022-04-20T09:00:00\",\"2022-04-21T09:00:00\",\"2022-04-22T09:00:00\",\"2022-04-25T09:00:00\",\"2022-04-26T09:00:00\",\"2022-04-27T09:00:00\",\"2022-04-28T09:00:00\",\"2022-04-29T09:00:00\",\"2022-05-02T09:00:00\",\"2022-05-03T09:00:00\",\"2022-05-04T09:00:00\",\"2022-05-05T09:00:00\",\"2022-05-06T09:00:00\",\"2022-05-09T09:00:00\",\"2022-05-10T09:00:00\",\"2022-05-11T09:00:00\",\"2022-05-12T09:00:00\",\"2022-05-13T09:00:00\",\"2022-05-16T09:00:00\",\"2022-05-17T09:00:00\",\"2022-05-18T09:00:00\",\"2022-05-19T09:00:00\",\"2022-05-20T09:00:00\",\"2022-05-23T09:00:00\",\"2022-05-24T09:00:00\",\"2022-05-25T09:00:00\",\"2022-05-26T09:00:00\"],\"xaxis\":\"x\",\"y\":[729226.9285925154,501326.1272234307,232717.32866344939,null,2835177.044134602,1953588.0070983674,830380.9605504881,1703197.257396719,1335655.7931870657,2078108.9226449926,342620.8992724585,461815.99164829066,579242.3458967922,268631.59289328364,1666257.0416743122,2448325.8665162027,848009.5022168079,1172891.8714925312,543991.9515837785,888108.0286008613,438017.17683533725,1208850.9188999864,1277954.5385584335,649614.1424320401,511429.8645896867,2411516.456897438,778887.3818662715,682925.8426987317,2008089.940680953,681551.809852125,2195305.6671127407,913754.2728823024,737929.6281639419,573612.1535395811,476173.57386286027,1240716.103198326,1281232.6864820137,371345.89768830227,1281766.131603018,763050.9090860125,395867.4133649782,1810969.3758269066,920562.0990462232,502801.11703920126,812167.4581528021,2489552.8345581456,1389891.6483698227,1112717.1180341165,352057.32350222365,421008.08260853804,362846.55588499905,236078.1135448758,745084.184148173,1028218.7528775621,981648.8339067131,277261.7159004881,489621.5009712496,233775.47338313077,399575.9806222541,709413.5328286457,1083338.8970103606,996915.2364075711,365581.0269684965,484093.8304298629,923220.6865667485,629302.9470227879,674774.3969901879,957394.4298610827,929896.8055956587,1017185.0786660352,1211790.497867103,404565.18195773056,291225.6783005038,473568.0902199154,449044.0151567611,385323.74558677676,270780.6874611339,212993.27749130162,594078.4810109856,447916.4015528962,246201.62533031407,491009.61637312756,239358.01716990198,471058.08515751717,126001.77254042389,226367.7276283447,201256.7344298822,852960.9577290306,1267928.496409072,580554.4012147973,1045299.8286866006,1179574.0819143502,530748.9489256138,262719.348285793,474464.1792770215,285220.1189858705,823544.3898236004,489645.7871435615,143766.7294834876,199119.61025159614,181500.1884026903,null],\"yaxis\":\"y\",\"type\":\"bar\"},{\"alignmentgroup\":\"True\",\"hovertemplate\":\"variable=OMXSTO:ETHEREUM_XBT<br>datetime=%{x}<br>value=%{y}<extra></extra>\",\"legendgroup\":\"OMXSTO:ETHEREUM_XBT\",\"marker\":{\"color\":\"#EF553B\",\"pattern\":{\"shape\":\"\"}},\"name\":\"OMXSTO:ETHEREUM_XBT\",\"offsetgroup\":\"OMXSTO:ETHEREUM_XBT\",\"orientation\":\"v\",\"showlegend\":true,\"textposition\":\"auto\",\"x\":[\"2022-01-03T09:00:00\",\"2022-01-04T09:00:00\",\"2022-01-05T09:00:00\",\"2022-01-06T09:00:00\",\"2022-01-07T09:00:00\",\"2022-01-10T09:00:00\",\"2022-01-11T09:00:00\",\"2022-01-12T09:00:00\",\"2022-01-13T09:00:00\",\"2022-01-14T09:00:00\",\"2022-01-17T09:00:00\",\"2022-01-18T09:00:00\",\"2022-01-19T09:00:00\",\"2022-01-20T09:00:00\",\"2022-01-21T09:00:00\",\"2022-01-24T09:00:00\",\"2022-01-25T09:00:00\",\"2022-01-26T09:00:00\",\"2022-01-27T09:00:00\",\"2022-01-28T09:00:00\",\"2022-01-31T09:00:00\",\"2022-02-01T09:00:00\",\"2022-02-02T09:00:00\",\"2022-02-03T09:00:00\",\"2022-02-04T09:00:00\",\"2022-02-07T09:00:00\",\"2022-02-08T09:00:00\",\"2022-02-09T09:00:00\",\"2022-02-10T09:00:00\",\"2022-02-11T09:00:00\",\"2022-02-14T09:00:00\",\"2022-02-15T09:00:00\",\"2022-02-16T09:00:00\",\"2022-02-17T09:00:00\",\"2022-02-18T09:00:00\",\"2022-02-21T09:00:00\",\"2022-02-22T09:00:00\",\"2022-02-23T09:00:00\",\"2022-02-24T09:00:00\",\"2022-02-25T09:00:00\",\"2022-02-28T09:00:00\",\"2022-03-01T09:00:00\",\"2022-03-02T09:00:00\",\"2022-03-03T09:00:00\",\"2022-03-04T09:00:00\",\"2022-03-07T09:00:00\",\"2022-03-08T09:00:00\",\"2022-03-09T09:00:00\",\"2022-03-10T09:00:00\",\"2022-03-11T09:00:00\",\"2022-03-14T09:00:00\",\"2022-03-15T09:00:00\",\"2022-03-16T09:00:00\",\"2022-03-17T09:00:00\",\"2022-03-18T09:00:00\",\"2022-03-21T09:00:00\",\"2022-03-22T09:00:00\",\"2022-03-23T09:00:00\",\"2022-03-24T09:00:00\",\"2022-03-25T09:00:00\",\"2022-03-28T09:00:00\",\"2022-03-29T09:00:00\",\"2022-03-30T09:00:00\",\"2022-03-31T09:00:00\",\"2022-04-01T09:00:00\",\"2022-04-04T09:00:00\",\"2022-04-05T09:00:00\",\"2022-04-06T09:00:00\",\"2022-04-07T09:00:00\",\"2022-04-08T09:00:00\",\"2022-04-11T09:00:00\",\"2022-04-12T09:00:00\",\"2022-04-13T09:00:00\",\"2022-04-14T09:00:00\",\"2022-04-19T09:00:00\",\"2022-04-20T09:00:00\",\"2022-04-21T09:00:00\",\"2022-04-22T09:00:00\",\"2022-04-25T09:00:00\",\"2022-04-26T09:00:00\",\"2022-04-27T09:00:00\",\"2022-04-28T09:00:00\",\"2022-04-29T09:00:00\",\"2022-05-02T09:00:00\",\"2022-05-03T09:00:00\",\"2022-05-04T09:00:00\",\"2022-05-05T09:00:00\",\"2022-05-06T09:00:00\",\"2022-05-09T09:00:00\",\"2022-05-10T09:00:00\",\"2022-05-11T09:00:00\",\"2022-05-12T09:00:00\",\"2022-05-13T09:00:00\",\"2022-05-16T09:00:00\",\"2022-05-17T09:00:00\",\"2022-05-18T09:00:00\",\"2022-05-19T09:00:00\",\"2022-05-20T09:00:00\",\"2022-05-23T09:00:00\",\"2022-05-24T09:00:00\",\"2022-05-25T09:00:00\",\"2022-05-26T09:00:00\"],\"xaxis\":\"x\",\"y\":[4777883.618049788,5688569.297719328,1948224.927462063,null,27672090.04735798,15433474.518518161,7181589.05284904,9233181.890885849,5206323.139007171,4097956.411354029,3859089.2304085363,7054968.367629268,9997358.384021617,4293680.45881556,19973096.381051082,29014430.258897617,12899897.804065632,10223969.741053024,5372188.864760718,5272066.648441391,4130572.6516275825,10198191.538492376,5842959.404791947,3711383.8961056024,8119223.504205107,11041644.455866154,7825232.3334426815,6070012.086640437,11151478.661013678,7573618.420399724,13165658.065676305,9352488.865274161,5363205.148986933,9108818.681214945,9769905.979239091,9775881.175090617,7475024.113480082,4091209.763464057,18287495.30537748,8294702.780372985,4088121.017216846,9108785.171278263,6374186.879545995,5258475.244750296,5592133.014697114,32852605.477702457,7009899.230466526,6617681.79036957,4220652.366369254,4171139.1188468407,8201566.997469213,3743528.574354531,2124049.0493904157,2802912.6803259733,5726874.960530036,3680676.876236387,3625822.406426223,3097226.0747534777,3901655.447988255,4503036.129311864,9788048.994423853,8668601.081357436,7450334.141846405,5162721.782090221,3584119.6738605187,5743009.129322775,4882398.00883619,7458068.308466144,5968867.464443259,7620245.982591086,7379931.995098114,4821003.892640622,2512427.9934278075,1573733.877430001,6738741.292652824,2580389.449006029,2165077.210708743,6127105.4301777575,6866881.941294998,6575309.668660504,5954621.485573901,3839341.482861093,3664918.6043757875,4714495.15934694,4421887.7331123175,3256666.3562742188,7304587.5231726775,7433405.4005462965,8485841.217206657,5676871.044720745,11592547.222440835,18066949.370413773,5546562.980666972,3672790.596566903,2563522.2159590004,5025748.560185289,4623938.603871171,2436161.344802315,2276843.2014283747,2536256.7093426506,1350583.866454442,null],\"yaxis\":\"y\",\"type\":\"bar\"},{\"alignmentgroup\":\"True\",\"hovertemplate\":\"variable=XETR:ETHA<br>datetime=%{x}<br>value=%{y}<extra></extra>\",\"legendgroup\":\"XETR:ETHA\",\"marker\":{\"color\":\"#00cc96\",\"pattern\":{\"shape\":\"\"}},\"name\":\"XETR:ETHA\",\"offsetgroup\":\"XETR:ETHA\",\"orientation\":\"v\",\"showlegend\":true,\"textposition\":\"auto\",\"x\":[\"2022-01-03T09:00:00\",\"2022-01-04T09:00:00\",\"2022-01-05T09:00:00\",\"2022-01-06T09:00:00\",\"2022-01-07T09:00:00\",\"2022-01-10T09:00:00\",\"2022-01-11T09:00:00\",\"2022-01-12T09:00:00\",\"2022-01-13T09:00:00\",\"2022-01-14T09:00:00\",\"2022-01-17T09:00:00\",\"2022-01-18T09:00:00\",\"2022-01-19T09:00:00\",\"2022-01-20T09:00:00\",\"2022-01-21T09:00:00\",\"2022-01-24T09:00:00\",\"2022-01-25T09:00:00\",\"2022-01-26T09:00:00\",\"2022-01-27T09:00:00\",\"2022-01-28T09:00:00\",\"2022-01-31T09:00:00\",\"2022-02-01T09:00:00\",\"2022-02-02T09:00:00\",\"2022-02-03T09:00:00\",\"2022-02-04T09:00:00\",\"2022-02-07T09:00:00\",\"2022-02-08T09:00:00\",\"2022-02-09T09:00:00\",\"2022-02-10T09:00:00\",\"2022-02-11T09:00:00\",\"2022-02-14T09:00:00\",\"2022-02-15T09:00:00\",\"2022-02-16T09:00:00\",\"2022-02-17T09:00:00\",\"2022-02-18T09:00:00\",\"2022-02-21T09:00:00\",\"2022-02-22T09:00:00\",\"2022-02-23T09:00:00\",\"2022-02-24T09:00:00\",\"2022-02-25T09:00:00\",\"2022-02-28T09:00:00\",\"2022-03-01T09:00:00\",\"2022-03-02T09:00:00\",\"2022-03-03T09:00:00\",\"2022-03-04T09:00:00\",\"2022-03-07T09:00:00\",\"2022-03-08T09:00:00\",\"2022-03-09T09:00:00\",\"2022-03-10T09:00:00\",\"2022-03-11T09:00:00\",\"2022-03-14T09:00:00\",\"2022-03-15T09:00:00\",\"2022-03-16T09:00:00\",\"2022-03-17T09:00:00\",\"2022-03-18T09:00:00\",\"2022-03-21T09:00:00\",\"2022-03-22T09:00:00\",\"2022-03-23T09:00:00\",\"2022-03-24T09:00:00\",\"2022-03-25T09:00:00\",\"2022-03-28T09:00:00\",\"2022-03-29T09:00:00\",\"2022-03-30T09:00:00\",\"2022-03-31T09:00:00\",\"2022-04-01T09:00:00\",\"2022-04-04T09:00:00\",\"2022-04-05T09:00:00\",\"2022-04-06T09:00:00\",\"2022-04-07T09:00:00\",\"2022-04-08T09:00:00\",\"2022-04-11T09:00:00\",\"2022-04-12T09:00:00\",\"2022-04-13T09:00:00\",\"2022-04-14T09:00:00\",\"2022-04-19T09:00:00\",\"2022-04-20T09:00:00\",\"2022-04-21T09:00:00\",\"2022-04-22T09:00:00\",\"2022-04-25T09:00:00\",\"2022-04-26T09:00:00\",\"2022-04-27T09:00:00\",\"2022-04-28T09:00:00\",\"2022-04-29T09:00:00\",\"2022-05-02T09:00:00\",\"2022-05-03T09:00:00\",\"2022-05-04T09:00:00\",\"2022-05-05T09:00:00\",\"2022-05-06T09:00:00\",\"2022-05-09T09:00:00\",\"2022-05-10T09:00:00\",\"2022-05-11T09:00:00\",\"2022-05-12T09:00:00\",\"2022-05-13T09:00:00\",\"2022-05-16T09:00:00\",\"2022-05-17T09:00:00\",\"2022-05-18T09:00:00\",\"2022-05-19T09:00:00\",\"2022-05-20T09:00:00\",\"2022-05-23T09:00:00\",\"2022-05-24T09:00:00\",\"2022-05-25T09:00:00\",\"2022-05-26T09:00:00\"],\"xaxis\":\"x\",\"y\":[null,null,787273.8400771313,6335005.623583359,6391702.680864793,5287909.092102292,1769311.081979923,3892111.611220917,2806931.7464176267,1782120.0938919962,483091.3987492987,2333523.7198602157,4945046.263024554,1488702.5216924825,6598252.396284476,10075502.765548404,6824194.509453098,3942752.81718017,5459044.568626611,4832561.801975761,6699374.111046243,6628462.111993787,2179937.204278278,1349440.5334442486,5439395.431681274,3853613.4709775806,4399985.929073812,2165830.5290458393,1963661.9674032587,908225.4276631175,4134649.169799353,2105662.7109193583,683598.4197696516,902333.0098371743,2496342.404105822,4209847.922266993,2536049.05778347,1285632.6083938698,3226047.8340003514,1849286.7352484916,3813135.7237917855,3798957.3502445123,3743691.5439074947,1449355.261448611,1486452.972912175,1258321.3597676503,1256693.8548445443,1655631.532440417,1484648.8843465275,1885966.523703727,2469010.7752653398,608925.7153026669,845247.6659015905,3327232.9598055407,2871931.5036285752,1381548.3082741348,994720.1422037582,2086731.4974284333,2230007.736511813,1918584.4603111097,2345156.1112030665,1877252.426265034,732085.1858976751,526688.7537911109,1636188.7410903412,740216.2026770841,1683290.483668439,1043364.2287467533,1882240.167362437,8064091.02792111,3137339.623386298,3525578.8833324653,1942282.7967328902,1674461.8199401852,2020002.9667222905,380767.07399189135,334686.3627391295,2220724.7539689885,1783884.1900895666,564869.5146183461,694764.8934732795,1346043.0104793105,2133997.499738951,809802.6624997263,636214.6396488061,302544.10773811775,740447.726006858,1503096.4143175425,1425550.015297103,2353990.3367114854,3618325.789649228,4891574.954772001,2589751.4554309943,1019256.1207344856,2409953.7883208124,1373600.3063381598,691031.0856554329,1100055.0877516242,2159286.417381713,1378263.791486845,171112.40960602323,687766.7270357563],\"yaxis\":\"y\",\"type\":\"bar\"},{\"alignmentgroup\":\"True\",\"hovertemplate\":\"variable=OMXSTO:ETHEREUM_XBTE<br>datetime=%{x}<br>value=%{y}<extra></extra>\",\"legendgroup\":\"OMXSTO:ETHEREUM_XBTE\",\"marker\":{\"color\":\"#ab63fa\",\"pattern\":{\"shape\":\"\"}},\"name\":\"OMXSTO:ETHEREUM_XBTE\",\"offsetgroup\":\"OMXSTO:ETHEREUM_XBTE\",\"orientation\":\"v\",\"showlegend\":true,\"textposition\":\"auto\",\"x\":[\"2022-01-03T09:00:00\",\"2022-01-04T09:00:00\",\"2022-01-05T09:00:00\",\"2022-01-06T09:00:00\",\"2022-01-07T09:00:00\",\"2022-01-10T09:00:00\",\"2022-01-11T09:00:00\",\"2022-01-12T09:00:00\",\"2022-01-13T09:00:00\",\"2022-01-14T09:00:00\",\"2022-01-17T09:00:00\",\"2022-01-18T09:00:00\",\"2022-01-19T09:00:00\",\"2022-01-20T09:00:00\",\"2022-01-21T09:00:00\",\"2022-01-24T09:00:00\",\"2022-01-25T09:00:00\",\"2022-01-26T09:00:00\",\"2022-01-27T09:00:00\",\"2022-01-28T09:00:00\",\"2022-01-31T09:00:00\",\"2022-02-01T09:00:00\",\"2022-02-02T09:00:00\",\"2022-02-03T09:00:00\",\"2022-02-04T09:00:00\",\"2022-02-07T09:00:00\",\"2022-02-08T09:00:00\",\"2022-02-09T09:00:00\",\"2022-02-10T09:00:00\",\"2022-02-11T09:00:00\",\"2022-02-14T09:00:00\",\"2022-02-15T09:00:00\",\"2022-02-16T09:00:00\",\"2022-02-17T09:00:00\",\"2022-02-18T09:00:00\",\"2022-02-21T09:00:00\",\"2022-02-22T09:00:00\",\"2022-02-23T09:00:00\",\"2022-02-24T09:00:00\",\"2022-02-25T09:00:00\",\"2022-02-28T09:00:00\",\"2022-03-01T09:00:00\",\"2022-03-02T09:00:00\",\"2022-03-03T09:00:00\",\"2022-03-04T09:00:00\",\"2022-03-07T09:00:00\",\"2022-03-08T09:00:00\",\"2022-03-09T09:00:00\",\"2022-03-10T09:00:00\",\"2022-03-11T09:00:00\",\"2022-03-14T09:00:00\",\"2022-03-15T09:00:00\",\"2022-03-16T09:00:00\",\"2022-03-17T09:00:00\",\"2022-03-18T09:00:00\",\"2022-03-21T09:00:00\",\"2022-03-22T09:00:00\",\"2022-03-23T09:00:00\",\"2022-03-24T09:00:00\",\"2022-03-25T09:00:00\",\"2022-03-28T09:00:00\",\"2022-03-29T09:00:00\",\"2022-03-30T09:00:00\",\"2022-03-31T09:00:00\",\"2022-04-01T09:00:00\",\"2022-04-04T09:00:00\",\"2022-04-05T09:00:00\",\"2022-04-06T09:00:00\",\"2022-04-07T09:00:00\",\"2022-04-08T09:00:00\",\"2022-04-11T09:00:00\",\"2022-04-12T09:00:00\",\"2022-04-13T09:00:00\",\"2022-04-14T09:00:00\",\"2022-04-19T09:00:00\",\"2022-04-20T09:00:00\",\"2022-04-21T09:00:00\",\"2022-04-22T09:00:00\",\"2022-04-25T09:00:00\",\"2022-04-26T09:00:00\",\"2022-04-27T09:00:00\",\"2022-04-28T09:00:00\",\"2022-04-29T09:00:00\",\"2022-05-02T09:00:00\",\"2022-05-03T09:00:00\",\"2022-05-04T09:00:00\",\"2022-05-05T09:00:00\",\"2022-05-06T09:00:00\",\"2022-05-09T09:00:00\",\"2022-05-10T09:00:00\",\"2022-05-11T09:00:00\",\"2022-05-12T09:00:00\",\"2022-05-13T09:00:00\",\"2022-05-16T09:00:00\",\"2022-05-17T09:00:00\",\"2022-05-18T09:00:00\",\"2022-05-19T09:00:00\",\"2022-05-20T09:00:00\",\"2022-05-23T09:00:00\",\"2022-05-24T09:00:00\",\"2022-05-25T09:00:00\",\"2022-05-26T09:00:00\"],\"xaxis\":\"x\",\"y\":[4754471.812379131,3767359.8586040013,1655696.3540677975,null,23119068.7353588,11949409.221514462,6805807.82696764,8651415.780988427,4110916.020369555,3344517.9485928053,2793521.414950117,4442942.016736368,5246517.129028408,1753750.1544060765,15099585.60425443,30315707.966201436,10910465.56728324,6578413.592855667,3801463.6068469533,3482009.548540036,6665104.653840509,5543353.146930613,3215818.611649364,5076400.3281501625,7064986.187447831,8939473.644944195,2528172.6122472677,2451549.9715483347,4258167.395694258,1821844.9346898303,6121570.638675959,3739601.9991610073,4218934.24975736,3161616.082092916,12532713.265980788,19865422.969538998,4604569.644781865,3086255.851754317,8600669.456925375,4790776.786262629,2718277.8623856003,7134678.2478802055,4755630.524671314,2817731.9452454387,3431542.391206721,5369105.025435757,3040700.444677824,3380649.562803686,3120232.313041396,2266111.28012031,1308940.6445917806,1544911.6148735771,3322020.8088795124,2387598.181279305,2602151.311478196,2995469.43723708,2445100.20869898,1440400.87431445,3305244.957028985,5567108.334306838,4518610.77572049,4053208.5468616807,6125250.644168016,3138972.7535424302,2504712.2003050204,2644370.4454515805,5447489.624688447,4945836.44615054,3455961.741164575,4665974.465126293,6908508.495910103,3689086.145536076,5380119.9464907525,2207256.760503356,3350070.134606117,1445756.7827529854,1170261.4199439653,1540667.695956861,6026956.319666787,2915262.7972476,3005874.2873283057,2395287.4400658663,5263687.892628247,2890274.4619870284,940913.5350616348,1592349.3933965098,3247622.926109268,5399066.969881757,8426673.170571567,12177957.665223882,17300258.69168217,12122734.981430998,7179485.690467974,4666533.460514847,2751719.736188145,1661656.6915231482,3058634.2953055273,2403346.1091321986,4730430.197825698,4255607.734152294,1426475.7903513603,null],\"yaxis\":\"y\",\"type\":\"bar\"},{\"alignmentgroup\":\"True\",\"hovertemplate\":\"variable=SIX:AETH.USD<br>datetime=%{x}<br>value=%{y}<extra></extra>\",\"legendgroup\":\"SIX:AETH.USD\",\"marker\":{\"color\":\"#FFA15A\",\"pattern\":{\"shape\":\"\"}},\"name\":\"SIX:AETH.USD\",\"offsetgroup\":\"SIX:AETH.USD\",\"orientation\":\"v\",\"showlegend\":true,\"textposition\":\"auto\",\"x\":[\"2022-01-03T09:00:00\",\"2022-01-04T09:00:00\",\"2022-01-05T09:00:00\",\"2022-01-06T09:00:00\",\"2022-01-07T09:00:00\",\"2022-01-10T09:00:00\",\"2022-01-11T09:00:00\",\"2022-01-12T09:00:00\",\"2022-01-13T09:00:00\",\"2022-01-14T09:00:00\",\"2022-01-17T09:00:00\",\"2022-01-18T09:00:00\",\"2022-01-19T09:00:00\",\"2022-01-20T09:00:00\",\"2022-01-21T09:00:00\",\"2022-01-24T09:00:00\",\"2022-01-25T09:00:00\",\"2022-01-26T09:00:00\",\"2022-01-27T09:00:00\",\"2022-01-28T09:00:00\",\"2022-01-31T09:00:00\",\"2022-02-01T09:00:00\",\"2022-02-02T09:00:00\",\"2022-02-03T09:00:00\",\"2022-02-04T09:00:00\",\"2022-02-07T09:00:00\",\"2022-02-08T09:00:00\",\"2022-02-09T09:00:00\",\"2022-02-10T09:00:00\",\"2022-02-11T09:00:00\",\"2022-02-14T09:00:00\",\"2022-02-15T09:00:00\",\"2022-02-16T09:00:00\",\"2022-02-17T09:00:00\",\"2022-02-18T09:00:00\",\"2022-02-21T09:00:00\",\"2022-02-22T09:00:00\",\"2022-02-23T09:00:00\",\"2022-02-24T09:00:00\",\"2022-02-25T09:00:00\",\"2022-02-28T09:00:00\",\"2022-03-01T09:00:00\",\"2022-03-02T09:00:00\",\"2022-03-03T09:00:00\",\"2022-03-04T09:00:00\",\"2022-03-07T09:00:00\",\"2022-03-08T09:00:00\",\"2022-03-09T09:00:00\",\"2022-03-10T09:00:00\",\"2022-03-11T09:00:00\",\"2022-03-14T09:00:00\",\"2022-03-15T09:00:00\",\"2022-03-16T09:00:00\",\"2022-03-17T09:00:00\",\"2022-03-18T09:00:00\",\"2022-03-21T09:00:00\",\"2022-03-22T09:00:00\",\"2022-03-23T09:00:00\",\"2022-03-24T09:00:00\",\"2022-03-25T09:00:00\",\"2022-03-28T09:00:00\",\"2022-03-29T09:00:00\",\"2022-03-30T09:00:00\",\"2022-03-31T09:00:00\",\"2022-04-01T09:00:00\",\"2022-04-04T09:00:00\",\"2022-04-05T09:00:00\",\"2022-04-06T09:00:00\",\"2022-04-07T09:00:00\",\"2022-04-08T09:00:00\",\"2022-04-11T09:00:00\",\"2022-04-12T09:00:00\",\"2022-04-13T09:00:00\",\"2022-04-14T09:00:00\",\"2022-04-19T09:00:00\",\"2022-04-20T09:00:00\",\"2022-04-21T09:00:00\",\"2022-04-22T09:00:00\",\"2022-04-25T09:00:00\",\"2022-04-26T09:00:00\",\"2022-04-27T09:00:00\",\"2022-04-28T09:00:00\",\"2022-04-29T09:00:00\",\"2022-05-02T09:00:00\",\"2022-05-03T09:00:00\",\"2022-05-04T09:00:00\",\"2022-05-05T09:00:00\",\"2022-05-06T09:00:00\",\"2022-05-09T09:00:00\",\"2022-05-10T09:00:00\",\"2022-05-11T09:00:00\",\"2022-05-12T09:00:00\",\"2022-05-13T09:00:00\",\"2022-05-16T09:00:00\",\"2022-05-17T09:00:00\",\"2022-05-18T09:00:00\",\"2022-05-19T09:00:00\",\"2022-05-20T09:00:00\",\"2022-05-23T09:00:00\",\"2022-05-24T09:00:00\",\"2022-05-25T09:00:00\",\"2022-05-26T09:00:00\"],\"xaxis\":\"x\",\"y\":[null,1714389.99,489459.42269700003,14860217.5683255,8057740.240113,6385955.481466,975770.3006422499,6495853.2209415,2667560.7196627497,881301.4951950001,795029.8179547498,3051001.17875,4470317.569088,462161.8625,9064350.487499999,7594462.833516,7372200.9825,2704711.40625,518566.06901575,495713.34087,7966244.0910640005,5021765.917876749,1331702.14529625,3059485.8525,1985013.6360614998,5242045.912301,5808983.08551075,1841265.0506992498,1077293.6774865,479655.81119000004,4737181.35570625,3092799.84,1103248.8662265,1573473.721926,1266470.5327625,4425776.7,4806180.49875,569567.1243345,4636662.9311235,1410451.89,5803717.96875,1947144.0624999998,4454194.158258,948320.0585415001,742589.9249999999,1023997.086706,424611.491283,841684.07936025,499066.535,5424033.4539645,1408384.34,512582.124492,1016452.92,910521.99375,621932.8597650001,982004.1525000001,828986.16269,1306986.9531855,1615634.9975,1616500.908484,2583979.0934782503,2349390.645,1014420.07420425,666062.284902,980623.1412500002,1834411.6681360002,1099854.755916,909241.08902825,4422741.23843475,3811394.158252001,1033534.392362,3400343.56014675,3189593.13992,498100.69812,562950.945675,1088223.1316302503,583785.63,4357721.527353,1539282.6754125,2930888.8950000005,1168288.55288975,608973.9249999999,469422.97146449995,934376.5364895,695811.58824625,185132.75292700002,1928463.2295730002,1099436.2681725,2210944.21,1443100.7626467498,2750475.7831110004,4423442.21325,1590853.2094845,960575.4736230001,2769414.975,1359714.4246810002,628250.3969805,742276.6258215,1688180.08962075,871473.08499625,1005021.3485585,null],\"yaxis\":\"y\",\"type\":\"bar\"},{\"alignmentgroup\":\"True\",\"hovertemplate\":\"variable=XETR:ZETH<br>datetime=%{x}<br>value=%{y}<extra></extra>\",\"legendgroup\":\"XETR:ZETH\",\"marker\":{\"color\":\"#19d3f3\",\"pattern\":{\"shape\":\"\"}},\"name\":\"XETR:ZETH\",\"offsetgroup\":\"XETR:ZETH\",\"orientation\":\"v\",\"showlegend\":true,\"textposition\":\"auto\",\"x\":[\"2022-01-03T09:00:00\",\"2022-01-04T09:00:00\",\"2022-01-05T09:00:00\",\"2022-01-06T09:00:00\",\"2022-01-07T09:00:00\",\"2022-01-10T09:00:00\",\"2022-01-11T09:00:00\",\"2022-01-12T09:00:00\",\"2022-01-13T09:00:00\",\"2022-01-14T09:00:00\",\"2022-01-17T09:00:00\",\"2022-01-18T09:00:00\",\"2022-01-19T09:00:00\",\"2022-01-20T09:00:00\",\"2022-01-21T09:00:00\",\"2022-01-24T09:00:00\",\"2022-01-25T09:00:00\",\"2022-01-26T09:00:00\",\"2022-01-27T09:00:00\",\"2022-01-28T09:00:00\",\"2022-01-31T09:00:00\",\"2022-02-01T09:00:00\",\"2022-02-02T09:00:00\",\"2022-02-03T09:00:00\",\"2022-02-04T09:00:00\",\"2022-02-07T09:00:00\",\"2022-02-08T09:00:00\",\"2022-02-09T09:00:00\",\"2022-02-10T09:00:00\",\"2022-02-11T09:00:00\",\"2022-02-14T09:00:00\",\"2022-02-15T09:00:00\",\"2022-02-16T09:00:00\",\"2022-02-17T09:00:00\",\"2022-02-18T09:00:00\",\"2022-02-21T09:00:00\",\"2022-02-22T09:00:00\",\"2022-02-23T09:00:00\",\"2022-02-24T09:00:00\",\"2022-02-25T09:00:00\",\"2022-02-28T09:00:00\",\"2022-03-01T09:00:00\",\"2022-03-02T09:00:00\",\"2022-03-03T09:00:00\",\"2022-03-04T09:00:00\",\"2022-03-07T09:00:00\",\"2022-03-08T09:00:00\",\"2022-03-09T09:00:00\",\"2022-03-10T09:00:00\",\"2022-03-11T09:00:00\",\"2022-03-14T09:00:00\",\"2022-03-15T09:00:00\",\"2022-03-16T09:00:00\",\"2022-03-17T09:00:00\",\"2022-03-18T09:00:00\",\"2022-03-21T09:00:00\",\"2022-03-22T09:00:00\",\"2022-03-23T09:00:00\",\"2022-03-24T09:00:00\",\"2022-03-25T09:00:00\",\"2022-03-28T09:00:00\",\"2022-03-29T09:00:00\",\"2022-03-30T09:00:00\",\"2022-03-31T09:00:00\",\"2022-04-01T09:00:00\",\"2022-04-04T09:00:00\",\"2022-04-05T09:00:00\",\"2022-04-06T09:00:00\",\"2022-04-07T09:00:00\",\"2022-04-08T09:00:00\",\"2022-04-11T09:00:00\",\"2022-04-12T09:00:00\",\"2022-04-13T09:00:00\",\"2022-04-14T09:00:00\",\"2022-04-19T09:00:00\",\"2022-04-20T09:00:00\",\"2022-04-21T09:00:00\",\"2022-04-22T09:00:00\",\"2022-04-25T09:00:00\",\"2022-04-26T09:00:00\",\"2022-04-27T09:00:00\",\"2022-04-28T09:00:00\",\"2022-04-29T09:00:00\",\"2022-05-02T09:00:00\",\"2022-05-03T09:00:00\",\"2022-05-04T09:00:00\",\"2022-05-05T09:00:00\",\"2022-05-06T09:00:00\",\"2022-05-09T09:00:00\",\"2022-05-10T09:00:00\",\"2022-05-11T09:00:00\",\"2022-05-12T09:00:00\",\"2022-05-13T09:00:00\",\"2022-05-16T09:00:00\",\"2022-05-17T09:00:00\",\"2022-05-18T09:00:00\",\"2022-05-19T09:00:00\",\"2022-05-20T09:00:00\",\"2022-05-23T09:00:00\",\"2022-05-24T09:00:00\",\"2022-05-25T09:00:00\",\"2022-05-26T09:00:00\"],\"xaxis\":\"x\",\"y\":[null,null,5989558.478328913,25675184.33289738,9465147.531210566,29270038.10312036,3762640.5626221416,7430129.787850801,2415090.1767011397,5387852.493751729,928850.5421098988,4696929.849587267,3839329.016774716,1831739.081161298,7028639.2503993735,21775650.946802635,5973231.3405848425,4472261.872362216,12391476.760708792,6622380.836433265,5518591.658915371,5532910.540984526,3698854.6174975685,3453235.9350160393,8051559.779899442,3370667.880647806,4038124.101847041,2904526.088335194,4127571.034460908,2142971.6696543144,1585084.2377818734,2866318.780104275,4513866.877661467,3123793.141971999,5085712.604843289,1898193.7113189911,1981897.3812789514,3340510.2201427342,9882231.175673576,2074608.243769564,2302615.5064292164,3280328.0403691065,2767937.556779712,2976278.368924029,2888074.0611170707,4368242.266241536,2650899.6537811356,2629986.8140506954,3122120.7347053383,904995.4966685381,1696977.5580746836,819401.7579272296,2560756.664110848,2285854.165091811,1323710.160177465,528818.5492054988,7522364.005451142,8821791.06902344,20415281.533580355,8725827.25504921,8599762.980797952,10003955.920060078,5908565.68327971,1977224.0588476832,2115168.485324662,2896590.077884431,3015103.416818309,14577903.545774654,12333959.417529233,10148875.003146408,17721317.828124497,12045763.26409401,7605268.70331259,2260234.080231028,10302023.951455977,2917511.7316226726,2087300.286517618,4086836.8096347884,7539274.716530752,3615591.4072697144,3755844.870451829,5552468.829154287,12157538.584540294,3944835.409706554,1011148.8689709067,1316756.268922729,1849852.332282436,3037814.017983028,4937469.388976711,13367823.220801767,16125900.80016578,3775362.9897698015,3069293.8965333966,2257302.4417007747,1873798.5864086316,837446.449858814,1847536.3582028842,910502.823449134,1067704.9712499662,1514316.3658195909,933719.0731343859,542067.5158271225],\"yaxis\":\"y\",\"type\":\"bar\"}],                        {\"template\":{\"data\":{\"histogram2dcontour\":[{\"type\":\"histogram2dcontour\",\"colorbar\":{\"outlinewidth\":0,\"ticks\":\"\"},\"colorscale\":[[0.0,\"#0d0887\"],[0.1111111111111111,\"#46039f\"],[0.2222222222222222,\"#7201a8\"],[0.3333333333333333,\"#9c179e\"],[0.4444444444444444,\"#bd3786\"],[0.5555555555555556,\"#d8576b\"],[0.6666666666666666,\"#ed7953\"],[0.7777777777777778,\"#fb9f3a\"],[0.8888888888888888,\"#fdca26\"],[1.0,\"#f0f921\"]]}],\"choropleth\":[{\"type\":\"choropleth\",\"colorbar\":{\"outlinewidth\":0,\"ticks\":\"\"}}],\"histogram2d\":[{\"type\":\"histogram2d\",\"colorbar\":{\"outlinewidth\":0,\"ticks\":\"\"},\"colorscale\":[[0.0,\"#0d0887\"],[0.1111111111111111,\"#46039f\"],[0.2222222222222222,\"#7201a8\"],[0.3333333333333333,\"#9c179e\"],[0.4444444444444444,\"#bd3786\"],[0.5555555555555556,\"#d8576b\"],[0.6666666666666666,\"#ed7953\"],[0.7777777777777778,\"#fb9f3a\"],[0.8888888888888888,\"#fdca26\"],[1.0,\"#f0f921\"]]}],\"heatmap\":[{\"type\":\"heatmap\",\"colorbar\":{\"outlinewidth\":0,\"ticks\":\"\"},\"colorscale\":[[0.0,\"#0d0887\"],[0.1111111111111111,\"#46039f\"],[0.2222222222222222,\"#7201a8\"],[0.3333333333333333,\"#9c179e\"],[0.4444444444444444,\"#bd3786\"],[0.5555555555555556,\"#d8576b\"],[0.6666666666666666,\"#ed7953\"],[0.7777777777777778,\"#fb9f3a\"],[0.8888888888888888,\"#fdca26\"],[1.0,\"#f0f921\"]]}],\"heatmapgl\":[{\"type\":\"heatmapgl\",\"colorbar\":{\"outlinewidth\":0,\"ticks\":\"\"},\"colorscale\":[[0.0,\"#0d0887\"],[0.1111111111111111,\"#46039f\"],[0.2222222222222222,\"#7201a8\"],[0.3333333333333333,\"#9c179e\"],[0.4444444444444444,\"#bd3786\"],[0.5555555555555556,\"#d8576b\"],[0.6666666666666666,\"#ed7953\"],[0.7777777777777778,\"#fb9f3a\"],[0.8888888888888888,\"#fdca26\"],[1.0,\"#f0f921\"]]}],\"contourcarpet\":[{\"type\":\"contourcarpet\",\"colorbar\":{\"outlinewidth\":0,\"ticks\":\"\"}}],\"contour\":[{\"type\":\"contour\",\"colorbar\":{\"outlinewidth\":0,\"ticks\":\"\"},\"colorscale\":[[0.0,\"#0d0887\"],[0.1111111111111111,\"#46039f\"],[0.2222222222222222,\"#7201a8\"],[0.3333333333333333,\"#9c179e\"],[0.4444444444444444,\"#bd3786\"],[0.5555555555555556,\"#d8576b\"],[0.6666666666666666,\"#ed7953\"],[0.7777777777777778,\"#fb9f3a\"],[0.8888888888888888,\"#fdca26\"],[1.0,\"#f0f921\"]]}],\"surface\":[{\"type\":\"surface\",\"colorbar\":{\"outlinewidth\":0,\"ticks\":\"\"},\"colorscale\":[[0.0,\"#0d0887\"],[0.1111111111111111,\"#46039f\"],[0.2222222222222222,\"#7201a8\"],[0.3333333333333333,\"#9c179e\"],[0.4444444444444444,\"#bd3786\"],[0.5555555555555556,\"#d8576b\"],[0.6666666666666666,\"#ed7953\"],[0.7777777777777778,\"#fb9f3a\"],[0.8888888888888888,\"#fdca26\"],[1.0,\"#f0f921\"]]}],\"mesh3d\":[{\"type\":\"mesh3d\",\"colorbar\":{\"outlinewidth\":0,\"ticks\":\"\"}}],\"scatter\":[{\"fillpattern\":{\"fillmode\":\"overlay\",\"size\":10,\"solidity\":0.2},\"type\":\"scatter\"}],\"parcoords\":[{\"type\":\"parcoords\",\"line\":{\"colorbar\":{\"outlinewidth\":0,\"ticks\":\"\"}}}],\"scatterpolargl\":[{\"type\":\"scatterpolargl\",\"marker\":{\"colorbar\":{\"outlinewidth\":0,\"ticks\":\"\"}}}],\"bar\":[{\"error_x\":{\"color\":\"#2a3f5f\"},\"error_y\":{\"color\":\"#2a3f5f\"},\"marker\":{\"line\":{\"color\":\"#E5ECF6\",\"width\":0.5},\"pattern\":{\"fillmode\":\"overlay\",\"size\":10,\"solidity\":0.2}},\"type\":\"bar\"}],\"scattergeo\":[{\"type\":\"scattergeo\",\"marker\":{\"colorbar\":{\"outlinewidth\":0,\"ticks\":\"\"}}}],\"scatterpolar\":[{\"type\":\"scatterpolar\",\"marker\":{\"colorbar\":{\"outlinewidth\":0,\"ticks\":\"\"}}}],\"histogram\":[{\"marker\":{\"pattern\":{\"fillmode\":\"overlay\",\"size\":10,\"solidity\":0.2}},\"type\":\"histogram\"}],\"scattergl\":[{\"type\":\"scattergl\",\"marker\":{\"colorbar\":{\"outlinewidth\":0,\"ticks\":\"\"}}}],\"scatter3d\":[{\"type\":\"scatter3d\",\"line\":{\"colorbar\":{\"outlinewidth\":0,\"ticks\":\"\"}},\"marker\":{\"colorbar\":{\"outlinewidth\":0,\"ticks\":\"\"}}}],\"scattermapbox\":[{\"type\":\"scattermapbox\",\"marker\":{\"colorbar\":{\"outlinewidth\":0,\"ticks\":\"\"}}}],\"scatterternary\":[{\"type\":\"scatterternary\",\"marker\":{\"colorbar\":{\"outlinewidth\":0,\"ticks\":\"\"}}}],\"scattercarpet\":[{\"type\":\"scattercarpet\",\"marker\":{\"colorbar\":{\"outlinewidth\":0,\"ticks\":\"\"}}}],\"carpet\":[{\"aaxis\":{\"endlinecolor\":\"#2a3f5f\",\"gridcolor\":\"white\",\"linecolor\":\"white\",\"minorgridcolor\":\"white\",\"startlinecolor\":\"#2a3f5f\"},\"baxis\":{\"endlinecolor\":\"#2a3f5f\",\"gridcolor\":\"white\",\"linecolor\":\"white\",\"minorgridcolor\":\"white\",\"startlinecolor\":\"#2a3f5f\"},\"type\":\"carpet\"}],\"table\":[{\"cells\":{\"fill\":{\"color\":\"#EBF0F8\"},\"line\":{\"color\":\"white\"}},\"header\":{\"fill\":{\"color\":\"#C8D4E3\"},\"line\":{\"color\":\"white\"}},\"type\":\"table\"}],\"barpolar\":[{\"marker\":{\"line\":{\"color\":\"#E5ECF6\",\"width\":0.5},\"pattern\":{\"fillmode\":\"overlay\",\"size\":10,\"solidity\":0.2}},\"type\":\"barpolar\"}],\"pie\":[{\"automargin\":true,\"type\":\"pie\"}]},\"layout\":{\"autotypenumbers\":\"strict\",\"colorway\":[\"#636efa\",\"#EF553B\",\"#00cc96\",\"#ab63fa\",\"#FFA15A\",\"#19d3f3\",\"#FF6692\",\"#B6E880\",\"#FF97FF\",\"#FECB52\"],\"font\":{\"color\":\"#2a3f5f\"},\"hovermode\":\"closest\",\"hoverlabel\":{\"align\":\"left\"},\"paper_bgcolor\":\"white\",\"plot_bgcolor\":\"#E5ECF6\",\"polar\":{\"bgcolor\":\"#E5ECF6\",\"angularaxis\":{\"gridcolor\":\"white\",\"linecolor\":\"white\",\"ticks\":\"\"},\"radialaxis\":{\"gridcolor\":\"white\",\"linecolor\":\"white\",\"ticks\":\"\"}},\"ternary\":{\"bgcolor\":\"#E5ECF6\",\"aaxis\":{\"gridcolor\":\"white\",\"linecolor\":\"white\",\"ticks\":\"\"},\"baxis\":{\"gridcolor\":\"white\",\"linecolor\":\"white\",\"ticks\":\"\"},\"caxis\":{\"gridcolor\":\"white\",\"linecolor\":\"white\",\"ticks\":\"\"}},\"coloraxis\":{\"colorbar\":{\"outlinewidth\":0,\"ticks\":\"\"}},\"colorscale\":{\"sequential\":[[0.0,\"#0d0887\"],[0.1111111111111111,\"#46039f\"],[0.2222222222222222,\"#7201a8\"],[0.3333333333333333,\"#9c179e\"],[0.4444444444444444,\"#bd3786\"],[0.5555555555555556,\"#d8576b\"],[0.6666666666666666,\"#ed7953\"],[0.7777777777777778,\"#fb9f3a\"],[0.8888888888888888,\"#fdca26\"],[1.0,\"#f0f921\"]],\"sequentialminus\":[[0.0,\"#0d0887\"],[0.1111111111111111,\"#46039f\"],[0.2222222222222222,\"#7201a8\"],[0.3333333333333333,\"#9c179e\"],[0.4444444444444444,\"#bd3786\"],[0.5555555555555556,\"#d8576b\"],[0.6666666666666666,\"#ed7953\"],[0.7777777777777778,\"#fb9f3a\"],[0.8888888888888888,\"#fdca26\"],[1.0,\"#f0f921\"]],\"diverging\":[[0,\"#8e0152\"],[0.1,\"#c51b7d\"],[0.2,\"#de77ae\"],[0.3,\"#f1b6da\"],[0.4,\"#fde0ef\"],[0.5,\"#f7f7f7\"],[0.6,\"#e6f5d0\"],[0.7,\"#b8e186\"],[0.8,\"#7fbc41\"],[0.9,\"#4d9221\"],[1,\"#276419\"]]},\"xaxis\":{\"gridcolor\":\"white\",\"linecolor\":\"white\",\"ticks\":\"\",\"title\":{\"standoff\":15},\"zerolinecolor\":\"white\",\"automargin\":true,\"zerolinewidth\":2},\"yaxis\":{\"gridcolor\":\"white\",\"linecolor\":\"white\",\"ticks\":\"\",\"title\":{\"standoff\":15},\"zerolinecolor\":\"white\",\"automargin\":true,\"zerolinewidth\":2},\"scene\":{\"xaxis\":{\"backgroundcolor\":\"#E5ECF6\",\"gridcolor\":\"white\",\"linecolor\":\"white\",\"showbackground\":true,\"ticks\":\"\",\"zerolinecolor\":\"white\",\"gridwidth\":2},\"yaxis\":{\"backgroundcolor\":\"#E5ECF6\",\"gridcolor\":\"white\",\"linecolor\":\"white\",\"showbackground\":true,\"ticks\":\"\",\"zerolinecolor\":\"white\",\"gridwidth\":2},\"zaxis\":{\"backgroundcolor\":\"#E5ECF6\",\"gridcolor\":\"white\",\"linecolor\":\"white\",\"showbackground\":true,\"ticks\":\"\",\"zerolinecolor\":\"white\",\"gridwidth\":2}},\"shapedefaults\":{\"line\":{\"color\":\"#2a3f5f\"}},\"annotationdefaults\":{\"arrowcolor\":\"#2a3f5f\",\"arrowhead\":0,\"arrowwidth\":1},\"geo\":{\"bgcolor\":\"white\",\"landcolor\":\"#E5ECF6\",\"subunitcolor\":\"white\",\"showland\":true,\"showlakes\":true,\"lakecolor\":\"white\"},\"title\":{\"x\":0.05},\"mapbox\":{\"style\":\"light\"}}},\"xaxis\":{\"anchor\":\"y\",\"domain\":[0.0,1.0],\"title\":{\"text\":\"datetime\"}},\"yaxis\":{\"anchor\":\"x\",\"domain\":[0.0,1.0],\"title\":{\"text\":\"value\"}},\"legend\":{\"title\":{\"text\":\"variable\"},\"tracegroupgap\":0},\"margin\":{\"t\":60},\"barmode\":\"relative\"},                        {\"responsive\": true}                    ).then(function(){\n",
       "                            \n",
       "var gd = document.getElementById('3e999ca1-2c4b-4f01-8ba1-6e53b61d7a52');\n",
       "var x = new MutationObserver(function (mutations, observer) {{\n",
       "        var display = window.getComputedStyle(gd).display;\n",
       "        if (!display || display === 'none') {{\n",
       "            console.log([gd, 'removed!']);\n",
       "            Plotly.purge(gd);\n",
       "            observer.disconnect();\n",
       "        }}\n",
       "}});\n",
       "\n",
       "// Listen for the removal of the full notebook cells\n",
       "var notebookContainer = gd.closest('#notebook-container');\n",
       "if (notebookContainer) {{\n",
       "    x.observe(notebookContainer, {childList: true});\n",
       "}}\n",
       "\n",
       "// Listen for the clearing of the current output cell\n",
       "var outputEl = gd.closest('.output');\n",
       "if (outputEl) {{\n",
       "    x.observe(outputEl, {childList: true});\n",
       "}}\n",
       "\n",
       "                        })                };                });            </script>        </div>"
      ]
     },
     "metadata": {},
     "output_type": "display_data"
    }
   ],
   "source": [
    "px.bar(pivot_BTC, x='datetime', y=['NGM:BTC.ZERO.SEK', 'OMXSTO:BITCOIN_XBT'])\n",
    "px.bar(pivot_ETH, x='datetime', y=['NGM:ETH.ZERO.SEK', 'OMXSTO:ETHEREUM_XBT', 'XETR:ETHA', 'OMXSTO:ETHEREUM_XBTE', 'SIX:AETH.USD', 'XETR:ZETH'])"
   ]
  },
  {
   "cell_type": "code",
   "execution_count": null,
   "metadata": {},
   "outputs": [],
   "source": []
  }
 ],
 "metadata": {
  "interpreter": {
   "hash": "9afd7930ea41aca4dca851dc39ab6ff3d75a4a3db34e3c4d0afa88e8123d7315"
  },
  "kernelspec": {
   "display_name": "Python 3.9.7 ('base')",
   "language": "python",
   "name": "python3"
  },
  "language_info": {
   "codemirror_mode": {
    "name": "ipython",
    "version": 3
   },
   "file_extension": ".py",
   "mimetype": "text/x-python",
   "name": "python",
   "nbconvert_exporter": "python",
   "pygments_lexer": "ipython3",
   "version": "3.9.12"
  }
 },
 "nbformat": 4,
 "nbformat_minor": 2
}
