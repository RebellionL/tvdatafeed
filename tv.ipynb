{
 "cells": [
  {
   "cell_type": "code",
   "execution_count": 164,
   "metadata": {},
   "outputs": [
    {
     "data": {
      "text/html": [
       "        <script type=\"text/javascript\">\n",
       "        window.PlotlyConfig = {MathJaxConfig: 'local'};\n",
       "        if (window.MathJax && window.MathJax.Hub && window.MathJax.Hub.Config) {window.MathJax.Hub.Config({SVG: {font: \"STIX-Web\"}});}\n",
       "        if (typeof require !== 'undefined') {\n",
       "        require.undef(\"plotly\");\n",
       "        requirejs.config({\n",
       "            paths: {\n",
       "                'plotly': ['https://cdn.plot.ly/plotly-2.12.1.min']\n",
       "            }\n",
       "        });\n",
       "        require(['plotly'], function(Plotly) {\n",
       "            window._Plotly = Plotly;\n",
       "        });\n",
       "        }\n",
       "        </script>\n",
       "        "
      ]
     },
     "metadata": {},
     "output_type": "display_data"
    },
    {
     "data": {
      "text/html": [
       "        <script type=\"text/javascript\">\n",
       "        window.PlotlyConfig = {MathJaxConfig: 'local'};\n",
       "        if (window.MathJax && window.MathJax.Hub && window.MathJax.Hub.Config) {window.MathJax.Hub.Config({SVG: {font: \"STIX-Web\"}});}\n",
       "        if (typeof require !== 'undefined') {\n",
       "        require.undef(\"plotly\");\n",
       "        requirejs.config({\n",
       "            paths: {\n",
       "                'plotly': ['https://cdn.plot.ly/plotly-2.12.1.min']\n",
       "            }\n",
       "        });\n",
       "        require(['plotly'], function(Plotly) {\n",
       "            window._Plotly = Plotly;\n",
       "        });\n",
       "        }\n",
       "        </script>\n",
       "        "
      ]
     },
     "metadata": {},
     "output_type": "display_data"
    }
   ],
   "source": [
    "from tvDatafeed import TvDatafeed,Interval\n",
    "import mplfinance as mpf\n",
    "import pandas as pd\n",
    "import cufflinks as cf\n",
    "import numpy as np\n",
    "import chart_studio.plotly as py\n",
    "import seaborn as sns\n",
    "import plotly.express as px\n",
    "import plotly.graph_objects as go\n",
    "%matplotlib inline\n",
    "\n",
    "from plotly.offline import download_plotlyjs, init_notebook_mode, plot, iplot\n",
    "init_notebook_mode(connected=True)\n",
    "cf.go_offline()"
   ]
  },
  {
   "cell_type": "code",
   "execution_count": 15,
   "metadata": {},
   "outputs": [
    {
     "name": "stderr",
     "output_type": "stream",
     "text": [
      "you are using nologin method, data you access may be limited\n"
     ]
    }
   ],
   "source": [
    "# initialize tradingview\n",
    "\n",
    "tv = TvDatafeed()"
   ]
  },
  {
   "cell_type": "markdown",
   "metadata": {},
   "source": [
    "FX"
   ]
  },
  {
   "cell_type": "code",
   "execution_count": 16,
   "metadata": {},
   "outputs": [
    {
     "name": "stdout",
     "output_type": "stream",
     "text": [
      "1.1006936000000003\n",
      "9.511383749999997\n"
     ]
    }
   ],
   "source": [
    "#USDSEK\n",
    "pd_usd_sek=tv.get_hist('USDSEK','OANDA',interval=Interval.in_daily,n_bars=100)\n",
    "USDSEK_Mean = pd_usd_sek[\"close\"].mean()\n",
    "\n",
    "#EURSEK\n",
    "pd_eur_usd=tv.get_hist('EURUSD','OANDA',interval=Interval.in_daily,n_bars=100)\n",
    "EURUSD_Mean = pd_eur_usd[\"close\"].mean()\n",
    "\n",
    "print(EURUSD_Mean)\n",
    "print(USDSEK_Mean)"
   ]
  },
  {
   "cell_type": "markdown",
   "metadata": {},
   "source": [
    "VALOUR\n"
   ]
  },
  {
   "cell_type": "code",
   "execution_count": 17,
   "metadata": {},
   "outputs": [
    {
     "data": {
      "text/plain": [
       "datetime\n",
       "2022-01-03 09:00:00     657458\n",
       "2022-01-04 09:00:00     476700\n",
       "2022-01-05 09:00:00     182143\n",
       "2022-01-07 09:00:00    2064699\n",
       "2022-01-10 09:00:00    2043255\n",
       "                        ...   \n",
       "2022-05-19 09:00:00     919057\n",
       "2022-05-20 09:00:00     324186\n",
       "2022-05-23 09:00:00     280402\n",
       "2022-05-24 09:00:00     176308\n",
       "2022-05-25 09:00:00      38425\n",
       "Name: turnover, Length: 100, dtype: int64"
      ]
     },
     "execution_count": 17,
     "metadata": {},
     "output_type": "execute_result"
    }
   ],
   "source": [
    "#VALOUR BTC ZERO SEK\n",
    "pd_BTC_ZERO_SEK=tv.get_hist('BTC.ZERO.SEK','NGM',interval=Interval.in_daily,n_bars=100)\n",
    "pd_BTC_ZERO_SEK[\"averageprice\"] = (pd_BTC_ZERO_SEK[\"high\"] + pd_BTC_ZERO_SEK[\"open\"] + pd_BTC_ZERO_SEK[\"close\"] + pd_BTC_ZERO_SEK[\"low\"]) /4\n",
    "pd_BTC_ZERO_SEK[\"turnover\"] = (pd_BTC_ZERO_SEK[\"averageprice\"] * pd_BTC_ZERO_SEK[\"volume\"])/USDSEK_Mean\n",
    "pd_BTC_ZERO_SEK[\"turnover\"].astype(int)"
   ]
  },
  {
   "cell_type": "code",
   "execution_count": 18,
   "metadata": {},
   "outputs": [
    {
     "data": {
      "text/plain": [
       "datetime\n",
       "2022-01-03 09:00:00     729818\n",
       "2022-01-04 09:00:00     501733\n",
       "2022-01-05 09:00:00     232906\n",
       "2022-01-07 09:00:00    2837478\n",
       "2022-01-10 09:00:00    1955173\n",
       "                        ...   \n",
       "2022-05-19 09:00:00     824212\n",
       "2022-05-20 09:00:00     490043\n",
       "2022-05-23 09:00:00     143883\n",
       "2022-05-24 09:00:00     199281\n",
       "2022-05-25 09:00:00     141263\n",
       "Name: turnover, Length: 100, dtype: int64"
      ]
     },
     "execution_count": 18,
     "metadata": {},
     "output_type": "execute_result"
    }
   ],
   "source": [
    "#VALOUR ETH ZERO SEK\n",
    "pd_ETH_ZERO_SEK=tv.get_hist('ETH.ZERO.SEK','NGM',interval=Interval.in_daily,n_bars=100)\n",
    "pd_ETH_ZERO_SEK[\"averageprice\"] = (pd_ETH_ZERO_SEK[\"high\"] + pd_ETH_ZERO_SEK[\"open\"] + pd_ETH_ZERO_SEK[\"close\"] + pd_ETH_ZERO_SEK[\"low\"]) /4\n",
    "pd_ETH_ZERO_SEK[\"turnover\"] = (pd_ETH_ZERO_SEK[\"averageprice\"] * pd_ETH_ZERO_SEK[\"volume\"])/USDSEK_Mean\n",
    "pd_ETH_ZERO_SEK[\"turnover\"].astype(int)"
   ]
  },
  {
   "cell_type": "code",
   "execution_count": 19,
   "metadata": {},
   "outputs": [
    {
     "data": {
      "text/plain": [
       "datetime\n",
       "2022-01-03 09:00:00     935554\n",
       "2022-01-04 09:00:00     456989\n",
       "2022-01-05 09:00:00     235409\n",
       "2022-01-07 09:00:00    1638813\n",
       "2022-01-10 09:00:00    1847268\n",
       "                        ...   \n",
       "2022-05-19 09:00:00     205785\n",
       "2022-05-20 09:00:00     308941\n",
       "2022-05-23 09:00:00     222603\n",
       "2022-05-24 09:00:00     208342\n",
       "2022-05-25 09:00:00      23751\n",
       "Name: turnover, Length: 100, dtype: int64"
      ]
     },
     "execution_count": 19,
     "metadata": {},
     "output_type": "execute_result"
    }
   ],
   "source": [
    "#VALOUR CARDANO SEK\n",
    "pd_VALOUR_CARDANO_SEK=tv.get_hist('VALOUR.CARDANO.SEK','NGM',interval=Interval.in_daily,n_bars=100)\n",
    "pd_VALOUR_CARDANO_SEK[\"averageprice\"] = (pd_VALOUR_CARDANO_SEK[\"high\"] + pd_VALOUR_CARDANO_SEK[\"open\"] + pd_VALOUR_CARDANO_SEK[\"close\"] + pd_VALOUR_CARDANO_SEK[\"low\"]) /4\n",
    "pd_VALOUR_CARDANO_SEK[\"turnover\"] = (pd_VALOUR_CARDANO_SEK[\"averageprice\"] * pd_VALOUR_CARDANO_SEK[\"volume\"])/USDSEK_Mean\n",
    "pd_VALOUR_CARDANO_SEK[\"turnover\"].astype(int)"
   ]
  },
  {
   "cell_type": "code",
   "execution_count": 20,
   "metadata": {},
   "outputs": [
    {
     "data": {
      "text/plain": [
       "datetime\n",
       "2022-01-03 09:00:00    1678253\n",
       "2022-01-04 09:00:00     857116\n",
       "2022-01-05 09:00:00     379339\n",
       "2022-01-07 09:00:00    3707216\n",
       "2022-01-10 09:00:00    2242496\n",
       "                        ...   \n",
       "2022-05-19 09:00:00     417947\n",
       "2022-05-20 09:00:00     452287\n",
       "2022-05-23 09:00:00     425596\n",
       "2022-05-24 09:00:00     344159\n",
       "2022-05-25 09:00:00      86072\n",
       "Name: turnover, Length: 100, dtype: int64"
      ]
     },
     "execution_count": 20,
     "metadata": {},
     "output_type": "execute_result"
    }
   ],
   "source": [
    "#VALOUR SOLANA SEK\n",
    "pd_VALOUR_SOLANA_SEK=tv.get_hist('VALOUR.SOLANA.SEK','NGM',interval=Interval.in_daily,n_bars=100)\n",
    "pd_VALOUR_SOLANA_SEK[\"averageprice\"] = (pd_VALOUR_SOLANA_SEK[\"high\"] + pd_VALOUR_SOLANA_SEK[\"open\"] + pd_VALOUR_SOLANA_SEK[\"close\"] + pd_VALOUR_SOLANA_SEK[\"low\"]) /4\n",
    "pd_VALOUR_SOLANA_SEK[\"turnover\"] = (pd_VALOUR_SOLANA_SEK[\"averageprice\"] * pd_VALOUR_SOLANA_SEK[\"volume\"])/USDSEK_Mean\n",
    "pd_VALOUR_SOLANA_SEK[\"turnover\"].astype(int)"
   ]
  },
  {
   "cell_type": "code",
   "execution_count": 21,
   "metadata": {},
   "outputs": [
    {
     "data": {
      "text/plain": [
       "datetime\n",
       "2022-01-03 09:00:00    1439226\n",
       "2022-01-04 09:00:00     656394\n",
       "2022-01-05 09:00:00     156703\n",
       "2022-01-07 09:00:00    1242483\n",
       "2022-01-10 09:00:00    1095865\n",
       "                        ...   \n",
       "2022-05-19 09:00:00     164447\n",
       "2022-05-20 09:00:00      92588\n",
       "2022-05-23 09:00:00     129118\n",
       "2022-05-24 09:00:00      66115\n",
       "2022-05-25 09:00:00       4571\n",
       "Name: turnover, Length: 100, dtype: int64"
      ]
     },
     "execution_count": 21,
     "metadata": {},
     "output_type": "execute_result"
    }
   ],
   "source": [
    "#VALOUR POLKADOT SEK\n",
    "pd_VALOUR_POLKADOT_SEK=tv.get_hist('VALOUR.POLKADOT.SEK','NGM',interval=Interval.in_daily,n_bars=100)\n",
    "pd_VALOUR_POLKADOT_SEK[\"averageprice\"] = (pd_VALOUR_POLKADOT_SEK[\"high\"] + pd_VALOUR_POLKADOT_SEK[\"open\"] + pd_VALOUR_POLKADOT_SEK[\"close\"] + pd_VALOUR_POLKADOT_SEK[\"low\"]) /4\n",
    "pd_VALOUR_POLKADOT_SEK[\"turnover\"] = (pd_VALOUR_POLKADOT_SEK[\"averageprice\"] * pd_VALOUR_POLKADOT_SEK[\"volume\"])/USDSEK_Mean\n",
    "pd_VALOUR_POLKADOT_SEK[\"turnover\"].astype(int)"
   ]
  },
  {
   "cell_type": "code",
   "execution_count": 128,
   "metadata": {},
   "outputs": [
    {
     "data": {
      "text/plain": [
       "datetime\n",
       "2022-01-03 09:00:00    176660\n",
       "2022-01-04 09:00:00     71506\n",
       "2022-01-05 09:00:00    244018\n",
       "2022-01-07 09:00:00    282228\n",
       "2022-01-10 09:00:00    319377\n",
       "                        ...  \n",
       "2022-05-19 09:00:00      7144\n",
       "2022-05-20 09:00:00     20687\n",
       "2022-05-23 09:00:00      5874\n",
       "2022-05-24 09:00:00     17066\n",
       "2022-05-25 09:00:00      6551\n",
       "Name: turnover, Length: 100, dtype: int64"
      ]
     },
     "execution_count": 128,
     "metadata": {},
     "output_type": "execute_result"
    }
   ],
   "source": [
    "#VALOUR UNISWAP SEK\n",
    "pd_VALOUR_UNISWAP_SEK=tv.get_hist('VALOUR.UNISWAP.SEK','NGM',interval=Interval.in_daily,n_bars=100)\n",
    "pd_VALOUR_UNISWAP_SEK[\"averageprice\"] = (pd_VALOUR_UNISWAP_SEK[\"high\"] + pd_VALOUR_UNISWAP_SEK[\"open\"] + pd_VALOUR_UNISWAP_SEK[\"close\"] + pd_VALOUR_UNISWAP_SEK[\"low\"]) /4\n",
    "pd_VALOUR_UNISWAP_SEK[\"turnover\"] = (pd_VALOUR_UNISWAP_SEK[\"averageprice\"] * pd_VALOUR_UNISWAP_SEK[\"volume\"])/USDSEK_Mean\n",
    "pd_VALOUR_UNISWAP_SEK[\"turnover\"].astype(int)"
   ]
  },
  {
   "cell_type": "code",
   "execution_count": null,
   "metadata": {},
   "outputs": [],
   "source": [
    "#VALOUR AVALANCHE SEK\n",
    "pd_VALOUR_AVLANCHE_SEK=tv.get_hist('VALOUR.AVALANCHE.SEK','NGM',interval=Interval.in_daily,n_bars=100)\n",
    "pd_VALOUR_AVLANCHE_SEK[\"averageprice\"] = (pd_VALOUR_AVLANCHE_SEK[\"high\"] + pd_VALOUR_AVLANCHE_SEK[\"open\"] + pd_VALOUR_AVLANCHE_SEK[\"close\"] + pd_VALOUR_AVLANCHE_SEK[\"low\"]) /4\n",
    "pd_VALOUR_AVLANCHE_SEK[\"turnover\"] = (pd_VALOUR_AVLANCHE_SEK[\"averageprice\"] * pd_VALOUR_AVLANCHE_SEK[\"volume\"])/USDSEK_Mean\n",
    "pd_VALOUR_AVLANCHE_SEK[\"turnover\"].astype(int)"
   ]
  },
  {
   "cell_type": "markdown",
   "metadata": {},
   "source": [
    "XBT"
   ]
  },
  {
   "cell_type": "code",
   "execution_count": 132,
   "metadata": {},
   "outputs": [
    {
     "data": {
      "text/plain": [
       "datetime\n",
       "2022-01-03 09:00:00     4485217\n",
       "2022-01-04 09:00:00     4410782\n",
       "2022-01-05 09:00:00     2257280\n",
       "2022-01-07 09:00:00    16171957\n",
       "2022-01-10 09:00:00    12612199\n",
       "                         ...   \n",
       "2022-05-19 09:00:00     2161126\n",
       "2022-05-20 09:00:00     1931375\n",
       "2022-05-23 09:00:00     1932457\n",
       "2022-05-24 09:00:00     1721087\n",
       "2022-05-25 09:00:00     1482454\n",
       "Name: turnover, Length: 100, dtype: int64"
      ]
     },
     "execution_count": 132,
     "metadata": {},
     "output_type": "execute_result"
    }
   ],
   "source": [
    "#XBT BTC Tracker One\n",
    "pd_BTC_XBT=tv.get_hist('BITCOIN_XBT','OMXSTO',interval=Interval.in_daily,n_bars=100)\n",
    "pd_BTC_XBT[\"averageprice\"] = (pd_BTC_XBT[\"high\"] + pd_BTC_XBT[\"open\"] + pd_BTC_XBT[\"close\"] + pd_BTC_XBT[\"low\"]) /4\n",
    "pd_BTC_XBT[\"turnover\"] = (pd_BTC_XBT[\"averageprice\"] * pd_BTC_XBT[\"volume\"])/USDSEK_Mean\n",
    "pd_BTC_XBT[\"turnover\"].astype(int)\n"
   ]
  },
  {
   "cell_type": "code",
   "execution_count": 133,
   "metadata": {},
   "outputs": [
    {
     "data": {
      "text/plain": [
       "datetime\n",
       "2022-01-03 09:00:00     2296853\n",
       "2022-01-04 09:00:00     2781277\n",
       "2022-01-05 09:00:00     1261633\n",
       "2022-01-07 09:00:00    10589672\n",
       "2022-01-10 09:00:00     7876465\n",
       "                         ...   \n",
       "2022-05-19 09:00:00      823723\n",
       "2022-05-20 09:00:00      796966\n",
       "2022-05-23 09:00:00     3041820\n",
       "2022-05-24 09:00:00     2975911\n",
       "2022-05-25 09:00:00     3210380\n",
       "Name: turnover, Length: 100, dtype: int64"
      ]
     },
     "execution_count": 133,
     "metadata": {},
     "output_type": "execute_result"
    }
   ],
   "source": [
    "#XBT BTC Euro Tracker One\n",
    "pd_BTCE_XBT=tv.get_hist('BITCOIN_XBTE','OMXSTO',interval=Interval.in_daily,n_bars=100)\n",
    "pd_BTCE_XBT[\"averageprice\"] = (pd_BTCE_XBT[\"high\"] + pd_BTCE_XBT[\"open\"] + pd_BTCE_XBT[\"close\"] + pd_BTCE_XBT[\"low\"]) /4\n",
    "pd_BTCE_XBT[\"turnover\"] = (pd_BTCE_XBT[\"averageprice\"] * pd_BTCE_XBT[\"volume\"])*EURUSD_Mean\n",
    "pd_BTCE_XBT[\"turnover\"].astype(int)"
   ]
  },
  {
   "cell_type": "code",
   "execution_count": 134,
   "metadata": {},
   "outputs": [
    {
     "data": {
      "text/plain": [
       "datetime\n",
       "2022-01-03 09:00:00     4781762\n",
       "2022-01-04 09:00:00     5693187\n",
       "2022-01-05 09:00:00     1949806\n",
       "2022-01-07 09:00:00    27694554\n",
       "2022-01-10 09:00:00    15446003\n",
       "                         ...   \n",
       "2022-05-19 09:00:00     4627692\n",
       "2022-05-20 09:00:00     2438139\n",
       "2022-05-23 09:00:00     2278691\n",
       "2022-05-24 09:00:00     2538315\n",
       "2022-05-25 09:00:00     1351680\n",
       "Name: turnover, Length: 100, dtype: int64"
      ]
     },
     "execution_count": 134,
     "metadata": {},
     "output_type": "execute_result"
    }
   ],
   "source": [
    "#XBT ETH Tracker One\n",
    "pd_ETH_XBT=tv.get_hist('ETHEREUM_XBT','OMXSTO',interval=Interval.in_daily,n_bars=100)\n",
    "pd_ETH_XBT[\"averageprice\"] = (pd_ETH_XBT[\"high\"] + pd_ETH_XBT[\"open\"] + pd_ETH_XBT[\"close\"] + pd_ETH_XBT[\"low\"]) /4\n",
    "pd_ETH_XBT[\"turnover\"] = (pd_ETH_XBT[\"averageprice\"] * pd_ETH_XBT[\"volume\"])/USDSEK_Mean\n",
    "pd_ETH_XBT[\"turnover\"].astype(int)"
   ]
  },
  {
   "cell_type": "code",
   "execution_count": 135,
   "metadata": {},
   "outputs": [
    {
     "data": {
      "text/plain": [
       "datetime\n",
       "2022-01-03 09:00:00     4757084\n",
       "2022-01-04 09:00:00     3769430\n",
       "2022-01-05 09:00:00     1656606\n",
       "2022-01-07 09:00:00    23131773\n",
       "2022-01-10 09:00:00    11955975\n",
       "                         ...   \n",
       "2022-05-19 09:00:00     3060315\n",
       "2022-05-20 09:00:00     2404666\n",
       "2022-05-23 09:00:00     4733029\n",
       "2022-05-24 09:00:00     4257946\n",
       "2022-05-25 09:00:00     1427259\n",
       "Name: turnover, Length: 100, dtype: int64"
      ]
     },
     "execution_count": 135,
     "metadata": {},
     "output_type": "execute_result"
    }
   ],
   "source": [
    "#XBT ETH Euro Tracker One\n",
    "pd_ETHE_XBT=tv.get_hist('ETHEREUM_XBTE','OMXSTO',interval=Interval.in_daily,n_bars=100)\n",
    "pd_ETHE_XBT[\"averageprice\"] = (pd_ETHE_XBT[\"high\"] + pd_ETHE_XBT[\"open\"] + pd_ETHE_XBT[\"close\"] + pd_ETHE_XBT[\"low\"]) /4\n",
    "pd_ETHE_XBT[\"turnover\"] = (pd_ETHE_XBT[\"averageprice\"] * pd_ETHE_XBT[\"volume\"])*EURUSD_Mean\n",
    "pd_ETHE_XBT[\"turnover\"].astype(int)"
   ]
  },
  {
   "cell_type": "markdown",
   "metadata": {},
   "source": [
    "21SHARES XETRA"
   ]
  },
  {
   "cell_type": "code",
   "execution_count": 136,
   "metadata": {},
   "outputs": [
    {
     "data": {
      "text/plain": [
       "datetime\n",
       "2022-01-04 09:00:00    1752231\n",
       "2022-01-05 09:00:00    2746311\n",
       "2022-01-06 09:00:00    3261937\n",
       "2022-01-07 09:00:00    3501447\n",
       "2022-01-10 09:00:00    3618329\n",
       "                        ...   \n",
       "2022-05-19 09:00:00    2000247\n",
       "2022-05-20 09:00:00     799328\n",
       "2022-05-23 09:00:00    2536517\n",
       "2022-05-24 09:00:00    1095878\n",
       "2022-05-25 09:00:00      94135\n",
       "Name: turnover, Length: 100, dtype: int64"
      ]
     },
     "execution_count": 136,
     "metadata": {},
     "output_type": "execute_result"
    }
   ],
   "source": [
    "#21SHARES XETRA BITCOIN\n",
    "pd_21SHARES_XETRA_BTC=tv.get_hist('2BTC','XETR',interval=Interval.in_daily,n_bars=100)\n",
    "pd_21SHARES_XETRA_BTC[\"averageprice\"] = (pd_21SHARES_XETRA_BTC[\"high\"] + pd_21SHARES_XETRA_BTC[\"open\"] + pd_21SHARES_XETRA_BTC[\"close\"] + pd_21SHARES_XETRA_BTC[\"low\"]) /4\n",
    "pd_21SHARES_XETRA_BTC[\"turnover\"] = (pd_21SHARES_XETRA_BTC[\"averageprice\"] * pd_21SHARES_XETRA_BTC[\"volume\"])*EURUSD_Mean\n",
    "pd_21SHARES_XETRA_BTC[\"turnover\"].astype(int)"
   ]
  },
  {
   "cell_type": "code",
   "execution_count": 137,
   "metadata": {},
   "outputs": [
    {
     "data": {
      "text/plain": [
       "datetime\n",
       "2022-01-04 09:00:00    1149350\n",
       "2022-01-05 09:00:00     787706\n",
       "2022-01-06 09:00:00    6338487\n",
       "2022-01-07 09:00:00    6395215\n",
       "2022-01-10 09:00:00    5290815\n",
       "                        ...   \n",
       "2022-05-19 09:00:00     691410\n",
       "2022-05-20 09:00:00    1100659\n",
       "2022-05-23 09:00:00    2160473\n",
       "2022-05-24 09:00:00    1379021\n",
       "2022-05-25 09:00:00      58478\n",
       "Name: turnover, Length: 100, dtype: int64"
      ]
     },
     "execution_count": 137,
     "metadata": {},
     "output_type": "execute_result"
    }
   ],
   "source": [
    "#21SHARES XETRA ETHEREUM\n",
    "pd_21SHARES_XETRA_ETH=tv.get_hist('ETHA','XETR',interval=Interval.in_daily,n_bars=100)\n",
    "pd_21SHARES_XETRA_ETH[\"averageprice\"] = (pd_21SHARES_XETRA_ETH[\"high\"] + pd_21SHARES_XETRA_ETH[\"open\"] + pd_21SHARES_XETRA_ETH[\"close\"] + pd_21SHARES_XETRA_ETH[\"low\"]) /4\n",
    "pd_21SHARES_XETRA_ETH[\"turnover\"] = (pd_21SHARES_XETRA_ETH[\"averageprice\"] * pd_21SHARES_XETRA_ETH[\"volume\"])*EURUSD_Mean\n",
    "pd_21SHARES_XETRA_ETH[\"turnover\"].astype(int)"
   ]
  },
  {
   "cell_type": "code",
   "execution_count": 138,
   "metadata": {},
   "outputs": [
    {
     "data": {
      "text/plain": [
       "datetime\n",
       "2022-01-04 09:00:00    233782\n",
       "2022-01-05 09:00:00     98680\n",
       "2022-01-06 09:00:00    245319\n",
       "2022-01-07 09:00:00    125197\n",
       "2022-01-10 09:00:00    221884\n",
       "                        ...  \n",
       "2022-05-19 09:00:00    157315\n",
       "2022-05-20 09:00:00     41421\n",
       "2022-05-23 09:00:00     49629\n",
       "2022-05-24 09:00:00     78799\n",
       "2022-05-25 09:00:00     46914\n",
       "Name: turnover, Length: 100, dtype: int64"
      ]
     },
     "execution_count": 138,
     "metadata": {},
     "output_type": "execute_result"
    }
   ],
   "source": [
    "#21SHARES XETRA CARDANO\n",
    "pd_21SHARES_XETRA_ADA=tv.get_hist('ADAA','XETR',interval=Interval.in_daily,n_bars=100)\n",
    "pd_21SHARES_XETRA_ADA[\"averageprice\"] = (pd_21SHARES_XETRA_ADA[\"high\"] + pd_21SHARES_XETRA_ADA[\"open\"] + pd_21SHARES_XETRA_ADA[\"close\"] + pd_21SHARES_XETRA_ADA[\"low\"]) /4\n",
    "pd_21SHARES_XETRA_ADA[\"turnover\"] = (pd_21SHARES_XETRA_ADA[\"averageprice\"] * pd_21SHARES_XETRA_ADA[\"volume\"])*EURUSD_Mean\n",
    "pd_21SHARES_XETRA_ADA[\"turnover\"].astype(int)"
   ]
  },
  {
   "cell_type": "code",
   "execution_count": 139,
   "metadata": {},
   "outputs": [
    {
     "data": {
      "text/plain": [
       "datetime\n",
       "2022-01-04 09:00:00     95930\n",
       "2022-01-05 09:00:00    402915\n",
       "2022-01-06 09:00:00    662196\n",
       "2022-01-07 09:00:00    619006\n",
       "2022-01-10 09:00:00    351532\n",
       "                        ...  \n",
       "2022-05-19 09:00:00    253050\n",
       "2022-05-20 09:00:00    110431\n",
       "2022-05-23 09:00:00    333385\n",
       "2022-05-24 09:00:00    159605\n",
       "2022-05-25 09:00:00      6464\n",
       "Name: turnover, Length: 100, dtype: int64"
      ]
     },
     "execution_count": 139,
     "metadata": {},
     "output_type": "execute_result"
    }
   ],
   "source": [
    "#21SHARES XETRA SOLANA\n",
    "pd_21SHARES_XETRA_SOL=tv.get_hist('ASOL','XETR',interval=Interval.in_daily,n_bars=100)\n",
    "pd_21SHARES_XETRA_SOL[\"averageprice\"] = (pd_21SHARES_XETRA_SOL[\"high\"] + pd_21SHARES_XETRA_SOL[\"open\"] + pd_21SHARES_XETRA_SOL[\"close\"] + pd_21SHARES_XETRA_SOL[\"low\"]) /4\n",
    "pd_21SHARES_XETRA_SOL[\"turnover\"] = (pd_21SHARES_XETRA_SOL[\"averageprice\"] * pd_21SHARES_XETRA_SOL[\"volume\"])*EURUSD_Mean\n",
    "pd_21SHARES_XETRA_SOL[\"turnover\"].astype(int)"
   ]
  },
  {
   "cell_type": "code",
   "execution_count": 140,
   "metadata": {},
   "outputs": [
    {
     "data": {
      "text/plain": [
       "datetime\n",
       "2022-01-04 09:00:00    316040\n",
       "2022-01-05 09:00:00    375863\n",
       "2022-01-06 09:00:00    260797\n",
       "2022-01-07 09:00:00    148777\n",
       "2022-01-10 09:00:00    207871\n",
       "                        ...  \n",
       "2022-05-19 09:00:00      8869\n",
       "2022-05-20 09:00:00     78681\n",
       "2022-05-23 09:00:00     13546\n",
       "2022-05-24 09:00:00     40453\n",
       "2022-05-25 09:00:00      1649\n",
       "Name: turnover, Length: 100, dtype: int64"
      ]
     },
     "execution_count": 140,
     "metadata": {},
     "output_type": "execute_result"
    }
   ],
   "source": [
    "#21SHARES XETRA POLKADOT\n",
    "pd_21SHARES_XETRA_DOT=tv.get_hist('ADOT','XETR',interval=Interval.in_daily,n_bars=100)\n",
    "pd_21SHARES_XETRA_DOT[\"averageprice\"] = (pd_21SHARES_XETRA_DOT[\"high\"] + pd_21SHARES_XETRA_DOT[\"open\"] + pd_21SHARES_XETRA_DOT[\"close\"] + pd_21SHARES_XETRA_DOT[\"low\"]) /4\n",
    "pd_21SHARES_XETRA_DOT[\"turnover\"] = (pd_21SHARES_XETRA_DOT[\"averageprice\"] * pd_21SHARES_XETRA_DOT[\"volume\"])*EURUSD_Mean\n",
    "pd_21SHARES_XETRA_DOT[\"turnover\"].astype(int)"
   ]
  },
  {
   "cell_type": "markdown",
   "metadata": {},
   "source": [
    "21SHARES SIX"
   ]
  },
  {
   "cell_type": "code",
   "execution_count": 141,
   "metadata": {},
   "outputs": [
    {
     "data": {
      "text/plain": [
       "datetime\n",
       "2022-01-04 09:00:00     405289\n",
       "2022-01-05 09:00:00    2543253\n",
       "2022-01-06 09:00:00    3316931\n",
       "2022-01-07 09:00:00    3598701\n",
       "2022-01-10 09:00:00    1530410\n",
       "                        ...   \n",
       "2022-05-19 09:00:00    3057071\n",
       "2022-05-20 09:00:00     677795\n",
       "2022-05-23 09:00:00     437731\n",
       "2022-05-24 09:00:00     220531\n",
       "2022-05-25 09:00:00      56226\n",
       "Name: turnover, Length: 100, dtype: int64"
      ]
     },
     "execution_count": 141,
     "metadata": {},
     "output_type": "execute_result"
    }
   ],
   "source": [
    "#21SHARES SIX BITCOIN\n",
    "pd_21SHARES_SIX_BTC=tv.get_hist('ABTC.USD','SIX',interval=Interval.in_daily,n_bars=100)\n",
    "pd_21SHARES_SIX_BTC[\"averageprice\"] = (pd_21SHARES_SIX_BTC[\"high\"] + pd_21SHARES_SIX_BTC[\"open\"] + pd_21SHARES_SIX_BTC[\"close\"] + pd_21SHARES_SIX_BTC[\"low\"]) /4\n",
    "pd_21SHARES_SIX_BTC[\"turnover\"] = (pd_21SHARES_SIX_BTC[\"averageprice\"] * pd_21SHARES_SIX_BTC[\"volume\"])\n",
    "pd_21SHARES_SIX_BTC[\"turnover\"].astype(int)"
   ]
  },
  {
   "cell_type": "code",
   "execution_count": 142,
   "metadata": {},
   "outputs": [
    {
     "data": {
      "text/plain": [
       "datetime\n",
       "2022-01-04 09:00:00     1714389\n",
       "2022-01-05 09:00:00      489459\n",
       "2022-01-06 09:00:00    14860217\n",
       "2022-01-07 09:00:00     8057740\n",
       "2022-01-10 09:00:00     6385955\n",
       "                         ...   \n",
       "2022-05-19 09:00:00      628250\n",
       "2022-05-20 09:00:00      742276\n",
       "2022-05-23 09:00:00     1688180\n",
       "2022-05-24 09:00:00      871473\n",
       "2022-05-25 09:00:00      216259\n",
       "Name: turnover, Length: 100, dtype: int64"
      ]
     },
     "execution_count": 142,
     "metadata": {},
     "output_type": "execute_result"
    }
   ],
   "source": [
    "#21SHARES SIX ETHEREUM\n",
    "pd_21SHARES_SIX_ETH=tv.get_hist('AETH.USD','SIX',interval=Interval.in_daily,n_bars=100)\n",
    "pd_21SHARES_SIX_ETH[\"averageprice\"] = (pd_21SHARES_SIX_ETH[\"high\"] + pd_21SHARES_SIX_ETH[\"open\"] + pd_21SHARES_SIX_ETH[\"close\"] + pd_21SHARES_SIX_ETH[\"low\"]) /4\n",
    "pd_21SHARES_SIX_ETH[\"turnover\"] = (pd_21SHARES_SIX_ETH[\"averageprice\"] * pd_21SHARES_SIX_ETH[\"volume\"])\n",
    "pd_21SHARES_SIX_ETH[\"turnover\"].astype(int)"
   ]
  },
  {
   "cell_type": "code",
   "execution_count": 143,
   "metadata": {},
   "outputs": [
    {
     "data": {
      "text/plain": [
       "datetime\n",
       "2022-01-04 09:00:00    1688297\n",
       "2022-01-05 09:00:00    1188581\n",
       "2022-01-06 09:00:00    2375088\n",
       "2022-01-07 09:00:00    1692069\n",
       "2022-01-10 09:00:00    1621253\n",
       "                        ...   \n",
       "2022-05-19 09:00:00    3228489\n",
       "2022-05-20 09:00:00     205460\n",
       "2022-05-23 09:00:00     101976\n",
       "2022-05-24 09:00:00      64077\n",
       "2022-05-25 09:00:00      21040\n",
       "Name: turnover, Length: 100, dtype: int64"
      ]
     },
     "execution_count": 143,
     "metadata": {},
     "output_type": "execute_result"
    }
   ],
   "source": [
    "#21SHARES SIX SOLANA\n",
    "pd_21SHARES_SIX_SOL=tv.get_hist('ASOL.USD','SIX',interval=Interval.in_daily,n_bars=100)\n",
    "pd_21SHARES_SIX_SOL[\"averageprice\"] = (pd_21SHARES_SIX_SOL[\"high\"] + pd_21SHARES_SIX_SOL[\"open\"] + pd_21SHARES_SIX_SOL[\"close\"] + pd_21SHARES_SIX_SOL[\"low\"]) /4\n",
    "pd_21SHARES_SIX_SOL[\"turnover\"] = (pd_21SHARES_SIX_SOL[\"averageprice\"] * pd_21SHARES_SIX_SOL[\"volume\"])\n",
    "pd_21SHARES_SIX_SOL[\"turnover\"].astype(int)"
   ]
  },
  {
   "cell_type": "code",
   "execution_count": 144,
   "metadata": {},
   "outputs": [
    {
     "data": {
      "text/plain": [
       "datetime\n",
       "2022-01-04 09:00:00    137286\n",
       "2022-01-05 09:00:00    278016\n",
       "2022-01-06 09:00:00    444536\n",
       "2022-01-07 09:00:00    452353\n",
       "2022-01-10 09:00:00    646905\n",
       "                        ...  \n",
       "2022-05-19 09:00:00     50530\n",
       "2022-05-20 09:00:00     10937\n",
       "2022-05-23 09:00:00     49410\n",
       "2022-05-24 09:00:00     70425\n",
       "2022-05-25 09:00:00     13567\n",
       "Name: turnover, Length: 100, dtype: int64"
      ]
     },
     "execution_count": 144,
     "metadata": {},
     "output_type": "execute_result"
    }
   ],
   "source": [
    "#21SHARES SIX CARDANO\n",
    "pd_21SHARES_SIX_ADA=tv.get_hist('AADA.USD','SIX',interval=Interval.in_daily,n_bars=100)\n",
    "pd_21SHARES_SIX_ADA[\"averageprice\"] = (pd_21SHARES_SIX_ADA[\"high\"] + pd_21SHARES_SIX_ADA[\"open\"] + pd_21SHARES_SIX_ADA[\"close\"] + pd_21SHARES_SIX_ADA[\"low\"]) /4\n",
    "pd_21SHARES_SIX_ADA[\"turnover\"] = (pd_21SHARES_SIX_ADA[\"averageprice\"] * pd_21SHARES_SIX_ADA[\"volume\"])\n",
    "pd_21SHARES_SIX_ADA[\"turnover\"].astype(int)"
   ]
  },
  {
   "cell_type": "code",
   "execution_count": 145,
   "metadata": {},
   "outputs": [
    {
     "data": {
      "text/plain": [
       "datetime\n",
       "2022-01-04 09:00:00     797145\n",
       "2022-01-05 09:00:00     565921\n",
       "2022-01-06 09:00:00    1850738\n",
       "2022-01-07 09:00:00     524720\n",
       "2022-01-10 09:00:00     730438\n",
       "                        ...   \n",
       "2022-05-19 09:00:00      90559\n",
       "2022-05-20 09:00:00     107083\n",
       "2022-05-23 09:00:00      19891\n",
       "2022-05-24 09:00:00      25176\n",
       "2022-05-25 09:00:00       4369\n",
       "Name: turnover, Length: 100, dtype: int64"
      ]
     },
     "execution_count": 145,
     "metadata": {},
     "output_type": "execute_result"
    }
   ],
   "source": [
    "#21SHARES SIX POLKADOT\n",
    "pd_21SHARES_SIX_DOT=tv.get_hist('ADOT.USD','SIX',interval=Interval.in_daily,n_bars=100)\n",
    "pd_21SHARES_SIX_DOT[\"averageprice\"] = (pd_21SHARES_SIX_DOT[\"high\"] + pd_21SHARES_SIX_DOT[\"open\"] + pd_21SHARES_SIX_DOT[\"close\"] + pd_21SHARES_SIX_DOT[\"low\"]) /4\n",
    "pd_21SHARES_SIX_DOT[\"turnover\"] = (pd_21SHARES_SIX_DOT[\"averageprice\"] * pd_21SHARES_SIX_DOT[\"volume\"])\n",
    "pd_21SHARES_SIX_DOT[\"turnover\"].astype(int)"
   ]
  },
  {
   "cell_type": "markdown",
   "metadata": {},
   "source": [
    "ETC GROUP XETRA"
   ]
  },
  {
   "cell_type": "code",
   "execution_count": 146,
   "metadata": {},
   "outputs": [
    {
     "data": {
      "text/plain": [
       "datetime\n",
       "2022-01-04 09:00:00    12069553\n",
       "2022-01-05 09:00:00    24160695\n",
       "2022-01-06 09:00:00    43155729\n",
       "2022-01-07 09:00:00    48110683\n",
       "2022-01-10 09:00:00    38151694\n",
       "                         ...   \n",
       "2022-05-19 09:00:00    10100519\n",
       "2022-05-20 09:00:00     3538351\n",
       "2022-05-23 09:00:00     5190814\n",
       "2022-05-24 09:00:00     8888854\n",
       "2022-05-25 09:00:00     2592792\n",
       "Name: turnover, Length: 100, dtype: int64"
      ]
     },
     "execution_count": 146,
     "metadata": {},
     "output_type": "execute_result"
    }
   ],
   "source": [
    "#ETC-GROUP BITCOIN\n",
    "pd_ETC_GROUP_XETRA_BTC=tv.get_hist('BTCE','XETR',interval=Interval.in_daily,n_bars=100)\n",
    "pd_ETC_GROUP_XETRA_BTC[\"averageprice\"] = (pd_ETC_GROUP_XETRA_BTC[\"high\"] + pd_ETC_GROUP_XETRA_BTC[\"open\"] + pd_ETC_GROUP_XETRA_BTC[\"close\"] + pd_ETC_GROUP_XETRA_BTC[\"low\"]) /4\n",
    "pd_ETC_GROUP_XETRA_BTC[\"turnover\"] = (pd_ETC_GROUP_XETRA_BTC[\"averageprice\"] * pd_ETC_GROUP_XETRA_BTC[\"volume\"])*EURUSD_Mean\n",
    "pd_ETC_GROUP_XETRA_BTC[\"turnover\"].astype(int)"
   ]
  },
  {
   "cell_type": "code",
   "execution_count": 147,
   "metadata": {},
   "outputs": [
    {
     "data": {
      "text/plain": [
       "datetime\n",
       "2022-01-04 09:00:00     3045124\n",
       "2022-01-05 09:00:00     5992850\n",
       "2022-01-06 09:00:00    25689294\n",
       "2022-01-07 09:00:00     9470349\n",
       "2022-01-10 09:00:00    29286123\n",
       "                         ...   \n",
       "2022-05-19 09:00:00     1848551\n",
       "2022-05-20 09:00:00      911003\n",
       "2022-05-23 09:00:00     1068291\n",
       "2022-05-24 09:00:00     1515148\n",
       "2022-05-25 09:00:00      265224\n",
       "Name: turnover, Length: 100, dtype: int64"
      ]
     },
     "execution_count": 147,
     "metadata": {},
     "output_type": "execute_result"
    }
   ],
   "source": [
    "#ETC-GROUP ETHEREUM\n",
    "pd_ETC_GROUP_XETRA_ETH=tv.get_hist('ZETH','XETR',interval=Interval.in_daily,n_bars=100)\n",
    "pd_ETC_GROUP_XETRA_ETH[\"averageprice\"] = (pd_ETC_GROUP_XETRA_ETH[\"high\"] + pd_ETC_GROUP_XETRA_ETH[\"open\"] + pd_ETC_GROUP_XETRA_ETH[\"close\"] + pd_ETC_GROUP_XETRA_ETH[\"low\"]) /4\n",
    "pd_ETC_GROUP_XETRA_ETH[\"turnover\"] = (pd_ETC_GROUP_XETRA_ETH[\"averageprice\"] * pd_ETC_GROUP_XETRA_ETH[\"volume\"])*EURUSD_Mean\n",
    "pd_ETC_GROUP_XETRA_ETH[\"turnover\"].astype(int)"
   ]
  },
  {
   "cell_type": "code",
   "execution_count": 148,
   "metadata": {},
   "outputs": [
    {
     "data": {
      "text/plain": [
       "datetime\n",
       "2022-01-04 09:00:00        0\n",
       "2022-01-05 09:00:00        0\n",
       "2022-01-06 09:00:00     1454\n",
       "2022-01-07 09:00:00    22414\n",
       "2022-01-10 09:00:00     1137\n",
       "                       ...  \n",
       "2022-05-19 09:00:00       48\n",
       "2022-05-20 09:00:00        0\n",
       "2022-05-23 09:00:00     2485\n",
       "2022-05-24 09:00:00       30\n",
       "2022-05-25 09:00:00       34\n",
       "Name: turnover, Length: 100, dtype: int64"
      ]
     },
     "execution_count": 148,
     "metadata": {},
     "output_type": "execute_result"
    }
   ],
   "source": [
    "#ETC-GROUP SOLANA\n",
    "pd_ETC_GROUP_XETRA_SOL=tv.get_hist('ESOL','XETR',interval=Interval.in_daily,n_bars=100)\n",
    "pd_ETC_GROUP_XETRA_SOL[\"averageprice\"] = (pd_ETC_GROUP_XETRA_SOL[\"high\"] + pd_ETC_GROUP_XETRA_SOL[\"open\"] + pd_ETC_GROUP_XETRA_SOL[\"close\"] + pd_ETC_GROUP_XETRA_SOL[\"low\"]) /4\n",
    "pd_ETC_GROUP_XETRA_SOL[\"turnover\"] = (pd_ETC_GROUP_XETRA_SOL[\"averageprice\"] * pd_ETC_GROUP_XETRA_SOL[\"volume\"])*EURUSD_Mean\n",
    "pd_ETC_GROUP_XETRA_SOL[\"turnover\"].astype(int)"
   ]
  },
  {
   "cell_type": "code",
   "execution_count": 149,
   "metadata": {},
   "outputs": [
    {
     "data": {
      "text/plain": [
       "datetime\n",
       "2022-01-04 09:00:00     2268\n",
       "2022-01-05 09:00:00    18455\n",
       "2022-01-06 09:00:00     2967\n",
       "2022-01-07 09:00:00     5654\n",
       "2022-01-10 09:00:00     9163\n",
       "                       ...  \n",
       "2022-05-19 09:00:00        0\n",
       "2022-05-20 09:00:00      805\n",
       "2022-05-23 09:00:00        0\n",
       "2022-05-24 09:00:00        2\n",
       "2022-05-25 09:00:00        0\n",
       "Name: turnover, Length: 100, dtype: int64"
      ]
     },
     "execution_count": 149,
     "metadata": {},
     "output_type": "execute_result"
    }
   ],
   "source": [
    "#ETC-GROUP CARDANO\n",
    "pd_ETC_GROUP_XETRA_ADA=tv.get_hist('RDAN','XETR',interval=Interval.in_daily,n_bars=100)\n",
    "pd_ETC_GROUP_XETRA_ADA[\"averageprice\"] = (pd_ETC_GROUP_XETRA_ADA[\"high\"] + pd_ETC_GROUP_XETRA_ADA[\"open\"] + pd_ETC_GROUP_XETRA_ADA[\"close\"] + pd_ETC_GROUP_XETRA_ADA[\"low\"]) /4\n",
    "pd_ETC_GROUP_XETRA_ADA[\"turnover\"] = (pd_ETC_GROUP_XETRA_ADA[\"averageprice\"] * pd_ETC_GROUP_XETRA_ADA[\"volume\"])*EURUSD_Mean\n",
    "pd_ETC_GROUP_XETRA_ADA[\"turnover\"].astype(int)"
   ]
  },
  {
   "cell_type": "code",
   "execution_count": 150,
   "metadata": {},
   "outputs": [
    {
     "data": {
      "text/plain": [
       "datetime\n",
       "2022-01-04 09:00:00       0\n",
       "2022-01-05 09:00:00       0\n",
       "2022-01-06 09:00:00       0\n",
       "2022-01-07 09:00:00       0\n",
       "2022-01-10 09:00:00       0\n",
       "                       ... \n",
       "2022-05-19 09:00:00       0\n",
       "2022-05-20 09:00:00       0\n",
       "2022-05-23 09:00:00    5715\n",
       "2022-05-24 09:00:00     115\n",
       "2022-05-25 09:00:00       0\n",
       "Name: turnover, Length: 100, dtype: int64"
      ]
     },
     "execution_count": 150,
     "metadata": {},
     "output_type": "execute_result"
    }
   ],
   "source": [
    "#ETC-GROUP POLKADOT\n",
    "pd_ETC_GROUP_XETRA_DOT=tv.get_hist('PLKA','XETR',interval=Interval.in_daily,n_bars=100)\n",
    "pd_ETC_GROUP_XETRA_DOT[\"averageprice\"] = (pd_ETC_GROUP_XETRA_DOT[\"high\"] + pd_ETC_GROUP_XETRA_DOT[\"open\"] + pd_ETC_GROUP_XETRA_DOT[\"close\"] + pd_ETC_GROUP_XETRA_DOT[\"low\"]) /4\n",
    "pd_ETC_GROUP_XETRA_DOT[\"turnover\"] = (pd_ETC_GROUP_XETRA_DOT[\"averageprice\"] * pd_ETC_GROUP_XETRA_DOT[\"volume\"])*EURUSD_Mean\n",
    "pd_ETC_GROUP_XETRA_DOT[\"turnover\"].astype(int)"
   ]
  },
  {
   "cell_type": "markdown",
   "metadata": {},
   "source": [
    "Organizing Data"
   ]
  },
  {
   "cell_type": "code",
   "execution_count": 186,
   "metadata": {},
   "outputs": [
    {
     "data": {
      "text/html": [
       "<div>\n",
       "<style scoped>\n",
       "    .dataframe tbody tr th:only-of-type {\n",
       "        vertical-align: middle;\n",
       "    }\n",
       "\n",
       "    .dataframe tbody tr th {\n",
       "        vertical-align: top;\n",
       "    }\n",
       "\n",
       "    .dataframe thead th {\n",
       "        text-align: right;\n",
       "    }\n",
       "</style>\n",
       "<table border=\"1\" class=\"dataframe\">\n",
       "  <thead>\n",
       "    <tr style=\"text-align: right;\">\n",
       "      <th></th>\n",
       "      <th>symbol</th>\n",
       "      <th>open</th>\n",
       "      <th>high</th>\n",
       "      <th>low</th>\n",
       "      <th>close</th>\n",
       "      <th>volume</th>\n",
       "      <th>averageprice</th>\n",
       "      <th>turnover</th>\n",
       "    </tr>\n",
       "    <tr>\n",
       "      <th>datetime</th>\n",
       "      <th></th>\n",
       "      <th></th>\n",
       "      <th></th>\n",
       "      <th></th>\n",
       "      <th></th>\n",
       "      <th></th>\n",
       "      <th></th>\n",
       "      <th></th>\n",
       "    </tr>\n",
       "  </thead>\n",
       "  <tbody>\n",
       "    <tr>\n",
       "      <th>2022-01-03 09:00:00</th>\n",
       "      <td>OMXSTO:BITCOIN_XBT</td>\n",
       "      <td>2045.000000</td>\n",
       "      <td>2067.100100</td>\n",
       "      <td>2018.689900</td>\n",
       "      <td>2023.000000</td>\n",
       "      <td>20928.0</td>\n",
       "      <td>2038.447500</td>\n",
       "      <td>4.485218e+06</td>\n",
       "    </tr>\n",
       "    <tr>\n",
       "      <th>2022-01-04 09:00:00</th>\n",
       "      <td>OMXSTO:BITCOIN_XBT</td>\n",
       "      <td>2023.000000</td>\n",
       "      <td>2068.470000</td>\n",
       "      <td>2012.530000</td>\n",
       "      <td>2029.510000</td>\n",
       "      <td>20632.0</td>\n",
       "      <td>2033.377500</td>\n",
       "      <td>4.410782e+06</td>\n",
       "    </tr>\n",
       "    <tr>\n",
       "      <th>2022-01-05 09:00:00</th>\n",
       "      <td>OMXSTO:BITCOIN_XBT</td>\n",
       "      <td>2028.500000</td>\n",
       "      <td>2038.000000</td>\n",
       "      <td>1995.540000</td>\n",
       "      <td>2001.000000</td>\n",
       "      <td>10651.0</td>\n",
       "      <td>2015.760000</td>\n",
       "      <td>2.257280e+06</td>\n",
       "    </tr>\n",
       "    <tr>\n",
       "      <th>2022-01-07 09:00:00</th>\n",
       "      <td>OMXSTO:BITCOIN_XBT</td>\n",
       "      <td>1822.610000</td>\n",
       "      <td>1860.000000</td>\n",
       "      <td>1765.000000</td>\n",
       "      <td>1787.380000</td>\n",
       "      <td>85041.0</td>\n",
       "      <td>1808.747500</td>\n",
       "      <td>1.617196e+07</td>\n",
       "    </tr>\n",
       "    <tr>\n",
       "      <th>2022-01-10 09:00:00</th>\n",
       "      <td>OMXSTO:BITCOIN_XBT</td>\n",
       "      <td>1812.430100</td>\n",
       "      <td>1828.460000</td>\n",
       "      <td>1720.000000</td>\n",
       "      <td>1811.360000</td>\n",
       "      <td>66902.0</td>\n",
       "      <td>1793.062525</td>\n",
       "      <td>1.261220e+07</td>\n",
       "    </tr>\n",
       "    <tr>\n",
       "      <th>...</th>\n",
       "      <td>...</td>\n",
       "      <td>...</td>\n",
       "      <td>...</td>\n",
       "      <td>...</td>\n",
       "      <td>...</td>\n",
       "      <td>...</td>\n",
       "      <td>...</td>\n",
       "      <td>...</td>\n",
       "    </tr>\n",
       "    <tr>\n",
       "      <th>2022-05-19 09:00:00</th>\n",
       "      <td>XETR:BTCE</td>\n",
       "      <td>26.812000</td>\n",
       "      <td>27.652000</td>\n",
       "      <td>26.378000</td>\n",
       "      <td>27.652000</td>\n",
       "      <td>338323.0</td>\n",
       "      <td>27.123500</td>\n",
       "      <td>1.010052e+07</td>\n",
       "    </tr>\n",
       "    <tr>\n",
       "      <th>2022-05-20 09:00:00</th>\n",
       "      <td>XETR:BTCE</td>\n",
       "      <td>27.254000</td>\n",
       "      <td>27.690001</td>\n",
       "      <td>26.556000</td>\n",
       "      <td>26.662001</td>\n",
       "      <td>118883.0</td>\n",
       "      <td>27.040501</td>\n",
       "      <td>3.538351e+06</td>\n",
       "    </tr>\n",
       "    <tr>\n",
       "      <th>2022-05-23 09:00:00</th>\n",
       "      <td>XETR:BTCE</td>\n",
       "      <td>27.615999</td>\n",
       "      <td>27.778000</td>\n",
       "      <td>27.002001</td>\n",
       "      <td>27.334000</td>\n",
       "      <td>171911.0</td>\n",
       "      <td>27.432500</td>\n",
       "      <td>5.190814e+06</td>\n",
       "    </tr>\n",
       "    <tr>\n",
       "      <th>2022-05-24 09:00:00</th>\n",
       "      <td>XETR:BTCE</td>\n",
       "      <td>26.330000</td>\n",
       "      <td>26.406000</td>\n",
       "      <td>25.632000</td>\n",
       "      <td>25.997999</td>\n",
       "      <td>309514.0</td>\n",
       "      <td>26.091500</td>\n",
       "      <td>8.888854e+06</td>\n",
       "    </tr>\n",
       "    <tr>\n",
       "      <th>2022-05-25 09:00:00</th>\n",
       "      <td>XETR:BTCE</td>\n",
       "      <td>26.678000</td>\n",
       "      <td>26.910000</td>\n",
       "      <td>26.442000</td>\n",
       "      <td>26.522000</td>\n",
       "      <td>88430.0</td>\n",
       "      <td>26.638000</td>\n",
       "      <td>2.592792e+06</td>\n",
       "    </tr>\n",
       "  </tbody>\n",
       "</table>\n",
       "<p>600 rows × 8 columns</p>\n",
       "</div>"
      ],
      "text/plain": [
       "                                 symbol         open         high  \\\n",
       "datetime                                                            \n",
       "2022-01-03 09:00:00  OMXSTO:BITCOIN_XBT  2045.000000  2067.100100   \n",
       "2022-01-04 09:00:00  OMXSTO:BITCOIN_XBT  2023.000000  2068.470000   \n",
       "2022-01-05 09:00:00  OMXSTO:BITCOIN_XBT  2028.500000  2038.000000   \n",
       "2022-01-07 09:00:00  OMXSTO:BITCOIN_XBT  1822.610000  1860.000000   \n",
       "2022-01-10 09:00:00  OMXSTO:BITCOIN_XBT  1812.430100  1828.460000   \n",
       "...                                 ...          ...          ...   \n",
       "2022-05-19 09:00:00           XETR:BTCE    26.812000    27.652000   \n",
       "2022-05-20 09:00:00           XETR:BTCE    27.254000    27.690001   \n",
       "2022-05-23 09:00:00           XETR:BTCE    27.615999    27.778000   \n",
       "2022-05-24 09:00:00           XETR:BTCE    26.330000    26.406000   \n",
       "2022-05-25 09:00:00           XETR:BTCE    26.678000    26.910000   \n",
       "\n",
       "                             low        close    volume  averageprice  \\\n",
       "datetime                                                                \n",
       "2022-01-03 09:00:00  2018.689900  2023.000000   20928.0   2038.447500   \n",
       "2022-01-04 09:00:00  2012.530000  2029.510000   20632.0   2033.377500   \n",
       "2022-01-05 09:00:00  1995.540000  2001.000000   10651.0   2015.760000   \n",
       "2022-01-07 09:00:00  1765.000000  1787.380000   85041.0   1808.747500   \n",
       "2022-01-10 09:00:00  1720.000000  1811.360000   66902.0   1793.062525   \n",
       "...                          ...          ...       ...           ...   \n",
       "2022-05-19 09:00:00    26.378000    27.652000  338323.0     27.123500   \n",
       "2022-05-20 09:00:00    26.556000    26.662001  118883.0     27.040501   \n",
       "2022-05-23 09:00:00    27.002001    27.334000  171911.0     27.432500   \n",
       "2022-05-24 09:00:00    25.632000    25.997999  309514.0     26.091500   \n",
       "2022-05-25 09:00:00    26.442000    26.522000   88430.0     26.638000   \n",
       "\n",
       "                         turnover  \n",
       "datetime                           \n",
       "2022-01-03 09:00:00  4.485218e+06  \n",
       "2022-01-04 09:00:00  4.410782e+06  \n",
       "2022-01-05 09:00:00  2.257280e+06  \n",
       "2022-01-07 09:00:00  1.617196e+07  \n",
       "2022-01-10 09:00:00  1.261220e+07  \n",
       "...                           ...  \n",
       "2022-05-19 09:00:00  1.010052e+07  \n",
       "2022-05-20 09:00:00  3.538351e+06  \n",
       "2022-05-23 09:00:00  5.190814e+06  \n",
       "2022-05-24 09:00:00  8.888854e+06  \n",
       "2022-05-25 09:00:00  2.592792e+06  \n",
       "\n",
       "[600 rows x 8 columns]"
      ]
     },
     "execution_count": 186,
     "metadata": {},
     "output_type": "execute_result"
    }
   ],
   "source": [
    "#BTC Products\n",
    "\n",
    "BTC_products = [pd_BTC_XBT, pd_BTC_ZERO_SEK, pd_BTCE_XBT, pd_21SHARES_SIX_BTC, pd_21SHARES_XETRA_BTC, pd_ETC_GROUP_XETRA_BTC]\n",
    "BTC_products_concated = pd.concat(BTC_products)\n",
    "BTC_products_concated"
   ]
  },
  {
   "cell_type": "code",
   "execution_count": 196,
   "metadata": {},
   "outputs": [
    {
     "data": {
      "text/html": [
       "<div>\n",
       "<style scoped>\n",
       "    .dataframe tbody tr th:only-of-type {\n",
       "        vertical-align: middle;\n",
       "    }\n",
       "\n",
       "    .dataframe tbody tr th {\n",
       "        vertical-align: top;\n",
       "    }\n",
       "\n",
       "    .dataframe thead th {\n",
       "        text-align: right;\n",
       "    }\n",
       "</style>\n",
       "<table border=\"1\" class=\"dataframe\">\n",
       "  <thead>\n",
       "    <tr style=\"text-align: right;\">\n",
       "      <th></th>\n",
       "      <th>symbol</th>\n",
       "      <th>open</th>\n",
       "      <th>high</th>\n",
       "      <th>low</th>\n",
       "      <th>close</th>\n",
       "      <th>volume</th>\n",
       "      <th>averageprice</th>\n",
       "      <th>turnover</th>\n",
       "    </tr>\n",
       "    <tr>\n",
       "      <th>datetime</th>\n",
       "      <th></th>\n",
       "      <th></th>\n",
       "      <th></th>\n",
       "      <th></th>\n",
       "      <th></th>\n",
       "      <th></th>\n",
       "      <th></th>\n",
       "      <th></th>\n",
       "    </tr>\n",
       "  </thead>\n",
       "  <tbody>\n",
       "    <tr>\n",
       "      <th>2022-01-03 09:00:00</th>\n",
       "      <td>OMXSTO:ETHEREUM_XBT</td>\n",
       "      <td>335.120000</td>\n",
       "      <td>341.959990</td>\n",
       "      <td>332.049990</td>\n",
       "      <td>332.280000</td>\n",
       "      <td>135622.0</td>\n",
       "      <td>335.352495</td>\n",
       "      <td>4.781762e+06</td>\n",
       "    </tr>\n",
       "    <tr>\n",
       "      <th>2022-01-04 09:00:00</th>\n",
       "      <td>OMXSTO:ETHEREUM_XBT</td>\n",
       "      <td>332.870000</td>\n",
       "      <td>345.140010</td>\n",
       "      <td>332.870000</td>\n",
       "      <td>340.010010</td>\n",
       "      <td>160339.0</td>\n",
       "      <td>337.722505</td>\n",
       "      <td>5.693187e+06</td>\n",
       "    </tr>\n",
       "    <tr>\n",
       "      <th>2022-01-05 09:00:00</th>\n",
       "      <td>OMXSTO:ETHEREUM_XBT</td>\n",
       "      <td>340.010010</td>\n",
       "      <td>340.010010</td>\n",
       "      <td>333.030000</td>\n",
       "      <td>333.060000</td>\n",
       "      <td>55108.0</td>\n",
       "      <td>336.527505</td>\n",
       "      <td>1.949806e+06</td>\n",
       "    </tr>\n",
       "    <tr>\n",
       "      <th>2022-01-07 09:00:00</th>\n",
       "      <td>OMXSTO:ETHEREUM_XBT</td>\n",
       "      <td>284.489990</td>\n",
       "      <td>292.019990</td>\n",
       "      <td>270.420010</td>\n",
       "      <td>274.899990</td>\n",
       "      <td>939228.0</td>\n",
       "      <td>280.457495</td>\n",
       "      <td>2.769455e+07</td>\n",
       "    </tr>\n",
       "    <tr>\n",
       "      <th>2022-01-10 09:00:00</th>\n",
       "      <td>OMXSTO:ETHEREUM_XBT</td>\n",
       "      <td>276.040010</td>\n",
       "      <td>278.690000</td>\n",
       "      <td>258.000000</td>\n",
       "      <td>270.880000</td>\n",
       "      <td>542309.0</td>\n",
       "      <td>270.902502</td>\n",
       "      <td>1.544600e+07</td>\n",
       "    </tr>\n",
       "    <tr>\n",
       "      <th>...</th>\n",
       "      <td>...</td>\n",
       "      <td>...</td>\n",
       "      <td>...</td>\n",
       "      <td>...</td>\n",
       "      <td>...</td>\n",
       "      <td>...</td>\n",
       "      <td>...</td>\n",
       "      <td>...</td>\n",
       "    </tr>\n",
       "    <tr>\n",
       "      <th>2022-05-19 09:00:00</th>\n",
       "      <td>XETR:ETHA</td>\n",
       "      <td>20.889999</td>\n",
       "      <td>21.299999</td>\n",
       "      <td>20.354000</td>\n",
       "      <td>21.299999</td>\n",
       "      <td>29968.0</td>\n",
       "      <td>20.960999</td>\n",
       "      <td>6.914108e+05</td>\n",
       "    </tr>\n",
       "    <tr>\n",
       "      <th>2022-05-20 09:00:00</th>\n",
       "      <td>XETR:ETHA</td>\n",
       "      <td>21.132000</td>\n",
       "      <td>21.742001</td>\n",
       "      <td>20.684000</td>\n",
       "      <td>20.728001</td>\n",
       "      <td>47456.0</td>\n",
       "      <td>21.071500</td>\n",
       "      <td>1.100660e+06</td>\n",
       "    </tr>\n",
       "    <tr>\n",
       "      <th>2022-05-23 09:00:00</th>\n",
       "      <td>XETR:ETHA</td>\n",
       "      <td>21.587999</td>\n",
       "      <td>21.827999</td>\n",
       "      <td>21.290001</td>\n",
       "      <td>21.594000</td>\n",
       "      <td>90977.0</td>\n",
       "      <td>21.575000</td>\n",
       "      <td>2.160473e+06</td>\n",
       "    </tr>\n",
       "    <tr>\n",
       "      <th>2022-05-24 09:00:00</th>\n",
       "      <td>XETR:ETHA</td>\n",
       "      <td>20.610001</td>\n",
       "      <td>20.624001</td>\n",
       "      <td>19.851999</td>\n",
       "      <td>20.115999</td>\n",
       "      <td>61716.0</td>\n",
       "      <td>20.300500</td>\n",
       "      <td>1.379021e+06</td>\n",
       "    </tr>\n",
       "    <tr>\n",
       "      <th>2022-05-25 09:00:00</th>\n",
       "      <td>XETR:ETHA</td>\n",
       "      <td>20.612000</td>\n",
       "      <td>20.660000</td>\n",
       "      <td>20.248000</td>\n",
       "      <td>20.248000</td>\n",
       "      <td>2599.0</td>\n",
       "      <td>20.442000</td>\n",
       "      <td>5.847848e+04</td>\n",
       "    </tr>\n",
       "  </tbody>\n",
       "</table>\n",
       "<p>600 rows × 8 columns</p>\n",
       "</div>"
      ],
      "text/plain": [
       "                                  symbol        open        high         low  \\\n",
       "datetime                                                                       \n",
       "2022-01-03 09:00:00  OMXSTO:ETHEREUM_XBT  335.120000  341.959990  332.049990   \n",
       "2022-01-04 09:00:00  OMXSTO:ETHEREUM_XBT  332.870000  345.140010  332.870000   \n",
       "2022-01-05 09:00:00  OMXSTO:ETHEREUM_XBT  340.010010  340.010010  333.030000   \n",
       "2022-01-07 09:00:00  OMXSTO:ETHEREUM_XBT  284.489990  292.019990  270.420010   \n",
       "2022-01-10 09:00:00  OMXSTO:ETHEREUM_XBT  276.040010  278.690000  258.000000   \n",
       "...                                  ...         ...         ...         ...   \n",
       "2022-05-19 09:00:00            XETR:ETHA   20.889999   21.299999   20.354000   \n",
       "2022-05-20 09:00:00            XETR:ETHA   21.132000   21.742001   20.684000   \n",
       "2022-05-23 09:00:00            XETR:ETHA   21.587999   21.827999   21.290001   \n",
       "2022-05-24 09:00:00            XETR:ETHA   20.610001   20.624001   19.851999   \n",
       "2022-05-25 09:00:00            XETR:ETHA   20.612000   20.660000   20.248000   \n",
       "\n",
       "                          close    volume  averageprice      turnover  \n",
       "datetime                                                               \n",
       "2022-01-03 09:00:00  332.280000  135622.0    335.352495  4.781762e+06  \n",
       "2022-01-04 09:00:00  340.010010  160339.0    337.722505  5.693187e+06  \n",
       "2022-01-05 09:00:00  333.060000   55108.0    336.527505  1.949806e+06  \n",
       "2022-01-07 09:00:00  274.899990  939228.0    280.457495  2.769455e+07  \n",
       "2022-01-10 09:00:00  270.880000  542309.0    270.902502  1.544600e+07  \n",
       "...                         ...       ...           ...           ...  \n",
       "2022-05-19 09:00:00   21.299999   29968.0     20.960999  6.914108e+05  \n",
       "2022-05-20 09:00:00   20.728001   47456.0     21.071500  1.100660e+06  \n",
       "2022-05-23 09:00:00   21.594000   90977.0     21.575000  2.160473e+06  \n",
       "2022-05-24 09:00:00   20.115999   61716.0     20.300500  1.379021e+06  \n",
       "2022-05-25 09:00:00   20.248000    2599.0     20.442000  5.847848e+04  \n",
       "\n",
       "[600 rows x 8 columns]"
      ]
     },
     "execution_count": 196,
     "metadata": {},
     "output_type": "execute_result"
    }
   ],
   "source": [
    "#ETH Products\n",
    "\n",
    "ETH_products = [pd_ETH_XBT, pd_ETH_ZERO_SEK, pd_ETHE_XBT, pd_ETC_GROUP_XETRA_ETH, pd_21SHARES_SIX_ETH, pd_21SHARES_XETRA_ETH]\n",
    "ETH_products_concated = pd.concat(ETH_products)\n",
    "ETH_products_concated"
   ]
  },
  {
   "cell_type": "code",
   "execution_count": 215,
   "metadata": {},
   "outputs": [
    {
     "data": {
      "text/html": [
       "<div>\n",
       "<style scoped>\n",
       "    .dataframe tbody tr th:only-of-type {\n",
       "        vertical-align: middle;\n",
       "    }\n",
       "\n",
       "    .dataframe tbody tr th {\n",
       "        vertical-align: top;\n",
       "    }\n",
       "\n",
       "    .dataframe thead th {\n",
       "        text-align: right;\n",
       "    }\n",
       "</style>\n",
       "<table border=\"1\" class=\"dataframe\">\n",
       "  <thead>\n",
       "    <tr style=\"text-align: right;\">\n",
       "      <th></th>\n",
       "      <th>symbol</th>\n",
       "      <th>open</th>\n",
       "      <th>high</th>\n",
       "      <th>low</th>\n",
       "      <th>close</th>\n",
       "      <th>volume</th>\n",
       "      <th>averageprice</th>\n",
       "      <th>turnover</th>\n",
       "    </tr>\n",
       "    <tr>\n",
       "      <th>datetime</th>\n",
       "      <th></th>\n",
       "      <th></th>\n",
       "      <th></th>\n",
       "      <th></th>\n",
       "      <th></th>\n",
       "      <th></th>\n",
       "      <th></th>\n",
       "      <th></th>\n",
       "    </tr>\n",
       "  </thead>\n",
       "  <tbody>\n",
       "    <tr>\n",
       "      <th>2022-01-03 09:00:00</th>\n",
       "      <td>NGM:VALOUR.CARDANO.SEK</td>\n",
       "      <td>12.2000</td>\n",
       "      <td>13.0000</td>\n",
       "      <td>11.9100</td>\n",
       "      <td>11.9200</td>\n",
       "      <td>725957.0</td>\n",
       "      <td>12.25750</td>\n",
       "      <td>9.355545e+05</td>\n",
       "    </tr>\n",
       "    <tr>\n",
       "      <th>2022-01-04 09:00:00</th>\n",
       "      <td>NGM:VALOUR.CARDANO.SEK</td>\n",
       "      <td>11.9800</td>\n",
       "      <td>12.1700</td>\n",
       "      <td>11.8200</td>\n",
       "      <td>11.9700</td>\n",
       "      <td>362670.0</td>\n",
       "      <td>11.98500</td>\n",
       "      <td>4.569892e+05</td>\n",
       "    </tr>\n",
       "    <tr>\n",
       "      <th>2022-01-05 09:00:00</th>\n",
       "      <td>NGM:VALOUR.CARDANO.SEK</td>\n",
       "      <td>11.9700</td>\n",
       "      <td>12.1400</td>\n",
       "      <td>11.8100</td>\n",
       "      <td>11.8100</td>\n",
       "      <td>187645.0</td>\n",
       "      <td>11.93250</td>\n",
       "      <td>2.354099e+05</td>\n",
       "    </tr>\n",
       "    <tr>\n",
       "      <th>2022-01-07 09:00:00</th>\n",
       "      <td>NGM:VALOUR.CARDANO.SEK</td>\n",
       "      <td>10.9100</td>\n",
       "      <td>11.2700</td>\n",
       "      <td>10.6800</td>\n",
       "      <td>10.9200</td>\n",
       "      <td>1424156.0</td>\n",
       "      <td>10.94500</td>\n",
       "      <td>1.638814e+06</td>\n",
       "    </tr>\n",
       "    <tr>\n",
       "      <th>2022-01-10 09:00:00</th>\n",
       "      <td>NGM:VALOUR.CARDANO.SEK</td>\n",
       "      <td>10.5300</td>\n",
       "      <td>10.5500</td>\n",
       "      <td>9.6000</td>\n",
       "      <td>10.1300</td>\n",
       "      <td>1722135.0</td>\n",
       "      <td>10.20250</td>\n",
       "      <td>1.847269e+06</td>\n",
       "    </tr>\n",
       "    <tr>\n",
       "      <th>...</th>\n",
       "      <td>...</td>\n",
       "      <td>...</td>\n",
       "      <td>...</td>\n",
       "      <td>...</td>\n",
       "      <td>...</td>\n",
       "      <td>...</td>\n",
       "      <td>...</td>\n",
       "      <td>...</td>\n",
       "    </tr>\n",
       "    <tr>\n",
       "      <th>2022-05-19 09:00:00</th>\n",
       "      <td>XETR:RDAN</td>\n",
       "      <td>2.4654</td>\n",
       "      <td>2.5452</td>\n",
       "      <td>2.4006</td>\n",
       "      <td>2.5452</td>\n",
       "      <td>0.0</td>\n",
       "      <td>2.48910</td>\n",
       "      <td>0.000000e+00</td>\n",
       "    </tr>\n",
       "    <tr>\n",
       "      <th>2022-05-20 09:00:00</th>\n",
       "      <td>XETR:RDAN</td>\n",
       "      <td>2.4442</td>\n",
       "      <td>2.5316</td>\n",
       "      <td>2.3938</td>\n",
       "      <td>2.3938</td>\n",
       "      <td>300.0</td>\n",
       "      <td>2.44085</td>\n",
       "      <td>8.059884e+02</td>\n",
       "    </tr>\n",
       "    <tr>\n",
       "      <th>2022-05-23 09:00:00</th>\n",
       "      <td>XETR:RDAN</td>\n",
       "      <td>2.5484</td>\n",
       "      <td>2.5612</td>\n",
       "      <td>2.5484</td>\n",
       "      <td>2.5530</td>\n",
       "      <td>0.0</td>\n",
       "      <td>2.55275</td>\n",
       "      <td>0.000000e+00</td>\n",
       "    </tr>\n",
       "    <tr>\n",
       "      <th>2022-05-24 09:00:00</th>\n",
       "      <td>XETR:RDAN</td>\n",
       "      <td>2.3876</td>\n",
       "      <td>2.4046</td>\n",
       "      <td>2.3360</td>\n",
       "      <td>2.3360</td>\n",
       "      <td>1.0</td>\n",
       "      <td>2.36605</td>\n",
       "      <td>2.604296e+00</td>\n",
       "    </tr>\n",
       "    <tr>\n",
       "      <th>2022-05-25 09:00:00</th>\n",
       "      <td>XETR:RDAN</td>\n",
       "      <td>2.4042</td>\n",
       "      <td>2.4042</td>\n",
       "      <td>2.3772</td>\n",
       "      <td>2.3772</td>\n",
       "      <td>0.0</td>\n",
       "      <td>2.39070</td>\n",
       "      <td>0.000000e+00</td>\n",
       "    </tr>\n",
       "  </tbody>\n",
       "</table>\n",
       "<p>400 rows × 8 columns</p>\n",
       "</div>"
      ],
      "text/plain": [
       "                                     symbol     open     high      low  \\\n",
       "datetime                                                                 \n",
       "2022-01-03 09:00:00  NGM:VALOUR.CARDANO.SEK  12.2000  13.0000  11.9100   \n",
       "2022-01-04 09:00:00  NGM:VALOUR.CARDANO.SEK  11.9800  12.1700  11.8200   \n",
       "2022-01-05 09:00:00  NGM:VALOUR.CARDANO.SEK  11.9700  12.1400  11.8100   \n",
       "2022-01-07 09:00:00  NGM:VALOUR.CARDANO.SEK  10.9100  11.2700  10.6800   \n",
       "2022-01-10 09:00:00  NGM:VALOUR.CARDANO.SEK  10.5300  10.5500   9.6000   \n",
       "...                                     ...      ...      ...      ...   \n",
       "2022-05-19 09:00:00               XETR:RDAN   2.4654   2.5452   2.4006   \n",
       "2022-05-20 09:00:00               XETR:RDAN   2.4442   2.5316   2.3938   \n",
       "2022-05-23 09:00:00               XETR:RDAN   2.5484   2.5612   2.5484   \n",
       "2022-05-24 09:00:00               XETR:RDAN   2.3876   2.4046   2.3360   \n",
       "2022-05-25 09:00:00               XETR:RDAN   2.4042   2.4042   2.3772   \n",
       "\n",
       "                       close     volume  averageprice      turnover  \n",
       "datetime                                                             \n",
       "2022-01-03 09:00:00  11.9200   725957.0      12.25750  9.355545e+05  \n",
       "2022-01-04 09:00:00  11.9700   362670.0      11.98500  4.569892e+05  \n",
       "2022-01-05 09:00:00  11.8100   187645.0      11.93250  2.354099e+05  \n",
       "2022-01-07 09:00:00  10.9200  1424156.0      10.94500  1.638814e+06  \n",
       "2022-01-10 09:00:00  10.1300  1722135.0      10.20250  1.847269e+06  \n",
       "...                      ...        ...           ...           ...  \n",
       "2022-05-19 09:00:00   2.5452        0.0       2.48910  0.000000e+00  \n",
       "2022-05-20 09:00:00   2.3938      300.0       2.44085  8.059884e+02  \n",
       "2022-05-23 09:00:00   2.5530        0.0       2.55275  0.000000e+00  \n",
       "2022-05-24 09:00:00   2.3360        1.0       2.36605  2.604296e+00  \n",
       "2022-05-25 09:00:00   2.3772        0.0       2.39070  0.000000e+00  \n",
       "\n",
       "[400 rows x 8 columns]"
      ]
     },
     "execution_count": 215,
     "metadata": {},
     "output_type": "execute_result"
    }
   ],
   "source": [
    "#ADA Products\n",
    "\n",
    "ADA_products = [pd_VALOUR_CARDANO_SEK, pd_21SHARES_SIX_ADA, pd_21SHARES_XETRA_ADA, pd_ETC_GROUP_XETRA_ADA]\n",
    "ADA_products_concated = pd.concat(ADA_products)\n",
    "ADA_products_concated"
   ]
  },
  {
   "cell_type": "code",
   "execution_count": 217,
   "metadata": {},
   "outputs": [
    {
     "data": {
      "text/html": [
       "<div>\n",
       "<style scoped>\n",
       "    .dataframe tbody tr th:only-of-type {\n",
       "        vertical-align: middle;\n",
       "    }\n",
       "\n",
       "    .dataframe tbody tr th {\n",
       "        vertical-align: top;\n",
       "    }\n",
       "\n",
       "    .dataframe thead th {\n",
       "        text-align: right;\n",
       "    }\n",
       "</style>\n",
       "<table border=\"1\" class=\"dataframe\">\n",
       "  <thead>\n",
       "    <tr style=\"text-align: right;\">\n",
       "      <th></th>\n",
       "      <th>symbol</th>\n",
       "      <th>open</th>\n",
       "      <th>high</th>\n",
       "      <th>low</th>\n",
       "      <th>close</th>\n",
       "      <th>volume</th>\n",
       "      <th>averageprice</th>\n",
       "      <th>turnover</th>\n",
       "    </tr>\n",
       "    <tr>\n",
       "      <th>datetime</th>\n",
       "      <th></th>\n",
       "      <th></th>\n",
       "      <th></th>\n",
       "      <th></th>\n",
       "      <th></th>\n",
       "      <th></th>\n",
       "      <th></th>\n",
       "      <th></th>\n",
       "    </tr>\n",
       "  </thead>\n",
       "  <tbody>\n",
       "    <tr>\n",
       "      <th>2022-01-03 09:00:00</th>\n",
       "      <td>NGM:VALOUR.SOLANA.SEK</td>\n",
       "      <td>15.6900</td>\n",
       "      <td>16.0100</td>\n",
       "      <td>15.3500</td>\n",
       "      <td>15.4000</td>\n",
       "      <td>1022419.0</td>\n",
       "      <td>15.612500</td>\n",
       "      <td>1.678254e+06</td>\n",
       "    </tr>\n",
       "    <tr>\n",
       "      <th>2022-01-04 09:00:00</th>\n",
       "      <td>NGM:VALOUR.SOLANA.SEK</td>\n",
       "      <td>15.3700</td>\n",
       "      <td>15.7900</td>\n",
       "      <td>15.1000</td>\n",
       "      <td>15.5000</td>\n",
       "      <td>528003.0</td>\n",
       "      <td>15.440000</td>\n",
       "      <td>8.571167e+05</td>\n",
       "    </tr>\n",
       "    <tr>\n",
       "      <th>2022-01-05 09:00:00</th>\n",
       "      <td>NGM:VALOUR.SOLANA.SEK</td>\n",
       "      <td>15.4100</td>\n",
       "      <td>15.5000</td>\n",
       "      <td>15.1100</td>\n",
       "      <td>15.1100</td>\n",
       "      <td>236090.0</td>\n",
       "      <td>15.282500</td>\n",
       "      <td>3.793397e+05</td>\n",
       "    </tr>\n",
       "    <tr>\n",
       "      <th>2022-01-07 09:00:00</th>\n",
       "      <td>NGM:VALOUR.SOLANA.SEK</td>\n",
       "      <td>12.6400</td>\n",
       "      <td>13.0000</td>\n",
       "      <td>12.1000</td>\n",
       "      <td>12.5300</td>\n",
       "      <td>2805710.0</td>\n",
       "      <td>12.567500</td>\n",
       "      <td>3.707217e+06</td>\n",
       "    </tr>\n",
       "    <tr>\n",
       "      <th>2022-01-10 09:00:00</th>\n",
       "      <td>NGM:VALOUR.SOLANA.SEK</td>\n",
       "      <td>12.8100</td>\n",
       "      <td>12.9600</td>\n",
       "      <td>11.7100</td>\n",
       "      <td>12.2900</td>\n",
       "      <td>1714225.0</td>\n",
       "      <td>12.442500</td>\n",
       "      <td>2.242496e+06</td>\n",
       "    </tr>\n",
       "    <tr>\n",
       "      <th>...</th>\n",
       "      <td>...</td>\n",
       "      <td>...</td>\n",
       "      <td>...</td>\n",
       "      <td>...</td>\n",
       "      <td>...</td>\n",
       "      <td>...</td>\n",
       "      <td>...</td>\n",
       "      <td>...</td>\n",
       "    </tr>\n",
       "    <tr>\n",
       "      <th>2022-05-19 09:00:00</th>\n",
       "      <td>XETR:ESOL</td>\n",
       "      <td>4.8910</td>\n",
       "      <td>5.0020</td>\n",
       "      <td>4.5802</td>\n",
       "      <td>5.0020</td>\n",
       "      <td>9.0</td>\n",
       "      <td>4.868800</td>\n",
       "      <td>4.823151e+01</td>\n",
       "    </tr>\n",
       "    <tr>\n",
       "      <th>2022-05-20 09:00:00</th>\n",
       "      <td>XETR:ESOL</td>\n",
       "      <td>4.7654</td>\n",
       "      <td>4.9702</td>\n",
       "      <td>4.6722</td>\n",
       "      <td>4.6722</td>\n",
       "      <td>0.0</td>\n",
       "      <td>4.770000</td>\n",
       "      <td>0.000000e+00</td>\n",
       "    </tr>\n",
       "    <tr>\n",
       "      <th>2022-05-23 09:00:00</th>\n",
       "      <td>XETR:ESOL</td>\n",
       "      <td>4.9466</td>\n",
       "      <td>5.0625</td>\n",
       "      <td>4.8980</td>\n",
       "      <td>4.9898</td>\n",
       "      <td>454.0</td>\n",
       "      <td>4.974225</td>\n",
       "      <td>2.485694e+03</td>\n",
       "    </tr>\n",
       "    <tr>\n",
       "      <th>2022-05-24 09:00:00</th>\n",
       "      <td>XETR:ESOL</td>\n",
       "      <td>4.6154</td>\n",
       "      <td>4.6154</td>\n",
       "      <td>4.5174</td>\n",
       "      <td>4.5174</td>\n",
       "      <td>6.0</td>\n",
       "      <td>4.566400</td>\n",
       "      <td>3.015724e+01</td>\n",
       "    </tr>\n",
       "    <tr>\n",
       "      <th>2022-05-25 09:00:00</th>\n",
       "      <td>XETR:ESOL</td>\n",
       "      <td>4.5356</td>\n",
       "      <td>4.5356</td>\n",
       "      <td>4.4842</td>\n",
       "      <td>4.4842</td>\n",
       "      <td>7.0</td>\n",
       "      <td>4.509900</td>\n",
       "      <td>3.474813e+01</td>\n",
       "    </tr>\n",
       "  </tbody>\n",
       "</table>\n",
       "<p>400 rows × 8 columns</p>\n",
       "</div>"
      ],
      "text/plain": [
       "                                    symbol     open     high      low  \\\n",
       "datetime                                                                \n",
       "2022-01-03 09:00:00  NGM:VALOUR.SOLANA.SEK  15.6900  16.0100  15.3500   \n",
       "2022-01-04 09:00:00  NGM:VALOUR.SOLANA.SEK  15.3700  15.7900  15.1000   \n",
       "2022-01-05 09:00:00  NGM:VALOUR.SOLANA.SEK  15.4100  15.5000  15.1100   \n",
       "2022-01-07 09:00:00  NGM:VALOUR.SOLANA.SEK  12.6400  13.0000  12.1000   \n",
       "2022-01-10 09:00:00  NGM:VALOUR.SOLANA.SEK  12.8100  12.9600  11.7100   \n",
       "...                                    ...      ...      ...      ...   \n",
       "2022-05-19 09:00:00              XETR:ESOL   4.8910   5.0020   4.5802   \n",
       "2022-05-20 09:00:00              XETR:ESOL   4.7654   4.9702   4.6722   \n",
       "2022-05-23 09:00:00              XETR:ESOL   4.9466   5.0625   4.8980   \n",
       "2022-05-24 09:00:00              XETR:ESOL   4.6154   4.6154   4.5174   \n",
       "2022-05-25 09:00:00              XETR:ESOL   4.5356   4.5356   4.4842   \n",
       "\n",
       "                       close     volume  averageprice      turnover  \n",
       "datetime                                                             \n",
       "2022-01-03 09:00:00  15.4000  1022419.0     15.612500  1.678254e+06  \n",
       "2022-01-04 09:00:00  15.5000   528003.0     15.440000  8.571167e+05  \n",
       "2022-01-05 09:00:00  15.1100   236090.0     15.282500  3.793397e+05  \n",
       "2022-01-07 09:00:00  12.5300  2805710.0     12.567500  3.707217e+06  \n",
       "2022-01-10 09:00:00  12.2900  1714225.0     12.442500  2.242496e+06  \n",
       "...                      ...        ...           ...           ...  \n",
       "2022-05-19 09:00:00   5.0020        9.0      4.868800  4.823151e+01  \n",
       "2022-05-20 09:00:00   4.6722        0.0      4.770000  0.000000e+00  \n",
       "2022-05-23 09:00:00   4.9898      454.0      4.974225  2.485694e+03  \n",
       "2022-05-24 09:00:00   4.5174        6.0      4.566400  3.015724e+01  \n",
       "2022-05-25 09:00:00   4.4842        7.0      4.509900  3.474813e+01  \n",
       "\n",
       "[400 rows x 8 columns]"
      ]
     },
     "execution_count": 217,
     "metadata": {},
     "output_type": "execute_result"
    }
   ],
   "source": [
    "#SOL Products\n",
    "\n",
    "SOL_products = [pd_VALOUR_SOLANA_SEK, pd_21SHARES_SIX_SOL, pd_21SHARES_XETRA_SOL, pd_ETC_GROUP_XETRA_SOL]\n",
    "SOL_products_concated = pd.concat(SOL_products)\n",
    "SOL_products_concated"
   ]
  },
  {
   "cell_type": "code",
   "execution_count": 221,
   "metadata": {},
   "outputs": [
    {
     "data": {
      "text/html": [
       "<div>\n",
       "<style scoped>\n",
       "    .dataframe tbody tr th:only-of-type {\n",
       "        vertical-align: middle;\n",
       "    }\n",
       "\n",
       "    .dataframe tbody tr th {\n",
       "        vertical-align: top;\n",
       "    }\n",
       "\n",
       "    .dataframe thead th {\n",
       "        text-align: right;\n",
       "    }\n",
       "</style>\n",
       "<table border=\"1\" class=\"dataframe\">\n",
       "  <thead>\n",
       "    <tr style=\"text-align: right;\">\n",
       "      <th></th>\n",
       "      <th>symbol</th>\n",
       "      <th>open</th>\n",
       "      <th>high</th>\n",
       "      <th>low</th>\n",
       "      <th>close</th>\n",
       "      <th>volume</th>\n",
       "      <th>averageprice</th>\n",
       "      <th>turnover</th>\n",
       "    </tr>\n",
       "    <tr>\n",
       "      <th>datetime</th>\n",
       "      <th></th>\n",
       "      <th></th>\n",
       "      <th></th>\n",
       "      <th></th>\n",
       "      <th></th>\n",
       "      <th></th>\n",
       "      <th></th>\n",
       "      <th></th>\n",
       "    </tr>\n",
       "  </thead>\n",
       "  <tbody>\n",
       "    <tr>\n",
       "      <th>2022-01-03 09:00:00</th>\n",
       "      <td>NGM:VALOUR.POLKADOT.SEK</td>\n",
       "      <td>26.000000</td>\n",
       "      <td>27.740000</td>\n",
       "      <td>25.709999</td>\n",
       "      <td>26.350000</td>\n",
       "      <td>517544.0</td>\n",
       "      <td>26.450000</td>\n",
       "      <td>1.439227e+06</td>\n",
       "    </tr>\n",
       "    <tr>\n",
       "      <th>2022-01-04 09:00:00</th>\n",
       "      <td>NGM:VALOUR.POLKADOT.SEK</td>\n",
       "      <td>27.000000</td>\n",
       "      <td>27.299999</td>\n",
       "      <td>26.350000</td>\n",
       "      <td>26.900000</td>\n",
       "      <td>232198.0</td>\n",
       "      <td>26.887500</td>\n",
       "      <td>6.563949e+05</td>\n",
       "    </tr>\n",
       "    <tr>\n",
       "      <th>2022-01-05 09:00:00</th>\n",
       "      <td>NGM:VALOUR.POLKADOT.SEK</td>\n",
       "      <td>26.900000</td>\n",
       "      <td>27.250000</td>\n",
       "      <td>26.420000</td>\n",
       "      <td>26.650000</td>\n",
       "      <td>55604.0</td>\n",
       "      <td>26.805000</td>\n",
       "      <td>1.567033e+05</td>\n",
       "    </tr>\n",
       "    <tr>\n",
       "      <th>2022-01-07 09:00:00</th>\n",
       "      <td>NGM:VALOUR.POLKADOT.SEK</td>\n",
       "      <td>22.559999</td>\n",
       "      <td>23.549999</td>\n",
       "      <td>22.150000</td>\n",
       "      <td>22.850000</td>\n",
       "      <td>518834.0</td>\n",
       "      <td>22.777500</td>\n",
       "      <td>1.242484e+06</td>\n",
       "    </tr>\n",
       "    <tr>\n",
       "      <th>2022-01-10 09:00:00</th>\n",
       "      <td>NGM:VALOUR.POLKADOT.SEK</td>\n",
       "      <td>22.459999</td>\n",
       "      <td>22.780001</td>\n",
       "      <td>20.139999</td>\n",
       "      <td>21.469999</td>\n",
       "      <td>480055.0</td>\n",
       "      <td>21.712499</td>\n",
       "      <td>1.095865e+06</td>\n",
       "    </tr>\n",
       "    <tr>\n",
       "      <th>...</th>\n",
       "      <td>...</td>\n",
       "      <td>...</td>\n",
       "      <td>...</td>\n",
       "      <td>...</td>\n",
       "      <td>...</td>\n",
       "      <td>...</td>\n",
       "      <td>...</td>\n",
       "      <td>...</td>\n",
       "    </tr>\n",
       "    <tr>\n",
       "      <th>2022-05-19 09:00:00</th>\n",
       "      <td>XETR:PLKA</td>\n",
       "      <td>2.325000</td>\n",
       "      <td>2.410800</td>\n",
       "      <td>2.251200</td>\n",
       "      <td>2.410800</td>\n",
       "      <td>0.0</td>\n",
       "      <td>2.349450</td>\n",
       "      <td>0.000000e+00</td>\n",
       "    </tr>\n",
       "    <tr>\n",
       "      <th>2022-05-20 09:00:00</th>\n",
       "      <td>XETR:PLKA</td>\n",
       "      <td>2.277600</td>\n",
       "      <td>2.360600</td>\n",
       "      <td>2.256400</td>\n",
       "      <td>2.256400</td>\n",
       "      <td>0.0</td>\n",
       "      <td>2.287750</td>\n",
       "      <td>0.000000e+00</td>\n",
       "    </tr>\n",
       "    <tr>\n",
       "      <th>2022-05-23 09:00:00</th>\n",
       "      <td>XETR:PLKA</td>\n",
       "      <td>2.392600</td>\n",
       "      <td>2.458000</td>\n",
       "      <td>2.392600</td>\n",
       "      <td>2.454200</td>\n",
       "      <td>2142.0</td>\n",
       "      <td>2.424350</td>\n",
       "      <td>5.715855e+03</td>\n",
       "    </tr>\n",
       "    <tr>\n",
       "      <th>2022-05-24 09:00:00</th>\n",
       "      <td>XETR:PLKA</td>\n",
       "      <td>2.289600</td>\n",
       "      <td>2.289600</td>\n",
       "      <td>2.257600</td>\n",
       "      <td>2.262800</td>\n",
       "      <td>46.0</td>\n",
       "      <td>2.274900</td>\n",
       "      <td>1.151825e+02</td>\n",
       "    </tr>\n",
       "    <tr>\n",
       "      <th>2022-05-25 09:00:00</th>\n",
       "      <td>XETR:PLKA</td>\n",
       "      <td>2.312600</td>\n",
       "      <td>2.324400</td>\n",
       "      <td>2.312600</td>\n",
       "      <td>2.324400</td>\n",
       "      <td>0.0</td>\n",
       "      <td>2.318500</td>\n",
       "      <td>0.000000e+00</td>\n",
       "    </tr>\n",
       "  </tbody>\n",
       "</table>\n",
       "<p>400 rows × 8 columns</p>\n",
       "</div>"
      ],
      "text/plain": [
       "                                      symbol       open       high        low  \\\n",
       "datetime                                                                        \n",
       "2022-01-03 09:00:00  NGM:VALOUR.POLKADOT.SEK  26.000000  27.740000  25.709999   \n",
       "2022-01-04 09:00:00  NGM:VALOUR.POLKADOT.SEK  27.000000  27.299999  26.350000   \n",
       "2022-01-05 09:00:00  NGM:VALOUR.POLKADOT.SEK  26.900000  27.250000  26.420000   \n",
       "2022-01-07 09:00:00  NGM:VALOUR.POLKADOT.SEK  22.559999  23.549999  22.150000   \n",
       "2022-01-10 09:00:00  NGM:VALOUR.POLKADOT.SEK  22.459999  22.780001  20.139999   \n",
       "...                                      ...        ...        ...        ...   \n",
       "2022-05-19 09:00:00                XETR:PLKA   2.325000   2.410800   2.251200   \n",
       "2022-05-20 09:00:00                XETR:PLKA   2.277600   2.360600   2.256400   \n",
       "2022-05-23 09:00:00                XETR:PLKA   2.392600   2.458000   2.392600   \n",
       "2022-05-24 09:00:00                XETR:PLKA   2.289600   2.289600   2.257600   \n",
       "2022-05-25 09:00:00                XETR:PLKA   2.312600   2.324400   2.312600   \n",
       "\n",
       "                         close    volume  averageprice      turnover  \n",
       "datetime                                                              \n",
       "2022-01-03 09:00:00  26.350000  517544.0     26.450000  1.439227e+06  \n",
       "2022-01-04 09:00:00  26.900000  232198.0     26.887500  6.563949e+05  \n",
       "2022-01-05 09:00:00  26.650000   55604.0     26.805000  1.567033e+05  \n",
       "2022-01-07 09:00:00  22.850000  518834.0     22.777500  1.242484e+06  \n",
       "2022-01-10 09:00:00  21.469999  480055.0     21.712499  1.095865e+06  \n",
       "...                        ...       ...           ...           ...  \n",
       "2022-05-19 09:00:00   2.410800       0.0      2.349450  0.000000e+00  \n",
       "2022-05-20 09:00:00   2.256400       0.0      2.287750  0.000000e+00  \n",
       "2022-05-23 09:00:00   2.454200    2142.0      2.424350  5.715855e+03  \n",
       "2022-05-24 09:00:00   2.262800      46.0      2.274900  1.151825e+02  \n",
       "2022-05-25 09:00:00   2.324400       0.0      2.318500  0.000000e+00  \n",
       "\n",
       "[400 rows x 8 columns]"
      ]
     },
     "execution_count": 221,
     "metadata": {},
     "output_type": "execute_result"
    }
   ],
   "source": [
    "#DOT Products\n",
    "\n",
    "DOT_products = [pd_VALOUR_POLKADOT_SEK, pd_21SHARES_SIX_DOT, pd_21SHARES_XETRA_DOT, pd_ETC_GROUP_XETRA_DOT]\n",
    "DOT_products_concated = pd.concat(DOT_products)\n",
    "DOT_products_concated"
   ]
  },
  {
   "cell_type": "markdown",
   "metadata": {},
   "source": [
    "PIVOTS"
   ]
  },
  {
   "cell_type": "code",
   "execution_count": 213,
   "metadata": {},
   "outputs": [
    {
     "data": {
      "text/html": [
       "<div>\n",
       "<style scoped>\n",
       "    .dataframe tbody tr th:only-of-type {\n",
       "        vertical-align: middle;\n",
       "    }\n",
       "\n",
       "    .dataframe tbody tr th {\n",
       "        vertical-align: top;\n",
       "    }\n",
       "\n",
       "    .dataframe thead th {\n",
       "        text-align: right;\n",
       "    }\n",
       "</style>\n",
       "<table border=\"1\" class=\"dataframe\">\n",
       "  <thead>\n",
       "    <tr style=\"text-align: right;\">\n",
       "      <th></th>\n",
       "      <th>datetime</th>\n",
       "      <th>NGM:BTC.ZERO.SEK</th>\n",
       "      <th>OMXSTO:BITCOIN_XBT</th>\n",
       "      <th>OMXSTO:BITCOIN_XBTE</th>\n",
       "      <th>SIX:ABTC.USD</th>\n",
       "      <th>XETR:2BTC</th>\n",
       "      <th>XETR:BTCE</th>\n",
       "    </tr>\n",
       "  </thead>\n",
       "  <tbody>\n",
       "    <tr>\n",
       "      <th>0</th>\n",
       "      <td>2022-01-03 09:00:00</td>\n",
       "      <td>6.574587e+05</td>\n",
       "      <td>4.485218e+06</td>\n",
       "      <td>2.296853e+06</td>\n",
       "      <td>0.000000e+00</td>\n",
       "      <td>0.000000e+00</td>\n",
       "      <td>0.000000e+00</td>\n",
       "    </tr>\n",
       "    <tr>\n",
       "      <th>1</th>\n",
       "      <td>2022-01-04 09:00:00</td>\n",
       "      <td>4.767009e+05</td>\n",
       "      <td>4.410782e+06</td>\n",
       "      <td>2.781277e+06</td>\n",
       "      <td>4.052900e+05</td>\n",
       "      <td>1.752232e+06</td>\n",
       "      <td>1.206955e+07</td>\n",
       "    </tr>\n",
       "    <tr>\n",
       "      <th>2</th>\n",
       "      <td>2022-01-05 09:00:00</td>\n",
       "      <td>1.821440e+05</td>\n",
       "      <td>2.257280e+06</td>\n",
       "      <td>1.261634e+06</td>\n",
       "      <td>2.543254e+06</td>\n",
       "      <td>2.746312e+06</td>\n",
       "      <td>2.416070e+07</td>\n",
       "    </tr>\n",
       "    <tr>\n",
       "      <th>3</th>\n",
       "      <td>2022-01-06 09:00:00</td>\n",
       "      <td>0.000000e+00</td>\n",
       "      <td>0.000000e+00</td>\n",
       "      <td>0.000000e+00</td>\n",
       "      <td>3.316932e+06</td>\n",
       "      <td>3.261938e+06</td>\n",
       "      <td>4.315573e+07</td>\n",
       "    </tr>\n",
       "    <tr>\n",
       "      <th>4</th>\n",
       "      <td>2022-01-07 09:00:00</td>\n",
       "      <td>2.064700e+06</td>\n",
       "      <td>1.617196e+07</td>\n",
       "      <td>1.058967e+07</td>\n",
       "      <td>3.598702e+06</td>\n",
       "      <td>3.501447e+06</td>\n",
       "      <td>4.811068e+07</td>\n",
       "    </tr>\n",
       "    <tr>\n",
       "      <th>...</th>\n",
       "      <td>...</td>\n",
       "      <td>...</td>\n",
       "      <td>...</td>\n",
       "      <td>...</td>\n",
       "      <td>...</td>\n",
       "      <td>...</td>\n",
       "      <td>...</td>\n",
       "    </tr>\n",
       "    <tr>\n",
       "      <th>96</th>\n",
       "      <td>2022-05-19 09:00:00</td>\n",
       "      <td>9.190571e+05</td>\n",
       "      <td>2.161126e+06</td>\n",
       "      <td>8.237239e+05</td>\n",
       "      <td>3.057071e+06</td>\n",
       "      <td>2.000248e+06</td>\n",
       "      <td>1.010052e+07</td>\n",
       "    </tr>\n",
       "    <tr>\n",
       "      <th>97</th>\n",
       "      <td>2022-05-20 09:00:00</td>\n",
       "      <td>3.241868e+05</td>\n",
       "      <td>1.931376e+06</td>\n",
       "      <td>7.969666e+05</td>\n",
       "      <td>6.777958e+05</td>\n",
       "      <td>7.993284e+05</td>\n",
       "      <td>3.538351e+06</td>\n",
       "    </tr>\n",
       "    <tr>\n",
       "      <th>98</th>\n",
       "      <td>2022-05-23 09:00:00</td>\n",
       "      <td>2.804020e+05</td>\n",
       "      <td>1.932458e+06</td>\n",
       "      <td>3.041820e+06</td>\n",
       "      <td>4.377318e+05</td>\n",
       "      <td>2.536518e+06</td>\n",
       "      <td>5.190814e+06</td>\n",
       "    </tr>\n",
       "    <tr>\n",
       "      <th>99</th>\n",
       "      <td>2022-05-24 09:00:00</td>\n",
       "      <td>1.763081e+05</td>\n",
       "      <td>1.721087e+06</td>\n",
       "      <td>2.975911e+06</td>\n",
       "      <td>2.205317e+05</td>\n",
       "      <td>1.095878e+06</td>\n",
       "      <td>8.888854e+06</td>\n",
       "    </tr>\n",
       "    <tr>\n",
       "      <th>100</th>\n",
       "      <td>2022-05-25 09:00:00</td>\n",
       "      <td>3.842600e+04</td>\n",
       "      <td>1.482454e+06</td>\n",
       "      <td>3.210380e+06</td>\n",
       "      <td>5.622665e+04</td>\n",
       "      <td>9.413555e+04</td>\n",
       "      <td>2.592792e+06</td>\n",
       "    </tr>\n",
       "  </tbody>\n",
       "</table>\n",
       "<p>101 rows × 7 columns</p>\n",
       "</div>"
      ],
      "text/plain": [
       "               datetime  NGM:BTC.ZERO.SEK  OMXSTO:BITCOIN_XBT  \\\n",
       "0   2022-01-03 09:00:00      6.574587e+05        4.485218e+06   \n",
       "1   2022-01-04 09:00:00      4.767009e+05        4.410782e+06   \n",
       "2   2022-01-05 09:00:00      1.821440e+05        2.257280e+06   \n",
       "3   2022-01-06 09:00:00      0.000000e+00        0.000000e+00   \n",
       "4   2022-01-07 09:00:00      2.064700e+06        1.617196e+07   \n",
       "..                  ...               ...                 ...   \n",
       "96  2022-05-19 09:00:00      9.190571e+05        2.161126e+06   \n",
       "97  2022-05-20 09:00:00      3.241868e+05        1.931376e+06   \n",
       "98  2022-05-23 09:00:00      2.804020e+05        1.932458e+06   \n",
       "99  2022-05-24 09:00:00      1.763081e+05        1.721087e+06   \n",
       "100 2022-05-25 09:00:00      3.842600e+04        1.482454e+06   \n",
       "\n",
       "     OMXSTO:BITCOIN_XBTE  SIX:ABTC.USD     XETR:2BTC     XETR:BTCE  \n",
       "0           2.296853e+06  0.000000e+00  0.000000e+00  0.000000e+00  \n",
       "1           2.781277e+06  4.052900e+05  1.752232e+06  1.206955e+07  \n",
       "2           1.261634e+06  2.543254e+06  2.746312e+06  2.416070e+07  \n",
       "3           0.000000e+00  3.316932e+06  3.261938e+06  4.315573e+07  \n",
       "4           1.058967e+07  3.598702e+06  3.501447e+06  4.811068e+07  \n",
       "..                   ...           ...           ...           ...  \n",
       "96          8.237239e+05  3.057071e+06  2.000248e+06  1.010052e+07  \n",
       "97          7.969666e+05  6.777958e+05  7.993284e+05  3.538351e+06  \n",
       "98          3.041820e+06  4.377318e+05  2.536518e+06  5.190814e+06  \n",
       "99          2.975911e+06  2.205317e+05  1.095878e+06  8.888854e+06  \n",
       "100         3.210380e+06  5.622665e+04  9.413555e+04  2.592792e+06  \n",
       "\n",
       "[101 rows x 7 columns]"
      ]
     },
     "execution_count": 213,
     "metadata": {},
     "output_type": "execute_result"
    }
   ],
   "source": [
    "#BTC pivot table\n",
    "pivot_BTC = (\n",
    "    BTC_products_concated.pivot_table(index=['datetime'],\n",
    "                   columns='symbol',\n",
    "                   values='turnover',\n",
    "                   aggfunc='first')\n",
    "        .rename_axis(columns=None)\n",
    "        .reset_index()\n",
    ")\n",
    "pivot_BTC.fillna(0)\n"
   ]
  },
  {
   "cell_type": "code",
   "execution_count": 214,
   "metadata": {},
   "outputs": [
    {
     "data": {
      "text/html": [
       "<div>\n",
       "<style scoped>\n",
       "    .dataframe tbody tr th:only-of-type {\n",
       "        vertical-align: middle;\n",
       "    }\n",
       "\n",
       "    .dataframe tbody tr th {\n",
       "        vertical-align: top;\n",
       "    }\n",
       "\n",
       "    .dataframe thead th {\n",
       "        text-align: right;\n",
       "    }\n",
       "</style>\n",
       "<table border=\"1\" class=\"dataframe\">\n",
       "  <thead>\n",
       "    <tr style=\"text-align: right;\">\n",
       "      <th></th>\n",
       "      <th>datetime</th>\n",
       "      <th>NGM:ETH.ZERO.SEK</th>\n",
       "      <th>OMXSTO:ETHEREUM_XBT</th>\n",
       "      <th>OMXSTO:ETHEREUM_XBTE</th>\n",
       "      <th>SIX:AETH.USD</th>\n",
       "      <th>XETR:ETHA</th>\n",
       "      <th>XETR:ZETH</th>\n",
       "    </tr>\n",
       "  </thead>\n",
       "  <tbody>\n",
       "    <tr>\n",
       "      <th>0</th>\n",
       "      <td>2022-01-03 09:00:00</td>\n",
       "      <td>7.298189e+05</td>\n",
       "      <td>4.781762e+06</td>\n",
       "      <td>4.757085e+06</td>\n",
       "      <td>0.000000e+00</td>\n",
       "      <td>0.000000e+00</td>\n",
       "      <td>0.000000e+00</td>\n",
       "    </tr>\n",
       "    <tr>\n",
       "      <th>1</th>\n",
       "      <td>2022-01-04 09:00:00</td>\n",
       "      <td>5.017331e+05</td>\n",
       "      <td>5.693187e+06</td>\n",
       "      <td>3.769430e+06</td>\n",
       "      <td>1.714390e+06</td>\n",
       "      <td>1.149351e+06</td>\n",
       "      <td>3.045125e+06</td>\n",
       "    </tr>\n",
       "    <tr>\n",
       "      <th>2</th>\n",
       "      <td>2022-01-05 09:00:00</td>\n",
       "      <td>2.329062e+05</td>\n",
       "      <td>1.949806e+06</td>\n",
       "      <td>1.656606e+06</td>\n",
       "      <td>4.894594e+05</td>\n",
       "      <td>7.877065e+05</td>\n",
       "      <td>5.992850e+06</td>\n",
       "    </tr>\n",
       "    <tr>\n",
       "      <th>3</th>\n",
       "      <td>2022-01-06 09:00:00</td>\n",
       "      <td>0.000000e+00</td>\n",
       "      <td>0.000000e+00</td>\n",
       "      <td>0.000000e+00</td>\n",
       "      <td>1.486022e+07</td>\n",
       "      <td>6.338487e+06</td>\n",
       "      <td>2.568929e+07</td>\n",
       "    </tr>\n",
       "    <tr>\n",
       "      <th>4</th>\n",
       "      <td>2022-01-07 09:00:00</td>\n",
       "      <td>2.837479e+06</td>\n",
       "      <td>2.769455e+07</td>\n",
       "      <td>2.313177e+07</td>\n",
       "      <td>8.057740e+06</td>\n",
       "      <td>6.395215e+06</td>\n",
       "      <td>9.470349e+06</td>\n",
       "    </tr>\n",
       "    <tr>\n",
       "      <th>...</th>\n",
       "      <td>...</td>\n",
       "      <td>...</td>\n",
       "      <td>...</td>\n",
       "      <td>...</td>\n",
       "      <td>...</td>\n",
       "      <td>...</td>\n",
       "      <td>...</td>\n",
       "    </tr>\n",
       "    <tr>\n",
       "      <th>96</th>\n",
       "      <td>2022-05-19 09:00:00</td>\n",
       "      <td>8.242129e+05</td>\n",
       "      <td>4.627692e+06</td>\n",
       "      <td>3.060315e+06</td>\n",
       "      <td>6.282504e+05</td>\n",
       "      <td>6.914108e+05</td>\n",
       "      <td>1.848552e+06</td>\n",
       "    </tr>\n",
       "    <tr>\n",
       "      <th>97</th>\n",
       "      <td>2022-05-20 09:00:00</td>\n",
       "      <td>4.900433e+05</td>\n",
       "      <td>2.438139e+06</td>\n",
       "      <td>2.404667e+06</td>\n",
       "      <td>7.422766e+05</td>\n",
       "      <td>1.100660e+06</td>\n",
       "      <td>9.110032e+05</td>\n",
       "    </tr>\n",
       "    <tr>\n",
       "      <th>98</th>\n",
       "      <td>2022-05-23 09:00:00</td>\n",
       "      <td>1.438834e+05</td>\n",
       "      <td>2.278692e+06</td>\n",
       "      <td>4.733030e+06</td>\n",
       "      <td>1.688180e+06</td>\n",
       "      <td>2.160473e+06</td>\n",
       "      <td>1.068292e+06</td>\n",
       "    </tr>\n",
       "    <tr>\n",
       "      <th>99</th>\n",
       "      <td>2022-05-24 09:00:00</td>\n",
       "      <td>1.992813e+05</td>\n",
       "      <td>2.538316e+06</td>\n",
       "      <td>4.257946e+06</td>\n",
       "      <td>8.714731e+05</td>\n",
       "      <td>1.379021e+06</td>\n",
       "      <td>1.515149e+06</td>\n",
       "    </tr>\n",
       "    <tr>\n",
       "      <th>100</th>\n",
       "      <td>2022-05-25 09:00:00</td>\n",
       "      <td>1.412633e+05</td>\n",
       "      <td>1.351680e+06</td>\n",
       "      <td>1.427260e+06</td>\n",
       "      <td>2.162599e+05</td>\n",
       "      <td>5.847848e+04</td>\n",
       "      <td>2.652241e+05</td>\n",
       "    </tr>\n",
       "  </tbody>\n",
       "</table>\n",
       "<p>101 rows × 7 columns</p>\n",
       "</div>"
      ],
      "text/plain": [
       "               datetime  NGM:ETH.ZERO.SEK  OMXSTO:ETHEREUM_XBT  \\\n",
       "0   2022-01-03 09:00:00      7.298189e+05         4.781762e+06   \n",
       "1   2022-01-04 09:00:00      5.017331e+05         5.693187e+06   \n",
       "2   2022-01-05 09:00:00      2.329062e+05         1.949806e+06   \n",
       "3   2022-01-06 09:00:00      0.000000e+00         0.000000e+00   \n",
       "4   2022-01-07 09:00:00      2.837479e+06         2.769455e+07   \n",
       "..                  ...               ...                  ...   \n",
       "96  2022-05-19 09:00:00      8.242129e+05         4.627692e+06   \n",
       "97  2022-05-20 09:00:00      4.900433e+05         2.438139e+06   \n",
       "98  2022-05-23 09:00:00      1.438834e+05         2.278692e+06   \n",
       "99  2022-05-24 09:00:00      1.992813e+05         2.538316e+06   \n",
       "100 2022-05-25 09:00:00      1.412633e+05         1.351680e+06   \n",
       "\n",
       "     OMXSTO:ETHEREUM_XBTE  SIX:AETH.USD     XETR:ETHA     XETR:ZETH  \n",
       "0            4.757085e+06  0.000000e+00  0.000000e+00  0.000000e+00  \n",
       "1            3.769430e+06  1.714390e+06  1.149351e+06  3.045125e+06  \n",
       "2            1.656606e+06  4.894594e+05  7.877065e+05  5.992850e+06  \n",
       "3            0.000000e+00  1.486022e+07  6.338487e+06  2.568929e+07  \n",
       "4            2.313177e+07  8.057740e+06  6.395215e+06  9.470349e+06  \n",
       "..                    ...           ...           ...           ...  \n",
       "96           3.060315e+06  6.282504e+05  6.914108e+05  1.848552e+06  \n",
       "97           2.404667e+06  7.422766e+05  1.100660e+06  9.110032e+05  \n",
       "98           4.733030e+06  1.688180e+06  2.160473e+06  1.068292e+06  \n",
       "99           4.257946e+06  8.714731e+05  1.379021e+06  1.515149e+06  \n",
       "100          1.427260e+06  2.162599e+05  5.847848e+04  2.652241e+05  \n",
       "\n",
       "[101 rows x 7 columns]"
      ]
     },
     "execution_count": 214,
     "metadata": {},
     "output_type": "execute_result"
    }
   ],
   "source": [
    "#ETH pivot table\n",
    "pivot_ETH = (\n",
    "    ETH_products_concated.pivot_table(index=['datetime'],\n",
    "                   columns='symbol',\n",
    "                   values='turnover',\n",
    "                   aggfunc='first')\n",
    "        .rename_axis(columns=None)\n",
    "        .reset_index()\n",
    ")\n",
    "pivot_ETH.fillna(0)"
   ]
  },
  {
   "cell_type": "code",
   "execution_count": 216,
   "metadata": {},
   "outputs": [
    {
     "data": {
      "text/html": [
       "<div>\n",
       "<style scoped>\n",
       "    .dataframe tbody tr th:only-of-type {\n",
       "        vertical-align: middle;\n",
       "    }\n",
       "\n",
       "    .dataframe tbody tr th {\n",
       "        vertical-align: top;\n",
       "    }\n",
       "\n",
       "    .dataframe thead th {\n",
       "        text-align: right;\n",
       "    }\n",
       "</style>\n",
       "<table border=\"1\" class=\"dataframe\">\n",
       "  <thead>\n",
       "    <tr style=\"text-align: right;\">\n",
       "      <th></th>\n",
       "      <th>datetime</th>\n",
       "      <th>NGM:VALOUR.CARDANO.SEK</th>\n",
       "      <th>SIX:AADA.USD</th>\n",
       "      <th>XETR:ADAA</th>\n",
       "      <th>XETR:RDAN</th>\n",
       "    </tr>\n",
       "  </thead>\n",
       "  <tbody>\n",
       "    <tr>\n",
       "      <th>0</th>\n",
       "      <td>2022-01-03 09:00:00</td>\n",
       "      <td>9.355545e+05</td>\n",
       "      <td>0.000000</td>\n",
       "      <td>0.000000</td>\n",
       "      <td>0.000000</td>\n",
       "    </tr>\n",
       "    <tr>\n",
       "      <th>1</th>\n",
       "      <td>2022-01-04 09:00:00</td>\n",
       "      <td>4.569892e+05</td>\n",
       "      <td>137286.534945</td>\n",
       "      <td>233782.162532</td>\n",
       "      <td>2268.598303</td>\n",
       "    </tr>\n",
       "    <tr>\n",
       "      <th>2</th>\n",
       "      <td>2022-01-05 09:00:00</td>\n",
       "      <td>2.354099e+05</td>\n",
       "      <td>278016.752585</td>\n",
       "      <td>98680.478918</td>\n",
       "      <td>18455.970195</td>\n",
       "    </tr>\n",
       "    <tr>\n",
       "      <th>3</th>\n",
       "      <td>2022-01-06 09:00:00</td>\n",
       "      <td>0.000000e+00</td>\n",
       "      <td>444536.673264</td>\n",
       "      <td>245319.034185</td>\n",
       "      <td>2967.332359</td>\n",
       "    </tr>\n",
       "    <tr>\n",
       "      <th>4</th>\n",
       "      <td>2022-01-07 09:00:00</td>\n",
       "      <td>1.638814e+06</td>\n",
       "      <td>452353.387500</td>\n",
       "      <td>125197.883361</td>\n",
       "      <td>5654.123235</td>\n",
       "    </tr>\n",
       "    <tr>\n",
       "      <th>...</th>\n",
       "      <td>...</td>\n",
       "      <td>...</td>\n",
       "      <td>...</td>\n",
       "      <td>...</td>\n",
       "      <td>...</td>\n",
       "    </tr>\n",
       "    <tr>\n",
       "      <th>96</th>\n",
       "      <td>2022-05-19 09:00:00</td>\n",
       "      <td>2.057855e+05</td>\n",
       "      <td>50530.095000</td>\n",
       "      <td>157315.852388</td>\n",
       "      <td>0.000000</td>\n",
       "    </tr>\n",
       "    <tr>\n",
       "      <th>97</th>\n",
       "      <td>2022-05-20 09:00:00</td>\n",
       "      <td>3.089413e+05</td>\n",
       "      <td>10937.850000</td>\n",
       "      <td>41421.991690</td>\n",
       "      <td>805.988392</td>\n",
       "    </tr>\n",
       "    <tr>\n",
       "      <th>98</th>\n",
       "      <td>2022-05-23 09:00:00</td>\n",
       "      <td>2.226040e+05</td>\n",
       "      <td>49410.207000</td>\n",
       "      <td>49629.451105</td>\n",
       "      <td>0.000000</td>\n",
       "    </tr>\n",
       "    <tr>\n",
       "      <th>99</th>\n",
       "      <td>2022-05-24 09:00:00</td>\n",
       "      <td>2.083422e+05</td>\n",
       "      <td>70425.212500</td>\n",
       "      <td>78799.101430</td>\n",
       "      <td>2.604296</td>\n",
       "    </tr>\n",
       "    <tr>\n",
       "      <th>100</th>\n",
       "      <td>2022-05-25 09:00:00</td>\n",
       "      <td>2.375131e+04</td>\n",
       "      <td>13567.492000</td>\n",
       "      <td>46914.042608</td>\n",
       "      <td>0.000000</td>\n",
       "    </tr>\n",
       "  </tbody>\n",
       "</table>\n",
       "<p>101 rows × 5 columns</p>\n",
       "</div>"
      ],
      "text/plain": [
       "               datetime  NGM:VALOUR.CARDANO.SEK   SIX:AADA.USD      XETR:ADAA  \\\n",
       "0   2022-01-03 09:00:00            9.355545e+05       0.000000       0.000000   \n",
       "1   2022-01-04 09:00:00            4.569892e+05  137286.534945  233782.162532   \n",
       "2   2022-01-05 09:00:00            2.354099e+05  278016.752585   98680.478918   \n",
       "3   2022-01-06 09:00:00            0.000000e+00  444536.673264  245319.034185   \n",
       "4   2022-01-07 09:00:00            1.638814e+06  452353.387500  125197.883361   \n",
       "..                  ...                     ...            ...            ...   \n",
       "96  2022-05-19 09:00:00            2.057855e+05   50530.095000  157315.852388   \n",
       "97  2022-05-20 09:00:00            3.089413e+05   10937.850000   41421.991690   \n",
       "98  2022-05-23 09:00:00            2.226040e+05   49410.207000   49629.451105   \n",
       "99  2022-05-24 09:00:00            2.083422e+05   70425.212500   78799.101430   \n",
       "100 2022-05-25 09:00:00            2.375131e+04   13567.492000   46914.042608   \n",
       "\n",
       "        XETR:RDAN  \n",
       "0        0.000000  \n",
       "1     2268.598303  \n",
       "2    18455.970195  \n",
       "3     2967.332359  \n",
       "4     5654.123235  \n",
       "..            ...  \n",
       "96       0.000000  \n",
       "97     805.988392  \n",
       "98       0.000000  \n",
       "99       2.604296  \n",
       "100      0.000000  \n",
       "\n",
       "[101 rows x 5 columns]"
      ]
     },
     "execution_count": 216,
     "metadata": {},
     "output_type": "execute_result"
    }
   ],
   "source": [
    "#ADA pivot table\n",
    "pivot_ADA = (\n",
    "    ADA_products_concated.pivot_table(index=['datetime'],\n",
    "                   columns='symbol',\n",
    "                   values='turnover',\n",
    "                   aggfunc='first')\n",
    "        .rename_axis(columns=None)\n",
    "        .reset_index()\n",
    ")\n",
    "pivot_ADA.fillna(0)\n"
   ]
  },
  {
   "cell_type": "code",
   "execution_count": 218,
   "metadata": {},
   "outputs": [
    {
     "data": {
      "text/html": [
       "<div>\n",
       "<style scoped>\n",
       "    .dataframe tbody tr th:only-of-type {\n",
       "        vertical-align: middle;\n",
       "    }\n",
       "\n",
       "    .dataframe tbody tr th {\n",
       "        vertical-align: top;\n",
       "    }\n",
       "\n",
       "    .dataframe thead th {\n",
       "        text-align: right;\n",
       "    }\n",
       "</style>\n",
       "<table border=\"1\" class=\"dataframe\">\n",
       "  <thead>\n",
       "    <tr style=\"text-align: right;\">\n",
       "      <th></th>\n",
       "      <th>datetime</th>\n",
       "      <th>NGM:VALOUR.SOLANA.SEK</th>\n",
       "      <th>SIX:ASOL.USD</th>\n",
       "      <th>XETR:ASOL</th>\n",
       "      <th>XETR:ESOL</th>\n",
       "    </tr>\n",
       "  </thead>\n",
       "  <tbody>\n",
       "    <tr>\n",
       "      <th>0</th>\n",
       "      <td>2022-01-03 09:00:00</td>\n",
       "      <td>1.678254e+06</td>\n",
       "      <td>0.000000e+00</td>\n",
       "      <td>0.000000</td>\n",
       "      <td>0.000000</td>\n",
       "    </tr>\n",
       "    <tr>\n",
       "      <th>1</th>\n",
       "      <td>2022-01-04 09:00:00</td>\n",
       "      <td>8.571167e+05</td>\n",
       "      <td>1.688297e+06</td>\n",
       "      <td>95930.118050</td>\n",
       "      <td>0.000000</td>\n",
       "    </tr>\n",
       "    <tr>\n",
       "      <th>2</th>\n",
       "      <td>2022-01-05 09:00:00</td>\n",
       "      <td>3.793397e+05</td>\n",
       "      <td>1.188582e+06</td>\n",
       "      <td>402915.960930</td>\n",
       "      <td>0.000000</td>\n",
       "    </tr>\n",
       "    <tr>\n",
       "      <th>3</th>\n",
       "      <td>2022-01-06 09:00:00</td>\n",
       "      <td>0.000000e+00</td>\n",
       "      <td>2.375089e+06</td>\n",
       "      <td>662196.157559</td>\n",
       "      <td>1454.979353</td>\n",
       "    </tr>\n",
       "    <tr>\n",
       "      <th>4</th>\n",
       "      <td>2022-01-07 09:00:00</td>\n",
       "      <td>3.707217e+06</td>\n",
       "      <td>1.692069e+06</td>\n",
       "      <td>619006.007783</td>\n",
       "      <td>22414.035762</td>\n",
       "    </tr>\n",
       "    <tr>\n",
       "      <th>...</th>\n",
       "      <td>...</td>\n",
       "      <td>...</td>\n",
       "      <td>...</td>\n",
       "      <td>...</td>\n",
       "      <td>...</td>\n",
       "    </tr>\n",
       "    <tr>\n",
       "      <th>96</th>\n",
       "      <td>2022-05-19 09:00:00</td>\n",
       "      <td>4.179475e+05</td>\n",
       "      <td>3.228490e+06</td>\n",
       "      <td>253050.172001</td>\n",
       "      <td>48.231513</td>\n",
       "    </tr>\n",
       "    <tr>\n",
       "      <th>97</th>\n",
       "      <td>2022-05-20 09:00:00</td>\n",
       "      <td>4.522874e+05</td>\n",
       "      <td>2.054606e+05</td>\n",
       "      <td>110431.783180</td>\n",
       "      <td>0.000000</td>\n",
       "    </tr>\n",
       "    <tr>\n",
       "      <th>98</th>\n",
       "      <td>2022-05-23 09:00:00</td>\n",
       "      <td>4.255970e+05</td>\n",
       "      <td>1.019764e+05</td>\n",
       "      <td>333385.065195</td>\n",
       "      <td>2485.694321</td>\n",
       "    </tr>\n",
       "    <tr>\n",
       "      <th>99</th>\n",
       "      <td>2022-05-24 09:00:00</td>\n",
       "      <td>3.441599e+05</td>\n",
       "      <td>6.407726e+04</td>\n",
       "      <td>159605.851338</td>\n",
       "      <td>30.157244</td>\n",
       "    </tr>\n",
       "    <tr>\n",
       "      <th>100</th>\n",
       "      <td>2022-05-25 09:00:00</td>\n",
       "      <td>8.607267e+04</td>\n",
       "      <td>2.104025e+04</td>\n",
       "      <td>6464.263443</td>\n",
       "      <td>34.748126</td>\n",
       "    </tr>\n",
       "  </tbody>\n",
       "</table>\n",
       "<p>101 rows × 5 columns</p>\n",
       "</div>"
      ],
      "text/plain": [
       "               datetime  NGM:VALOUR.SOLANA.SEK  SIX:ASOL.USD      XETR:ASOL  \\\n",
       "0   2022-01-03 09:00:00           1.678254e+06  0.000000e+00       0.000000   \n",
       "1   2022-01-04 09:00:00           8.571167e+05  1.688297e+06   95930.118050   \n",
       "2   2022-01-05 09:00:00           3.793397e+05  1.188582e+06  402915.960930   \n",
       "3   2022-01-06 09:00:00           0.000000e+00  2.375089e+06  662196.157559   \n",
       "4   2022-01-07 09:00:00           3.707217e+06  1.692069e+06  619006.007783   \n",
       "..                  ...                    ...           ...            ...   \n",
       "96  2022-05-19 09:00:00           4.179475e+05  3.228490e+06  253050.172001   \n",
       "97  2022-05-20 09:00:00           4.522874e+05  2.054606e+05  110431.783180   \n",
       "98  2022-05-23 09:00:00           4.255970e+05  1.019764e+05  333385.065195   \n",
       "99  2022-05-24 09:00:00           3.441599e+05  6.407726e+04  159605.851338   \n",
       "100 2022-05-25 09:00:00           8.607267e+04  2.104025e+04    6464.263443   \n",
       "\n",
       "        XETR:ESOL  \n",
       "0        0.000000  \n",
       "1        0.000000  \n",
       "2        0.000000  \n",
       "3     1454.979353  \n",
       "4    22414.035762  \n",
       "..            ...  \n",
       "96      48.231513  \n",
       "97       0.000000  \n",
       "98    2485.694321  \n",
       "99      30.157244  \n",
       "100     34.748126  \n",
       "\n",
       "[101 rows x 5 columns]"
      ]
     },
     "execution_count": 218,
     "metadata": {},
     "output_type": "execute_result"
    }
   ],
   "source": [
    "#SOL pivot table\n",
    "pivot_SOL = (\n",
    "    SOL_products_concated.pivot_table(index=['datetime'],\n",
    "                   columns='symbol',\n",
    "                   values='turnover',\n",
    "                   aggfunc='first')\n",
    "        .rename_axis(columns=None)\n",
    "        .reset_index()\n",
    ")\n",
    "pivot_SOL.fillna(0)\n"
   ]
  },
  {
   "cell_type": "code",
   "execution_count": 222,
   "metadata": {},
   "outputs": [
    {
     "data": {
      "text/html": [
       "<div>\n",
       "<style scoped>\n",
       "    .dataframe tbody tr th:only-of-type {\n",
       "        vertical-align: middle;\n",
       "    }\n",
       "\n",
       "    .dataframe tbody tr th {\n",
       "        vertical-align: top;\n",
       "    }\n",
       "\n",
       "    .dataframe thead th {\n",
       "        text-align: right;\n",
       "    }\n",
       "</style>\n",
       "<table border=\"1\" class=\"dataframe\">\n",
       "  <thead>\n",
       "    <tr style=\"text-align: right;\">\n",
       "      <th></th>\n",
       "      <th>datetime</th>\n",
       "      <th>NGM:VALOUR.POLKADOT.SEK</th>\n",
       "      <th>SIX:ADOT.USD</th>\n",
       "      <th>XETR:ADOT</th>\n",
       "      <th>XETR:PLKA</th>\n",
       "    </tr>\n",
       "  </thead>\n",
       "  <tbody>\n",
       "    <tr>\n",
       "      <th>0</th>\n",
       "      <td>2022-01-03 09:00:00</td>\n",
       "      <td>1.439227e+06</td>\n",
       "      <td>0.000000e+00</td>\n",
       "      <td>0.000000</td>\n",
       "      <td>0.000000</td>\n",
       "    </tr>\n",
       "    <tr>\n",
       "      <th>1</th>\n",
       "      <td>2022-01-04 09:00:00</td>\n",
       "      <td>6.563949e+05</td>\n",
       "      <td>7.971452e+05</td>\n",
       "      <td>316040.380151</td>\n",
       "      <td>0.000000</td>\n",
       "    </tr>\n",
       "    <tr>\n",
       "      <th>2</th>\n",
       "      <td>2022-01-05 09:00:00</td>\n",
       "      <td>1.567033e+05</td>\n",
       "      <td>5.659216e+05</td>\n",
       "      <td>375863.837890</td>\n",
       "      <td>0.000000</td>\n",
       "    </tr>\n",
       "    <tr>\n",
       "      <th>3</th>\n",
       "      <td>2022-01-06 09:00:00</td>\n",
       "      <td>0.000000e+00</td>\n",
       "      <td>1.850739e+06</td>\n",
       "      <td>260797.678416</td>\n",
       "      <td>0.000000</td>\n",
       "    </tr>\n",
       "    <tr>\n",
       "      <th>4</th>\n",
       "      <td>2022-01-07 09:00:00</td>\n",
       "      <td>1.242484e+06</td>\n",
       "      <td>5.247207e+05</td>\n",
       "      <td>148777.458711</td>\n",
       "      <td>0.000000</td>\n",
       "    </tr>\n",
       "    <tr>\n",
       "      <th>...</th>\n",
       "      <td>...</td>\n",
       "      <td>...</td>\n",
       "      <td>...</td>\n",
       "      <td>...</td>\n",
       "      <td>...</td>\n",
       "    </tr>\n",
       "    <tr>\n",
       "      <th>96</th>\n",
       "      <td>2022-05-19 09:00:00</td>\n",
       "      <td>1.644472e+05</td>\n",
       "      <td>9.055970e+04</td>\n",
       "      <td>8869.248030</td>\n",
       "      <td>0.000000</td>\n",
       "    </tr>\n",
       "    <tr>\n",
       "      <th>97</th>\n",
       "      <td>2022-05-20 09:00:00</td>\n",
       "      <td>9.258829e+04</td>\n",
       "      <td>1.070830e+05</td>\n",
       "      <td>78681.550656</td>\n",
       "      <td>0.000000</td>\n",
       "    </tr>\n",
       "    <tr>\n",
       "      <th>98</th>\n",
       "      <td>2022-05-23 09:00:00</td>\n",
       "      <td>1.291186e+05</td>\n",
       "      <td>1.989180e+04</td>\n",
       "      <td>13546.383628</td>\n",
       "      <td>5715.855305</td>\n",
       "    </tr>\n",
       "    <tr>\n",
       "      <th>99</th>\n",
       "      <td>2022-05-24 09:00:00</td>\n",
       "      <td>6.611511e+04</td>\n",
       "      <td>2.517697e+04</td>\n",
       "      <td>40453.809932</td>\n",
       "      <td>115.182522</td>\n",
       "    </tr>\n",
       "    <tr>\n",
       "      <th>100</th>\n",
       "      <td>2022-05-25 09:00:00</td>\n",
       "      <td>4.571432e+03</td>\n",
       "      <td>4.369780e+03</td>\n",
       "      <td>1649.752588</td>\n",
       "      <td>0.000000</td>\n",
       "    </tr>\n",
       "  </tbody>\n",
       "</table>\n",
       "<p>101 rows × 5 columns</p>\n",
       "</div>"
      ],
      "text/plain": [
       "               datetime  NGM:VALOUR.POLKADOT.SEK  SIX:ADOT.USD      XETR:ADOT  \\\n",
       "0   2022-01-03 09:00:00             1.439227e+06  0.000000e+00       0.000000   \n",
       "1   2022-01-04 09:00:00             6.563949e+05  7.971452e+05  316040.380151   \n",
       "2   2022-01-05 09:00:00             1.567033e+05  5.659216e+05  375863.837890   \n",
       "3   2022-01-06 09:00:00             0.000000e+00  1.850739e+06  260797.678416   \n",
       "4   2022-01-07 09:00:00             1.242484e+06  5.247207e+05  148777.458711   \n",
       "..                  ...                      ...           ...            ...   \n",
       "96  2022-05-19 09:00:00             1.644472e+05  9.055970e+04    8869.248030   \n",
       "97  2022-05-20 09:00:00             9.258829e+04  1.070830e+05   78681.550656   \n",
       "98  2022-05-23 09:00:00             1.291186e+05  1.989180e+04   13546.383628   \n",
       "99  2022-05-24 09:00:00             6.611511e+04  2.517697e+04   40453.809932   \n",
       "100 2022-05-25 09:00:00             4.571432e+03  4.369780e+03    1649.752588   \n",
       "\n",
       "       XETR:PLKA  \n",
       "0       0.000000  \n",
       "1       0.000000  \n",
       "2       0.000000  \n",
       "3       0.000000  \n",
       "4       0.000000  \n",
       "..           ...  \n",
       "96      0.000000  \n",
       "97      0.000000  \n",
       "98   5715.855305  \n",
       "99    115.182522  \n",
       "100     0.000000  \n",
       "\n",
       "[101 rows x 5 columns]"
      ]
     },
     "execution_count": 222,
     "metadata": {},
     "output_type": "execute_result"
    }
   ],
   "source": [
    "#DOT pivot table\n",
    "pivot_DOT = (\n",
    "    DOT_products_concated.pivot_table(index=['datetime'],\n",
    "                   columns='symbol',\n",
    "                   values='turnover',\n",
    "                   aggfunc='first')\n",
    "        .rename_axis(columns=None)\n",
    "        .reset_index()\n",
    ")\n",
    "pivot_DOT.fillna(0)\n"
   ]
  },
  {
   "cell_type": "code",
   "execution_count": 224,
   "metadata": {},
   "outputs": [
    {
     "data": {
      "application/vnd.plotly.v1+json": {
       "config": {
        "plotlyServerURL": "https://plot.ly"
       },
       "data": [
        {
         "alignmentgroup": "True",
         "hovertemplate": "variable=NGM:ETH.ZERO.SEK<br>datetime=%{x}<br>value=%{y}<extra></extra>",
         "legendgroup": "NGM:ETH.ZERO.SEK",
         "marker": {
          "color": "#636efa",
          "pattern": {
           "shape": ""
          }
         },
         "name": "NGM:ETH.ZERO.SEK",
         "offsetgroup": "NGM:ETH.ZERO.SEK",
         "orientation": "v",
         "showlegend": true,
         "textposition": "auto",
         "type": "bar",
         "x": [
          "2022-01-03T09:00:00",
          "2022-01-04T09:00:00",
          "2022-01-05T09:00:00",
          "2022-01-06T09:00:00",
          "2022-01-07T09:00:00",
          "2022-01-10T09:00:00",
          "2022-01-11T09:00:00",
          "2022-01-12T09:00:00",
          "2022-01-13T09:00:00",
          "2022-01-14T09:00:00",
          "2022-01-17T09:00:00",
          "2022-01-18T09:00:00",
          "2022-01-19T09:00:00",
          "2022-01-20T09:00:00",
          "2022-01-21T09:00:00",
          "2022-01-24T09:00:00",
          "2022-01-25T09:00:00",
          "2022-01-26T09:00:00",
          "2022-01-27T09:00:00",
          "2022-01-28T09:00:00",
          "2022-01-31T09:00:00",
          "2022-02-01T09:00:00",
          "2022-02-02T09:00:00",
          "2022-02-03T09:00:00",
          "2022-02-04T09:00:00",
          "2022-02-07T09:00:00",
          "2022-02-08T09:00:00",
          "2022-02-09T09:00:00",
          "2022-02-10T09:00:00",
          "2022-02-11T09:00:00",
          "2022-02-14T09:00:00",
          "2022-02-15T09:00:00",
          "2022-02-16T09:00:00",
          "2022-02-17T09:00:00",
          "2022-02-18T09:00:00",
          "2022-02-21T09:00:00",
          "2022-02-22T09:00:00",
          "2022-02-23T09:00:00",
          "2022-02-24T09:00:00",
          "2022-02-25T09:00:00",
          "2022-02-28T09:00:00",
          "2022-03-01T09:00:00",
          "2022-03-02T09:00:00",
          "2022-03-03T09:00:00",
          "2022-03-04T09:00:00",
          "2022-03-07T09:00:00",
          "2022-03-08T09:00:00",
          "2022-03-09T09:00:00",
          "2022-03-10T09:00:00",
          "2022-03-11T09:00:00",
          "2022-03-14T09:00:00",
          "2022-03-15T09:00:00",
          "2022-03-16T09:00:00",
          "2022-03-17T09:00:00",
          "2022-03-18T09:00:00",
          "2022-03-21T09:00:00",
          "2022-03-22T09:00:00",
          "2022-03-23T09:00:00",
          "2022-03-24T09:00:00",
          "2022-03-25T09:00:00",
          "2022-03-28T09:00:00",
          "2022-03-29T09:00:00",
          "2022-03-30T09:00:00",
          "2022-03-31T09:00:00",
          "2022-04-01T09:00:00",
          "2022-04-04T09:00:00",
          "2022-04-05T09:00:00",
          "2022-04-06T09:00:00",
          "2022-04-07T09:00:00",
          "2022-04-08T09:00:00",
          "2022-04-11T09:00:00",
          "2022-04-12T09:00:00",
          "2022-04-13T09:00:00",
          "2022-04-14T09:00:00",
          "2022-04-19T09:00:00",
          "2022-04-20T09:00:00",
          "2022-04-21T09:00:00",
          "2022-04-22T09:00:00",
          "2022-04-25T09:00:00",
          "2022-04-26T09:00:00",
          "2022-04-27T09:00:00",
          "2022-04-28T09:00:00",
          "2022-04-29T09:00:00",
          "2022-05-02T09:00:00",
          "2022-05-03T09:00:00",
          "2022-05-04T09:00:00",
          "2022-05-05T09:00:00",
          "2022-05-06T09:00:00",
          "2022-05-09T09:00:00",
          "2022-05-10T09:00:00",
          "2022-05-11T09:00:00",
          "2022-05-12T09:00:00",
          "2022-05-13T09:00:00",
          "2022-05-16T09:00:00",
          "2022-05-17T09:00:00",
          "2022-05-18T09:00:00",
          "2022-05-19T09:00:00",
          "2022-05-20T09:00:00",
          "2022-05-23T09:00:00",
          "2022-05-24T09:00:00",
          "2022-05-25T09:00:00"
         ],
         "xaxis": "x",
         "y": [
          729818.9118445572,
          501733.1015951808,
          232906.24757967007,
          null,
          2837478.628539802,
          1955173.9213539257,
          831055.0602061454,
          1704579.9055296509,
          1336740.0727563698,
          2079795.9224387312,
          342899.0374297537,
          462190.89186365774,
          579712.5723163049,
          268849.6668531538,
          1667609.701900631,
          2450313.406816333,
          848697.9126459915,
          1173844.0200174348,
          544433.5618863555,
          888828.9908395299,
          438372.75727624825,
          1209832.2588233287,
          1278991.9764999496,
          650141.496370205,
          511845.04113152856,
          2413474.115478782,
          779519.6792584994,
          683480.2389304293,
          2009720.099369375,
          682105.0906499281,
          2197087.8067144025,
          914496.0546306422,
          738528.6762296812,
          574077.8093934021,
          476560.1295010835,
          1241723.311139823,
          1282272.7856097703,
          371647.35467449744,
          1282806.663779206,
          763670.350498449,
          396188.77681105037,
          1812439.5128972959,
          921309.407358262,
          503209.2888012747,
          812826.7721663531,
          2491573.8427317957,
          1391019.9563707018,
          1113620.41695563,
          352343.12210770603,
          421349.8551406626,
          363141.11314244906,
          236269.76073166018,
          745689.0402513728,
          1029053.4563933983,
          982445.7321646815,
          277486.7957567164,
          490018.97357826633,
          233965.2512966371,
          399900.35466711153,
          709989.4316520981,
          1084218.3468196995,
          997724.5278647551,
          365877.8040576905,
          484486.81569795264,
          923970.1531085846,
          629813.8124207745,
          675322.1759136784,
          958171.6384992355,
          930651.6917819137,
          1018010.8250930894,
          1212774.2241278777,
          404893.60621455335,
          291462.0940407332,
          473952.5307378385,
          449408.5471371083,
          385636.54972916027,
          271000.50604663603,
          213166.18450848444,
          594560.7513405188,
          448280.0181414194,
          246401.49073997783,
          491408.215846196,
          239552.3269681975,
          471440.4880642369,
          126104.06023187745,
          226551.49196603498,
          201420.11377240464,
          853653.3877282842,
          1268957.795253136,
          581025.6927551159,
          1046148.398545559,
          1180531.6550286391,
          531179.8086161755,
          262932.62271118024,
          474849.3472361475,
          285451.6594391432,
          824212.9395808473,
          490043.2794659874,
          143883.4386897964,
          199281.25468599674,
          141263.28832016693
         ],
         "yaxis": "y"
        },
        {
         "alignmentgroup": "True",
         "hovertemplate": "variable=OMXSTO:ETHEREUM_XBT<br>datetime=%{x}<br>value=%{y}<extra></extra>",
         "legendgroup": "OMXSTO:ETHEREUM_XBT",
         "marker": {
          "color": "#EF553B",
          "pattern": {
           "shape": ""
          }
         },
         "name": "OMXSTO:ETHEREUM_XBT",
         "offsetgroup": "OMXSTO:ETHEREUM_XBT",
         "orientation": "v",
         "showlegend": true,
         "textposition": "auto",
         "type": "bar",
         "x": [
          "2022-01-03T09:00:00",
          "2022-01-04T09:00:00",
          "2022-01-05T09:00:00",
          "2022-01-06T09:00:00",
          "2022-01-07T09:00:00",
          "2022-01-10T09:00:00",
          "2022-01-11T09:00:00",
          "2022-01-12T09:00:00",
          "2022-01-13T09:00:00",
          "2022-01-14T09:00:00",
          "2022-01-17T09:00:00",
          "2022-01-18T09:00:00",
          "2022-01-19T09:00:00",
          "2022-01-20T09:00:00",
          "2022-01-21T09:00:00",
          "2022-01-24T09:00:00",
          "2022-01-25T09:00:00",
          "2022-01-26T09:00:00",
          "2022-01-27T09:00:00",
          "2022-01-28T09:00:00",
          "2022-01-31T09:00:00",
          "2022-02-01T09:00:00",
          "2022-02-02T09:00:00",
          "2022-02-03T09:00:00",
          "2022-02-04T09:00:00",
          "2022-02-07T09:00:00",
          "2022-02-08T09:00:00",
          "2022-02-09T09:00:00",
          "2022-02-10T09:00:00",
          "2022-02-11T09:00:00",
          "2022-02-14T09:00:00",
          "2022-02-15T09:00:00",
          "2022-02-16T09:00:00",
          "2022-02-17T09:00:00",
          "2022-02-18T09:00:00",
          "2022-02-21T09:00:00",
          "2022-02-22T09:00:00",
          "2022-02-23T09:00:00",
          "2022-02-24T09:00:00",
          "2022-02-25T09:00:00",
          "2022-02-28T09:00:00",
          "2022-03-01T09:00:00",
          "2022-03-02T09:00:00",
          "2022-03-03T09:00:00",
          "2022-03-04T09:00:00",
          "2022-03-07T09:00:00",
          "2022-03-08T09:00:00",
          "2022-03-09T09:00:00",
          "2022-03-10T09:00:00",
          "2022-03-11T09:00:00",
          "2022-03-14T09:00:00",
          "2022-03-15T09:00:00",
          "2022-03-16T09:00:00",
          "2022-03-17T09:00:00",
          "2022-03-18T09:00:00",
          "2022-03-21T09:00:00",
          "2022-03-22T09:00:00",
          "2022-03-23T09:00:00",
          "2022-03-24T09:00:00",
          "2022-03-25T09:00:00",
          "2022-03-28T09:00:00",
          "2022-03-29T09:00:00",
          "2022-03-30T09:00:00",
          "2022-03-31T09:00:00",
          "2022-04-01T09:00:00",
          "2022-04-04T09:00:00",
          "2022-04-05T09:00:00",
          "2022-04-06T09:00:00",
          "2022-04-07T09:00:00",
          "2022-04-08T09:00:00",
          "2022-04-11T09:00:00",
          "2022-04-12T09:00:00",
          "2022-04-13T09:00:00",
          "2022-04-14T09:00:00",
          "2022-04-19T09:00:00",
          "2022-04-20T09:00:00",
          "2022-04-21T09:00:00",
          "2022-04-22T09:00:00",
          "2022-04-25T09:00:00",
          "2022-04-26T09:00:00",
          "2022-04-27T09:00:00",
          "2022-04-28T09:00:00",
          "2022-04-29T09:00:00",
          "2022-05-02T09:00:00",
          "2022-05-03T09:00:00",
          "2022-05-04T09:00:00",
          "2022-05-05T09:00:00",
          "2022-05-06T09:00:00",
          "2022-05-09T09:00:00",
          "2022-05-10T09:00:00",
          "2022-05-11T09:00:00",
          "2022-05-12T09:00:00",
          "2022-05-13T09:00:00",
          "2022-05-16T09:00:00",
          "2022-05-17T09:00:00",
          "2022-05-18T09:00:00",
          "2022-05-19T09:00:00",
          "2022-05-20T09:00:00",
          "2022-05-23T09:00:00",
          "2022-05-24T09:00:00",
          "2022-05-25T09:00:00"
         ],
         "xaxis": "x",
         "y": [
          4781762.283210371,
          5693187.253557613,
          1949806.4879928755,
          null,
          27694554.129819445,
          15446003.34607176,
          7187419.035637166,
          9240677.347825443,
          5210549.609509238,
          4101283.1145625906,
          3862222.022277517,
          7060695.560295317,
          10005474.196117891,
          4297166.049955403,
          19989310.45390741,
          29037984.047310162,
          12910369.885051169,
          10232269.51526428,
          5376549.984338243,
          5276346.489238752,
          4133925.832558276,
          10206470.386070801,
          5847702.693848308,
          3714396.7814259953,
          8125814.654566695,
          11050608.014857987,
          7831584.823049276,
          6074939.696077348,
          11160531.382936005,
          7579766.650925007,
          13176345.889687454,
          9360081.175097162,
          5367558.975623027,
          9116213.180641305,
          9777837.146461474,
          9783817.19295103,
          7481092.305575413,
          4094530.9897731766,
          18302341.014604744,
          8301436.384048485,
          4091439.7360951835,
          9116179.643501403,
          6379361.416758105,
          5262744.052105197,
          5596672.68397987,
          32879275.080080237,
          7015589.836202858,
          6623053.995692269,
          4224078.673620967,
          4174525.2314593564,
          8208224.993920839,
          3746567.554585053,
          2125773.3431794303,
          2805188.072660827,
          5731524.012738948,
          3683664.833731476,
          3628765.8333010706,
          3099740.389423096,
          3904822.7949277107,
          4506691.674475337,
          9795994.890067128,
          8675638.214049038,
          7456382.290730045,
          5166912.857200196,
          3587029.2466382734,
          5747671.279179807,
          4886361.518325083,
          7464122.735912641,
          5973712.965115357,
          7626432.065168753,
          7385922.9918249305,
          4824917.562652754,
          2514467.571556032,
          1575011.4277536122,
          6744211.773553457,
          2582484.1979485904,
          2166834.810980843,
          6132079.387742873,
          6872456.446217409,
          6580647.476478912,
          5959455.421422253,
          3842458.243594421,
          3667893.7693742523,
          4718322.366032178,
          4425477.402360357,
          3259310.103871586,
          7310517.355584567,
          7439439.806751307,
          8492729.986234656,
          5681479.503968076,
          11601958.001904827,
          18081616.041409336,
          5551065.65639411,
          3675772.1520144236,
          2565603.272155065,
          5029828.441028889,
          4627692.2971381545,
          2438139.009996575,
          2278691.5328461025,
          2538315.631518916,
          1351680.2831133804
         ],
         "yaxis": "y"
        }
       ],
       "layout": {
        "barmode": "relative",
        "legend": {
         "title": {
          "text": "variable"
         },
         "tracegroupgap": 0
        },
        "margin": {
         "t": 60
        },
        "template": {
         "data": {
          "bar": [
           {
            "error_x": {
             "color": "#2a3f5f"
            },
            "error_y": {
             "color": "#2a3f5f"
            },
            "marker": {
             "line": {
              "color": "#E5ECF6",
              "width": 0.5
             },
             "pattern": {
              "fillmode": "overlay",
              "size": 10,
              "solidity": 0.2
             }
            },
            "type": "bar"
           }
          ],
          "barpolar": [
           {
            "marker": {
             "line": {
              "color": "#E5ECF6",
              "width": 0.5
             },
             "pattern": {
              "fillmode": "overlay",
              "size": 10,
              "solidity": 0.2
             }
            },
            "type": "barpolar"
           }
          ],
          "carpet": [
           {
            "aaxis": {
             "endlinecolor": "#2a3f5f",
             "gridcolor": "white",
             "linecolor": "white",
             "minorgridcolor": "white",
             "startlinecolor": "#2a3f5f"
            },
            "baxis": {
             "endlinecolor": "#2a3f5f",
             "gridcolor": "white",
             "linecolor": "white",
             "minorgridcolor": "white",
             "startlinecolor": "#2a3f5f"
            },
            "type": "carpet"
           }
          ],
          "choropleth": [
           {
            "colorbar": {
             "outlinewidth": 0,
             "ticks": ""
            },
            "type": "choropleth"
           }
          ],
          "contour": [
           {
            "colorbar": {
             "outlinewidth": 0,
             "ticks": ""
            },
            "colorscale": [
             [
              0,
              "#0d0887"
             ],
             [
              0.1111111111111111,
              "#46039f"
             ],
             [
              0.2222222222222222,
              "#7201a8"
             ],
             [
              0.3333333333333333,
              "#9c179e"
             ],
             [
              0.4444444444444444,
              "#bd3786"
             ],
             [
              0.5555555555555556,
              "#d8576b"
             ],
             [
              0.6666666666666666,
              "#ed7953"
             ],
             [
              0.7777777777777778,
              "#fb9f3a"
             ],
             [
              0.8888888888888888,
              "#fdca26"
             ],
             [
              1,
              "#f0f921"
             ]
            ],
            "type": "contour"
           }
          ],
          "contourcarpet": [
           {
            "colorbar": {
             "outlinewidth": 0,
             "ticks": ""
            },
            "type": "contourcarpet"
           }
          ],
          "heatmap": [
           {
            "colorbar": {
             "outlinewidth": 0,
             "ticks": ""
            },
            "colorscale": [
             [
              0,
              "#0d0887"
             ],
             [
              0.1111111111111111,
              "#46039f"
             ],
             [
              0.2222222222222222,
              "#7201a8"
             ],
             [
              0.3333333333333333,
              "#9c179e"
             ],
             [
              0.4444444444444444,
              "#bd3786"
             ],
             [
              0.5555555555555556,
              "#d8576b"
             ],
             [
              0.6666666666666666,
              "#ed7953"
             ],
             [
              0.7777777777777778,
              "#fb9f3a"
             ],
             [
              0.8888888888888888,
              "#fdca26"
             ],
             [
              1,
              "#f0f921"
             ]
            ],
            "type": "heatmap"
           }
          ],
          "heatmapgl": [
           {
            "colorbar": {
             "outlinewidth": 0,
             "ticks": ""
            },
            "colorscale": [
             [
              0,
              "#0d0887"
             ],
             [
              0.1111111111111111,
              "#46039f"
             ],
             [
              0.2222222222222222,
              "#7201a8"
             ],
             [
              0.3333333333333333,
              "#9c179e"
             ],
             [
              0.4444444444444444,
              "#bd3786"
             ],
             [
              0.5555555555555556,
              "#d8576b"
             ],
             [
              0.6666666666666666,
              "#ed7953"
             ],
             [
              0.7777777777777778,
              "#fb9f3a"
             ],
             [
              0.8888888888888888,
              "#fdca26"
             ],
             [
              1,
              "#f0f921"
             ]
            ],
            "type": "heatmapgl"
           }
          ],
          "histogram": [
           {
            "marker": {
             "pattern": {
              "fillmode": "overlay",
              "size": 10,
              "solidity": 0.2
             }
            },
            "type": "histogram"
           }
          ],
          "histogram2d": [
           {
            "colorbar": {
             "outlinewidth": 0,
             "ticks": ""
            },
            "colorscale": [
             [
              0,
              "#0d0887"
             ],
             [
              0.1111111111111111,
              "#46039f"
             ],
             [
              0.2222222222222222,
              "#7201a8"
             ],
             [
              0.3333333333333333,
              "#9c179e"
             ],
             [
              0.4444444444444444,
              "#bd3786"
             ],
             [
              0.5555555555555556,
              "#d8576b"
             ],
             [
              0.6666666666666666,
              "#ed7953"
             ],
             [
              0.7777777777777778,
              "#fb9f3a"
             ],
             [
              0.8888888888888888,
              "#fdca26"
             ],
             [
              1,
              "#f0f921"
             ]
            ],
            "type": "histogram2d"
           }
          ],
          "histogram2dcontour": [
           {
            "colorbar": {
             "outlinewidth": 0,
             "ticks": ""
            },
            "colorscale": [
             [
              0,
              "#0d0887"
             ],
             [
              0.1111111111111111,
              "#46039f"
             ],
             [
              0.2222222222222222,
              "#7201a8"
             ],
             [
              0.3333333333333333,
              "#9c179e"
             ],
             [
              0.4444444444444444,
              "#bd3786"
             ],
             [
              0.5555555555555556,
              "#d8576b"
             ],
             [
              0.6666666666666666,
              "#ed7953"
             ],
             [
              0.7777777777777778,
              "#fb9f3a"
             ],
             [
              0.8888888888888888,
              "#fdca26"
             ],
             [
              1,
              "#f0f921"
             ]
            ],
            "type": "histogram2dcontour"
           }
          ],
          "mesh3d": [
           {
            "colorbar": {
             "outlinewidth": 0,
             "ticks": ""
            },
            "type": "mesh3d"
           }
          ],
          "parcoords": [
           {
            "line": {
             "colorbar": {
              "outlinewidth": 0,
              "ticks": ""
             }
            },
            "type": "parcoords"
           }
          ],
          "pie": [
           {
            "automargin": true,
            "type": "pie"
           }
          ],
          "scatter": [
           {
            "fillpattern": {
             "fillmode": "overlay",
             "size": 10,
             "solidity": 0.2
            },
            "type": "scatter"
           }
          ],
          "scatter3d": [
           {
            "line": {
             "colorbar": {
              "outlinewidth": 0,
              "ticks": ""
             }
            },
            "marker": {
             "colorbar": {
              "outlinewidth": 0,
              "ticks": ""
             }
            },
            "type": "scatter3d"
           }
          ],
          "scattercarpet": [
           {
            "marker": {
             "colorbar": {
              "outlinewidth": 0,
              "ticks": ""
             }
            },
            "type": "scattercarpet"
           }
          ],
          "scattergeo": [
           {
            "marker": {
             "colorbar": {
              "outlinewidth": 0,
              "ticks": ""
             }
            },
            "type": "scattergeo"
           }
          ],
          "scattergl": [
           {
            "marker": {
             "colorbar": {
              "outlinewidth": 0,
              "ticks": ""
             }
            },
            "type": "scattergl"
           }
          ],
          "scattermapbox": [
           {
            "marker": {
             "colorbar": {
              "outlinewidth": 0,
              "ticks": ""
             }
            },
            "type": "scattermapbox"
           }
          ],
          "scatterpolar": [
           {
            "marker": {
             "colorbar": {
              "outlinewidth": 0,
              "ticks": ""
             }
            },
            "type": "scatterpolar"
           }
          ],
          "scatterpolargl": [
           {
            "marker": {
             "colorbar": {
              "outlinewidth": 0,
              "ticks": ""
             }
            },
            "type": "scatterpolargl"
           }
          ],
          "scatterternary": [
           {
            "marker": {
             "colorbar": {
              "outlinewidth": 0,
              "ticks": ""
             }
            },
            "type": "scatterternary"
           }
          ],
          "surface": [
           {
            "colorbar": {
             "outlinewidth": 0,
             "ticks": ""
            },
            "colorscale": [
             [
              0,
              "#0d0887"
             ],
             [
              0.1111111111111111,
              "#46039f"
             ],
             [
              0.2222222222222222,
              "#7201a8"
             ],
             [
              0.3333333333333333,
              "#9c179e"
             ],
             [
              0.4444444444444444,
              "#bd3786"
             ],
             [
              0.5555555555555556,
              "#d8576b"
             ],
             [
              0.6666666666666666,
              "#ed7953"
             ],
             [
              0.7777777777777778,
              "#fb9f3a"
             ],
             [
              0.8888888888888888,
              "#fdca26"
             ],
             [
              1,
              "#f0f921"
             ]
            ],
            "type": "surface"
           }
          ],
          "table": [
           {
            "cells": {
             "fill": {
              "color": "#EBF0F8"
             },
             "line": {
              "color": "white"
             }
            },
            "header": {
             "fill": {
              "color": "#C8D4E3"
             },
             "line": {
              "color": "white"
             }
            },
            "type": "table"
           }
          ]
         },
         "layout": {
          "annotationdefaults": {
           "arrowcolor": "#2a3f5f",
           "arrowhead": 0,
           "arrowwidth": 1
          },
          "autotypenumbers": "strict",
          "coloraxis": {
           "colorbar": {
            "outlinewidth": 0,
            "ticks": ""
           }
          },
          "colorscale": {
           "diverging": [
            [
             0,
             "#8e0152"
            ],
            [
             0.1,
             "#c51b7d"
            ],
            [
             0.2,
             "#de77ae"
            ],
            [
             0.3,
             "#f1b6da"
            ],
            [
             0.4,
             "#fde0ef"
            ],
            [
             0.5,
             "#f7f7f7"
            ],
            [
             0.6,
             "#e6f5d0"
            ],
            [
             0.7,
             "#b8e186"
            ],
            [
             0.8,
             "#7fbc41"
            ],
            [
             0.9,
             "#4d9221"
            ],
            [
             1,
             "#276419"
            ]
           ],
           "sequential": [
            [
             0,
             "#0d0887"
            ],
            [
             0.1111111111111111,
             "#46039f"
            ],
            [
             0.2222222222222222,
             "#7201a8"
            ],
            [
             0.3333333333333333,
             "#9c179e"
            ],
            [
             0.4444444444444444,
             "#bd3786"
            ],
            [
             0.5555555555555556,
             "#d8576b"
            ],
            [
             0.6666666666666666,
             "#ed7953"
            ],
            [
             0.7777777777777778,
             "#fb9f3a"
            ],
            [
             0.8888888888888888,
             "#fdca26"
            ],
            [
             1,
             "#f0f921"
            ]
           ],
           "sequentialminus": [
            [
             0,
             "#0d0887"
            ],
            [
             0.1111111111111111,
             "#46039f"
            ],
            [
             0.2222222222222222,
             "#7201a8"
            ],
            [
             0.3333333333333333,
             "#9c179e"
            ],
            [
             0.4444444444444444,
             "#bd3786"
            ],
            [
             0.5555555555555556,
             "#d8576b"
            ],
            [
             0.6666666666666666,
             "#ed7953"
            ],
            [
             0.7777777777777778,
             "#fb9f3a"
            ],
            [
             0.8888888888888888,
             "#fdca26"
            ],
            [
             1,
             "#f0f921"
            ]
           ]
          },
          "colorway": [
           "#636efa",
           "#EF553B",
           "#00cc96",
           "#ab63fa",
           "#FFA15A",
           "#19d3f3",
           "#FF6692",
           "#B6E880",
           "#FF97FF",
           "#FECB52"
          ],
          "font": {
           "color": "#2a3f5f"
          },
          "geo": {
           "bgcolor": "white",
           "lakecolor": "white",
           "landcolor": "#E5ECF6",
           "showlakes": true,
           "showland": true,
           "subunitcolor": "white"
          },
          "hoverlabel": {
           "align": "left"
          },
          "hovermode": "closest",
          "mapbox": {
           "style": "light"
          },
          "paper_bgcolor": "white",
          "plot_bgcolor": "#E5ECF6",
          "polar": {
           "angularaxis": {
            "gridcolor": "white",
            "linecolor": "white",
            "ticks": ""
           },
           "bgcolor": "#E5ECF6",
           "radialaxis": {
            "gridcolor": "white",
            "linecolor": "white",
            "ticks": ""
           }
          },
          "scene": {
           "xaxis": {
            "backgroundcolor": "#E5ECF6",
            "gridcolor": "white",
            "gridwidth": 2,
            "linecolor": "white",
            "showbackground": true,
            "ticks": "",
            "zerolinecolor": "white"
           },
           "yaxis": {
            "backgroundcolor": "#E5ECF6",
            "gridcolor": "white",
            "gridwidth": 2,
            "linecolor": "white",
            "showbackground": true,
            "ticks": "",
            "zerolinecolor": "white"
           },
           "zaxis": {
            "backgroundcolor": "#E5ECF6",
            "gridcolor": "white",
            "gridwidth": 2,
            "linecolor": "white",
            "showbackground": true,
            "ticks": "",
            "zerolinecolor": "white"
           }
          },
          "shapedefaults": {
           "line": {
            "color": "#2a3f5f"
           }
          },
          "ternary": {
           "aaxis": {
            "gridcolor": "white",
            "linecolor": "white",
            "ticks": ""
           },
           "baxis": {
            "gridcolor": "white",
            "linecolor": "white",
            "ticks": ""
           },
           "bgcolor": "#E5ECF6",
           "caxis": {
            "gridcolor": "white",
            "linecolor": "white",
            "ticks": ""
           }
          },
          "title": {
           "x": 0.05
          },
          "xaxis": {
           "automargin": true,
           "gridcolor": "white",
           "linecolor": "white",
           "ticks": "",
           "title": {
            "standoff": 15
           },
           "zerolinecolor": "white",
           "zerolinewidth": 2
          },
          "yaxis": {
           "automargin": true,
           "gridcolor": "white",
           "linecolor": "white",
           "ticks": "",
           "title": {
            "standoff": 15
           },
           "zerolinecolor": "white",
           "zerolinewidth": 2
          }
         }
        },
        "xaxis": {
         "anchor": "y",
         "domain": [
          0,
          1
         ],
         "title": {
          "text": "datetime"
         }
        },
        "yaxis": {
         "anchor": "x",
         "domain": [
          0,
          1
         ],
         "title": {
          "text": "value"
         }
        }
       }
      },
      "text/html": [
       "<div>                            <div id=\"bf432dca-55f8-4162-a100-27ae34e99ae4\" class=\"plotly-graph-div\" style=\"height:525px; width:100%;\"></div>            <script type=\"text/javascript\">                require([\"plotly\"], function(Plotly) {                    window.PLOTLYENV=window.PLOTLYENV || {};                                    if (document.getElementById(\"bf432dca-55f8-4162-a100-27ae34e99ae4\")) {                    Plotly.newPlot(                        \"bf432dca-55f8-4162-a100-27ae34e99ae4\",                        [{\"alignmentgroup\":\"True\",\"hovertemplate\":\"variable=NGM:ETH.ZERO.SEK<br>datetime=%{x}<br>value=%{y}<extra></extra>\",\"legendgroup\":\"NGM:ETH.ZERO.SEK\",\"marker\":{\"color\":\"#636efa\",\"pattern\":{\"shape\":\"\"}},\"name\":\"NGM:ETH.ZERO.SEK\",\"offsetgroup\":\"NGM:ETH.ZERO.SEK\",\"orientation\":\"v\",\"showlegend\":true,\"textposition\":\"auto\",\"x\":[\"2022-01-03T09:00:00\",\"2022-01-04T09:00:00\",\"2022-01-05T09:00:00\",\"2022-01-06T09:00:00\",\"2022-01-07T09:00:00\",\"2022-01-10T09:00:00\",\"2022-01-11T09:00:00\",\"2022-01-12T09:00:00\",\"2022-01-13T09:00:00\",\"2022-01-14T09:00:00\",\"2022-01-17T09:00:00\",\"2022-01-18T09:00:00\",\"2022-01-19T09:00:00\",\"2022-01-20T09:00:00\",\"2022-01-21T09:00:00\",\"2022-01-24T09:00:00\",\"2022-01-25T09:00:00\",\"2022-01-26T09:00:00\",\"2022-01-27T09:00:00\",\"2022-01-28T09:00:00\",\"2022-01-31T09:00:00\",\"2022-02-01T09:00:00\",\"2022-02-02T09:00:00\",\"2022-02-03T09:00:00\",\"2022-02-04T09:00:00\",\"2022-02-07T09:00:00\",\"2022-02-08T09:00:00\",\"2022-02-09T09:00:00\",\"2022-02-10T09:00:00\",\"2022-02-11T09:00:00\",\"2022-02-14T09:00:00\",\"2022-02-15T09:00:00\",\"2022-02-16T09:00:00\",\"2022-02-17T09:00:00\",\"2022-02-18T09:00:00\",\"2022-02-21T09:00:00\",\"2022-02-22T09:00:00\",\"2022-02-23T09:00:00\",\"2022-02-24T09:00:00\",\"2022-02-25T09:00:00\",\"2022-02-28T09:00:00\",\"2022-03-01T09:00:00\",\"2022-03-02T09:00:00\",\"2022-03-03T09:00:00\",\"2022-03-04T09:00:00\",\"2022-03-07T09:00:00\",\"2022-03-08T09:00:00\",\"2022-03-09T09:00:00\",\"2022-03-10T09:00:00\",\"2022-03-11T09:00:00\",\"2022-03-14T09:00:00\",\"2022-03-15T09:00:00\",\"2022-03-16T09:00:00\",\"2022-03-17T09:00:00\",\"2022-03-18T09:00:00\",\"2022-03-21T09:00:00\",\"2022-03-22T09:00:00\",\"2022-03-23T09:00:00\",\"2022-03-24T09:00:00\",\"2022-03-25T09:00:00\",\"2022-03-28T09:00:00\",\"2022-03-29T09:00:00\",\"2022-03-30T09:00:00\",\"2022-03-31T09:00:00\",\"2022-04-01T09:00:00\",\"2022-04-04T09:00:00\",\"2022-04-05T09:00:00\",\"2022-04-06T09:00:00\",\"2022-04-07T09:00:00\",\"2022-04-08T09:00:00\",\"2022-04-11T09:00:00\",\"2022-04-12T09:00:00\",\"2022-04-13T09:00:00\",\"2022-04-14T09:00:00\",\"2022-04-19T09:00:00\",\"2022-04-20T09:00:00\",\"2022-04-21T09:00:00\",\"2022-04-22T09:00:00\",\"2022-04-25T09:00:00\",\"2022-04-26T09:00:00\",\"2022-04-27T09:00:00\",\"2022-04-28T09:00:00\",\"2022-04-29T09:00:00\",\"2022-05-02T09:00:00\",\"2022-05-03T09:00:00\",\"2022-05-04T09:00:00\",\"2022-05-05T09:00:00\",\"2022-05-06T09:00:00\",\"2022-05-09T09:00:00\",\"2022-05-10T09:00:00\",\"2022-05-11T09:00:00\",\"2022-05-12T09:00:00\",\"2022-05-13T09:00:00\",\"2022-05-16T09:00:00\",\"2022-05-17T09:00:00\",\"2022-05-18T09:00:00\",\"2022-05-19T09:00:00\",\"2022-05-20T09:00:00\",\"2022-05-23T09:00:00\",\"2022-05-24T09:00:00\",\"2022-05-25T09:00:00\"],\"xaxis\":\"x\",\"y\":[729818.9118445572,501733.1015951808,232906.24757967007,null,2837478.628539802,1955173.9213539257,831055.0602061454,1704579.9055296509,1336740.0727563698,2079795.9224387312,342899.0374297537,462190.89186365774,579712.5723163049,268849.6668531538,1667609.701900631,2450313.406816333,848697.9126459915,1173844.0200174348,544433.5618863555,888828.9908395299,438372.75727624825,1209832.2588233287,1278991.9764999496,650141.496370205,511845.04113152856,2413474.115478782,779519.6792584994,683480.2389304293,2009720.099369375,682105.0906499281,2197087.8067144025,914496.0546306422,738528.6762296812,574077.8093934021,476560.1295010835,1241723.311139823,1282272.7856097703,371647.35467449744,1282806.663779206,763670.350498449,396188.77681105037,1812439.5128972959,921309.407358262,503209.2888012747,812826.7721663531,2491573.8427317957,1391019.9563707018,1113620.41695563,352343.12210770603,421349.8551406626,363141.11314244906,236269.76073166018,745689.0402513728,1029053.4563933983,982445.7321646815,277486.7957567164,490018.97357826633,233965.2512966371,399900.35466711153,709989.4316520981,1084218.3468196995,997724.5278647551,365877.8040576905,484486.81569795264,923970.1531085846,629813.8124207745,675322.1759136784,958171.6384992355,930651.6917819137,1018010.8250930894,1212774.2241278777,404893.60621455335,291462.0940407332,473952.5307378385,449408.5471371083,385636.54972916027,271000.50604663603,213166.18450848444,594560.7513405188,448280.0181414194,246401.49073997783,491408.215846196,239552.3269681975,471440.4880642369,126104.06023187745,226551.49196603498,201420.11377240464,853653.3877282842,1268957.795253136,581025.6927551159,1046148.398545559,1180531.6550286391,531179.8086161755,262932.62271118024,474849.3472361475,285451.6594391432,824212.9395808473,490043.2794659874,143883.4386897964,199281.25468599674,141263.28832016693],\"yaxis\":\"y\",\"type\":\"bar\"},{\"alignmentgroup\":\"True\",\"hovertemplate\":\"variable=OMXSTO:ETHEREUM_XBT<br>datetime=%{x}<br>value=%{y}<extra></extra>\",\"legendgroup\":\"OMXSTO:ETHEREUM_XBT\",\"marker\":{\"color\":\"#EF553B\",\"pattern\":{\"shape\":\"\"}},\"name\":\"OMXSTO:ETHEREUM_XBT\",\"offsetgroup\":\"OMXSTO:ETHEREUM_XBT\",\"orientation\":\"v\",\"showlegend\":true,\"textposition\":\"auto\",\"x\":[\"2022-01-03T09:00:00\",\"2022-01-04T09:00:00\",\"2022-01-05T09:00:00\",\"2022-01-06T09:00:00\",\"2022-01-07T09:00:00\",\"2022-01-10T09:00:00\",\"2022-01-11T09:00:00\",\"2022-01-12T09:00:00\",\"2022-01-13T09:00:00\",\"2022-01-14T09:00:00\",\"2022-01-17T09:00:00\",\"2022-01-18T09:00:00\",\"2022-01-19T09:00:00\",\"2022-01-20T09:00:00\",\"2022-01-21T09:00:00\",\"2022-01-24T09:00:00\",\"2022-01-25T09:00:00\",\"2022-01-26T09:00:00\",\"2022-01-27T09:00:00\",\"2022-01-28T09:00:00\",\"2022-01-31T09:00:00\",\"2022-02-01T09:00:00\",\"2022-02-02T09:00:00\",\"2022-02-03T09:00:00\",\"2022-02-04T09:00:00\",\"2022-02-07T09:00:00\",\"2022-02-08T09:00:00\",\"2022-02-09T09:00:00\",\"2022-02-10T09:00:00\",\"2022-02-11T09:00:00\",\"2022-02-14T09:00:00\",\"2022-02-15T09:00:00\",\"2022-02-16T09:00:00\",\"2022-02-17T09:00:00\",\"2022-02-18T09:00:00\",\"2022-02-21T09:00:00\",\"2022-02-22T09:00:00\",\"2022-02-23T09:00:00\",\"2022-02-24T09:00:00\",\"2022-02-25T09:00:00\",\"2022-02-28T09:00:00\",\"2022-03-01T09:00:00\",\"2022-03-02T09:00:00\",\"2022-03-03T09:00:00\",\"2022-03-04T09:00:00\",\"2022-03-07T09:00:00\",\"2022-03-08T09:00:00\",\"2022-03-09T09:00:00\",\"2022-03-10T09:00:00\",\"2022-03-11T09:00:00\",\"2022-03-14T09:00:00\",\"2022-03-15T09:00:00\",\"2022-03-16T09:00:00\",\"2022-03-17T09:00:00\",\"2022-03-18T09:00:00\",\"2022-03-21T09:00:00\",\"2022-03-22T09:00:00\",\"2022-03-23T09:00:00\",\"2022-03-24T09:00:00\",\"2022-03-25T09:00:00\",\"2022-03-28T09:00:00\",\"2022-03-29T09:00:00\",\"2022-03-30T09:00:00\",\"2022-03-31T09:00:00\",\"2022-04-01T09:00:00\",\"2022-04-04T09:00:00\",\"2022-04-05T09:00:00\",\"2022-04-06T09:00:00\",\"2022-04-07T09:00:00\",\"2022-04-08T09:00:00\",\"2022-04-11T09:00:00\",\"2022-04-12T09:00:00\",\"2022-04-13T09:00:00\",\"2022-04-14T09:00:00\",\"2022-04-19T09:00:00\",\"2022-04-20T09:00:00\",\"2022-04-21T09:00:00\",\"2022-04-22T09:00:00\",\"2022-04-25T09:00:00\",\"2022-04-26T09:00:00\",\"2022-04-27T09:00:00\",\"2022-04-28T09:00:00\",\"2022-04-29T09:00:00\",\"2022-05-02T09:00:00\",\"2022-05-03T09:00:00\",\"2022-05-04T09:00:00\",\"2022-05-05T09:00:00\",\"2022-05-06T09:00:00\",\"2022-05-09T09:00:00\",\"2022-05-10T09:00:00\",\"2022-05-11T09:00:00\",\"2022-05-12T09:00:00\",\"2022-05-13T09:00:00\",\"2022-05-16T09:00:00\",\"2022-05-17T09:00:00\",\"2022-05-18T09:00:00\",\"2022-05-19T09:00:00\",\"2022-05-20T09:00:00\",\"2022-05-23T09:00:00\",\"2022-05-24T09:00:00\",\"2022-05-25T09:00:00\"],\"xaxis\":\"x\",\"y\":[4781762.283210371,5693187.253557613,1949806.4879928755,null,27694554.129819445,15446003.34607176,7187419.035637166,9240677.347825443,5210549.609509238,4101283.1145625906,3862222.022277517,7060695.560295317,10005474.196117891,4297166.049955403,19989310.45390741,29037984.047310162,12910369.885051169,10232269.51526428,5376549.984338243,5276346.489238752,4133925.832558276,10206470.386070801,5847702.693848308,3714396.7814259953,8125814.654566695,11050608.014857987,7831584.823049276,6074939.696077348,11160531.382936005,7579766.650925007,13176345.889687454,9360081.175097162,5367558.975623027,9116213.180641305,9777837.146461474,9783817.19295103,7481092.305575413,4094530.9897731766,18302341.014604744,8301436.384048485,4091439.7360951835,9116179.643501403,6379361.416758105,5262744.052105197,5596672.68397987,32879275.080080237,7015589.836202858,6623053.995692269,4224078.673620967,4174525.2314593564,8208224.993920839,3746567.554585053,2125773.3431794303,2805188.072660827,5731524.012738948,3683664.833731476,3628765.8333010706,3099740.389423096,3904822.7949277107,4506691.674475337,9795994.890067128,8675638.214049038,7456382.290730045,5166912.857200196,3587029.2466382734,5747671.279179807,4886361.518325083,7464122.735912641,5973712.965115357,7626432.065168753,7385922.9918249305,4824917.562652754,2514467.571556032,1575011.4277536122,6744211.773553457,2582484.1979485904,2166834.810980843,6132079.387742873,6872456.446217409,6580647.476478912,5959455.421422253,3842458.243594421,3667893.7693742523,4718322.366032178,4425477.402360357,3259310.103871586,7310517.355584567,7439439.806751307,8492729.986234656,5681479.503968076,11601958.001904827,18081616.041409336,5551065.65639411,3675772.1520144236,2565603.272155065,5029828.441028889,4627692.2971381545,2438139.009996575,2278691.5328461025,2538315.631518916,1351680.2831133804],\"yaxis\":\"y\",\"type\":\"bar\"}],                        {\"template\":{\"data\":{\"histogram2dcontour\":[{\"type\":\"histogram2dcontour\",\"colorbar\":{\"outlinewidth\":0,\"ticks\":\"\"},\"colorscale\":[[0.0,\"#0d0887\"],[0.1111111111111111,\"#46039f\"],[0.2222222222222222,\"#7201a8\"],[0.3333333333333333,\"#9c179e\"],[0.4444444444444444,\"#bd3786\"],[0.5555555555555556,\"#d8576b\"],[0.6666666666666666,\"#ed7953\"],[0.7777777777777778,\"#fb9f3a\"],[0.8888888888888888,\"#fdca26\"],[1.0,\"#f0f921\"]]}],\"choropleth\":[{\"type\":\"choropleth\",\"colorbar\":{\"outlinewidth\":0,\"ticks\":\"\"}}],\"histogram2d\":[{\"type\":\"histogram2d\",\"colorbar\":{\"outlinewidth\":0,\"ticks\":\"\"},\"colorscale\":[[0.0,\"#0d0887\"],[0.1111111111111111,\"#46039f\"],[0.2222222222222222,\"#7201a8\"],[0.3333333333333333,\"#9c179e\"],[0.4444444444444444,\"#bd3786\"],[0.5555555555555556,\"#d8576b\"],[0.6666666666666666,\"#ed7953\"],[0.7777777777777778,\"#fb9f3a\"],[0.8888888888888888,\"#fdca26\"],[1.0,\"#f0f921\"]]}],\"heatmap\":[{\"type\":\"heatmap\",\"colorbar\":{\"outlinewidth\":0,\"ticks\":\"\"},\"colorscale\":[[0.0,\"#0d0887\"],[0.1111111111111111,\"#46039f\"],[0.2222222222222222,\"#7201a8\"],[0.3333333333333333,\"#9c179e\"],[0.4444444444444444,\"#bd3786\"],[0.5555555555555556,\"#d8576b\"],[0.6666666666666666,\"#ed7953\"],[0.7777777777777778,\"#fb9f3a\"],[0.8888888888888888,\"#fdca26\"],[1.0,\"#f0f921\"]]}],\"heatmapgl\":[{\"type\":\"heatmapgl\",\"colorbar\":{\"outlinewidth\":0,\"ticks\":\"\"},\"colorscale\":[[0.0,\"#0d0887\"],[0.1111111111111111,\"#46039f\"],[0.2222222222222222,\"#7201a8\"],[0.3333333333333333,\"#9c179e\"],[0.4444444444444444,\"#bd3786\"],[0.5555555555555556,\"#d8576b\"],[0.6666666666666666,\"#ed7953\"],[0.7777777777777778,\"#fb9f3a\"],[0.8888888888888888,\"#fdca26\"],[1.0,\"#f0f921\"]]}],\"contourcarpet\":[{\"type\":\"contourcarpet\",\"colorbar\":{\"outlinewidth\":0,\"ticks\":\"\"}}],\"contour\":[{\"type\":\"contour\",\"colorbar\":{\"outlinewidth\":0,\"ticks\":\"\"},\"colorscale\":[[0.0,\"#0d0887\"],[0.1111111111111111,\"#46039f\"],[0.2222222222222222,\"#7201a8\"],[0.3333333333333333,\"#9c179e\"],[0.4444444444444444,\"#bd3786\"],[0.5555555555555556,\"#d8576b\"],[0.6666666666666666,\"#ed7953\"],[0.7777777777777778,\"#fb9f3a\"],[0.8888888888888888,\"#fdca26\"],[1.0,\"#f0f921\"]]}],\"surface\":[{\"type\":\"surface\",\"colorbar\":{\"outlinewidth\":0,\"ticks\":\"\"},\"colorscale\":[[0.0,\"#0d0887\"],[0.1111111111111111,\"#46039f\"],[0.2222222222222222,\"#7201a8\"],[0.3333333333333333,\"#9c179e\"],[0.4444444444444444,\"#bd3786\"],[0.5555555555555556,\"#d8576b\"],[0.6666666666666666,\"#ed7953\"],[0.7777777777777778,\"#fb9f3a\"],[0.8888888888888888,\"#fdca26\"],[1.0,\"#f0f921\"]]}],\"mesh3d\":[{\"type\":\"mesh3d\",\"colorbar\":{\"outlinewidth\":0,\"ticks\":\"\"}}],\"scatter\":[{\"fillpattern\":{\"fillmode\":\"overlay\",\"size\":10,\"solidity\":0.2},\"type\":\"scatter\"}],\"parcoords\":[{\"type\":\"parcoords\",\"line\":{\"colorbar\":{\"outlinewidth\":0,\"ticks\":\"\"}}}],\"scatterpolargl\":[{\"type\":\"scatterpolargl\",\"marker\":{\"colorbar\":{\"outlinewidth\":0,\"ticks\":\"\"}}}],\"bar\":[{\"error_x\":{\"color\":\"#2a3f5f\"},\"error_y\":{\"color\":\"#2a3f5f\"},\"marker\":{\"line\":{\"color\":\"#E5ECF6\",\"width\":0.5},\"pattern\":{\"fillmode\":\"overlay\",\"size\":10,\"solidity\":0.2}},\"type\":\"bar\"}],\"scattergeo\":[{\"type\":\"scattergeo\",\"marker\":{\"colorbar\":{\"outlinewidth\":0,\"ticks\":\"\"}}}],\"scatterpolar\":[{\"type\":\"scatterpolar\",\"marker\":{\"colorbar\":{\"outlinewidth\":0,\"ticks\":\"\"}}}],\"histogram\":[{\"marker\":{\"pattern\":{\"fillmode\":\"overlay\",\"size\":10,\"solidity\":0.2}},\"type\":\"histogram\"}],\"scattergl\":[{\"type\":\"scattergl\",\"marker\":{\"colorbar\":{\"outlinewidth\":0,\"ticks\":\"\"}}}],\"scatter3d\":[{\"type\":\"scatter3d\",\"line\":{\"colorbar\":{\"outlinewidth\":0,\"ticks\":\"\"}},\"marker\":{\"colorbar\":{\"outlinewidth\":0,\"ticks\":\"\"}}}],\"scattermapbox\":[{\"type\":\"scattermapbox\",\"marker\":{\"colorbar\":{\"outlinewidth\":0,\"ticks\":\"\"}}}],\"scatterternary\":[{\"type\":\"scatterternary\",\"marker\":{\"colorbar\":{\"outlinewidth\":0,\"ticks\":\"\"}}}],\"scattercarpet\":[{\"type\":\"scattercarpet\",\"marker\":{\"colorbar\":{\"outlinewidth\":0,\"ticks\":\"\"}}}],\"carpet\":[{\"aaxis\":{\"endlinecolor\":\"#2a3f5f\",\"gridcolor\":\"white\",\"linecolor\":\"white\",\"minorgridcolor\":\"white\",\"startlinecolor\":\"#2a3f5f\"},\"baxis\":{\"endlinecolor\":\"#2a3f5f\",\"gridcolor\":\"white\",\"linecolor\":\"white\",\"minorgridcolor\":\"white\",\"startlinecolor\":\"#2a3f5f\"},\"type\":\"carpet\"}],\"table\":[{\"cells\":{\"fill\":{\"color\":\"#EBF0F8\"},\"line\":{\"color\":\"white\"}},\"header\":{\"fill\":{\"color\":\"#C8D4E3\"},\"line\":{\"color\":\"white\"}},\"type\":\"table\"}],\"barpolar\":[{\"marker\":{\"line\":{\"color\":\"#E5ECF6\",\"width\":0.5},\"pattern\":{\"fillmode\":\"overlay\",\"size\":10,\"solidity\":0.2}},\"type\":\"barpolar\"}],\"pie\":[{\"automargin\":true,\"type\":\"pie\"}]},\"layout\":{\"autotypenumbers\":\"strict\",\"colorway\":[\"#636efa\",\"#EF553B\",\"#00cc96\",\"#ab63fa\",\"#FFA15A\",\"#19d3f3\",\"#FF6692\",\"#B6E880\",\"#FF97FF\",\"#FECB52\"],\"font\":{\"color\":\"#2a3f5f\"},\"hovermode\":\"closest\",\"hoverlabel\":{\"align\":\"left\"},\"paper_bgcolor\":\"white\",\"plot_bgcolor\":\"#E5ECF6\",\"polar\":{\"bgcolor\":\"#E5ECF6\",\"angularaxis\":{\"gridcolor\":\"white\",\"linecolor\":\"white\",\"ticks\":\"\"},\"radialaxis\":{\"gridcolor\":\"white\",\"linecolor\":\"white\",\"ticks\":\"\"}},\"ternary\":{\"bgcolor\":\"#E5ECF6\",\"aaxis\":{\"gridcolor\":\"white\",\"linecolor\":\"white\",\"ticks\":\"\"},\"baxis\":{\"gridcolor\":\"white\",\"linecolor\":\"white\",\"ticks\":\"\"},\"caxis\":{\"gridcolor\":\"white\",\"linecolor\":\"white\",\"ticks\":\"\"}},\"coloraxis\":{\"colorbar\":{\"outlinewidth\":0,\"ticks\":\"\"}},\"colorscale\":{\"sequential\":[[0.0,\"#0d0887\"],[0.1111111111111111,\"#46039f\"],[0.2222222222222222,\"#7201a8\"],[0.3333333333333333,\"#9c179e\"],[0.4444444444444444,\"#bd3786\"],[0.5555555555555556,\"#d8576b\"],[0.6666666666666666,\"#ed7953\"],[0.7777777777777778,\"#fb9f3a\"],[0.8888888888888888,\"#fdca26\"],[1.0,\"#f0f921\"]],\"sequentialminus\":[[0.0,\"#0d0887\"],[0.1111111111111111,\"#46039f\"],[0.2222222222222222,\"#7201a8\"],[0.3333333333333333,\"#9c179e\"],[0.4444444444444444,\"#bd3786\"],[0.5555555555555556,\"#d8576b\"],[0.6666666666666666,\"#ed7953\"],[0.7777777777777778,\"#fb9f3a\"],[0.8888888888888888,\"#fdca26\"],[1.0,\"#f0f921\"]],\"diverging\":[[0,\"#8e0152\"],[0.1,\"#c51b7d\"],[0.2,\"#de77ae\"],[0.3,\"#f1b6da\"],[0.4,\"#fde0ef\"],[0.5,\"#f7f7f7\"],[0.6,\"#e6f5d0\"],[0.7,\"#b8e186\"],[0.8,\"#7fbc41\"],[0.9,\"#4d9221\"],[1,\"#276419\"]]},\"xaxis\":{\"gridcolor\":\"white\",\"linecolor\":\"white\",\"ticks\":\"\",\"title\":{\"standoff\":15},\"zerolinecolor\":\"white\",\"automargin\":true,\"zerolinewidth\":2},\"yaxis\":{\"gridcolor\":\"white\",\"linecolor\":\"white\",\"ticks\":\"\",\"title\":{\"standoff\":15},\"zerolinecolor\":\"white\",\"automargin\":true,\"zerolinewidth\":2},\"scene\":{\"xaxis\":{\"backgroundcolor\":\"#E5ECF6\",\"gridcolor\":\"white\",\"linecolor\":\"white\",\"showbackground\":true,\"ticks\":\"\",\"zerolinecolor\":\"white\",\"gridwidth\":2},\"yaxis\":{\"backgroundcolor\":\"#E5ECF6\",\"gridcolor\":\"white\",\"linecolor\":\"white\",\"showbackground\":true,\"ticks\":\"\",\"zerolinecolor\":\"white\",\"gridwidth\":2},\"zaxis\":{\"backgroundcolor\":\"#E5ECF6\",\"gridcolor\":\"white\",\"linecolor\":\"white\",\"showbackground\":true,\"ticks\":\"\",\"zerolinecolor\":\"white\",\"gridwidth\":2}},\"shapedefaults\":{\"line\":{\"color\":\"#2a3f5f\"}},\"annotationdefaults\":{\"arrowcolor\":\"#2a3f5f\",\"arrowhead\":0,\"arrowwidth\":1},\"geo\":{\"bgcolor\":\"white\",\"landcolor\":\"#E5ECF6\",\"subunitcolor\":\"white\",\"showland\":true,\"showlakes\":true,\"lakecolor\":\"white\"},\"title\":{\"x\":0.05},\"mapbox\":{\"style\":\"light\"}}},\"xaxis\":{\"anchor\":\"y\",\"domain\":[0.0,1.0],\"title\":{\"text\":\"datetime\"}},\"yaxis\":{\"anchor\":\"x\",\"domain\":[0.0,1.0],\"title\":{\"text\":\"value\"}},\"legend\":{\"title\":{\"text\":\"variable\"},\"tracegroupgap\":0},\"margin\":{\"t\":60},\"barmode\":\"relative\"},                        {\"responsive\": true}                    ).then(function(){\n",
       "                            \n",
       "var gd = document.getElementById('bf432dca-55f8-4162-a100-27ae34e99ae4');\n",
       "var x = new MutationObserver(function (mutations, observer) {{\n",
       "        var display = window.getComputedStyle(gd).display;\n",
       "        if (!display || display === 'none') {{\n",
       "            console.log([gd, 'removed!']);\n",
       "            Plotly.purge(gd);\n",
       "            observer.disconnect();\n",
       "        }}\n",
       "}});\n",
       "\n",
       "// Listen for the removal of the full notebook cells\n",
       "var notebookContainer = gd.closest('#notebook-container');\n",
       "if (notebookContainer) {{\n",
       "    x.observe(notebookContainer, {childList: true});\n",
       "}}\n",
       "\n",
       "// Listen for the clearing of the current output cell\n",
       "var outputEl = gd.closest('.output');\n",
       "if (outputEl) {{\n",
       "    x.observe(outputEl, {childList: true});\n",
       "}}\n",
       "\n",
       "                        })                };                });            </script>        </div>"
      ]
     },
     "metadata": {},
     "output_type": "display_data"
    }
   ],
   "source": [
    "px.bar(pivot_BTC, x='datetime', y=['NGM:BTC.ZERO.SEK', 'OMXSTO:BITCOIN_XBT'])\n",
    "px.bar(pivot_ETH, x='datetime', y=['NGM:ETH.ZERO.SEK', 'OMXSTO:ETHEREUM_XBT'])"
   ]
  },
  {
   "cell_type": "code",
   "execution_count": null,
   "metadata": {},
   "outputs": [],
   "source": []
  }
 ],
 "metadata": {
  "interpreter": {
   "hash": "9afd7930ea41aca4dca851dc39ab6ff3d75a4a3db34e3c4d0afa88e8123d7315"
  },
  "kernelspec": {
   "display_name": "Python 3.9.7 ('base')",
   "language": "python",
   "name": "python3"
  },
  "language_info": {
   "codemirror_mode": {
    "name": "ipython",
    "version": 3
   },
   "file_extension": ".py",
   "mimetype": "text/x-python",
   "name": "python",
   "nbconvert_exporter": "python",
   "pygments_lexer": "ipython3",
   "version": "3.9.7"
  }
 },
 "nbformat": 4,
 "nbformat_minor": 2
}
